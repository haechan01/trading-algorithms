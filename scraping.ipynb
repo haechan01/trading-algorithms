{
 "cells": [
  {
   "cell_type": "code",
   "execution_count": 2,
   "metadata": {},
   "outputs": [],
   "source": [
    "import pandas as pd\n",
    "import requests\n",
    "from bs4 import BeautifulSoup as bs"
   ]
  },
  {
   "cell_type": "code",
   "execution_count": 3,
   "metadata": {},
   "outputs": [],
   "source": [
    "all_pages_reviews = []\n",
    "base_url = \"https://www.consumeraffairs.com/food/dominos.html\"\n",
    "def scraper():\n",
    "    for i in range(1,6): \n",
    "      pagewise_reviews = [] \n",
    "      query_parameter = \"?page=\"+str(i)\n",
    "    url = base_url + query_parameter\n",
    "    response = requests.get(url)\n",
    "    soup = bs(response.content, 'html.parser') \n",
    "    rev_div = soup.findAll(\"div\",attrs={\"class\",\"rvw-bd\"}) \n",
    "\n",
    "    for j in range(len(rev_div)):\n",
    "    # finding all the p tags to fetch only the review text\n",
    "        pagewise_reviews.append(rev_div[j].find(\"p\").text)\n",
    "\n",
    "    for k in range(len(pagewise_reviews)):\n",
    "        all_pages_reviews.append(pagewise_reviews[k]) \n",
    "        return all_pages_reviews\n",
    "\n",
    "# Driver code\n",
    "reviews = scraper()\n",
    "i = range(1, len(reviews)+1)\n",
    "reviews_df = pd.DataFrame({'review':reviews}, index=i)\n",
    "reviews_df.to_csv('reviews.txt', sep='t')"
   ]
  },
  {
   "cell_type": "code",
   "execution_count": 5,
   "metadata": {},
   "outputs": [
    {
     "name": "stdout",
     "output_type": "stream",
     "text": [
      "Collecting requests_html\n",
      "  Downloading requests_html-0.10.0-py3-none-any.whl (13 kB)\n",
      "Collecting parse\n",
      "  Downloading parse-1.19.0.tar.gz (30 kB)\n",
      "Requirement already satisfied: requests in /Library/Frameworks/Python.framework/Versions/3.9/lib/python3.9/site-packages (from requests_html) (2.28.0)\n",
      "Collecting pyquery\n",
      "  Downloading pyquery-1.4.3-py3-none-any.whl (22 kB)\n",
      "Collecting w3lib\n",
      "  Downloading w3lib-2.0.1-py3-none-any.whl (20 kB)\n",
      "Requirement already satisfied: bs4 in /Library/Frameworks/Python.framework/Versions/3.9/lib/python3.9/site-packages (from requests_html) (0.0.1)\n",
      "Collecting pyppeteer>=0.0.14\n",
      "  Downloading pyppeteer-1.0.2-py3-none-any.whl (83 kB)\n",
      "\u001b[K     |████████████████████████████████| 83 kB 1.2 MB/s eta 0:00:011\n",
      "\u001b[?25hCollecting fake-useragent\n",
      "  Downloading fake-useragent-0.1.11.tar.gz (13 kB)\n",
      "Requirement already satisfied: certifi>=2021 in /Library/Frameworks/Python.framework/Versions/3.9/lib/python3.9/site-packages (from pyppeteer>=0.0.14->requests_html) (2022.6.15)\n",
      "Requirement already satisfied: tqdm<5.0.0,>=4.42.1 in /Library/Frameworks/Python.framework/Versions/3.9/lib/python3.9/site-packages (from pyppeteer>=0.0.14->requests_html) (4.64.0)\n",
      "Collecting websockets<11.0,>=10.0\n",
      "  Downloading websockets-10.3-cp39-cp39-macosx_10_9_x86_64.whl (97 kB)\n",
      "\u001b[K     |████████████████████████████████| 97 kB 16.1 MB/s eta 0:00:01\n",
      "\u001b[?25hCollecting appdirs<2.0.0,>=1.4.3\n",
      "  Using cached appdirs-1.4.4-py2.py3-none-any.whl (9.6 kB)\n",
      "Requirement already satisfied: urllib3<2.0.0,>=1.25.8 in /Library/Frameworks/Python.framework/Versions/3.9/lib/python3.9/site-packages (from pyppeteer>=0.0.14->requests_html) (1.26.9)\n",
      "Collecting importlib-metadata>=1.4\n",
      "  Downloading importlib_metadata-5.0.0-py3-none-any.whl (21 kB)\n",
      "Collecting pyee<9.0.0,>=8.1.0\n",
      "  Downloading pyee-8.2.2-py2.py3-none-any.whl (12 kB)\n",
      "Collecting zipp>=0.5\n",
      "  Using cached zipp-3.8.1-py3-none-any.whl (5.6 kB)\n",
      "Requirement already satisfied: beautifulsoup4 in /Library/Frameworks/Python.framework/Versions/3.9/lib/python3.9/site-packages (from bs4->requests_html) (4.11.1)\n",
      "Requirement already satisfied: soupsieve>1.2 in /Library/Frameworks/Python.framework/Versions/3.9/lib/python3.9/site-packages (from beautifulsoup4->bs4->requests_html) (2.3.2.post1)\n",
      "Collecting cssselect>0.7.9\n",
      "  Using cached cssselect-1.1.0-py2.py3-none-any.whl (16 kB)\n",
      "Requirement already satisfied: lxml>=2.1 in /Library/Frameworks/Python.framework/Versions/3.9/lib/python3.9/site-packages (from pyquery->requests_html) (4.9.1)\n",
      "Requirement already satisfied: idna<4,>=2.5 in /Library/Frameworks/Python.framework/Versions/3.9/lib/python3.9/site-packages (from requests->requests_html) (3.3)\n",
      "Requirement already satisfied: charset-normalizer~=2.0.0 in /Library/Frameworks/Python.framework/Versions/3.9/lib/python3.9/site-packages (from requests->requests_html) (2.0.12)\n",
      "Using legacy 'setup.py install' for fake-useragent, since package 'wheel' is not installed.\n",
      "Using legacy 'setup.py install' for parse, since package 'wheel' is not installed.\n",
      "Installing collected packages: zipp, websockets, pyee, importlib-metadata, cssselect, appdirs, w3lib, pyquery, pyppeteer, parse, fake-useragent, requests-html\n",
      "\u001b[33m  WARNING: The script pyppeteer-install is installed in '/Library/Frameworks/Python.framework/Versions/3.9/bin' which is not on PATH.\n",
      "  Consider adding this directory to PATH or, if you prefer to suppress this warning, use --no-warn-script-location.\u001b[0m\n",
      "    Running setup.py install for parse ... \u001b[?25ldone\n",
      "\u001b[?25h    Running setup.py install for fake-useragent ... \u001b[?25ldone\n",
      "\u001b[?25hSuccessfully installed appdirs-1.4.4 cssselect-1.1.0 fake-useragent-0.1.11 importlib-metadata-5.0.0 parse-1.19.0 pyee-8.2.2 pyppeteer-1.0.2 pyquery-1.4.3 requests-html-0.10.0 w3lib-2.0.1 websockets-10.3 zipp-3.8.1\n",
      "\u001b[33mWARNING: You are using pip version 21.1.1; however, version 22.2.2 is available.\n",
      "You should consider upgrading via the '/usr/local/bin/python3.9 -m pip install --upgrade pip' command.\u001b[0m\n",
      "Note: you may need to restart the kernel to use updated packages.\n"
     ]
    }
   ],
   "source": [
    "pip install requests_html"
   ]
  },
  {
   "cell_type": "code",
   "execution_count": 6,
   "metadata": {},
   "outputs": [],
   "source": [
    "from requests_html import HTMLSession"
   ]
  },
  {
   "cell_type": "code",
   "execution_count": 8,
   "metadata": {},
   "outputs": [
    {
     "name": "stdout",
     "output_type": "stream",
     "text": [
      "\"lockdown\" - Google News\n",
      "South Lyon East students dismissed four hours after lockdown started by threat in bathroom - Hometown Life\n",
      "Threat and Lockdown at River Hill High School, Oct. 4, 2022 - Howard County Public School System\n",
      "Wheeling middle school placed on lockdown after report of gun inside building - FOX 32 Chicago\n",
      "3 Tooele schools on lockdown after police respond to armed robbery - ABC4.com\n",
      "Gun research gap, birds in lockdown — the week in infographics - Nature.com\n",
      "Calif. City High School Lockdown Scare | News | desertnews.com - Mojave Desert News\n",
      "UPDATE: Police say no charges necessary after suspicious vehicle, items result in lockdown at Twin Peaks K-8 - KOLD\n",
      "Lafayette High students released after five-hour lockdown; one arrest made for terrorizing - The Advocate\n",
      "Taos High School goes on lockdown following safety concern - taosnews\n",
      "Campus Protection Pros Tell Us About Their Access Control and Lockdown Technology Successes - Campus Safety Magazine\n",
      "Geneva Public Safety Building on lockdown Tuesday after suspicious device found - News10NBC\n",
      "IDEA Montopolis lockdown lifted after report of 'look-a-like' weapon on campus - FOX 7 Austin\n",
      "Cheyenne High School put on lockdown due to incident ‘involving several students,’ principal says - KLAS - 8 News Now\n",
      "Bolton High School lockdown not related to school threat - KALB\n",
      "The search for a stabbing suspect places a Bellevue school in lockdown - FOX 13 Seattle\n",
      "Merrick School Placed On Lockdown Due To Police Outside: Prinicipal - Patch\n",
      "How a COVID lockdown changed bird behaviour - Nature.com\n",
      "Five Thoughts on The Walking Dead's “Lockdown” - Multiversity Comics\n",
      "Teachers’ association concerned about security after local school lockdown - WJW FOX 8 News Cleveland\n",
      "Man with gun puts PLU campus into lockdown, deputies take more than an hour to respond - FOX 13 Seattle\n",
      "Bellevue Stabbing Prompts Lockdown, Suspect Caught: Police - Patch\n",
      "Sonoma County: Suspect in school lockdown incident surrenders to police - The Mercury News\n",
      "Five Suicides in Tibet Due to 'Extreme Hardship' in Lockdown: Report - The Epoch Times\n",
      "Saint Columban School in Garden Grove on lockdown due to a possible armed suspect in the area - New Santa Ana\n",
      "Frustrated student prompted lockdown at Douglas County High School, district says - FOX 5 Atlanta\n",
      "Altercations leading to lockdowns, discovery of weapons keep focus on security - WRGB\n",
      "Guymon schools placed on lockdown Monday morning - KAMR - MyHighPlains.com\n",
      "Lockdown lifted at Oakville High School - KMOV4\n",
      "Hackensack Middle School Put On Lockdown as Police Pursue Knife-Wielding Man - TAPinto.net\n",
      "'Shots fired' false alarm leads to lockdown at Austin hospital - Austin American-Statesman\n",
      "‘A lot of misinformation’ | Anderson Co. Schools dispels rumors after lockdown - WVLT\n",
      "Bethesda-Chevy Chase High’s lockdown: No weapon found after gun scare - The Washington Post\n",
      "Stuck in China's covid lockdown, people plead for food, medical care - The Washington Post\n",
      "Legal Docket: A lockdown lawsuit | WORLD - WORLD News Group\n",
      "How to turn on Lockdown Mode and protect your iPhone from a rare cyber attack - Macworld\n",
      "The selective effect of lockdown experience on citizens' perspectives: A multilevel, multiple informant approach to personal and community resilience during COVID‐19 pandemic - Wiley\n",
      "Chinese metropolis Chengdu extends Covid lockdown, again, with no end in sight - CNN\n",
      "RED RIVER ROAD: Watch This Exclusive Clip From This Lockdown-Era Indie Horror Thriller - ScreenAnarchy\n",
      "Drug use has surged since lockdown - addiction specialist - Newstalk\n",
      "China maintains strict COVID-19 lockdown despite earthquake - PBS NewsHour\n",
      "Police: Lockdown lifted at Boys Latin Middle School after student with loaded magazine is detained - FOX 29 Philadelphia\n",
      "Fortuna High School put on lockdown after suspect uses AirDrop to threaten campus - KRCR\n",
      "Williston incident prompts Trinity lockdown | News, Sports, Jobs - Minot Daily News\n",
      "What scientists have learnt from COVID lockdowns - Nature.com\n",
      "Lockdown at San Angelo Central High School lifted - Standard-Times\n",
      "Central Building lockdown caused by behavioral issues | News - Southernminn.com\n",
      "China Lifts Two-Week Lockdown in Chengdu, City of 21 Million - Bloomberg\n",
      "Happy Valley High School placed on ‘soft lockdown’ after report of threats - WJHL-TV News Channel 11\n",
      "Suspect arrested after ‘man with a gun’ call puts Upstate school on lockdown - Fox Carolina\n",
      "False active shooter report puts Gainesville School on temporary lockdown - KXII\n",
      "Glens Falls schools spend morning in lockdown - NEWS10 ABC\n",
      "Man arrested after false threat causes lockdown at Washington-Marion - KPLC\n",
      "China COVID Lockdown Threatens US Trucking Sector - Transport Topics Online\n",
      "Southern Lehigh schools on lockdown amid police activity, district says (UPDATE) - lehighvalleylive.com\n",
      "Mehlville High School lockdown lifted - KTVI Fox 2 St. Louis\n",
      "Lockdown lifted at Rochester General Hospital on lockdown - Spectrum News\n",
      "‘There will be headlines’ | Threat forces hard lockdown at First Baptist Academy in Powell - WVLT\n",
      "Cahokia HS on lockdown after third threat this week - KTVI Fox 2 St. Louis\n",
      "Student taken into custody after threatening call led to Service High lockdown - Alaska's News Source\n",
      "Lockdown lessons, sickness brain circuits — the week in infographics - Nature.com\n",
      "Parts of China re-enter COVID-19 lockdown days before holiday travel - FOX 29 Philadelphia\n",
      "Lockdown issued at DHR Health in Edinburg following credible threat - KRGV\n",
      "3 students named as assault victims after Central High School lockdown, police say - 12news.com KPNX\n",
      "New Braunfels High School student arrested in connection with lockdown at campus - KSAT San Antonio\n",
      "UPDATE: Soft lockdown lifted at Science Hill | Education | johnsoncitypress.com - Johnson City Press (subscription)\n",
      "Garey High School in Pomona temporarily put on precautionary lockdown - CBS News\n",
      "New Braunfels High School placed on lockdown for hours after receiving threat ultimately deemed not credible - KSAT San Antonio\n",
      "'Cruel Prank' Led to Panic, Lockdown at Florida High School - Education Week\n",
      "Police standoff prompts lockdown of nearby Reseda Charter H.S. - KTLA Los Angeles\n",
      "Juvenile with gun in Allentown prompts lockdown at nearby schools - 69News WFMZ-TV\n",
      "Lancaster High School on lockdown following unfounded 'shots fired' call, similar calls made in San Diego, Santa Barbara - CBS News\n",
      "Freedom High School on lockdown after student found with gun - The Washington Post\n",
      "All Fort Hancock ISD schools on lockdown after shooting reported on I-10 - KFOX El Paso\n",
      "Heights High School threat: False alarm lockdowns issued beyond Houston, in Waco, Texas, Los Angeles, Madera, California - KTRK-TV\n",
      "iOS 16 Launches With Lockdown Mode, Spyware Protection, Safety Check - Infosecurity Magazine\n",
      "Brooklyn high school placed on lockdown after gunfire reported - New York Post\n",
      "Apple's China iCloud Operator Warns of 'Dire' Covid Lockdown - Bloomberg\n",
      "Modified lockdown at Neff Middle School has been lifted - WOAI\n",
      "Elementary school placed on lockdown after shots fired nearby - WSAZ\n",
      "COVID-19: What you need to know about the pandemic this week - World Economic Forum\n",
      "Boris Johnson's Father Halts Xinjiang Trip After Covid Lockdown - Bloomberg\n",
      "Suspicious package prompts temporary lockdown at Terminal C at Newark Liberty Airport - CBS New York\n",
      "Hoax 911 call of armed people forces Madera Schools into lockdown - KFSN-TV\n",
      "Opinion: We Need Another Lockdown. But This Time We Need to Do It Right - Maryland Matters\n",
      "Millions in new COVID lockdown as China keeps strict policy - ABC News\n",
      "Shanghai neighborhoods return to lockdown a day after restrictions eased - CNN\n",
      "Shoppers rush for the exits as Shanghai Ikea goes into lockdown - CNN\n",
      "Shanghai fears new lockdown as millions test for Covid amid sweltering heat - CNN\n",
      "Apple expands commitment to protect users from mercenary spyware - Apple\n",
      "Mayor and Superintendent Participate in School Lockdown Drills - Holyoke\n",
      "COVID Lockdown | Department of Sociology | Michigan State University - MSU Sociology!\n",
      "How Shanghai Residents Endured the COVID Lockdown - The New Yorker\n",
      "180 million people impacted by China's Covid lockdowns. Here's what you need to know - CNN\n",
      "'Stop asking why': Shanghai intensifies Covid lockdown despite falling cases - CNN\n",
      "News / Supply chains remain in chaos as Shanghai lockdown is extended indefinitely - theloadstar.com\n",
      "Several cities in China add COVID curbs as millions still under lockdown - Reuters\n",
      "They survived lockdown in Shanghai, only to be trapped again in Hainan - CNN\n"
     ]
    },
    {
     "name": "stderr",
     "output_type": "stream",
     "text": [
      "/Library/Frameworks/Python.framework/Versions/3.9/lib/python3.9/site-packages/bs4/builder/__init__.py:545: XMLParsedAsHTMLWarning: It looks like you're parsing an XML document using an HTML parser. If this really is an HTML document (maybe it's XHTML?), you can ignore or filter this warning. If it's XML, you should know that using an XML parser will be more reliable. To parse this document as XML, make sure you have the lxml package installed, and pass the keyword argument `features=\"xml\"` into the BeautifulSoup constructor.\n",
      "  warnings.warn(\n"
     ]
    }
   ],
   "source": [
    "url='https://news.google.com/rss/search?q=lockdown'\n",
    "s = HTMLSession()\n",
    "r=s.get(url)\n",
    "for title in r.html.find('title'):\n",
    "    print(title.text)"
   ]
  },
  {
   "cell_type": "code",
   "execution_count": 13,
   "metadata": {},
   "outputs": [
    {
     "name": "stdout",
     "output_type": "stream",
     "text": [
      "Requirement already satisfied: pygooglenews in /Library/Frameworks/Python.framework/Versions/3.9/lib/python3.9/site-packages (0.1.2)\n",
      "Requirement already satisfied: requests<3.0.0,>=2.24.0 in /Library/Frameworks/Python.framework/Versions/3.9/lib/python3.9/site-packages (from pygooglenews) (2.28.0)\n",
      "Requirement already satisfied: feedparser<6.0.0,>=5.2.1 in /Library/Frameworks/Python.framework/Versions/3.9/lib/python3.9/site-packages (from pygooglenews) (5.2.1)\n",
      "Requirement already satisfied: dateparser<0.8.0,>=0.7.6 in /Library/Frameworks/Python.framework/Versions/3.9/lib/python3.9/site-packages (from pygooglenews) (0.7.6)\n",
      "Requirement already satisfied: beautifulsoup4<5.0.0,>=4.9.1 in /Library/Frameworks/Python.framework/Versions/3.9/lib/python3.9/site-packages (from pygooglenews) (4.11.1)\n",
      "Requirement already satisfied: soupsieve>1.2 in /Library/Frameworks/Python.framework/Versions/3.9/lib/python3.9/site-packages (from beautifulsoup4<5.0.0,>=4.9.1->pygooglenews) (2.3.2.post1)\n",
      "Requirement already satisfied: regex!=2019.02.19 in /Library/Frameworks/Python.framework/Versions/3.9/lib/python3.9/site-packages (from dateparser<0.8.0,>=0.7.6->pygooglenews) (2022.6.2)\n",
      "Requirement already satisfied: tzlocal in /Library/Frameworks/Python.framework/Versions/3.9/lib/python3.9/site-packages (from dateparser<0.8.0,>=0.7.6->pygooglenews) (4.2)\n",
      "Requirement already satisfied: pytz in /Library/Frameworks/Python.framework/Versions/3.9/lib/python3.9/site-packages (from dateparser<0.8.0,>=0.7.6->pygooglenews) (2022.1)\n",
      "Requirement already satisfied: python-dateutil in /Library/Frameworks/Python.framework/Versions/3.9/lib/python3.9/site-packages (from dateparser<0.8.0,>=0.7.6->pygooglenews) (2.8.2)\n",
      "Requirement already satisfied: certifi>=2017.4.17 in /Library/Frameworks/Python.framework/Versions/3.9/lib/python3.9/site-packages (from requests<3.0.0,>=2.24.0->pygooglenews) (2022.6.15)\n",
      "Requirement already satisfied: urllib3<1.27,>=1.21.1 in /Library/Frameworks/Python.framework/Versions/3.9/lib/python3.9/site-packages (from requests<3.0.0,>=2.24.0->pygooglenews) (1.26.9)\n",
      "Requirement already satisfied: idna<4,>=2.5 in /Library/Frameworks/Python.framework/Versions/3.9/lib/python3.9/site-packages (from requests<3.0.0,>=2.24.0->pygooglenews) (3.3)\n",
      "Requirement already satisfied: charset-normalizer~=2.0.0 in /Library/Frameworks/Python.framework/Versions/3.9/lib/python3.9/site-packages (from requests<3.0.0,>=2.24.0->pygooglenews) (2.0.12)\n",
      "Requirement already satisfied: six>=1.5 in /Library/Frameworks/Python.framework/Versions/3.9/lib/python3.9/site-packages (from python-dateutil->dateparser<0.8.0,>=0.7.6->pygooglenews) (1.16.0)\n",
      "Requirement already satisfied: pytz-deprecation-shim in /Library/Frameworks/Python.framework/Versions/3.9/lib/python3.9/site-packages (from tzlocal->dateparser<0.8.0,>=0.7.6->pygooglenews) (0.1.0.post0)\n",
      "Requirement already satisfied: tzdata in /Library/Frameworks/Python.framework/Versions/3.9/lib/python3.9/site-packages (from pytz-deprecation-shim->tzlocal->dateparser<0.8.0,>=0.7.6->pygooglenews) (2022.4)\n",
      "\u001b[33mWARNING: You are using pip version 21.1.1; however, version 22.2.2 is available.\n",
      "You should consider upgrading via the '/usr/local/bin/python3.9 -m pip install --upgrade pip' command.\u001b[0m\n",
      "Note: you may need to restart the kernel to use updated packages.\n"
     ]
    }
   ],
   "source": [
    "pip install pygooglenews --upgrade"
   ]
  },
  {
   "cell_type": "code",
   "execution_count": 15,
   "metadata": {},
   "outputs": [
    {
     "ename": "AttributeError",
     "evalue": "module 'base64' has no attribute 'decodestring'",
     "output_type": "error",
     "traceback": [
      "\u001b[0;31m---------------------------------------------------------------------------\u001b[0m",
      "\u001b[0;31mAttributeError\u001b[0m                            Traceback (most recent call last)",
      "\u001b[1;32m/Users/haechan/Desktop/backtrader/scraping.ipynb Cell 7\u001b[0m in \u001b[0;36m<cell line: 1>\u001b[0;34m()\u001b[0m\n\u001b[0;32m----> <a href='vscode-notebook-cell:/Users/haechan/Desktop/backtrader/scraping.ipynb#ch0000006?line=0'>1</a>\u001b[0m \u001b[39mfrom\u001b[39;00m \u001b[39mpygooglenews\u001b[39;00m \u001b[39mimport\u001b[39;00m GoogleNews\n\u001b[1;32m      <a href='vscode-notebook-cell:/Users/haechan/Desktop/backtrader/scraping.ipynb#ch0000006?line=2'>3</a>\u001b[0m gn \u001b[39m=\u001b[39m GoogleNews()\n",
      "File \u001b[0;32m/Library/Frameworks/Python.framework/Versions/3.9/lib/python3.9/site-packages/pygooglenews/__init__.py:1\u001b[0m, in \u001b[0;36m<module>\u001b[0;34m\u001b[0m\n\u001b[0;32m----> 1\u001b[0m \u001b[39mimport\u001b[39;00m \u001b[39mfeedparser\u001b[39;00m\n\u001b[1;32m      2\u001b[0m \u001b[39mfrom\u001b[39;00m \u001b[39mbs4\u001b[39;00m \u001b[39mimport\u001b[39;00m BeautifulSoup\n\u001b[1;32m      3\u001b[0m \u001b[39mimport\u001b[39;00m \u001b[39murllib\u001b[39;00m\n",
      "File \u001b[0;32m/Library/Frameworks/Python.framework/Versions/3.9/lib/python3.9/site-packages/feedparser.py:93\u001b[0m, in \u001b[0;36m<module>\u001b[0;34m\u001b[0m\n\u001b[1;32m     90\u001b[0m     base64 \u001b[39m=\u001b[39m binascii \u001b[39m=\u001b[39m \u001b[39mNone\u001b[39;00m\n\u001b[1;32m     91\u001b[0m \u001b[39melse\u001b[39;00m:\n\u001b[1;32m     92\u001b[0m     \u001b[39m# Python 3.1 deprecates decodestring in favor of decodebytes\u001b[39;00m\n\u001b[0;32m---> 93\u001b[0m     _base64decode \u001b[39m=\u001b[39m \u001b[39mgetattr\u001b[39m(base64, \u001b[39m'\u001b[39m\u001b[39mdecodebytes\u001b[39m\u001b[39m'\u001b[39m, base64\u001b[39m.\u001b[39;49mdecodestring)\n\u001b[1;32m     95\u001b[0m \u001b[39m# _s2bytes: convert a UTF-8 str to bytes if the interpreter is Python 3\u001b[39;00m\n\u001b[1;32m     96\u001b[0m \u001b[39m# _l2bytes: convert a list of ints to bytes if the interpreter is Python 3\u001b[39;00m\n\u001b[1;32m     97\u001b[0m \u001b[39mtry\u001b[39;00m:\n",
      "\u001b[0;31mAttributeError\u001b[0m: module 'base64' has no attribute 'decodestring'"
     ]
    }
   ],
   "source": [
    "from pygooglenews import GoogleNews\n",
    "\n",
    "gn = GoogleNews()\n"
   ]
  },
  {
   "cell_type": "code",
   "execution_count": null,
   "metadata": {},
   "outputs": [],
   "source": [
    "search = gn.search('MSFT -APPL', when = '6m')"
   ]
  },
  {
   "cell_type": "code",
   "execution_count": 1,
   "metadata": {},
   "outputs": [
    {
     "name": "stdout",
     "output_type": "stream",
     "text": [
      "Requirement already satisfied: pandas in /Library/Frameworks/Python.framework/Versions/3.9/lib/python3.9/site-packages (1.5.0)\n",
      "Requirement already satisfied: requests in /Library/Frameworks/Python.framework/Versions/3.9/lib/python3.9/site-packages (2.28.0)\n",
      "Requirement already satisfied: BeautifulSoup4 in /Library/Frameworks/Python.framework/Versions/3.9/lib/python3.9/site-packages (4.11.1)\n",
      "Requirement already satisfied: pytz>=2020.1 in /Library/Frameworks/Python.framework/Versions/3.9/lib/python3.9/site-packages (from pandas) (2022.1)\n",
      "Requirement already satisfied: python-dateutil>=2.8.1 in /Library/Frameworks/Python.framework/Versions/3.9/lib/python3.9/site-packages (from pandas) (2.8.2)\n",
      "Requirement already satisfied: numpy>=1.20.3 in /Library/Frameworks/Python.framework/Versions/3.9/lib/python3.9/site-packages (from pandas) (1.22.3)\n",
      "Requirement already satisfied: six>=1.5 in /Library/Frameworks/Python.framework/Versions/3.9/lib/python3.9/site-packages (from python-dateutil>=2.8.1->pandas) (1.16.0)\n",
      "Requirement already satisfied: certifi>=2017.4.17 in /Library/Frameworks/Python.framework/Versions/3.9/lib/python3.9/site-packages (from requests) (2022.6.15)\n",
      "Requirement already satisfied: urllib3<1.27,>=1.21.1 in /Library/Frameworks/Python.framework/Versions/3.9/lib/python3.9/site-packages (from requests) (1.26.9)\n",
      "Requirement already satisfied: idna<4,>=2.5 in /Library/Frameworks/Python.framework/Versions/3.9/lib/python3.9/site-packages (from requests) (3.3)\n",
      "Requirement already satisfied: charset-normalizer~=2.0.0 in /Library/Frameworks/Python.framework/Versions/3.9/lib/python3.9/site-packages (from requests) (2.0.12)\n",
      "Requirement already satisfied: soupsieve>1.2 in /Library/Frameworks/Python.framework/Versions/3.9/lib/python3.9/site-packages (from BeautifulSoup4) (2.3.2.post1)\n",
      "\u001b[33mWARNING: You are using pip version 21.1.1; however, version 22.2.2 is available.\n",
      "You should consider upgrading via the '/usr/local/bin/python3.9 -m pip install --upgrade pip' command.\u001b[0m\n",
      "Note: you may need to restart the kernel to use updated packages.\n"
     ]
    }
   ],
   "source": [
    "pip install pandas requests BeautifulSoup4"
   ]
  },
  {
   "cell_type": "code",
   "execution_count": 2,
   "metadata": {},
   "outputs": [],
   "source": [
    "import pandas as pd\n",
    "import requests\n",
    "from bs4 import BeautifulSoup as bs"
   ]
  },
  {
   "cell_type": "code",
   "execution_count": 4,
   "metadata": {},
   "outputs": [
    {
     "name": "stdout",
     "output_type": "stream",
     "text": [
      "Collecting selenium\n",
      "  Downloading selenium-4.5.0-py3-none-any.whl (995 kB)\n",
      "\u001b[K     |████████████████████████████████| 995 kB 6.3 MB/s eta 0:00:01\n",
      "\u001b[?25hCollecting trio~=0.17\n",
      "  Downloading trio-0.22.0-py3-none-any.whl (384 kB)\n",
      "\u001b[K     |████████████████████████████████| 384 kB 27.6 MB/s eta 0:00:01\n",
      "\u001b[?25hCollecting trio-websocket~=0.9\n",
      "  Using cached trio_websocket-0.9.2-py3-none-any.whl (16 kB)\n",
      "Requirement already satisfied: urllib3[socks]~=1.26 in /Library/Frameworks/Python.framework/Versions/3.9/lib/python3.9/site-packages (from selenium) (1.26.9)\n",
      "Requirement already satisfied: certifi>=2021.10.8 in /Library/Frameworks/Python.framework/Versions/3.9/lib/python3.9/site-packages (from selenium) (2022.6.15)\n",
      "Collecting async-generator>=1.9\n",
      "  Using cached async_generator-1.10-py3-none-any.whl (18 kB)\n",
      "Collecting sniffio\n",
      "  Downloading sniffio-1.3.0-py3-none-any.whl (10 kB)\n",
      "Requirement already satisfied: idna in /Library/Frameworks/Python.framework/Versions/3.9/lib/python3.9/site-packages (from trio~=0.17->selenium) (3.3)\n",
      "Collecting sortedcontainers\n",
      "  Using cached sortedcontainers-2.4.0-py2.py3-none-any.whl (29 kB)\n",
      "Collecting attrs>=19.2.0\n",
      "  Using cached attrs-22.1.0-py2.py3-none-any.whl (58 kB)\n",
      "Collecting outcome\n",
      "  Using cached outcome-1.2.0-py2.py3-none-any.whl (9.7 kB)\n",
      "Collecting exceptiongroup>=1.0.0rc9\n",
      "  Downloading exceptiongroup-1.0.0rc9-py3-none-any.whl (12 kB)\n",
      "Collecting wsproto>=0.14\n",
      "  Using cached wsproto-1.2.0-py3-none-any.whl (24 kB)\n",
      "Collecting PySocks!=1.5.7,<2.0,>=1.5.6\n",
      "  Using cached PySocks-1.7.1-py3-none-any.whl (16 kB)\n",
      "Collecting h11<1,>=0.9.0\n",
      "  Downloading h11-0.14.0-py3-none-any.whl (58 kB)\n",
      "\u001b[K     |████████████████████████████████| 58 kB 11.8 MB/s eta 0:00:01\n",
      "\u001b[?25hInstalling collected packages: attrs, sortedcontainers, sniffio, outcome, h11, exceptiongroup, async-generator, wsproto, trio, PySocks, trio-websocket, selenium\n",
      "Successfully installed PySocks-1.7.1 async-generator-1.10 attrs-22.1.0 exceptiongroup-1.0.0rc9 h11-0.14.0 outcome-1.2.0 selenium-4.5.0 sniffio-1.3.0 sortedcontainers-2.4.0 trio-0.22.0 trio-websocket-0.9.2 wsproto-1.2.0\n",
      "\u001b[33mWARNING: You are using pip version 21.1.1; however, version 22.2.2 is available.\n",
      "You should consider upgrading via the '/usr/local/bin/python3.9 -m pip install --upgrade pip' command.\u001b[0m\n",
      "Note: you may need to restart the kernel to use updated packages.\n"
     ]
    }
   ],
   "source": [
    "pip install selenium"
   ]
  },
  {
   "cell_type": "code",
   "execution_count": 7,
   "metadata": {},
   "outputs": [
    {
     "name": "stdout",
     "output_type": "stream",
     "text": [
      "Collecting webdriver_manager\n",
      "  Using cached webdriver_manager-3.8.3-py2.py3-none-any.whl (26 kB)\n",
      "Collecting python-dotenv\n",
      "  Using cached python_dotenv-0.21.0-py3-none-any.whl (18 kB)\n",
      "Requirement already satisfied: tqdm in /Library/Frameworks/Python.framework/Versions/3.9/lib/python3.9/site-packages (from webdriver_manager) (4.64.0)\n",
      "Requirement already satisfied: requests in /Library/Frameworks/Python.framework/Versions/3.9/lib/python3.9/site-packages (from webdriver_manager) (2.28.0)\n",
      "Requirement already satisfied: certifi>=2017.4.17 in /Library/Frameworks/Python.framework/Versions/3.9/lib/python3.9/site-packages (from requests->webdriver_manager) (2022.6.15)\n",
      "Requirement already satisfied: idna<4,>=2.5 in /Library/Frameworks/Python.framework/Versions/3.9/lib/python3.9/site-packages (from requests->webdriver_manager) (3.3)\n",
      "Requirement already satisfied: urllib3<1.27,>=1.21.1 in /Library/Frameworks/Python.framework/Versions/3.9/lib/python3.9/site-packages (from requests->webdriver_manager) (1.26.9)\n",
      "Requirement already satisfied: charset-normalizer~=2.0.0 in /Library/Frameworks/Python.framework/Versions/3.9/lib/python3.9/site-packages (from requests->webdriver_manager) (2.0.12)\n",
      "Installing collected packages: python-dotenv, webdriver-manager\n",
      "\u001b[33m  WARNING: The script dotenv is installed in '/Library/Frameworks/Python.framework/Versions/3.9/bin' which is not on PATH.\n",
      "  Consider adding this directory to PATH or, if you prefer to suppress this warning, use --no-warn-script-location.\u001b[0m\n",
      "Successfully installed python-dotenv-0.21.0 webdriver-manager-3.8.3\n",
      "\u001b[33mWARNING: You are using pip version 21.1.1; however, version 22.2.2 is available.\n",
      "You should consider upgrading via the '/usr/local/bin/python3.9 -m pip install --upgrade pip' command.\u001b[0m\n",
      "Note: you may need to restart the kernel to use updated packages.\n"
     ]
    }
   ],
   "source": [
    "pip install webdriver_manager"
   ]
  },
  {
   "cell_type": "code",
   "execution_count": 8,
   "metadata": {},
   "outputs": [],
   "source": [
    "from bs4 import BeautifulSoup\n",
    "from selenium import webdriver\n",
    "from webdriver_manager.chrome import ChromeDriverManager"
   ]
  },
  {
   "cell_type": "code",
   "execution_count": 9,
   "metadata": {},
   "outputs": [],
   "source": [
    "chrome_options = webdriver.ChromeOptions()\n",
    "chrome_options.add_argument(\"--headless\")"
   ]
  },
  {
   "cell_type": "code",
   "execution_count": 10,
   "metadata": {},
   "outputs": [
    {
     "name": "stderr",
     "output_type": "stream",
     "text": [
      "/var/folders/5_/q4stfhx95cb0n8m8bxlc_5280000gn/T/ipykernel_8851/527022956.py:1: DeprecationWarning: executable_path has been deprecated, please pass in a Service object\n",
      "  driver = webdriver.Chrome(ChromeDriverManager().install(), chrome_options=chrome_options)\n",
      "/var/folders/5_/q4stfhx95cb0n8m8bxlc_5280000gn/T/ipykernel_8851/527022956.py:1: DeprecationWarning: use options instead of chrome_options\n",
      "  driver = webdriver.Chrome(ChromeDriverManager().install(), chrome_options=chrome_options)\n"
     ]
    }
   ],
   "source": [
    "driver = webdriver.Chrome(ChromeDriverManager().install(), chrome_options=chrome_options)"
   ]
  },
  {
   "cell_type": "code",
   "execution_count": 42,
   "metadata": {},
   "outputs": [],
   "source": [
    "# Query to obtain links\n",
    "query = 'apple stock'\n",
    "links = [] # Initiate empty list to capture final results\n",
    "# Specify number of pages on google search, each page contains 10 #links\n",
    "n_pages = 5\n",
    "for page in range(1, n_pages):\n",
    "    url = \"http://www.google.com/search?q=\" + query + \"&rlz=1C5CHFA_enKR961KR962&tbs=cdr:1,cd_min:10/4/2022,cd_max:10/5/2022&source=lnms&tbm=nws&sa=X&ved=2ahUKEwiLq5HUnMv6AhXTxGEKHTRPD6gQ_AUoAXoECAEQAw\"\n",
    "    driver.get(url)\n",
    "    soup = BeautifulSoup(driver.page_source, 'html.parser')\n",
    "    # soup = BeautifulSoup(r.text, 'html.parser')\n",
    "    \n",
    "    search = soup.find_all('div', class_=\"SoaBEf xuvV6b\")\n",
    "    links.append(search)\n",
    "    for h in search:\n",
    "        links.append(soup)"
   ]
  },
  {
   "cell_type": "code",
   "execution_count": 43,
   "metadata": {},
   "outputs": [
    {
     "data": {
      "text/plain": [
       "[[], [], [], []]"
      ]
     },
     "execution_count": 43,
     "metadata": {},
     "output_type": "execute_result"
    }
   ],
   "source": [
    "links"
   ]
  },
  {
   "cell_type": "code",
   "execution_count": 44,
   "metadata": {},
   "outputs": [
    {
     "name": "stdout",
     "output_type": "stream",
     "text": [
      "Requirement already satisfied: urllib3 in /Library/Frameworks/Python.framework/Versions/3.9/lib/python3.9/site-packages (1.26.9)\n",
      "\u001b[33mWARNING: You are using pip version 21.1.1; however, version 22.2.2 is available.\n",
      "You should consider upgrading via the '/usr/local/bin/python3.9 -m pip install --upgrade pip' command.\u001b[0m\n",
      "Note: you may need to restart the kernel to use updated packages.\n"
     ]
    }
   ],
   "source": [
    "pip install urllib3"
   ]
  },
  {
   "cell_type": "code",
   "execution_count": 55,
   "metadata": {},
   "outputs": [
    {
     "name": "stdout",
     "output_type": "stream",
     "text": [
      "Requirement already satisfied: lxml in /Library/Frameworks/Python.framework/Versions/3.9/lib/python3.9/site-packages (4.9.1)\n",
      "\u001b[33mWARNING: You are using pip version 21.1.1; however, version 22.2.2 is available.\n",
      "You should consider upgrading via the '/usr/local/bin/python3.9 -m pip install --upgrade pip' command.\u001b[0m\n",
      "Note: you may need to restart the kernel to use updated packages.\n"
     ]
    }
   ],
   "source": [
    "pip install lxml"
   ]
  },
  {
   "cell_type": "code",
   "execution_count": 47,
   "metadata": {},
   "outputs": [],
   "source": [
    "from urllib.request import Request, urlopen\n",
    "from bs4 import BeautifulSoup\n",
    "import requests\n"
   ]
  },
  {
   "cell_type": "code",
   "execution_count": 94,
   "metadata": {},
   "outputs": [
    {
     "name": "stdout",
     "output_type": "stream",
     "text": [
      "<!DOCTYPE html>\n",
      "<html lang=\"ko\"><head><meta charset=\"utf-8\"/><meta content=\"/images/branding/googleg/1x/googleg_standard_color_128dp.png\" itemprop=\"image\"/><title>trump - Google 검색</title><script nonce=\"th7cX9Le4c_QQoYmW1x07w\">(function(){\n",
      "document.documentElement.addEventListener(\"submit\",function(b){var a;if(a=b.target){var c=a.getAttribute(\"data-submitfalse\");a=\"1\"===c||\"q\"===c&&!a.elements.q.value?!0:!1}else a=!1;a&&(b.preventDefault(),b.stopPropagation())},!0);document.documentElement.addEventListener(\"click\",function(b){var a;a:{for(a=b.target;a&&a!==document.documentElement;a=a.parentElement)if(\"A\"===a.tagName){a=\"1\"===a.getAttribute(\"data-nohref\");break a}a=!1}a&&b.preventDefault()},!0);}).call(this);(function(){\n",
      "var a=window.performance;window.start=Date.now();a:{var b=window;if(a){var c=a.timing;if(c){var d=c.navigationStart,f=c.responseStart;if(f>d&&f<=window.start){window.start=f;b.wsrt=f-d;break a}}a.now&&(b.wsrt=Math.floor(a.now()))}}window.google=window.google||{};var h=function(g){g&&g.target.setAttribute(\"data-iml\",Date.now())};document.documentElement.addEventListener(\"load\",h,!0);google.rglh=function(){document.documentElement.removeEventListener(\"load\",h,!0)};}).call(this);(function(){window._skwEvts=[];})();(function(){window.google.erd={jsr:1,bv:1666,de:true};})();(function(){var sdo=false;var mei=10;\n",
      "var h=this||self;var k,l=null!=(k=h.mei)?k:1,n,p=null!=(n=h.sdo)?n:!0,q=0,r,t=google.erd,v=t.jsr;google.ml=function(a,b,d,m,e){e=void 0===e?2:e;b&&(r=a&&a.message);if(google.dl)return google.dl(a,e,d),null;if(0>v){window.console&&console.error(a,d);if(-2===v)throw a;b=!1}else b=!a||!a.message||\"Error loading script\"===a.message||q>=l&&!m?!1:!0;if(!b)return null;q++;d=d||{};b=encodeURIComponent;var c=\"/gen_204?atyp=i&ei=\"+b(google.kEI);google.kEXPI&&(c+=\"&jexpid=\"+b(google.kEXPI));c+=\"&srcpg=\"+b(google.sn)+\"&jsr=\"+b(t.jsr)+\"&bver=\"+b(t.bv);var f=a.lineNumber;void 0!==f&&(c+=\"&line=\"+f);var g=\n",
      "a.fileName;g&&(0<g.indexOf(\"-extension:/\")&&(e=3),c+=\"&script=\"+b(g),f&&g===window.location.href&&(f=document.documentElement.outerHTML.split(\"\\n\")[f],c+=\"&cad=\"+b(f?f.substring(0,300):\"No script found.\")));c+=\"&jsel=\"+e;for(var u in d)c+=\"&\",c+=b(u),c+=\"=\",c+=b(d[u]);c=c+\"&emsg=\"+b(a.name+\": \"+a.message);c=c+\"&jsst=\"+b(a.stack||\"N/A\");12288<=c.length&&(c=c.substr(0,12288));a=c;m||google.log(0,\"\",a);return a};window.onerror=function(a,b,d,m,e){r!==a&&(a=e instanceof Error?e:Error(a),void 0===d||\"lineNumber\"in a||(a.lineNumber=d),void 0===b||\"fileName\"in a||(a.fileName=b),google.ml(a,!1,void 0,!1,\"SyntaxError\"===a.name||\"SyntaxError\"===a.message.substring(0,11)||-1!==a.message.indexOf(\"Script error\")?2:0));r=null;p&&q>=l&&(window.onerror=null)};})();(function(){\n",
      "var c=[],e=0;window.ping=function(b){-1==b.indexOf(\"&zx\")&&(b+=\"&zx=\"+Date.now());var a=new Image,d=e++;c[d]=a;a.onerror=a.onload=a.onabort=function(){delete c[d]};a.src=b};}).call(this);</script><style>a{color:#1a0dab;text-decoration:none;tap-highlight-color:rgba(0,0,0,.10)}a:visited{color:#4b11a8}a:hover{text-decoration:underline}img{border:0}html{font-family:arial,sans-serif;font-size:14px;line-height:20px;text-size-adjust:100%;color:#3c4043;word-wrap:break-word;background-color:#fff}.bRsWnc{background-color:#fff;border-top:1px solid #dadce0;height:39px;overflow:hidden}.N6RWV{height:51px;overflow-scrolling:touch;overflow-x:auto;overflow-y:hidden}.Uv67qb{box-pack:justify;font-size:12px;line-height:37px;justify-content:space-between;justify-content:space-between}.Uv67qb a,.Uv67qb span{color:#70757a;display:block;flex:none;padding:0 16px;text-align:center;text-transform:uppercase;}span.OXXup{border-bottom:2px solid #4285f4;color:#4285f4;font-weight:bold}a.eZt8xd:visited{color:#70757a}.FElbsf{border-left:1px solid rgba(0,0,0,.12)}header article{overflow:visible}.Pg70bf{height:39px;display:box;display:flex;display:flex;width:100%}.H0PQec{position:relative;flex:1}.sbc{display:flex;width:100%}.Pg70bf input{margin:2px 4px 2px 8px;}.x{width:26px;color:#70757a;font:27px/38px arial, sans-serif;line-height:40px;}#qdClwb{flex:0 0 auto;width:39px;height:39px;border-bottom:0;padding:0;border-top-right-radius:8px;background-color:#1a73e8;border:1px solid #1558d6;background-image:url(data:image/gif;base64,R0lGODdhJAAjAPIHAODr/nCk+MPZ/FmV96zK+/7+/5K5+kqL9iwAAAAAJAAjAEADani63P4wykmbKcQRXDscQAEMXmmeaLQVLCukzyC09AjfeK7v/MAajACLhPMVAgwjsUcEiZa8xgAYrVqv2Kx2iwsIAAABknfBBAKrTE4IcMyot8ur8datqIbQfJdnAfo2WE6BV05wXIiJigkAOw==);}.sc{font-size:16px;position:absolute;top:39px;left:0;right:0;box-shadow:0 2px 5px rgba(0,0,0,.2);z-index:2;background-color:#fff}.sc>div{padding:10px 10px;padding-left:16px;padding-left:14px;border-top:1px solid #dfe1e5;}.scs{background-color:#fafafa;}.noHIxc{display:block;font-size:16px;padding:0 0 0 8px;flex:1;height:35px;outline:none;border:none;width:100%;-webkit-tap-highlight-color:rgba(0,0,0,0);overflow:hidden;}.sbc input[type=text]{background:none}.bz1lBb{background-color:#fff;border-radius:8px 8px 0 0;box-shadow:0 0 0 1px #dfe1e5;margin-top:24px;}.KP7LCb{border-radius:0 0 8px 8px;box-shadow:0px 1px 0px 1px #dfe1e5;margin-bottom:30px;overflow:hidden}html{background-color:#fff}body{margin:0 auto 0 156px;max-width:652px;min-width:652px;padding:0 8px}.cOl4Id{letter-spacing:-1px;text-align:center;font:22pt Futura, Arial, sans-serif;height:37px;font-smoothing:antialiased;padding:32px 28px 0 24px;position:absolute;left:0;top:0}.cOl4Id span{display:inline-block}.V6gwVd{color:#4285f4}.iWkuvd{color:#ea4335}.cDrQ7{color:#fcc934}.ntlR9{color:#34a853}.tJ3Myc{-webkit-transform:rotate(-20deg);position:relative;left:-1px;display:inline-block}footer{text-align:center;margin-top:18px}footer a,footer a:visited,.smiUbb{color:#70757a}.xeDNfc{margin:0 13px;white-space:nowrap}#EOlPnc{margin-top:36px}#EOlPnc>div{margin:20px}.Srfpq{color:#70757a}</style></head><body jsmodel=\"hspDDf\"><header id=\"hdr\"><script nonce=\"th7cX9Le4c_QQoYmW1x07w\">(function(){\n",
      "var k=this||self,l=function(a){var b=typeof a;return\"object\"==b&&null!=a||\"function\"==b},m=function(a,b){function c(){}c.prototype=b.prototype;a.j=b.prototype;a.prototype=new c;a.prototype.constructor=a;a.l=function(d,e,f){for(var g=Array(arguments.length-2),h=2;h<arguments.length;h++)g[h-2]=arguments[h];return b.prototype[e].apply(d,g)}};var n=Array.prototype.indexOf?function(a,b){return Array.prototype.indexOf.call(a,b,void 0)}:function(a,b){if(\"string\"===typeof a)return\"string\"!==typeof b||1!=b.length?-1:a.indexOf(b,0);for(var c=0;c<a.length;c++)if(c in a&&a[c]===b)return c;return-1};var p=function(a){return\"string\"==typeof a.className?a.className:a.getAttribute&&a.getAttribute(\"class\")||\"\"},q=function(a,b){\"string\"==typeof a.className?a.className=b:a.setAttribute&&a.setAttribute(\"class\",b)},r=function(a,b){a.classList?b=a.classList.contains(b):(a=a.classList?a.classList:p(a).match(/\\S+/g)||[],b=0<=n(a,b));return b},v=function(){var a=t,b=u;a.classList?a.classList.remove(b):r(a,b)&&q(a,Array.prototype.filter.call(a.classList?a.classList:p(a).match(/\\S+/g)||[],function(c){return c!=\n",
      "b}).join(\" \"))};function w(){var a=k.navigator;return a&&(a=a.userAgent)?a:\"\"};var x=function(a){x[\" \"](a);return a};x[\" \"]=function(){};var y=-1!=w().indexOf(\"Gecko\")&&!(-1!=w().toLowerCase().indexOf(\"webkit\")&&-1==w().indexOf(\"Edge\"))&&!(-1!=w().indexOf(\"Trident\")||-1!=w().indexOf(\"MSIE\"))&&-1==w().indexOf(\"Edge\");var z=function(a,b){this.type=a;this.target=b};z.prototype.g=function(){};var A=function(){if(!k.addEventListener||!Object.defineProperty)return!1;var a=!1,b=Object.defineProperty({},\"passive\",{get:function(){a=!0}});try{k.addEventListener(\"test\",function(){},b),k.removeEventListener(\"test\",function(){},b)}catch(c){}return a}();var C=function(a){z.call(this,a?a.type:\"\");this.relatedTarget=this.target=null;this.button=this.screenY=this.screenX=this.clientY=this.clientX=0;this.key=\"\";this.keyCode=0;this.metaKey=this.shiftKey=this.altKey=this.ctrlKey=!1;this.state=null;this.pointerId=0;this.pointerType=\"\";this.h=null;if(a){var b=this.type=a.type,c=a.changedTouches&&a.changedTouches.length?a.changedTouches[0]:null;this.target=a.target||a.srcElement;var d=a.relatedTarget;if(d){if(y){a:{try{x(d.nodeName);var e=!0;break a}catch(f){}e=\n",
      "!1}e||(d=null)}}else\"mouseover\"==b?d=a.fromElement:\"mouseout\"==b&&(d=a.toElement);this.relatedTarget=d;c?(this.clientX=void 0!==c.clientX?c.clientX:c.pageX,this.clientY=void 0!==c.clientY?c.clientY:c.pageY,this.screenX=c.screenX||0,this.screenY=c.screenY||0):(this.clientX=void 0!==a.clientX?a.clientX:a.pageX,this.clientY=void 0!==a.clientY?a.clientY:a.pageY,this.screenX=a.screenX||0,this.screenY=a.screenY||0);this.button=a.button;this.keyCode=a.keyCode||0;this.key=a.key||\"\";this.ctrlKey=a.ctrlKey;this.altKey=a.altKey;this.shiftKey=a.shiftKey;this.metaKey=a.metaKey;this.pointerId=a.pointerId||0;this.pointerType=\"string\"===typeof a.pointerType?a.pointerType:B[a.pointerType]||\"\";this.state=a.state;this.h=a;a.defaultPrevented&&C.j.g.call(this)}};m(C,z);var B={2:\"touch\",3:\"pen\",4:\"mouse\"};C.prototype.g=function(){C.j.g.call(this);var a=this.h;a.preventDefault?a.preventDefault():a.returnValue=!1};var D=\"closure_listenable_\"+(1E6*Math.random()|0);var E=0;var F=function(a,b,c,d,e){this.listener=a;this.proxy=null;this.src=b;this.type=c;this.capture=!!d;this.h=e;this.key=++E;this.g=this.i=!1},G=function(a){a.g=!0;a.listener=null;a.proxy=null;a.src=null;a.h=null};var H=function(a){this.src=a;this.g={};this.h=0};H.prototype.add=function(a,b,c,d,e){var f=a.toString();a=this.g[f];a||(a=this.g[f]=[],this.h++);var g;a:{for(g=0;g<a.length;++g){var h=a[g];if(!h.g&&h.listener==b&&h.capture==!!d&&h.h==e)break a}g=-1}-1<g?(b=a[g],c||(b.i=!1)):(b=new F(b,this.src,f,!!d,e),b.i=c,a.push(b));return b};var I=\"closure_lm_\"+(1E6*Math.random()|0),J={},K=0,M=function(a,b,c,d,e){if(d&&d.once)return L(a,b,c,d,e);if(Array.isArray(b)){for(var f=0;f<b.length;f++)M(a,b[f],c,d,e);return null}c=N(c);return a&&a[D]?a.g(b,c,l(d)?!!d.capture:!!d,e):O(a,b,c,!1,d,e)},O=function(a,b,c,d,e,f){if(!b)throw Error(\"a\");var g=l(e)?!!e.capture:!!e,h=P(a);h||(a[I]=h=new H(a));c=h.add(b,c,d,g,f);if(c.proxy)return c;d=Q();c.proxy=d;d.src=a;d.listener=c;if(a.addEventListener)A||(e=g),void 0===e&&(e=!1),a.addEventListener(b.toString(),d,e);else if(a.attachEvent)a.attachEvent(R(b.toString()),d);else if(a.addListener&&a.removeListener)a.addListener(d);else throw Error(\"b\");K++;return c},Q=function(){var a=S,b=function(c){return a.call(b.src,b.listener,c)};return b},L=function(a,b,c,d,e){if(Array.isArray(b)){for(var f=0;f<b.length;f++)L(a,b[f],c,d,e);return null}c=N(c);return a&&a[D]?a.h(b,c,l(d)?!!d.capture:!!d,e):O(a,b,c,!0,d,e)},T=function(a){if(\"number\"!==typeof a&&a&&!a.g){var b=a.src;if(b&&b[D])b.o(a);else{var c=a.type,d=a.proxy;b.removeEventListener?b.removeEventListener(c,d,a.capture):b.detachEvent?b.detachEvent(R(c),d):b.addListener&&b.removeListener&&b.removeListener(d);K--;if(c=P(b)){d=a.type;if(d in c.g){var e=c.g[d],f=n(e,a),g;(g=0<=f)&&Array.prototype.splice.call(e,f,1);g&&(G(a),0==c.g[d].length&&(delete c.g[d],c.h--))}0==c.h&&(c.src=null,b[I]=null)}else G(a)}}},R=function(a){return a in J?J[a]:J[a]=\"on\"+a},S=function(a,b){if(a.g)a=!0;else{b=new C(b,this);var c=a.listener,d=a.h||a.src;a.i&&T(a);a=c.call(d,b)}return a},P=function(a){a=a[I];return a instanceof H?a:null},U=\"__closure_events_fn_\"+(1E9*Math.random()>>>0),N=function(a){if(\"function\"===typeof a)return a;a[U]||(a[U]=function(b){return a.handleEvent(b)});return a[U]};var u,t=document.documentElement,V;function W(){T(V);V=L(t,\"mousedown\",function(){v();X()},{capture:!0})}function X(){T(V);V=M(t,\"keydown\",function(a){if(9===a.keyCode){a=t;var b=u;if(a.classList)a.classList.add(b);else if(!r(a,b)){var c=p(a);q(a,c+(0<c.length?\" \"+b:b))}W()}})};u=\"zAoYTe\";X();}).call(this);</script><div class=\"cOl4Id\"><a href=\"/?sa=X&amp;ved=0ahUKEwi-96e7q8v6AhUMMUQIHet1CdwQOwgC\"><span class=\"V6gwVd\">G</span><span class=\"iWkuvd\">o</span><span class=\"cDrQ7\">o</span><span class=\"V6gwVd\">g</span><span class=\"ntlR9\">l</span><span class=\"iWkuvd tJ3Myc\">e</span></a></div><div class=\"bz1lBb\"><form class=\"Pg70bf\" id=\"sf\"><input name=\"rlz\" type=\"hidden\" value=\"1C5CHFA_enKR961KR962\"/><input name=\"biw\" type=\"hidden\" value=\"1440\"/><input name=\"bih\" type=\"hidden\" value=\"796\"/><input name=\"tbm\" type=\"hidden\" value=\"nws\"/><div class=\"H0PQec\"><div class=\"sbc esbc\"><input autocapitalize=\"none\" autocomplete=\"off\" class=\"noHIxc\" name=\"q\" spellcheck=\"false\" type=\"text\" value=\"trump\"/><input name=\"oq\" type=\"hidden\"/><input name=\"aqs\" type=\"hidden\"/><div class=\"x\">×</div><div class=\"sc\"></div></div></div><button id=\"qdClwb\" type=\"submit\"></button></form></div><noscript><meta content=\"0;url=/search?q=trump&amp;tbm=nws&amp;tbs=cdr:1,cd_min:10/4/2022,cd_max:10/5/2022&amp;rlz=1C5CHFA_enKR961KR962&amp;biw=1440&amp;bih=796&amp;gbv=1&amp;sei=dKY-Y77tKYzikPIP6-ul4A0\" http-equiv=\"refresh\"/><style>table,div,span,p{display:none}</style><div style=\"display:block\">몇 초 안에 이동하지 않는 경우 <a href=\"/search?q=trump&amp;tbm=nws&amp;tbs=cdr:1,cd_min:10/4/2022,cd_max:10/5/2022&amp;rlz=1C5CHFA_enKR961KR962&amp;biw=1440&amp;bih=796&amp;gbv=1&amp;sei=dKY-Y77tKYzikPIP6-ul4A0\">여기</a>를 클릭하세요.</div></noscript></header><div id=\"main\"><div><div class=\"KP7LCb\"> <div class=\"bRsWnc\"> <div class=\"N6RWV\"> <div class=\"Pg70bf Uv67qb\"> <a class=\"eZt8xd\" href=\"/search?q=trump&amp;rlz=1C5CHFA_enKR961KR962&amp;biw=1440&amp;bih=796&amp;source=lnms&amp;sa=X&amp;ved=0ahUKEwi-96e7q8v6AhUMMUQIHet1CdwQ_AUIBSgA\">전체</a><a class=\"eZt8xd\" href=\"/search?q=trump&amp;rlz=1C5CHFA_enKR961KR962&amp;biw=1440&amp;bih=796&amp;tbm=isch&amp;source=lnms&amp;sa=X&amp;ved=0ahUKEwi-96e7q8v6AhUMMUQIHet1CdwQ_AUIBigB\">이미지</a><span class=\"OXXup\">뉴스</span><a class=\"eZt8xd\" href=\"/search?q=trump&amp;rlz=1C5CHFA_enKR961KR962&amp;biw=1440&amp;bih=796&amp;tbm=vid&amp;source=lnms&amp;sa=X&amp;ved=0ahUKEwi-96e7q8v6AhUMMUQIHet1CdwQ_AUICCgD\">동영상</a> <a href=\"https://maps.google.com/maps?q=trump&amp;rlz=1C5CHFA_enKR961KR962&amp;biw=1440&amp;bih=796&amp;um=1&amp;ie=UTF-8&amp;sa=X&amp;ved=0ahUKEwi-96e7q8v6AhUMMUQIHet1CdwQ_AUICSgE\">지도</a> <a href=\"/search?q=trump&amp;rlz=1C5CHFA_enKR961KR962&amp;biw=1440&amp;bih=796&amp;tbm=shop&amp;source=lnms&amp;sa=X&amp;ved=0ahUKEwi-96e7q8v6AhUMMUQIHet1CdwQ_AUICigF\">쇼핑</a> <a href=\"/search?q=trump&amp;rlz=1C5CHFA_enKR961KR962&amp;biw=1440&amp;bih=796&amp;tbm=bks&amp;source=lnms&amp;sa=X&amp;ved=0ahUKEwi-96e7q8v6AhUMMUQIHet1CdwQ_AUICygG\">도서</a> <div class=\"FElbsf\"><a href=\"/advanced_search\" id=\"st-toggle\" role=\"button\" style=\"white-space:nowrap\">검색 도구</a></div> </div> </div> </div> </div><div class=\"Pg70bf wEsjbd Gx5Zad xpd EtOod pkphOe\" id=\"st-card\" style=\"display:none\"><style>.wEsjbd{background-color:#fff;height:44px;white-space:nowrap}.coPU8c{height:60px;overflow-scrolling:touch;overflow-x:auto;overflow-y:hidden}.Xj2aue{height:44px;overflow:hidden}.RnNGze{margin:11px 16px}.wEsjbd div,.wEsjbd a,.wEsjbd li{outline-width:0;outline:none}</style><div class=\"Xj2aue\"><div class=\"coPU8c\"><div class=\"RnNGze\"><style>.PA9J5{display:inline-block}.RXaOfd{display:inline-block;height:22px;position:relative;padding-top:0;padding-bottom:0;padding-right:16px;padding-left:0;line-height:22px;cursor:pointer;text-transform:uppercase;font-size:12px;color:#70757a}.sa1toc{background:#fff;display:none;position:absolute;border:1px solid #d6d6d6;box-shadow:0 2px 4px rgba(0,0,0,.3);margin:0;white-space:nowrap;z-index:103;line-height:17px;padding-top:5px;padding-bottom:5px;padding-left:0}.PA9J5:hover .sa1toc{display:block}.mGSy8d a:active,.RXaOfd:active{color:#4285f4}</style><div class=\"PA9J5\"><div class=\"RXaOfd\" role=\"button\" tabindex=\"0\"><style>.TWMOUc{display:inline-block;padding-right:14px;white-space:nowrap}.vQYuGf{font-weight:bold}.OmTIzf{border-color:#909090 transparent;border-style:solid;border-width:4px 4px 0 4px;width:0;height:0;margin-left:-10px;top:50%;margin-top:-2px;position:absolute}.RXaOfd:active .OmTIzf{border-color:#4285f4 transparent}</style><div class=\"TWMOUc\">웹 검색</div><span class=\"OmTIzf\"></span></div><ul class=\"sa1toc ozatM\"><style>.ozatM{font-size:12px;text-transform:uppercase}.ozatM .yNFsl,.ozatM li{list-style-type:none;list-style-position:outside;list-style-image:none}.yNFsl.SkUj4c,.yNFsl a{color:rgba(0,0,0,0.54);text-decoration:none;padding:6px 44px 6px 14px;line-height:17px;display:block}.SkUj4c{background-image:url(//ssl.gstatic.com/ui/v1/menu/checkmark2.png);background-position:right center;background-repeat:no-repeat}.SkUj4c:active{background-color:#f8f9fa}</style><li class=\"yNFsl SkUj4c\">웹 검색</li><li class=\"yNFsl\"><a href=\"/search?q=trump&amp;rlz=1C5CHFA_enKR961KR962&amp;biw=1440&amp;bih=796&amp;tbm=nws&amp;source=lnt&amp;tbs=lr:lang_1ko&amp;lr=lang_ko&amp;sa=X&amp;ved=0ahUKEwi-96e7q8v6AhUMMUQIHet1CdwQpwUIDQ\">한국어 웹</a></li></ul></div><div class=\"PA9J5\"><div class=\"RXaOfd\" role=\"button\" tabindex=\"0\"><div class=\"TWMOUc\">최근 항목</div><span class=\"OmTIzf\"></span></div><ul class=\"sa1toc ozatM\"><li class=\"yNFsl SkUj4c\">최근 항목</li><li class=\"yNFsl\"><a href=\"/search?q=trump&amp;rlz=1C5CHFA_enKR961KR962&amp;biw=1440&amp;bih=796&amp;tbm=nws&amp;source=lnt&amp;tbs=qdr:h&amp;sa=X&amp;ved=0ahUKEwi-96e7q8v6AhUMMUQIHet1CdwQpwUIDw\"> 지난 1시간</a></li><li class=\"yNFsl\"><a href=\"/search?q=trump&amp;rlz=1C5CHFA_enKR961KR962&amp;biw=1440&amp;bih=796&amp;tbm=nws&amp;source=lnt&amp;tbs=qdr:d&amp;sa=X&amp;ved=0ahUKEwi-96e7q8v6AhUMMUQIHet1CdwQpwUIEA\"> 지난 1일</a></li><li class=\"yNFsl\"><a href=\"/search?q=trump&amp;rlz=1C5CHFA_enKR961KR962&amp;biw=1440&amp;bih=796&amp;tbm=nws&amp;source=lnt&amp;tbs=qdr:w&amp;sa=X&amp;ved=0ahUKEwi-96e7q8v6AhUMMUQIHet1CdwQpwUIEQ\"> 지난 1주</a></li><li class=\"yNFsl\"><a href=\"/search?q=trump&amp;rlz=1C5CHFA_enKR961KR962&amp;biw=1440&amp;bih=796&amp;tbm=nws&amp;source=lnt&amp;tbs=qdr:m&amp;sa=X&amp;ved=0ahUKEwi-96e7q8v6AhUMMUQIHet1CdwQpwUIEg\"> 지난 1개월</a></li><li class=\"yNFsl\"><a href=\"/search?q=trump&amp;rlz=1C5CHFA_enKR961KR962&amp;biw=1440&amp;bih=796&amp;tbm=nws&amp;source=lnt&amp;tbs=qdr:y&amp;sa=X&amp;ved=0ahUKEwi-96e7q8v6AhUMMUQIHet1CdwQpwUIEw\"> 지난 1년</a></li><li class=\"yNFsl\"><a href=\"/search?q=trump&amp;rlz=1C5CHFA_enKR961KR962&amp;biw=1440&amp;bih=796&amp;tbm=nws&amp;source=lnt&amp;tbs=ar:1&amp;sa=X&amp;ved=0ahUKEwi-96e7q8v6AhUMMUQIHet1CdwQpwUIFA\">자료실</a></li></ul></div></div></div></div><script nonce=\"th7cX9Le4c_QQoYmW1x07w\">(function(){\n",
      "var a=document.getElementById(\"st-toggle\"),b=document.getElementById(\"st-card\");a&&b&&a.addEventListener(\"click\",function(c){b.style.display=b.style.display?\"\":\"none\";c.preventDefault()},!1);}).call(this);</script></div></div><style>.Gx5Zad{background-color:#fff;margin-bottom:30px;box-shadow:0 0 0 1px #dfe1e5;border-radius:8px}.pkphOe{font-size:14px;line-height:22px;}.EtOod>*:first-child{border-top-left-radius:8px;border-top-right-radius:8px}.EtOod>*:last-child{border-bottom-left-radius:8px;border-bottom-right-radius:8px}.EtOod>.qxDOhb>*:first-child{border-top-left-radius:8px;border-top-right-radius:8px}.EtOod>.qxDOhb>*:last-child{border-bottom-left-radius:8px;border-bottom-right-radius:8px}.fP1Qef{background:transparent !important;box-shadow:none !important;border:none !important}.Gx5Zad.fP1Qef{margin-top:-12px;margin-bottom:18px}a.fdYsqf{color:#4b11a8}.rl7ilb{display:block;clear:both}.egMi0{margin-bottom:-22px}.kCrYT{padding:12px 16px 12px}.l97dzf{font-weight:400}.zBAuLc{line-height:normal;margin:0;padding:0}.BNeawe{white-space:pre-line;word-wrap:break-word}.vvjwJb{color:#1a0dab;font-size:20px;line-height:26px}a:visited .vvjwJb,.vvjwJb a:visited{color:#4b11a8}.vvjwJb.HrGdeb{color:#fff}a:visited .vvjwJb.HrGdeb,.vvjwJb.HrGdeb a:visited{color:rgba(255,255,255,.70)}.UPmit{font-size:14px;line-height:22px}.UPmit.HrGdeb{color:rgba(255,255,255,.70)}.UPmit.AP7Wnd{color:#0d652d}.lcJF1d{border-radius:8px;margin-left:16px;float:right;}.h1hFNe{display:inline-block;position:relative}.Q6Xouf{overflow:hidden}.G6SP0b{display:inline-block}.eeoFaf{position:relative}.Ap5OSd{padding-bottom:12px}.s3v9rd{font-size:14px;line-height:22px}.s3v9rd.HrGdeb{color:#fff}.s3v9rd.AP7Wnd{color:#202124}.r0bn4c.tr0dw{color:rgba(255,255,255,.70)}.r0bn4c.rQMQod{color:#70757a}.rLshyf,.BmP5tf{padding-top:12px;padding-bottom:12px}.YOx3Ab{padding-left:16px;}.w1C3Le,.BmP5tf,.G5NbBd,.CS4w5b{padding-left:16px;padding-right:16px;}.G5NbBd{padding-bottom:12px}.CS4w5b{padding-top:12px}.nMymef{display:flex}.G5eFlf{flex:1;display:block}.nMymef span{text-align:center}.EYqSq{margin:6px 4px 9px 0;border-radius:100%;display:inline-block;height:10px;vertical-align:middle;width:10px}.dfB0uf{color:#3c4043;font-weight:bold}</style><div><!--SW_C_X--></div><div></div><div><div class=\"Gx5Zad fP1Qef xpd EtOod pkphOe\"><a href=\"/url?q=https://www.washingtonpost.com/politics/2022/10/05/trump-fbi-search-documents/&amp;sa=U&amp;ved=2ahUKEwi-96e7q8v6AhUMMUQIHet1CdwQxfQBegQIAhAC&amp;usg=AOvVaw1NYhpovCSd46lso98nyjBs\"><div class=\"egMi0 kCrYT\"><h3 class=\"zBAuLc l97dzf\"><div class=\"BNeawe vvjwJb AP7Wnd\">Analysis | What the FBI took from Trump, according to an ...</div></h3><div class=\"BNeawe UPmit AP7Wnd\">The Washington Post</div></div><div class=\"kCrYT\"><div class=\"lcJF1d Q6Xouf G6SP0b\"><div style=\"width:120px;height:66px;position:static\"><img alt=\"\" class=\"h1hFNe\" data-deferred=\"1\" id=\"dimg_15\" src=\"data:image/gif;base64,R0lGODlhAQABAIAAAP///////yH5BAEKAAEALAAAAAABAAEAAAICTAEAOw==\" style=\"width:120px;height:66px\"/></div></div><div><div class=\"BNeawe s3v9rd AP7Wnd\"><div><div class=\"BNeawe s3v9rd AP7Wnd\">This week, a document related to the ongoing legal battle between former president Donald Trump and the federal government was made public in...<br/><span class=\"r0bn4c rQMQod\">10시간 전</span></div></div></div></div><div class=\"rl7ilb\"></div></div></a></div></div><div><div class=\"Gx5Zad fP1Qef xpd EtOod pkphOe\"><a href=\"/url?q=https://www.washingtonpost.com/arts-entertainment/2022/10/05/qanon-trump-rallies-anthem/&amp;sa=U&amp;ved=2ahUKEwi-96e7q8v6AhUMMUQIHet1CdwQxfQBegQICRAC&amp;usg=AOvVaw10BqbSWuC6F_nG6ms6W7bQ\"><div class=\"egMi0 kCrYT\"><h3 class=\"zBAuLc l97dzf\"><div class=\"BNeawe vvjwJb AP7Wnd\">Perspective | The QAnon 'anthem' is a familiar sales tool — with ...</div></h3><div class=\"BNeawe UPmit AP7Wnd\">The Washington Post</div></div><div class=\"kCrYT\"><div class=\"lcJF1d Q6Xouf G6SP0b\"><div style=\"width:120px;height:66px;position:static\"><img alt=\"\" class=\"h1hFNe\" data-deferred=\"1\" id=\"dimg_17\" src=\"data:image/gif;base64,R0lGODlhAQABAIAAAP///////yH5BAEKAAEALAAAAAABAAEAAAICTAEAOw==\" style=\"width:120px;height:66px\"/></div></div><div><div class=\"BNeawe s3v9rd AP7Wnd\"><div><div class=\"BNeawe s3v9rd AP7Wnd\">The track being played at recent Trump rallies has been taken off YouTube and Spotify for violating harassment policy and alleged copyright...<br/><span class=\"r0bn4c rQMQod\">10시간 전</span></div></div></div></div><div class=\"rl7ilb\"></div></div></a></div></div><div><div class=\"Gx5Zad fP1Qef xpd EtOod pkphOe\"><a href=\"/url?q=https://www.curbed.com/2022/10/trump-lawsuit-real-estate-nyc-letitia-james.html&amp;sa=U&amp;ved=2ahUKEwi-96e7q8v6AhUMMUQIHet1CdwQxfQBegQIABAC&amp;usg=AOvVaw17fMd8ZA9F5rvuV8tSSKf_\"><div class=\"egMi0 kCrYT\"><h3 class=\"zBAuLc l97dzf\"><div class=\"BNeawe vvjwJb AP7Wnd\">What Real Estate Does Trump Own in NYC Anyway?</div></h3><div class=\"BNeawe UPmit AP7Wnd\">Curbed</div></div><div class=\"kCrYT\"><div class=\"lcJF1d Q6Xouf G6SP0b\"><div style=\"width:120px;height:66px;position:static\"><img alt=\"\" class=\"h1hFNe\" data-deferred=\"1\" id=\"dimg_9\" src=\"data:image/gif;base64,R0lGODlhAQABAIAAAP///////yH5BAEKAAEALAAAAAABAAEAAAICTAEAOw==\" style=\"width:120px;height:66px\"/></div></div><div><div class=\"BNeawe s3v9rd AP7Wnd\"><div><div class=\"BNeawe s3v9rd AP7Wnd\">Condo boards across Manhattan have voted to remove his name from their buildings; in 2019, even the flagship Trump International Hotel and Tower...<br/><span class=\"r0bn4c rQMQod\">12시간 전</span></div></div></div></div><div class=\"rl7ilb\"></div></div></a></div></div><div><div class=\"Gx5Zad fP1Qef xpd EtOod pkphOe\"><a href=\"/url?q=https://www.azfamily.com/2022/10/06/trump-campaign-still-owes-arizona-cities-thousands-past-event-fees/&amp;sa=U&amp;ved=2ahUKEwi-96e7q8v6AhUMMUQIHet1CdwQxfQBegQIBRAC&amp;usg=AOvVaw0tH4YnTwW14U_LPeZuhIXP\"><div class=\"egMi0 kCrYT\"><h3 class=\"zBAuLc l97dzf\"><div class=\"BNeawe vvjwJb AP7Wnd\">Trump campaign still owes Arizona cities thousands in past event fees</div></h3><div class=\"BNeawe UPmit AP7Wnd\">Arizona's Family</div></div><div class=\"kCrYT\"><div class=\"lcJF1d Q6Xouf G6SP0b\"><div style=\"width:120px;height:66px;position:static\"><img alt=\"\" class=\"h1hFNe\" data-deferred=\"1\" id=\"dimg_7\" src=\"data:image/gif;base64,R0lGODlhAQABAIAAAP///////yH5BAEKAAEALAAAAAABAAEAAAICTAEAOw==\" style=\"width:120px;height:66px\"/></div></div><div><div class=\"BNeawe s3v9rd AP7Wnd\"><div><div class=\"BNeawe s3v9rd AP7Wnd\">PHOENIX (3TV/CBS 5) - Former President Donald Trump will be back on the campaign trail in Arizona on Oct. 9, supporting Republican...<br/><span class=\"r0bn4c rQMQod\">5시간 전</span></div></div></div></div><div class=\"rl7ilb\"></div></div></a></div></div><div><div class=\"Gx5Zad fP1Qef xpd EtOod pkphOe\"><a href=\"/url?q=https://www.theguardian.com/books/2022/oct/05/maggie-haberman-trump-book-confidence-man-key-takeaways&amp;sa=U&amp;ved=2ahUKEwi-96e7q8v6AhUMMUQIHet1CdwQxfQBegQIBBAC&amp;usg=AOvVaw1aJA_Iz0ntoqkSRfV-WrHo\"><div class=\"egMi0 kCrYT\"><h3 class=\"zBAuLc l97dzf\"><div class=\"BNeawe vvjwJb AP7Wnd\">James Brown’s cape and Rudy gone wild: key takeaways from Haberman’s Trump book</div></h3><div class=\"BNeawe UPmit AP7Wnd\">The Guardian</div></div><div class=\"kCrYT\"><div class=\"lcJF1d Q6Xouf G6SP0b\"><div style=\"width:120px;height:66px;position:static\"><img alt=\"\" class=\"h1hFNe\" data-deferred=\"1\" id=\"dimg_13\" src=\"data:image/gif;base64,R0lGODlhAQABAIAAAP///////yH5BAEKAAEALAAAAAABAAEAAAICTAEAOw==\" style=\"width:120px;height:66px\"/></div></div><div><div class=\"BNeawe s3v9rd AP7Wnd\"><div><div class=\"BNeawe s3v9rd AP7Wnd\">Trump's Waterloo? Trump was long said to be in the habit of ripping up notes from White House meetings and throwing them in the toilet. Haberman...<br/><span class=\"r0bn4c rQMQod\">21시간 전</span></div></div></div></div><div class=\"rl7ilb\"></div></div></a></div></div><div><div class=\"Gx5Zad fP1Qef xpd EtOod pkphOe\"><a href=\"/url?q=https://www.nbcnews.com/politics/donald-trump/trump-sounds-state-federal-probes-conference-latino-conservatives-rcna50963&amp;sa=U&amp;ved=2ahUKEwi-96e7q8v6AhUMMUQIHet1CdwQxfQBegQIBxAC&amp;usg=AOvVaw2zjp_vFMMkDMs5ePHUYvuq\"><div class=\"egMi0 kCrYT\"><h3 class=\"zBAuLc l97dzf\"><div class=\"BNeawe vvjwJb AP7Wnd\">Trump sounds off about state and federal probes at conference for Latino conservatives</div></h3><div class=\"BNeawe UPmit AP7Wnd\">NBC News</div></div><div class=\"kCrYT\"><div class=\"lcJF1d Q6Xouf G6SP0b\"><div style=\"width:120px;height:66px;position:static\"><img alt=\"\" class=\"h1hFNe\" data-deferred=\"1\" id=\"dimg_1\" src=\"data:image/gif;base64,R0lGODlhAQABAIAAAP///////yH5BAEKAAEALAAAAAABAAEAAAICTAEAOw==\" style=\"width:120px;height:66px\"/></div></div><div><div class=\"BNeawe s3v9rd AP7Wnd\"><div><div class=\"BNeawe s3v9rd AP7Wnd\">Former US President Donald Trump speaks at National Hispanic Leadership Conference in Miami, on Oct. Former President Donald Trump speaks...<br/><span class=\"r0bn4c rQMQod\">8시간 전</span></div></div></div></div><div class=\"rl7ilb\"></div></div></a></div></div><div><div class=\"Gx5Zad fP1Qef xpd EtOod pkphOe\"><a href=\"/url?q=https://www.msnbc.com/rachel-maddow-show/maddowblog/trump-told-national-archives-want-documents-back-rcna50862&amp;sa=U&amp;ved=2ahUKEwi-96e7q8v6AhUMMUQIHet1CdwQxfQBegQICBAC&amp;usg=AOvVaw2JCzxa-TbJKa9ABDmRM01e\"><div class=\"egMi0 kCrYT\"><h3 class=\"zBAuLc l97dzf\"><div class=\"BNeawe vvjwJb AP7Wnd\">Why Trump told the National Archives, ‘I want my documents back!’</div></h3><div class=\"BNeawe UPmit AP7Wnd\">MSNBC News</div></div><div class=\"kCrYT\"><div class=\"lcJF1d Q6Xouf G6SP0b\"><div style=\"width:120px;height:66px;position:static\"><img alt=\"\" class=\"h1hFNe\" data-deferred=\"1\" id=\"dimg_11\" src=\"data:image/gif;base64,R0lGODlhAQABAIAAAP///////yH5BAEKAAEALAAAAAABAAEAAAICTAEAOw==\" style=\"width:120px;height:66px\"/></div></div><div><div class=\"BNeawe s3v9rd AP7Wnd\"><div><div class=\"BNeawe s3v9rd AP7Wnd\">After trying to smear the FBI, Donald Trump has now launched an offensive against the National Archives. It's clearly not going well.<br/><span class=\"r0bn4c rQMQod\">16시간 전</span></div></div></div></div><div class=\"rl7ilb\"></div></div></a></div></div><div><div class=\"Gx5Zad fP1Qef xpd EtOod pkphOe\"><a href=\"/url?q=https://www.politico.com/news/2022/10/04/trump-asks-supreme-court-to-intervene-in-mar-a-lago-documents-case-00060300&amp;sa=U&amp;ved=2ahUKEwi-96e7q8v6AhUMMUQIHet1CdwQxfQBegQIAxAC&amp;usg=AOvVaw0yEmtBY9o5QKkRd8iSJMvH\"><div class=\"egMi0 kCrYT\"><h3 class=\"zBAuLc l97dzf\"><div class=\"BNeawe vvjwJb AP7Wnd\">Trump asks Supreme Court to intervene in Mar-a-Lago documents ...</div></h3><div class=\"BNeawe UPmit AP7Wnd\">Politico</div></div><div class=\"kCrYT\"><div class=\"lcJF1d Q6Xouf G6SP0b\"><div style=\"width:120px;height:66px;position:static\"><img alt=\"\" class=\"h1hFNe\" data-deferred=\"1\" id=\"dimg_3\" src=\"data:image/gif;base64,R0lGODlhAQABAIAAAP///////yH5BAEKAAEALAAAAAABAAEAAAICTAEAOw==\" style=\"width:120px;height:66px\"/></div></div><div><div class=\"BNeawe s3v9rd AP7Wnd\"><div><div class=\"BNeawe s3v9rd AP7Wnd\">Trump's request would put about 100 potentially classified documents back into the special master review. Former President Donald Trump speaks.<br/><span class=\"r0bn4c rQMQod\">1일 전</span></div></div></div></div><div class=\"rl7ilb\"></div></div></a></div></div><div><div class=\"Gx5Zad fP1Qef xpd EtOod pkphOe\"><a href=\"/url?q=https://www.npr.org/2022/10/05/1126885087/trump-requests-the-supreme-court-to-resolve-the-mar-a-lago-document-dispute&amp;sa=U&amp;ved=2ahUKEwi-96e7q8v6AhUMMUQIHet1CdwQxfQBegQIBhAC&amp;usg=AOvVaw0vkY9S1oz2E-0qKAaR_0QC\"><div class=\"egMi0 kCrYT\"><h3 class=\"zBAuLc l97dzf\"><div class=\"BNeawe vvjwJb AP7Wnd\">Trump requests the Supreme Court to resolve the Mar-a-Lago ...</div></h3><div class=\"BNeawe UPmit AP7Wnd\">NPR</div></div><div class=\"kCrYT\"><div><div class=\"BNeawe s3v9rd AP7Wnd\"><div><div class=\"BNeawe s3v9rd AP7Wnd\">The legal battle over documents seized from Donald Trump's Mar-a-Lago home in August continues with the former president requesting the...<br/><span class=\"r0bn4c rQMQod\">22시간 전</span></div></div></div></div></div></a></div></div><div><div class=\"Gx5Zad fP1Qef xpd EtOod pkphOe\"><a href=\"/url?q=https://www.cnn.com/2022/10/05/tech/elon-musk-twitter-donald-trump/index.html&amp;sa=U&amp;ved=2ahUKEwi-96e7q8v6AhUMMUQIHet1CdwQxfQBegQIARAC&amp;usg=AOvVaw0C90dterkvBT4dTwowERZl\"><div class=\"egMi0 kCrYT\"><h3 class=\"zBAuLc l97dzf\"><div class=\"BNeawe vvjwJb AP7Wnd\">Musk deal could see Trump back on Twitter by midterms</div></h3><div class=\"BNeawe UPmit AP7Wnd\">CNN</div></div><div class=\"kCrYT\"><div class=\"lcJF1d Q6Xouf G6SP0b\"><div style=\"width:120px;height:66px;position:static\"><img alt=\"\" class=\"h1hFNe\" data-deferred=\"1\" id=\"dimg_5\" src=\"data:image/gif;base64,R0lGODlhAQABAIAAAP///////yH5BAEKAAEALAAAAAABAAEAAAICTAEAOw==\" style=\"width:120px;height:66px\"/></div></div><div><div class=\"BNeawe s3v9rd AP7Wnd\"><div><div class=\"BNeawe s3v9rd AP7Wnd\">Trump, whose tweets as president often drove the agenda in Washington, DC, had almost 90 million followers before he was banned permanently by...<br/><span class=\"r0bn4c rQMQod\">20시간 전</span></div></div></div></div><div class=\"rl7ilb\"></div></div></a></div></div><footer> <div> <div class=\"Gx5Zad xpd EtOod pkphOe BmP5tf\"><div class=\"nMymef MUxGbd lyLwlc\"><a aria-label=\"다음 페이지\" class=\"nBDE1b G5eFlf\" href=\"/search?q=trump&amp;rlz=1C5CHFA_enKR961KR962&amp;biw=1440&amp;bih=796&amp;tbm=nws&amp;ei=dKY-Y77tKYzikPIP6-ul4A0&amp;start=10&amp;sa=N\">다음 &gt;</a></div></div> </div> <div id=\"EOlPnc\"><div class=\"Srfpq\"><div><span class=\"EYqSq unknown_loc\"></span><span class=\"dfB0uf\">강남구 서울특별시</span></div><span>IP 주소 기반</span><span> - </span><a href=\"/url?q=https://support.google.com/websearch%3Fp%3Dws_settings_location%26hl%3Dko&amp;sa=U&amp;ved=0ahUKEwi-96e7q8v6AhUMMUQIHet1CdwQty4IUg&amp;usg=AOvVaw0xNqslaoi8msBCZLztvjbX\">자세히 알아보기</a></div><div><a href=\"/url?q=https://accounts.google.com/ServiceLogin%3Fcontinue%3Dhttps://www.google.com/search%253Fq%253Dtrump%2526rlz%253D1C5CHFA_enKR961KR962%2526biw%253D1440%2526bih%253D796%2526source%253Dlnt%2526tbs%253Dcdr:1,cd_min:10/4/2022,cd_max:10/5/2022%2526tbm%253Dnws%26hl%3Dko&amp;sa=U&amp;ved=0ahUKEwi-96e7q8v6AhUMMUQIHet1CdwQxs8CCFM&amp;usg=AOvVaw3_-rQ4OWY1QpuzG6xAqY-S\">로그인</a></div><div><a class=\"xeDNfc\" href=\"https://www.google.com/preferences?hl=ko&amp;fg=1&amp;sa=X&amp;ved=0ahUKEwi-96e7q8v6AhUMMUQIHet1CdwQ5fUCCFQ\">설정</a><a class=\"xeDNfc\" href=\"https://policies.google.com/privacy?hl=ko&amp;fg=1\">개인정보처리방침</a><a class=\"xeDNfc\" href=\"https://policies.google.com/terms?hl=ko&amp;fg=1\">약관</a></div></div> </footer><script nonce=\"th7cX9Le4c_QQoYmW1x07w\">(function(){var hl='ko';(function(){\n",
      "var f=this||self,g=function(a){return a};\n",
      "var h,k=function(){if(void 0===h){var a=null,b=f.trustedTypes;if(b&&b.createPolicy){try{a=b.createPolicy(\"goog#html\",{createHTML:g,createScript:g,createScriptURL:g})}catch(c){f.console&&f.console.error(c.message)}h=a}else h=a}return h};var p=function(a,b){this.h=a===l&&b||\"\";this.g=m},q=function(a){return a instanceof p&&a.constructor===p&&a.g===m?a.h:\"type_error:Const\"},m={},l={};var t=function(a,b){this.g=b===r?a:\"\"};t.prototype.toString=function(){return this.g+\"\"};var u=function(a){return a instanceof t&&a.constructor===t?a.g:\"type_error:TrustedResourceUrl\"},y=function(){var a={},b=q(new p(l,\"/complete/search\"));if(!v.test(b))throw Error(\"a`\"+b);var c=b.replace(w,function(e,d){if(!Object.prototype.hasOwnProperty.call(a,d))throw Error(\"b`\"+d+\"`\"+b+\"`\"+JSON.stringify(a));e=a[d];return e instanceof p?q(e):encodeURIComponent(String(e))});return x(c)},w=/%{(\\w+)}/g,v=RegExp(\"^((https:)?//[0-9a-z.:[\\\\]-]+/|/[^/\\\\\\\\]|[^:/\\\\\\\\%]+/|[^:/\\\\\\\\%]*[?#]|about:blank#)\",\"i\"),z=/^([^?#]*)(\\?[^#]*)?(#[\\s\\S]*)?/,r={},x=function(a){var b=k();a=b?b.createScriptURL(a):a;return new t(a,r)},A=function(a,b,c){if(null==c)return b;if(\"string\"===typeof c)return c?a+encodeURIComponent(c):\"\";for(var e in c)if(Object.prototype.hasOwnProperty.call(c,e)){var d=c[e];d=Array.isArray(d)?d:[d];for(var n=0;n<d.length;n++){var P=d[n];null!=P&&(b||(b=a),b+=(b.length>a.length?\"&\":\"\")+encodeURIComponent(e)+\"=\"+encodeURIComponent(String(P)))}}return b};var B={},C=function(a,b){this.g=b===B?a:\"\"};C.prototype.toString=function(){return this.g.toString()};var D=function(a){var b=k();a=b?b.createHTML(a):a;return new C(a,B)};function E(a,b){if(void 0!==a.tagName){if(\"script\"===a.tagName.toLowerCase())throw Error(\"c\");if(\"style\"===a.tagName.toLowerCase())throw Error(\"d\");}a.innerHTML=b instanceof C&&b.constructor===C?b.g:\"type_error:SafeHtml\"};var F=document.querySelector(\".l\"),G=document.querySelector(\"#sf\"),H=G.querySelector(\".sbc\"),I=G.querySelector(\"[type=text]\"),J=G.querySelector(\"[type=submit]\"),K=G.querySelector(\".sc\"),L=G.querySelector(\".x\"),M=I.value,N=[],O=-1,Q=M,R,S,T;M||(L&&(L.style.display=\"none\"),U(!1));function U(a){if(H.classList.contains(\"esbc\")){var b=H.classList.contains(\"chsbc\"),c=H.classList.contains(\"rtlsbc\");a&&(K.style.display=\"block\",b?(G.style.borderRadius=\"20px 20px 0 0\",K.style.borderBottom=\"1px solid #DFE1E5\",J.style.borderRadius=c?\"20px 0 0 0\":\"0 20px 0 0\"):H.style.borderRadius=c?\"0 8px 0 0\":\"8px 0 0 0\");a||(K.style.display=\"none\",b?(G.style.borderRadius=\"20px\",K.style.borderBottom=\"none\",J.style.borderRadius=c?\"20px 0 0 20px\":\"0 20px 20px 0\"):H.style.borderRadius=c?\"0 8px 8px 0\":\"8px 0 0 8px\")}}function V(){G.querySelector(\"[name=oq]\").value=Q;G.querySelector(\"[name=aqs]\").value=\"heirloom-srp.\"+(0<=O?O:\"\")+\".\"+(0<N.length?\"0l\"+N.length:\"\")}\n",
      "function W(){R=null;if(S){var a={client:\"heirloom-srp\",hl:hl,json:\"t\",callback:\"hS\",q:S};\"undefined\"!==typeof ds&&ds&&(a.ds=ds);var b=document;var c=\"SCRIPT\";\"application/xhtml+xml\"===b.contentType&&(c=c.toLowerCase());c=b.createElement(c);b=y();b=z.exec(u(b).toString());var e=b[3]||\"\";a=x(b[1]+A(\"?\",b[2]||\"\",a)+A(\"#\",e));c.src=u(a);var d,n;(d=(a=null==(n=(d=(c.ownerDocument&&c.ownerDocument.defaultView||window).document).querySelector)?void 0:n.call(d,\"script[nonce]\"))?a.nonce||a.getAttribute(\"nonce\")||\n",
      "\"\":\"\")&&c.setAttribute(\"nonce\",d);document.body.appendChild(c);S=null;R=setTimeout(W,500)}}function X(){for(;K.firstChild;)K.removeChild(K.firstChild);N=[];O=-1;U(!1)}function Y(){var a=K.querySelector(\".scs\");a&&(a.className=\"\");0<=O?(a=K.childNodes[O],a.className=\"scs\",M=a.textContent):M=Q;I.value=M}I.addEventListener(\"focus\",function(){F&&(F.style.display=\"none\")},!1);I.addEventListener(\"blur\",function(){X();F&&(F.style.display=\"\")},!1);I.addEventListener(\"keyup\",function(a){M=I.value;T=!1;13===a.which?V():27===a.which?(X(),F&&(F.style.display=\"\"),M=Q,I.value=M):40===a.which?(O++,O>=N.length&&(O=-1),Y()):38===a.which?(O--,-1>O&&(O=N.length-1),Y()):(a=M)?(L&&(L.style.display=\"\"),S=a,R||W(),Q=a):(L&&(L.style.display=\"none\"),U(!1),X(),Q=\"\",T=!0)},!1);J.addEventListener(\"click\",V,!1);L.addEventListener(\"click\",function(){I.value=\"\";L.style.display=\"none\";U(!1)},!1);H.addEventListener(\"click\",function(){I.focus()},!1);window.hS=function(a){if(!T){X();0===a[1].length&&U(!1);for(var b=0;b<a[1].length;b++){var c=a[1][b][0],e=document.createElement(\"div\");E(e,D(c));e.addEventListener(\"mousedown\",function(d){d.preventDefault();return!1},!1);c=c.replace(/<\\/?b>/g,\"\");e.addEventListener(\"click\",function(d){return function(){O=d;V();Y();X();G.submit()}}(b),!1);e.addEventListener(\"mouseover\",function(d){return function(){O!==d&&(O=d,Y())}}(b),!1);K.appendChild(e);U(!0);N.push(c)}}};}).call(this);})();(function(){\n",
      "function b(a){for(a=a.target||a.srcElement;a&&\"A\"!==a.nodeName;)a=a.parentElement;a&&(a.href||\"\").match(/\\/search.*[?&]tbm=isch/)&&(a.href+=\"&biw=\"+document.documentElement.clientWidth,a.href+=\"&bih=\"+document.documentElement.clientHeight)}document.addEventListener(\"click\",b,!1);document.addEventListener(\"touchStart\",b,!1);}).call(this);</script></div><!-- cctlcm 5 cctlcm --><textarea class=\"csi\" name=\"csi\" style=\"display:none\"></textarea><script nonce=\"th7cX9Le4c_QQoYmW1x07w\">(function(){var e='dKY-Y77tKYzikPIP6-ul4A0';var sn='newssearch';var timl=false;var gecoh=true;(function(){\n",
      "function y(a){var b=gecoh;if(!a||z(a))return 0;if(!a.getBoundingClientRect)return 1;var c=function(d){return d.getBoundingClientRect()};return A(a,c,b)?0:K(a,c)}function A(a,b,c){a:{for(var d=a;d&&null!==d;d=d.parentElement)if(\"hidden\"===d.style.overflow||c&&\"G-EXPANDABLE-CONTENT\"===d.tagName&&\"hidden\"===getComputedStyle(d).getPropertyValue(\"overflow\")){c=d;break a}c=null}if(!c)return!1;a=b(a);b=b(c);return a.bottom<b.top||a.top>=b.bottom||a.right<b.left||a.left>=b.right}\n",
      "function z(a){return\"none\"===a.style.display?!0:document.defaultView&&document.defaultView.getComputedStyle?(a=document.defaultView.getComputedStyle(a),!!a&&(\"hidden\"===a.visibility||\"0px\"===a.height&&\"0px\"===a.width)):!1}\n",
      "function K(a,b){var c=b(a);a=c.left+window.pageXOffset;b=c.top+window.pageYOffset;var d=c.width;c=c.height;var g=0;if(0>=c&&0>=d)return g;var p=window.innerHeight||document.documentElement.clientHeight;0>b+c?g=2:b>=p&&(g=4);if(0>a+d||a>=(window.innerWidth||document.documentElement.clientWidth))g|=8;g||(g=1,b+c>p&&(g|=4));return g};var L=e,M=sn,N=\"undefined\"===typeof de?!0:!1!==de,O=[];function P(a,b,c){a=\"/gen_204?atyp=csi&s=\"+(M||\"web\")+\"&t=\"+a+(\"&lite=1&ei=\"+L+\"&conn=\"+(window.navigator&&window.navigator.connection?window.navigator.connection.type:-1)+b);b=\"&rt=\";for(var d in c)a+=\"\"+b+d+\".\"+c[d],b=\",\";return a}function Q(a){a={prt:a};window.wsrt&&(a.wsrt=window.wsrt);return a}function R(a){window.ping?window.ping(a):(new Image).src=a}\n",
      "(function(){for(var a=(new Date).getTime()-window.start,b=Q(a),c=0,d=0,g=0,p=document.getElementsByTagName(\"img\"),q=N?\"&biw=\"+window.innerWidth+\"&bih=\"+window.innerHeight:\"\",S=function(h,r){h.onload=function(){d=(new Date).getTime()-window.start;r&&++u==g&&(c=d,B());h.onload=null}},B=function(){q+=\"&ima=\"+g;b.aft=c;R(P(\"aft\",q,b))},u=0,T=0,f=void 0;f=p[T++];){var t=y(f),n=!!(t&1);n&&++g;var l=f.hasAttribute(\"data-ilite\"),v=f.hasAttribute(\"data-deferred\")||l,C=f.getAttribute(\"data-src\")||f.getAttribute(\"data-lzysrc\"),D=!v&&C;O.push([t,v,D,google.ldi&&f.id&&google.ldi[f.id]||l&&C]);l=(t=f.complete&&(l||!v&&!(n&&D)))&&Number(f.getAttribute(\"data-iml\"))||0;t&&l?(n&&++u,l&&(f=l-window.start,n&&(c=Math.max(c,f)),d=Math.max(d,f))):S(f,n)}c||(c=a);d||(d=c);u==g&&B();google.rglh&&google.rglh();window.addEventListener(\"load\",function(){window.setTimeout(function(){b.ol=(new Date).getTime()-window.start;timl&&(b.iml=d);var h=window.performance&&window.performance.timing;h&&(b.rqst=h.responseEnd-h.requestStart,b.rspt=h.responseEnd-\n",
      "h.responseStart);for(var r=h=0,E=0,F=0,G=0,H=0,U=0,k;k=O[U++];){var m=k[0],w=k[1],I=k[2];k=k[3];var V=0==m,x=m&8,J=m&4;(m=1==m||2==m||x&&!J)&&!x&&(w&&!k||++E,I&&++H);w&&(m&&k&&++h,J&&!k&&++r);V||x?I||++G:w||++F}q+=\"&ime=\"+E+\"&imel=\"+H+(\"&imex=\"+F+\"&imeh=\"+G)+(\"&imea=\"+h+\"&imeb=\"+r);R(P(\"all\",q,b))},0)},!1)})();}).call(this);})();</script><script nonce=\"th7cX9Le4c_QQoYmW1x07w\">\n",
      "window._setImagesSrc=function(e,f){function g(b){b.onerror=function(){b.style.display=\"none\"};b.setAttribute(\"data-deferred\",\"2\");b.src=f}for(var c=0;c<e.length;++c){var a=e[c],d=document.getElementById(a)||document.querySelector('img[data-iid=\"'+a+'\"]');d?(a=void 0,(null==(a=google.c)?0:a.setup)&&google.c.setup(d),g(d)):(google.iir=google.iir||{},google.iir[a]=f)}};\"undefined\"===typeof window.google&&(window.google={});</script><script nonce=\"th7cX9Le4c_QQoYmW1x07w\">(function(){var s='data:image/jpeg;base64,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';var i=['dimg_15'];_setImagesSrc(i,s);})();</script><script nonce=\"th7cX9Le4c_QQoYmW1x07w\">(function(){var s='data:image/jpeg;base64,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\\x3d\\x3d';var i=['dimg_17'];_setImagesSrc(i,s);})();</script><script nonce=\"th7cX9Le4c_QQoYmW1x07w\">(function(){var s='data:image/jpeg;base64,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\\x3d\\x3d';var i=['dimg_9'];_setImagesSrc(i,s);})();</script><script nonce=\"th7cX9Le4c_QQoYmW1x07w\">(function(){var s='data:image/jpeg;base64,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\\x3d\\x3d';var i=['dimg_7'];_setImagesSrc(i,s);})();</script><script nonce=\"th7cX9Le4c_QQoYmW1x07w\">(function(){var s='data:image/jpeg;base64,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';var i=['dimg_13'];_setImagesSrc(i,s);})();</script><script nonce=\"th7cX9Le4c_QQoYmW1x07w\">(function(){var s='data:image/jpeg;base64,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\\x3d\\x3d';var i=['dimg_1'];_setImagesSrc(i,s);})();</script><script nonce=\"th7cX9Le4c_QQoYmW1x07w\">(function(){var s='data:image/jpeg;base64,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\\x3d';var i=['dimg_11'];_setImagesSrc(i,s);})();</script><script nonce=\"th7cX9Le4c_QQoYmW1x07w\">(function(){var s='data:image/jpeg;base64,/9j/4AAQSkZJRgABAQAAAQABAAD/2wCEAAkGBwgHBgkIBwgKCgkLDRYPDQwMDRsUFRAWIB0iIiAdHx8kKDQsJCYxJx8fLT0tMTU3Ojo6Iys/RD84QzQ5OjcBCgoKDQwNGg8PGjclHyU3Nzc3Nzc3Nzc3Nzc3Nzc3Nzc3Nzc3Nzc3Nzc3Nzc3Nzc3Nzc3Nzc3Nzc3Nzc3Nzc3N//AABEIAEIAdwMBIgACEQEDEQH/xAAcAAABBAMBAAAAAAAAAAAAAAAAAQMEBQIGBwj/xAA2EAABAwIFAgIGCQUAAAAAAAABAAIDBBEFBhIhMRNBUWEUIjJxgZEHQkODsbLB0eEzNTZSdf/EABkBAAMBAQEAAAAAAAAAAAAAAAABAwUCBP/EACIRAQEAAgEDBAMAAAAAAAAAAAABAhExAyEyEkFRkQUTIv/aAAwDAQACEQMRAD8A4chCEAIQhAZMbqNlIADdgo7CQ4e9SDyg4cZclTIHEWUeMaWhOwvLZBtsuKri3TKtMyombI+Q2Fie1l02iDWttYXA2XKcEqZIHB8MbngD6o4W/Zfrn1UcpkZI1zWg6iNlKvXhJps2oOZYgWPitUzNgMeKQS08gN9N2PA4/hXQqIoZmdR4cx1w3fwt+6fpqmnqpbsJLRcE+CMdyl1cZY801ULqeplheLOje5hHmDZMq5za0Nx+s0t0nquDh5g2P7/FU69DPpEIQgBCEIASpEqAFJb2KjKS0eq33IOcpER23Tmw42TETtlnqsUqrG05cddtpeqI7/Zgkn4BbFmCWpw7C4qihjrIOqdIdLZoA77Dna6ocqSQxy+s9+hwGwPsm6vc8VbJMOhHpL3aDdjHHyNypdt6enGXW0/KtSMZwT0Z7muqoL3Lhcm/f5q/wzDKymBkkxN0sQuBBp4/lc++jmoDcVlDnhhMdyCeV1phYYJJGua6wsbdiudaU8pK865lf1MTnL/b1knxuqdWmZZC/HsRHAbUyNA8g4j9FVq84Z2XNIhKhNyRCEIBUIQgBS43WY3bYgfNRE9E8W0uNrcIOXSZJGGuL4/WaWi5H1VhbzWQlLGFtwQ4brEGySvapdDLJDK18ZOxW24lS0tXhMVVU1MjJD6oYANxyStOppNLwRv5LbcWo4ZcOpqjrPs0aOm0XLj3spZcvT07/NO5JosOpfSMQr3NLG7Rvl7e/suiYRiFFXUjn4ZLHJC8dNxYLC4429wWpZUr8Ldg8tLDJWve4Fj6YTCPsADsAebm91Y5Hw1+C4VpkDS97y51natVu90spNbVw3O2uzk+bo+lmbE22teoc757/qqdX+erHNmJEcdRv5WqgKtOGbn5UIQhNyRCdDAswxPQMIUjSEhZ4J+kGEqc072SaTfhLQLB/UAPBUtots74JiGJ732YxziBc6Rew8VPhjMjLAEnwsn6dusboxG2zuVdYfivRmibU3dFH7IHY3vdVLm6DY3Fk7BGah4ZGC5x4spZT5ejC/Do2Evw+qm6vSg0Bu7wwE3HclbC2rpxBqilbxa3+tuVoeDZfq3TRxxxSyyu+zi5J87cIz3FiGXhFhjwyJ9RB1ZQx2pzWkuAbf4JfrtXy60xndq+PVMGI5grayMao5JfU8CAAB+CZEoaNgB7goTHWKyL1SRn27u0z0h1+Uihh6VMjbVk/gIQqexEHKVvZKhAZkDTewusEITyNcZU/u33LvxC2WoABNgAhCph4guYoIjlaScxMMzS0NkLRqG44Kz+jump34ZPO+CJ0rHnTIWAubt2KEKPV8mp+Nm+r9vQ1LGyOFvTY1upoJ0i19lwb6cf8wZ/z4/zyoQu8Pdl3ly0coKEKAIhCEB//9k\\x3d';var i=['dimg_3'];_setImagesSrc(i,s);})();</script><script nonce=\"th7cX9Le4c_QQoYmW1x07w\">(function(){var s='data:image/jpeg;base64,/9j/4AAQSkZJRgABAQAAAQABAAD/2wCEAAkGBwgHBgkIBwgKCgkLDRYPDQwMDRsUFRAWIB0iIiAdHx8kKDQsJCYxJx8fLT0tMTU3Ojo6Iys/RD84QzQ5OjcBCgoKDQwNGg8PGjclHyU3Nzc3Nzc3Nzc3Nzc3Nzc3Nzc3Nzc3Nzc3Nzc3Nzc3Nzc3Nzc3Nzc3Nzc3Nzc3Nzc3N//AABEIAEIAeAMBIgACEQEDEQH/xAAcAAABBQEBAQAAAAAAAAAAAAAGAAMEBQcCAQj/xABAEAACAQMCAwQGBgYLAQAAAAABAgMABBEFIQYSMRNBUWEHIjJxkaEUI3KBscEVQlJiwuEWJCY2U3SCkrLR8DX/xAAaAQACAwEBAAAAAAAAAAAAAAAEBQACAwEG/8QAKBEAAgIBAgUCBwAAAAAAAAAAAAECEQMEIRITMTNBMjQFIlFxcsHR/9oADAMBAAIRAxEAPwCNyV0E8qfCeVehKaCsr7+5isLftpgSuQAF6kmqBOK4UlIuUwOXIVSCR9/fUy70C54g4ma2lcpbQxoRKB7Ct1A8yQfhRpPwFwzYWBEWnmVmHrNK7MfjS7Pq3GdLwMsGkU4JvyD2nX1rqMPa2kivjZl71PmKlclDN3aW3DvEVlLYh0jun7GSLmyuDgA7+dF/JReDLzY2CajFyp0Ruz8qNPR4vLFqH2o/wahTkox4AUdnf5/aj/Bqtl9JTF6gqpEhQWYgAd5rsKKruIJjb2SFerSAfifyoKc+GLYdGDk0jjUtYisV2jMjZ9nOKhJxPGFRp4Qiv0w/SqvVr2BYuaZuVyPVGOpoNmuXlmblLLy775xQK1M5MPekjFGv2t1b3ic1vKrjvwelSOQ0F8BykTtE7jtOTmZcd22KNSxo2E3JWAzgoujnlApV4TmlV9ymxl/YZ2FeGEqdlzVgQndmuVGMnuonjYK4lfF9KtpZ5bKFJJ3RBhjjpzeR8fClfXHEE1paRm5hguJWfnRFDdMEAFsDOOvSnr6aSIRyIVUq2Mnpv40J69e3Cajb3caamYrY+vGezEUjEDBXLZ322wc91K88W8rHOla5KKziqK9tDG2oTRPepKJQEHsAEEZ8f/daOEUNEhIwxUFh4GgDU3mudeRrgmZpChaNiAVGAxUkeAPXzrRLGWDU7SO8snEkEoyrD5/OitJstwHWq5bIa5KLeBhyx3v2k/iodaMLtRLwYuI7z3p/FRGSScaBccWpWEpaoOtQNNZcysR2TrIcDqAd/lmp64rs8rKVPQjBoWatNBsJVJSMwv8ATtUuby5uJ7vkto43MSRRquGxtvnJPngUM6fbz8sby38sxc8jdowO+/lkfHxo31m07O8urVklmIj9XlkZOVT3+r47fA0BxwtY3PaSRtGiOBgsWLHPee/30shs2mPJ04proHPD1lJacW2tu2HKW7SPIvQbFQPeaPjQNoOsW1vrNi97bCJtWieK3uSxxzRkfVnuGc7HvIIo5pljjURLnlczmlSr2tbMDOXjwOtJU3HMcDxrpgD7Tge/ambh+whmmYZjiiaQnI7v5Vd5FFbmaxuTpItNKttNv7t7GVlk9X6xOpweg8s0NcUaVqthcTnTLS2mggwiXUsQZ0UjIGepA6Z26UGcAyahxL6R7e4gkkiD3YunK/qpGD8uU8n+qjr0rcQx6NOdK0W5kivpE/rbxtgxIw9nP7TdfIe8YHklN3IKxycFSMq1KSUSzRNOZZZD/WJzj1v3R4Du+6nOHuIL3Q5j9FcyWrtzPbufVJ8R+yfP5Gq2X2Aq4A7gK8wI0LN0Hd41LroVavqa9ofEWnayAtvLyT4y0Egww93cR7qOeESCl3jxT86+YVmuo5kuIXMJRuZGGeZSO+tW07jS7uPR3qN3ZyNbams0EEkiLjc85yuemVU+7O1acdqjPl09jUtc4m0Xh8D9K38cLkZEQBeQj7Kgn7+lAus+l+BWMWhac0x/x7puVR5hBufvIrKGkaaYySuzvL6xdzksT3k95pmJeWRkbuORXaLUabwlqWpcW61qNvd37C9lte0tnA5UXkJBTA2wecb7+z35ORy1j7fW0tNUu1ijeT1bktzRsemzDbfuPSnfRy/9sLGAvyi6WSFvNSpYjy2U0W2EenTccRRJZxJBIriAKvsMDnYeJAahsmOPMT+o10fFPDPr8qsHPTFO0NzpGmoMW9vC+FPfnlG/wNClpxhxLaoI7fXdRVB0DTs3/LNEnpmwOMEtlwBBZxKQv6pJY4+BWg69nF1IJfo9vAVjC8tvHyqSM7kZO/jRV2K2gs0v0p8VWUwNzdxX8XfHcQKvwZAp+OaVBUeBGWpVNjlBBFqAnnJeaedVBC+sfzqy4su9Ug4OthPprWcF0RBBJK+WlUDJIU7gYHXzoJhmEwyGw2dyDg0Rw6vqvGPEXD+m61cm9ihuViTtFGSkjoGBIG+wxvvQ3CaJ1ug84cSH0ZcB/pa4jB13VlAt4pBui9QCPAA87eZC9wrLbu5muZ5J7mRpriVi7yOd2Y7kmiP0p8QNrPGV7yyBrWyb6LAB0HL7Z95fm+4DwoPebl35hmrHBxikY55DUeW5589mNh1YnAqG7tNOvN0zsKnpyKuRGObyGahCMOY+vzk+ZJA/CiPQpn/opqUJmKvJqFu3J15lWOXPwLL8aH52djmQhT3A7n/qrfSWI0SYsxIN2MMR3hDt86tHqcY05IKHvVsU/Kv1iuO8YNR2YPIwHkfn/Oi3g7h2LiK4n+kzvDaWyAuyYBJJOBk7DofhV5TUVbLRi5PhRU6HqH6M1iyvidoJ1ZvIHY/LNG9vMLO/03USdoXjZj5Z3+Wattc4e0LSeDtQt/r47Zh2hbmyzPty9evQbDzoZs5fpvD1o8m5aAK3vGx/Cgc2XjqUfB6L4NipzxS8r+op/SVMLrj3WpQcjtwn+xFT+GhRmDR58d6MLTR/6Safd3CiYagZn7W5ILIWbcAgdO/cdPPYUHTgw5SVSjoeVlPVSNiDR0Jp7LwednBx6+Rok/RgPFhSrhWJ5FAy3PnFKo2URG9m6lC7AOcAd29Ffo8/vvo3+ZT86VKskWBoMzKrMxLEAkk7k4pp69pVCEcbMMU/kiAkHB5RuK9pVCEjlUW6EKASu5x1qXAzLw4SGIzfHof3BSpV1dSDMG0pxt6p/KtU9Ef/AM/UG7y67+4HFeUqz1HaZvpO8h30l/WaDE7+s4vcBjuQOQ1RcNH+zkX2n/E0qVCv26+49+F++l+P7Rd8As0WjoY2KFriQsVOM7L1oO43AXijUOUAesh28eRTSpUdi7jEWbtoHyfXY+6lSpUQCn//2Q\\x3d\\x3d';var i=['dimg_5'];_setImagesSrc(i,s);})();</script><script nonce=\"th7cX9Le4c_QQoYmW1x07w\">(function(){var e='dKY-Y77tKYzikPIP6-ul4A0';(function(){\n",
      "var a=e;2===(window.performance&&window.performance.navigation&&window.performance.navigation.type)&&window.ping(\"/gen_204?ct=backbutton&ei=\"+a);}).call(this);})();(function(){\n",
      "var b=[function(){google.tick&&google.tick(\"load\",\"dcl\")}];google.dclc=function(a){b.length?b.push(a):a()};function c(){for(var a=b.shift();a;)a(),a=b.shift()}window.addEventListener?(document.addEventListener(\"DOMContentLoaded\",c,!1),window.addEventListener(\"load\",c,!1)):window.attachEvent&&window.attachEvent(\"onload\",c);}).call(this);\n",
      "window.jsl=window.jsl||{};window.jsl.dh=function(a,b,f){try{var g=document.getElementById(a);if(g)g.innerHTML=b,f&&f();else{var c={id:a,script:String(!!f),milestone:String(google.jslm||0)};google.jsla&&(c.async=google.jsla);var h=a.indexOf(\"_\"),d=0<h?a.substring(0,h):\"\",k=document.createElement(\"div\");k.innerHTML=b;var e=k.children[0];if(e&&(c.tag=e.tagName,c[\"class\"]=String(e.className||null),c.name=String(e.getAttribute(\"jsname\")),d)){a=[];var l=document.querySelectorAll('[id^=\"'+d+'_\"]');for(b=0;b<l.length;++b)a.push(l[b].id);c.ids=a.join(\",\")}google.ml(Error(d?\"Missing ID with prefix \"+d:\"Missing ID\"),!1,c)}}catch(m){google.ml(m,!0,{\"jsl.dh\":!0})}};(function(){var x=false;\n",
      "google.jslm=x?2:1;})();(function(){(function(){google.csct={};google.csct.ps='AOvVaw0ms9YRpSRNw27Hj3EPL19b\\x26ust\\x3d1665136628714461';})();})();(function(){(function(){google.csct.rd=true;})();})();(function(){(function(){google.csct.rl=true;})();})();google.drty&&google.drty(undefined,true);</script></body></html>\n"
     ]
    }
   ],
   "source": [
    "root = \"https://www.google.com/\"\n",
    "link = \"https://www.google.com/search?q=trump&rlz=1C5CHFA_enKR961KR962&biw=1440&bih=796&source=lnt&tbs=cdr%3A1%2Ccd_min%3A10%2F4%2F2022%2Ccd_max%3A10%2F5%2F2022&tbm=nws\"\n",
    "req = Request(link, headers = {'User-Agent': 'Mozilla/5.0'})\n",
    "webpage = urlopen(req).read()\n",
    "with requests.Session() as c:\n",
    "    soup = BeautifulSoup(webpage, 'lxml')\n",
    "    print(soup)\n",
    "    for item in soup.find_all('div', attrs={'class':'h1hFNe'}):\n",
    "        print(item)\n",
    "\n",
    "\n"
   ]
  },
  {
   "cell_type": "code",
   "execution_count": null,
   "metadata": {},
   "outputs": [],
   "source": []
  }
 ],
 "metadata": {
  "kernelspec": {
   "display_name": "Python 3.9.5 64-bit",
   "language": "python",
   "name": "python3"
  },
  "language_info": {
   "codemirror_mode": {
    "name": "ipython",
    "version": 3
   },
   "file_extension": ".py",
   "mimetype": "text/x-python",
   "name": "python",
   "nbconvert_exporter": "python",
   "pygments_lexer": "ipython3",
   "version": "3.9.5"
  },
  "orig_nbformat": 4,
  "vscode": {
   "interpreter": {
    "hash": "397704579725e15f5c7cb49fe5f0341eb7531c82d19f2c29d197e8b64ab5776b"
   }
  }
 },
 "nbformat": 4,
 "nbformat_minor": 2
}
