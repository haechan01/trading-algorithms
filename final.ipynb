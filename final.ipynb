{
 "cells": [
  {
   "cell_type": "code",
   "execution_count": 38,
   "metadata": {},
   "outputs": [],
   "source": [
    "import pandas_datareader as pdr\n",
    "import datetime\n",
    "from matplotlib import pyplot as plt\n",
    "import numpy as np\n",
    "import pandas as pd\n",
    "import pandas_ta as ta\n",
    "import nltk\n",
    "from xmlrpc.client import Boolean"
   ]
  },
  {
   "cell_type": "code",
   "execution_count": 39,
   "metadata": {},
   "outputs": [],
   "source": [
    "def macd_strategy(symbol, start, end):\n",
    "    \"\"\" Backtesting simulation of macd strategy\n",
    "    Parameters:\n",
    "    symbol (str): symbol of a stock\n",
    "    start (datetime): starting date of the backtest\n",
    "    end (datetime): last date of the backtest\n",
    "\n",
    "    Returns:\n",
    "    Dataframe that includes the total amound of asset when using the strategy and drawdown of the strategy. \n",
    "    \"\"\"\n",
    "    #get data\n",
    "    price = pdr.get_data_yahoo(symbol, start, end)\n",
    "    price = price.drop(['Volume', 'Adj Close'], 1)\n",
    "\n",
    "    #macd calculations\n",
    "    exp1 = price.Close.ewm(span = 12, adjust=False).mean()\n",
    "    exp2 = price.Close.ewm(span = 26, adjust=False).mean()\n",
    "    macd = exp1 - exp2\n",
    "    signal = macd.ewm(span = 9, adjust=False).mean()\n",
    "\n",
    "    #add column for entries\n",
    "    price['Long'] = macd > signal\n",
    "    # profit calculation for MACD\n",
    "    money = 10000\n",
    "    exchange = 0\n",
    "    wins= 0\n",
    "    asset = [10000]\n",
    "    numb=0\n",
    "    drawdowns = [0]\n",
    "    difference = []\n",
    "    for i in range(1, len(price)):\n",
    "        \n",
    "        if price['Long'][i] == True:\n",
    "            #buys if macd is above signal and not bought yet\n",
    "            if numb==0:\n",
    "                buy = price['Close'][i]\n",
    "                numb = money//buy\n",
    "                money-=numb*buy\n",
    "            # continue if already bought\n",
    "            else:\n",
    "                asset.append(money + (price['Close'][i]*numb))\n",
    "                drawdowns.append(((money + (price['Close'][i]*numb))-max(asset))/max(asset))\n",
    "                continue\n",
    "        else:\n",
    "            #sell if macd is bellow signal line and didn't sell the stocks yet\n",
    "            if numb!=0 : \n",
    "                sell = price['Close'][i]\n",
    "                money += (sell)*numb\n",
    "                exchange +=1\n",
    "                if sell>buy:\n",
    "                    wins +=1\n",
    "                difference.append(sell-buy)\n",
    "                numb=0\n",
    "            else: \n",
    "                #continue if already sold\n",
    "                asset.append(money + (price['Close'][i]*numb))\n",
    "                drawdowns.append(((money + (price['Close'][i]*numb))-max(asset))/max(asset))\n",
    "                continue\n",
    "        \n",
    "        asset.append(money + (price['Close'][i]*numb))\n",
    "        drawdowns.append(((money + (price['Close'][i]*numb))-max(asset))/max(asset))\n",
    "    price['MACD']=asset\n",
    "    price['DD']=drawdowns\n",
    "\n",
    "    STARTING_BALANCE = 10000\n",
    "    #daily return\n",
    "    price['Return'] = price.Close / price.Close.shift(1)\n",
    "    price.Return.iat[0] = 1\n",
    "    price['Bench_Bal'] = STARTING_BALANCE * price.Return.cumprod()\n",
    "    #calculate drawdown\n",
    "    price['Bench_Peak'] = price.Bench_Bal.cummax()\n",
    "    price['Bench_DD'] = price.Bench_Bal - price.Bench_Peak\n",
    "\n",
    "    bench_dd = round((price.Bench_DD / price.Bench_Peak).min() * 100, 2)\n",
    "    #print(\"win rate:\", wins/exchange)\n",
    "    print(\"strategy maximum drawdown\", min(price['DD']))\n",
    "    print(\"benchmarck maximum drawdwon\", bench_dd)\n",
    "    return price\n",
    "    \n",
    "    "
   ]
  },
  {
   "cell_type": "code",
   "execution_count": 40,
   "metadata": {},
   "outputs": [],
   "source": [
    "\n",
    "def rsi_strategy(symbol, start, end):\n",
    "    \"\"\" Backtesting simulation of rsi strategy\n",
    "    Parameters:\n",
    "    symbol (str): symbol of a stock\n",
    "    start (datetime): starting date of the backtest\n",
    "    end (datetime): last date of the backtest\n",
    "\n",
    "    Returns:\n",
    "    Dataframe that includes the total amound of asset when using the strategy and drawdown of the strategy. \n",
    "    \"\"\"\n",
    "    #get data\n",
    "    price = pdr.get_data_yahoo(symbol, start, end)\n",
    "    price = price.drop(['Volume', 'Adj Close'], 1)\n",
    "    rsi = price.ta.rsi(close='Close', length=14, append=True, signal_indicators = True, xa=70, xb=30)\n",
    "    RSIs=[]\n",
    "    for i in price['RSI_14_B_30']:\n",
    "        RSIs.append(Boolean(i))\n",
    "    RSI= pd.Series(RSIs)\n",
    "    # profit calculation for RSI\n",
    "    money = 10000\n",
    "    exchange = 0\n",
    "    wins= 0\n",
    "    drawdowns = [0]\n",
    "    asset = [10000]\n",
    "    numb=0\n",
    "    rsi_index = []\n",
    "    for i in range(1, len(price)):\n",
    "        if price['RSI_14_B_30'][i]==1 and numb==0:\n",
    "            rsi_index.append(i)\n",
    "            buy = price['Close'][i]\n",
    "            numb = money//buy\n",
    "            money-=numb*buy\n",
    "            asset.append(money + (price['Close'][i]*numb))\n",
    "            drawdowns.append(((money + (price['Close'][i]*numb))-max(asset))/max(asset))\n",
    "            continue\n",
    "\n",
    "        if price['RSI_14_A_70'][i]==1 and numb !=0:\n",
    "            sell = price['Close'][i]\n",
    "            money += (sell)*numb\n",
    "            exchange +=1\n",
    "            if sell>buy:\n",
    "                wins +=1\n",
    "            numb=0\n",
    "            asset.append(money + (price['Close'][i]*numb))\n",
    "            drawdowns.append(((money + (price['Close'][i]*numb))-max(asset))/max(asset))\n",
    "            continue\n",
    "            \n",
    "        asset.append(money + (price['Close'][i]*numb))\n",
    "        drawdowns.append(((money + (price['Close'][i]*numb))-max(asset))/max(asset))\n",
    "\n",
    "        \n",
    "    price['RSI_strategy'] = asset\n",
    "    price['DD']=drawdowns\n",
    "    print(\"strategy maximum drawdown\", min(price['DD']))\n",
    "    return price\n",
    "\n"
   ]
  },
  {
   "cell_type": "code",
   "execution_count": 41,
   "metadata": {},
   "outputs": [],
   "source": [
    "\n",
    "\n",
    "def bollinger_band_strategy(symbol, start, end):\n",
    "    \"\"\" Backtesting simulation of bollinger strategy\n",
    "    Parameters:\n",
    "    symbol (str): symbol of a stock\n",
    "    start (datetime): starting date of the backtest\n",
    "    end (datetime): last date of the backtest\n",
    "\n",
    "    Returns:\n",
    "    Dataframe that includes the total amound of asset when using the strategy and drawdown of the strategy. \n",
    "    \"\"\"\n",
    "    def get_sma(prices, rate):\n",
    "        return prices.rolling(rate).mean()\n",
    "    price = pdr.DataReader(symbol, 'yahoo', start, end)\n",
    "    closing_prices = price['Close'] \n",
    "    ma = get_sma(closing_prices, 20)\n",
    "    def get_bollinger_bands(prices, rate=20):\n",
    "        sma = get_sma(prices, rate)\n",
    "        std = prices.rolling(rate).std()\n",
    "        bollinger_up = sma + std * 2 # Calculate top band\n",
    "        bollinger_down = sma - std * 2 # Calculate bottom band\n",
    "        return bollinger_up, bollinger_down\n",
    "\n",
    "    bollinger_up, bollinger_down = get_bollinger_bands(closing_prices)\n",
    "\n",
    "    # backtrading for bollinger bands\n",
    "    money = 10000\n",
    "    exchange = 0\n",
    "    wins= 0\n",
    "    asset = [10000]\n",
    "    numb=0\n",
    "    bollinger_up, bollinger_down = get_bollinger_bands(price['Close'])\n",
    "\n",
    "    for i in range(1, len(price)):\n",
    "        if bollinger_down[i]:\n",
    "            if price['Close'][i] < bollinger_down[i] and numb==0:\n",
    "                buy = price['Close'][i]\n",
    "                numb = money//buy\n",
    "                money-=numb*buy\n",
    "            elif price['Close'][i] > bollinger_up[i] and numb!=0:\n",
    "                sell = price['Close'][i]\n",
    "                money += (sell)*numb\n",
    "                exchange +=1\n",
    "                if sell>buy:\n",
    "                    wins +=1\n",
    "                numb=0\n",
    "            else:\n",
    "                asset.append(money + (price['Close'][i]*numb))\n",
    "                continue\n",
    "        else:\n",
    "            asset.append(money + (price['Close'][i]*numb))\n",
    "            continue\n",
    "        asset.append(money + (price['Close'][i]*numb))\n",
    "\n",
    "    price['Bollinger'] = asset\n",
    "    return price\n",
    "\n"
   ]
  },
  {
   "cell_type": "code",
   "execution_count": 42,
   "metadata": {},
   "outputs": [],
   "source": [
    "# profit calculation for volatility breakout strategy\n",
    "def breakout_strategy(symbol, start, end,k):\n",
    "    \"\"\" Backtesting simulation of vollatility breakout strategy\n",
    "    Parameters:\n",
    "    symbol (str): symbol of a stock\n",
    "    start (datetime): starting date of the backtest\n",
    "    end (datetime): last date of the backtest\n",
    "    k (float): k is a number between 0 and 1. The strategy will buy when today's price increases by (yesterday's vollatility) * k\n",
    "\n",
    "    Returns:\n",
    "    Dataframe that includes the total amound of asset when using the strategy and drawdown of the strategy. \n",
    "    \"\"\"\n",
    "    price = pdr.get_data_yahoo(symbol, start, end)\n",
    "    price = price.drop(['Volume', 'Adj Close'], 1)\n",
    "    money = 10000\n",
    "    exchange = 0\n",
    "    wins= 0\n",
    "    asset = [10000]\n",
    "    numb=0\n",
    "    profit=0\n",
    "    for i in range( len(price)-1):\n",
    "        volatility = abs(price['High'][i-1]-price['Low'][i-1])\n",
    "        k=0.3\n",
    "        if price['High'][i]>price['Open'][i]+(volatility*k):\n",
    "            buy = price['Open'][i]+(volatility*k)\n",
    "            numb = money//buy\n",
    "            sell = price['Close'][i]\n",
    "            profit = (sell-buy)*numb\n",
    "            exchange +=1\n",
    "            if sell>buy:\n",
    "                wins +=1\n",
    "\n",
    "        numb=0\n",
    "        money +=profit\n",
    "        \n",
    "        profit=0\n",
    "        asset.append(money)\n",
    "    price['breakout'] = asset\n",
    "    return price\n",
    "\n"
   ]
  },
  {
   "cell_type": "code",
   "execution_count": 43,
   "metadata": {},
   "outputs": [],
   "source": [
    "def MACD_BREAKOUT_STRATEGY(symbol, start, end, k):\n",
    "    \"\"\" Backtesting simulation of macd and breakout combined strategy\n",
    "    Parameters:\n",
    "    symbol (str): symbol of a stock\n",
    "    start (datetime): starting date of the backtest\n",
    "    end (datetime): last date of the backtest\n",
    "    k (float): k is a number between 0 and 1. The strategy will buy when today's price increases by (yesterday's vollatility) * k\n",
    "\n",
    "    Returns:\n",
    "    Dataframe that includes the total amound of asset when using the strategy and drawdown of the strategy. \n",
    "    \"\"\"\n",
    "    \n",
    "    #get data\n",
    "    price = pdr.get_data_yahoo(symbol, start, end)\n",
    "    price = price.drop(['Volume', 'Adj Close'], 1)\n",
    "\n",
    "    #macd calculations\n",
    "    exp1 = price.Close.ewm(span = 12, adjust=False).mean()\n",
    "    exp2 = price.Close.ewm(span = 26, adjust=False).mean()\n",
    "    exp3 = price.Close.ewm(span = 26, adjust=False).mean()\n",
    "    macd = exp1 - exp2\n",
    "    signal = macd.ewm(span = 9, adjust=False).mean()\n",
    "\n",
    "    #add column for entries\n",
    "    price['Long'] = macd > signal\n",
    "    price['200ema']=exp3\n",
    "    # profit calculation for MACD\n",
    "    money = 10000\n",
    "    exchange = 0\n",
    "    wins= 0\n",
    "    asset = [10000]\n",
    "    numb=0\n",
    "    difference = []\n",
    "    for i in range(1, len(price)):\n",
    "        \n",
    "        if price['Long'][i] == True:\n",
    "            \n",
    "            if numb==0:\n",
    "                buy = price['Close'][i]\n",
    "                numb = money//buy\n",
    "                money-=numb*buy\n",
    "            else:\n",
    "                asset.append(money + (price['Close'][i]*numb))\n",
    "                continue\n",
    "        if price['High'][i]>price['Open'][i]+(price['High'][i-1]-price['Low'][i-1] )*k :\n",
    "            if numb==0:\n",
    "                buy = price['Open'][i]+(price['High'][i-1]-price['Low'][i-1] )*k\n",
    "                numb = money//buy\n",
    "                money-=numb*buy\n",
    "            else:\n",
    "                asset.append(money + (price['Close'][i]*numb))\n",
    "                continue\n",
    "        else:\n",
    "           \n",
    "            if numb!=0 : \n",
    "                sell = price['Close'][i]\n",
    "                money += (sell)*numb\n",
    "                exchange +=1\n",
    "                if sell>buy:\n",
    "                    wins +=1\n",
    "                difference.append(sell-buy)\n",
    "                numb=0\n",
    "            else: \n",
    "                \n",
    "                asset.append(money + (price['Close'][i]*numb))\n",
    "                continue\n",
    "        asset.append(money + (price['Close'][i]*numb))\n",
    "    price['MACD']=asset\n",
    "    return price"
   ]
  },
  {
   "cell_type": "code",
   "execution_count": 44,
   "metadata": {},
   "outputs": [
    {
     "name": "stdout",
     "output_type": "stream",
     "text": [
      "The testing range : 2011-01-01 2020-10-01\n"
     ]
    },
    {
     "name": "stderr",
     "output_type": "stream",
     "text": [
      "/var/folders/5_/q4stfhx95cb0n8m8bxlc_5280000gn/T/ipykernel_1071/4292821951.py:13: FutureWarning: In a future version of pandas all arguments of DataFrame.drop except for the argument 'labels' will be keyword-only\n",
      "  price = price.drop(['Volume', 'Adj Close'], 1)\n"
     ]
    },
    {
     "name": "stdout",
     "output_type": "stream",
     "text": [
      "strategy maximum drawdown -0.1660089527130127\n",
      "benchmarck maximum drawdwon -10.51\n",
      "strategy maximum drawdown -0.024962744876487808\n"
     ]
    },
    {
     "name": "stderr",
     "output_type": "stream",
     "text": [
      "/var/folders/5_/q4stfhx95cb0n8m8bxlc_5280000gn/T/ipykernel_1071/3614453843.py:14: FutureWarning: In a future version of pandas all arguments of DataFrame.drop except for the argument 'labels' will be keyword-only\n",
      "  price = price.drop(['Volume', 'Adj Close'], 1)\n"
     ]
    },
    {
     "name": "stdout",
     "output_type": "stream",
     "text": [
      "D\n"
     ]
    },
    {
     "name": "stderr",
     "output_type": "stream",
     "text": [
      "/var/folders/5_/q4stfhx95cb0n8m8bxlc_5280000gn/T/ipykernel_1071/954202551.py:15: FutureWarning: In a future version of pandas all arguments of DataFrame.drop except for the argument 'labels' will be keyword-only\n",
      "  price = price.drop(['Volume', 'Adj Close'], 1)\n"
     ]
    }
   ],
   "source": [
    "# here! we combine all the results\n",
    "start =datetime.datetime(2021, 1, 1)\n",
    "end= datetime.datetime(2022, 10, 12)\n",
    "#symbol = 'AAPL'\n",
    "\n",
    "import random\n",
    "# symbols of s&p500 companies\n",
    "df = pd.read_csv('constituents_csv.csv')\n",
    "random_number = random.randint(1,500)\n",
    "# selects a random symbol\n",
    "symbol = df['Symbol'][random_number]\n",
    "\n",
    "from datetime import date, timedelta\n",
    "\n",
    "# initializing dates ranges \n",
    "test_date1, test_date2 = date(2011, 1, 1), date(2020, 10, 1)\n",
    "  \n",
    "\n",
    "  \n",
    "# getting days between dates\n",
    "dates_bet = test_date2 - test_date1\n",
    "total_days = dates_bet.days\n",
    "  \n",
    "random.seed(a=None)\n",
    "randay = random.randrange(total_days)\n",
    "start = test_date1 + timedelta(days=randay)\n",
    "end = start.replace(start.year + 2)\n",
    "# printing dates \n",
    "print(\"The testing range : \" + str(test_date1) + \" \" + str(test_date2))\n",
    "\n",
    "price = pdr.get_data_yahoo(symbol, start, end)\n",
    "result_macd= macd_strategy(symbol, start, end)\n",
    "result_rsi = rsi_strategy(symbol, start, end)\n",
    "result_bollinger = bollinger_band_strategy(symbol, start,end)\n",
    "result_breakout = breakout_strategy(symbol, start, end,0.5)\n",
    "result = MACD_BREAKOUT_STRATEGY(symbol, start, end, 0.3)\n",
    "print(symbol)\n",
    "#result_macd_breakout = macd_breakout_strategy(symbol, start, end, 0.3)"
   ]
  },
  {
   "cell_type": "code",
   "execution_count": 45,
   "metadata": {},
   "outputs": [
    {
     "data": {
      "image/png": "[encoded data removed]",
      "text/plain": [
       "<Figure size 432x288 with 1 Axes>"
      ]
     },
     "metadata": {
      "needs_background": "light"
     },
     "output_type": "display_data"
    }
   ],
   "source": [
    "#visualize\n",
    "plt.plot(result_rsi['RSI_strategy'],c='r', label=\"RSI\")\n",
    "plt.plot(result_breakout['breakout'],c='y', label = \"breakout\")\n",
    "plt.plot(result_bollinger['Bollinger'], c = 'purple', label = \"bollinger\")\n",
    "plt.plot(result_macd['MACD'],c='g', label = 'MACD')\n",
    "plt.plot(result['MACD'], c='pink', label = 'MACD_breakout')\n",
    "plt.plot(result_rsi['Close']*(10000/result_rsi['Close'][0]), label = \"benchmark\")\n",
    "plt.xlim(start,end)\n",
    "plt.legend()\n",
    "plt.show()"
   ]
  },
  {
   "cell_type": "code",
   "execution_count": 46,
   "metadata": {},
   "outputs": [
    {
     "name": "stdout",
     "output_type": "stream",
     "text": [
      "Testing in date range : 2014-01-18 2016-01-18for FLIR\n",
      "data not existing\n",
      "Testing in date range : 2018-11-09 2020-11-09for ALGN\n"
     ]
    },
    {
     "name": "stderr",
     "output_type": "stream",
     "text": [
      "/var/folders/5_/q4stfhx95cb0n8m8bxlc_5280000gn/T/ipykernel_1071/4292821951.py:13: FutureWarning: In a future version of pandas all arguments of DataFrame.drop except for the argument 'labels' will be keyword-only\n",
      "  price = price.drop(['Volume', 'Adj Close'], 1)\n"
     ]
    },
    {
     "name": "stdout",
     "output_type": "stream",
     "text": [
      "strategy maximum drawdown -0.3699927505020032\n",
      "benchmarck maximum drawdwon -58.4\n",
      "strategy maximum drawdown -0.40666827743938905\n"
     ]
    },
    {
     "name": "stderr",
     "output_type": "stream",
     "text": [
      "/var/folders/5_/q4stfhx95cb0n8m8bxlc_5280000gn/T/ipykernel_1071/3614453843.py:14: FutureWarning: In a future version of pandas all arguments of DataFrame.drop except for the argument 'labels' will be keyword-only\n",
      "  price = price.drop(['Volume', 'Adj Close'], 1)\n",
      "/var/folders/5_/q4stfhx95cb0n8m8bxlc_5280000gn/T/ipykernel_1071/954202551.py:15: FutureWarning: In a future version of pandas all arguments of DataFrame.drop except for the argument 'labels' will be keyword-only\n",
      "  price = price.drop(['Volume', 'Adj Close'], 1)\n"
     ]
    },
    {
     "name": "stdout",
     "output_type": "stream",
     "text": [
      "Testing in date range : 2017-11-20 2019-11-20for MCK\n"
     ]
    },
    {
     "name": "stderr",
     "output_type": "stream",
     "text": [
      "/var/folders/5_/q4stfhx95cb0n8m8bxlc_5280000gn/T/ipykernel_1071/4292821951.py:13: FutureWarning: In a future version of pandas all arguments of DataFrame.drop except for the argument 'labels' will be keyword-only\n",
      "  price = price.drop(['Volume', 'Adj Close'], 1)\n"
     ]
    },
    {
     "name": "stdout",
     "output_type": "stream",
     "text": [
      "strategy maximum drawdown -0.3182399432001978\n",
      "benchmarck maximum drawdwon -38.76\n",
      "strategy maximum drawdown -0.21712510405415897\n"
     ]
    },
    {
     "name": "stderr",
     "output_type": "stream",
     "text": [
      "/var/folders/5_/q4stfhx95cb0n8m8bxlc_5280000gn/T/ipykernel_1071/3614453843.py:14: FutureWarning: In a future version of pandas all arguments of DataFrame.drop except for the argument 'labels' will be keyword-only\n",
      "  price = price.drop(['Volume', 'Adj Close'], 1)\n",
      "/var/folders/5_/q4stfhx95cb0n8m8bxlc_5280000gn/T/ipykernel_1071/954202551.py:15: FutureWarning: In a future version of pandas all arguments of DataFrame.drop except for the argument 'labels' will be keyword-only\n",
      "  price = price.drop(['Volume', 'Adj Close'], 1)\n"
     ]
    },
    {
     "name": "stdout",
     "output_type": "stream",
     "text": [
      "Testing in date range : 2019-07-12 2021-07-12for VRSN\n"
     ]
    },
    {
     "name": "stderr",
     "output_type": "stream",
     "text": [
      "/var/folders/5_/q4stfhx95cb0n8m8bxlc_5280000gn/T/ipykernel_1071/4292821951.py:13: FutureWarning: In a future version of pandas all arguments of DataFrame.drop except for the argument 'labels' will be keyword-only\n",
      "  price = price.drop(['Volume', 'Adj Close'], 1)\n"
     ]
    },
    {
     "name": "stdout",
     "output_type": "stream",
     "text": [
      "strategy maximum drawdown -0.2089868479689593\n",
      "benchmarck maximum drawdwon -31.61\n",
      "strategy maximum drawdown -0.16248909867311553\n"
     ]
    },
    {
     "name": "stderr",
     "output_type": "stream",
     "text": [
      "/var/folders/5_/q4stfhx95cb0n8m8bxlc_5280000gn/T/ipykernel_1071/3614453843.py:14: FutureWarning: In a future version of pandas all arguments of DataFrame.drop except for the argument 'labels' will be keyword-only\n",
      "  price = price.drop(['Volume', 'Adj Close'], 1)\n",
      "/var/folders/5_/q4stfhx95cb0n8m8bxlc_5280000gn/T/ipykernel_1071/954202551.py:15: FutureWarning: In a future version of pandas all arguments of DataFrame.drop except for the argument 'labels' will be keyword-only\n",
      "  price = price.drop(['Volume', 'Adj Close'], 1)\n"
     ]
    },
    {
     "name": "stdout",
     "output_type": "stream",
     "text": [
      "Testing in date range : 2014-10-19 2016-10-19for MRK\n"
     ]
    },
    {
     "name": "stderr",
     "output_type": "stream",
     "text": [
      "/var/folders/5_/q4stfhx95cb0n8m8bxlc_5280000gn/T/ipykernel_1071/4292821951.py:13: FutureWarning: In a future version of pandas all arguments of DataFrame.drop except for the argument 'labels' will be keyword-only\n",
      "  price = price.drop(['Volume', 'Adj Close'], 1)\n"
     ]
    },
    {
     "name": "stdout",
     "output_type": "stream",
     "text": [
      "strategy maximum drawdown -0.17946179771852003\n",
      "benchmarck maximum drawdwon -23.18\n",
      "strategy maximum drawdown -0.2038445164542389\n"
     ]
    },
    {
     "name": "stderr",
     "output_type": "stream",
     "text": [
      "/var/folders/5_/q4stfhx95cb0n8m8bxlc_5280000gn/T/ipykernel_1071/3614453843.py:14: FutureWarning: In a future version of pandas all arguments of DataFrame.drop except for the argument 'labels' will be keyword-only\n",
      "  price = price.drop(['Volume', 'Adj Close'], 1)\n",
      "/var/folders/5_/q4stfhx95cb0n8m8bxlc_5280000gn/T/ipykernel_1071/954202551.py:15: FutureWarning: In a future version of pandas all arguments of DataFrame.drop except for the argument 'labels' will be keyword-only\n",
      "  price = price.drop(['Volume', 'Adj Close'], 1)\n"
     ]
    },
    {
     "name": "stdout",
     "output_type": "stream",
     "text": [
      "Testing in date range : 2015-12-31 2017-12-31for BBT\n",
      "data not existing\n",
      "Testing in date range : 2013-06-21 2015-06-21for DISH\n"
     ]
    },
    {
     "name": "stderr",
     "output_type": "stream",
     "text": [
      "/var/folders/5_/q4stfhx95cb0n8m8bxlc_5280000gn/T/ipykernel_1071/4292821951.py:13: FutureWarning: In a future version of pandas all arguments of DataFrame.drop except for the argument 'labels' will be keyword-only\n",
      "  price = price.drop(['Volume', 'Adj Close'], 1)\n"
     ]
    },
    {
     "name": "stdout",
     "output_type": "stream",
     "text": [
      "strategy maximum drawdown -0.16969543876902907\n",
      "benchmarck maximum drawdwon -16.99\n",
      "strategy maximum drawdown -0.03788945356788153\n"
     ]
    },
    {
     "name": "stderr",
     "output_type": "stream",
     "text": [
      "/var/folders/5_/q4stfhx95cb0n8m8bxlc_5280000gn/T/ipykernel_1071/3614453843.py:14: FutureWarning: In a future version of pandas all arguments of DataFrame.drop except for the argument 'labels' will be keyword-only\n",
      "  price = price.drop(['Volume', 'Adj Close'], 1)\n",
      "/var/folders/5_/q4stfhx95cb0n8m8bxlc_5280000gn/T/ipykernel_1071/954202551.py:15: FutureWarning: In a future version of pandas all arguments of DataFrame.drop except for the argument 'labels' will be keyword-only\n",
      "  price = price.drop(['Volume', 'Adj Close'], 1)\n"
     ]
    },
    {
     "name": "stdout",
     "output_type": "stream",
     "text": [
      "Testing in date range : 2013-07-29 2015-07-29for PGR\n"
     ]
    },
    {
     "name": "stderr",
     "output_type": "stream",
     "text": [
      "/var/folders/5_/q4stfhx95cb0n8m8bxlc_5280000gn/T/ipykernel_1071/4292821951.py:13: FutureWarning: In a future version of pandas all arguments of DataFrame.drop except for the argument 'labels' will be keyword-only\n",
      "  price = price.drop(['Volume', 'Adj Close'], 1)\n"
     ]
    },
    {
     "name": "stdout",
     "output_type": "stream",
     "text": [
      "strategy maximum drawdown -0.10383778080556551\n",
      "benchmarck maximum drawdwon -19.72\n",
      "strategy maximum drawdown -0.08907998672421617\n"
     ]
    },
    {
     "name": "stderr",
     "output_type": "stream",
     "text": [
      "/var/folders/5_/q4stfhx95cb0n8m8bxlc_5280000gn/T/ipykernel_1071/3614453843.py:14: FutureWarning: In a future version of pandas all arguments of DataFrame.drop except for the argument 'labels' will be keyword-only\n",
      "  price = price.drop(['Volume', 'Adj Close'], 1)\n",
      "/var/folders/5_/q4stfhx95cb0n8m8bxlc_5280000gn/T/ipykernel_1071/954202551.py:15: FutureWarning: In a future version of pandas all arguments of DataFrame.drop except for the argument 'labels' will be keyword-only\n",
      "  price = price.drop(['Volume', 'Adj Close'], 1)\n"
     ]
    },
    {
     "name": "stdout",
     "output_type": "stream",
     "text": [
      "Testing in date range : 2013-10-09 2015-10-09for NLSN\n",
      "data not existing\n",
      "Testing in date range : 2013-01-18 2015-01-18for PBCT\n",
      "data not existing\n",
      "Testing in date range : 2013-04-17 2015-04-17for SPG\n"
     ]
    },
    {
     "name": "stderr",
     "output_type": "stream",
     "text": [
      "/var/folders/5_/q4stfhx95cb0n8m8bxlc_5280000gn/T/ipykernel_1071/4292821951.py:13: FutureWarning: In a future version of pandas all arguments of DataFrame.drop except for the argument 'labels' will be keyword-only\n",
      "  price = price.drop(['Volume', 'Adj Close'], 1)\n"
     ]
    },
    {
     "name": "stdout",
     "output_type": "stream",
     "text": [
      "strategy maximum drawdown -0.10147746087046924\n",
      "benchmarck maximum drawdwon -20.96\n",
      "strategy maximum drawdown -0.15199938385300982\n"
     ]
    },
    {
     "name": "stderr",
     "output_type": "stream",
     "text": [
      "/var/folders/5_/q4stfhx95cb0n8m8bxlc_5280000gn/T/ipykernel_1071/3614453843.py:14: FutureWarning: In a future version of pandas all arguments of DataFrame.drop except for the argument 'labels' will be keyword-only\n",
      "  price = price.drop(['Volume', 'Adj Close'], 1)\n",
      "/var/folders/5_/q4stfhx95cb0n8m8bxlc_5280000gn/T/ipykernel_1071/954202551.py:15: FutureWarning: In a future version of pandas all arguments of DataFrame.drop except for the argument 'labels' will be keyword-only\n",
      "  price = price.drop(['Volume', 'Adj Close'], 1)\n"
     ]
    },
    {
     "name": "stdout",
     "output_type": "stream",
     "text": [
      "Testing in date range : 2019-10-16 2021-10-16for EOG\n"
     ]
    },
    {
     "name": "stderr",
     "output_type": "stream",
     "text": [
      "/var/folders/5_/q4stfhx95cb0n8m8bxlc_5280000gn/T/ipykernel_1071/4292821951.py:13: FutureWarning: In a future version of pandas all arguments of DataFrame.drop except for the argument 'labels' will be keyword-only\n",
      "  price = price.drop(['Volume', 'Adj Close'], 1)\n"
     ]
    },
    {
     "name": "stdout",
     "output_type": "stream",
     "text": [
      "strategy maximum drawdown -0.3721864826121013\n",
      "benchmarck maximum drawdwon -66.67\n",
      "strategy maximum drawdown -0.6142495169031451\n"
     ]
    },
    {
     "name": "stderr",
     "output_type": "stream",
     "text": [
      "/var/folders/5_/q4stfhx95cb0n8m8bxlc_5280000gn/T/ipykernel_1071/3614453843.py:14: FutureWarning: In a future version of pandas all arguments of DataFrame.drop except for the argument 'labels' will be keyword-only\n",
      "  price = price.drop(['Volume', 'Adj Close'], 1)\n",
      "/var/folders/5_/q4stfhx95cb0n8m8bxlc_5280000gn/T/ipykernel_1071/954202551.py:15: FutureWarning: In a future version of pandas all arguments of DataFrame.drop except for the argument 'labels' will be keyword-only\n",
      "  price = price.drop(['Volume', 'Adj Close'], 1)\n"
     ]
    },
    {
     "name": "stdout",
     "output_type": "stream",
     "text": [
      "Testing in date range : 2020-12-10 2022-12-10for ABBV\n"
     ]
    },
    {
     "name": "stderr",
     "output_type": "stream",
     "text": [
      "/var/folders/5_/q4stfhx95cb0n8m8bxlc_5280000gn/T/ipykernel_1071/4292821951.py:13: FutureWarning: In a future version of pandas all arguments of DataFrame.drop except for the argument 'labels' will be keyword-only\n",
      "  price = price.drop(['Volume', 'Adj Close'], 1)\n"
     ]
    },
    {
     "name": "stdout",
     "output_type": "stream",
     "text": [
      "strategy maximum drawdown -0.19840129238219495\n",
      "benchmarck maximum drawdwon -23.29\n",
      "strategy maximum drawdown -0.12834939366031314\n"
     ]
    },
    {
     "name": "stderr",
     "output_type": "stream",
     "text": [
      "/var/folders/5_/q4stfhx95cb0n8m8bxlc_5280000gn/T/ipykernel_1071/3614453843.py:14: FutureWarning: In a future version of pandas all arguments of DataFrame.drop except for the argument 'labels' will be keyword-only\n",
      "  price = price.drop(['Volume', 'Adj Close'], 1)\n",
      "/var/folders/5_/q4stfhx95cb0n8m8bxlc_5280000gn/T/ipykernel_1071/954202551.py:15: FutureWarning: In a future version of pandas all arguments of DataFrame.drop except for the argument 'labels' will be keyword-only\n",
      "  price = price.drop(['Volume', 'Adj Close'], 1)\n"
     ]
    },
    {
     "name": "stdout",
     "output_type": "stream",
     "text": [
      "Testing in date range : 2018-01-08 2020-01-08for LNC\n"
     ]
    },
    {
     "name": "stderr",
     "output_type": "stream",
     "text": [
      "/var/folders/5_/q4stfhx95cb0n8m8bxlc_5280000gn/T/ipykernel_1071/4292821951.py:13: FutureWarning: In a future version of pandas all arguments of DataFrame.drop except for the argument 'labels' will be keyword-only\n",
      "  price = price.drop(['Volume', 'Adj Close'], 1)\n"
     ]
    },
    {
     "name": "stdout",
     "output_type": "stream",
     "text": [
      "strategy maximum drawdown -0.38180231877120824\n",
      "benchmarck maximum drawdwon -43.21\n",
      "strategy maximum drawdown -0.37909850826152686\n"
     ]
    },
    {
     "name": "stderr",
     "output_type": "stream",
     "text": [
      "/var/folders/5_/q4stfhx95cb0n8m8bxlc_5280000gn/T/ipykernel_1071/3614453843.py:14: FutureWarning: In a future version of pandas all arguments of DataFrame.drop except for the argument 'labels' will be keyword-only\n",
      "  price = price.drop(['Volume', 'Adj Close'], 1)\n",
      "/var/folders/5_/q4stfhx95cb0n8m8bxlc_5280000gn/T/ipykernel_1071/954202551.py:15: FutureWarning: In a future version of pandas all arguments of DataFrame.drop except for the argument 'labels' will be keyword-only\n",
      "  price = price.drop(['Volume', 'Adj Close'], 1)\n"
     ]
    },
    {
     "name": "stdout",
     "output_type": "stream",
     "text": [
      "Testing in date range : 2013-11-27 2015-11-27for DLR\n"
     ]
    },
    {
     "name": "stderr",
     "output_type": "stream",
     "text": [
      "/var/folders/5_/q4stfhx95cb0n8m8bxlc_5280000gn/T/ipykernel_1071/4292821951.py:13: FutureWarning: In a future version of pandas all arguments of DataFrame.drop except for the argument 'labels' will be keyword-only\n",
      "  price = price.drop(['Volume', 'Adj Close'], 1)\n"
     ]
    },
    {
     "name": "stdout",
     "output_type": "stream",
     "text": [
      "strategy maximum drawdown -0.1375945952928553\n",
      "benchmarck maximum drawdwon -17.3\n",
      "strategy maximum drawdown -0.05366179602572313\n"
     ]
    },
    {
     "name": "stderr",
     "output_type": "stream",
     "text": [
      "/var/folders/5_/q4stfhx95cb0n8m8bxlc_5280000gn/T/ipykernel_1071/3614453843.py:14: FutureWarning: In a future version of pandas all arguments of DataFrame.drop except for the argument 'labels' will be keyword-only\n",
      "  price = price.drop(['Volume', 'Adj Close'], 1)\n",
      "/var/folders/5_/q4stfhx95cb0n8m8bxlc_5280000gn/T/ipykernel_1071/954202551.py:15: FutureWarning: In a future version of pandas all arguments of DataFrame.drop except for the argument 'labels' will be keyword-only\n",
      "  price = price.drop(['Volume', 'Adj Close'], 1)\n"
     ]
    },
    {
     "name": "stdout",
     "output_type": "stream",
     "text": [
      "Testing in date range : 2015-04-27 2017-04-27for ICE\n"
     ]
    },
    {
     "name": "stderr",
     "output_type": "stream",
     "text": [
      "/var/folders/5_/q4stfhx95cb0n8m8bxlc_5280000gn/T/ipykernel_1071/4292821951.py:13: FutureWarning: In a future version of pandas all arguments of DataFrame.drop except for the argument 'labels' will be keyword-only\n",
      "  price = price.drop(['Volume', 'Adj Close'], 1)\n"
     ]
    },
    {
     "name": "stdout",
     "output_type": "stream",
     "text": [
      "strategy maximum drawdown -0.1986225288998614\n",
      "benchmarck maximum drawdwon -13.85\n",
      "strategy maximum drawdown -0.08877949225925388\n"
     ]
    },
    {
     "name": "stderr",
     "output_type": "stream",
     "text": [
      "/var/folders/5_/q4stfhx95cb0n8m8bxlc_5280000gn/T/ipykernel_1071/3614453843.py:14: FutureWarning: In a future version of pandas all arguments of DataFrame.drop except for the argument 'labels' will be keyword-only\n",
      "  price = price.drop(['Volume', 'Adj Close'], 1)\n",
      "/var/folders/5_/q4stfhx95cb0n8m8bxlc_5280000gn/T/ipykernel_1071/954202551.py:15: FutureWarning: In a future version of pandas all arguments of DataFrame.drop except for the argument 'labels' will be keyword-only\n",
      "  price = price.drop(['Volume', 'Adj Close'], 1)\n"
     ]
    },
    {
     "name": "stdout",
     "output_type": "stream",
     "text": [
      "Testing in date range : 2015-03-08 2017-03-08for PAYX\n"
     ]
    },
    {
     "name": "stderr",
     "output_type": "stream",
     "text": [
      "/var/folders/5_/q4stfhx95cb0n8m8bxlc_5280000gn/T/ipykernel_1071/4292821951.py:13: FutureWarning: In a future version of pandas all arguments of DataFrame.drop except for the argument 'labels' will be keyword-only\n",
      "  price = price.drop(['Volume', 'Adj Close'], 1)\n"
     ]
    },
    {
     "name": "stdout",
     "output_type": "stream",
     "text": [
      "strategy maximum drawdown -0.16010963143114376\n",
      "benchmarck maximum drawdwon -16.85\n",
      "strategy maximum drawdown -0.04216070153542058\n"
     ]
    },
    {
     "name": "stderr",
     "output_type": "stream",
     "text": [
      "/var/folders/5_/q4stfhx95cb0n8m8bxlc_5280000gn/T/ipykernel_1071/3614453843.py:14: FutureWarning: In a future version of pandas all arguments of DataFrame.drop except for the argument 'labels' will be keyword-only\n",
      "  price = price.drop(['Volume', 'Adj Close'], 1)\n",
      "/var/folders/5_/q4stfhx95cb0n8m8bxlc_5280000gn/T/ipykernel_1071/954202551.py:15: FutureWarning: In a future version of pandas all arguments of DataFrame.drop except for the argument 'labels' will be keyword-only\n",
      "  price = price.drop(['Volume', 'Adj Close'], 1)\n"
     ]
    },
    {
     "name": "stdout",
     "output_type": "stream",
     "text": [
      "Testing in date range : 2012-08-04 2014-08-04for MAA\n"
     ]
    },
    {
     "name": "stderr",
     "output_type": "stream",
     "text": [
      "/var/folders/5_/q4stfhx95cb0n8m8bxlc_5280000gn/T/ipykernel_1071/4292821951.py:13: FutureWarning: In a future version of pandas all arguments of DataFrame.drop except for the argument 'labels' will be keyword-only\n",
      "  price = price.drop(['Volume', 'Adj Close'], 1)\n"
     ]
    },
    {
     "name": "stdout",
     "output_type": "stream",
     "text": [
      "strategy maximum drawdown -0.09246800518502221\n",
      "benchmarck maximum drawdwon -19.77\n",
      "strategy maximum drawdown -0.14017050242484913\n"
     ]
    },
    {
     "name": "stderr",
     "output_type": "stream",
     "text": [
      "/var/folders/5_/q4stfhx95cb0n8m8bxlc_5280000gn/T/ipykernel_1071/3614453843.py:14: FutureWarning: In a future version of pandas all arguments of DataFrame.drop except for the argument 'labels' will be keyword-only\n",
      "  price = price.drop(['Volume', 'Adj Close'], 1)\n",
      "/var/folders/5_/q4stfhx95cb0n8m8bxlc_5280000gn/T/ipykernel_1071/954202551.py:15: FutureWarning: In a future version of pandas all arguments of DataFrame.drop except for the argument 'labels' will be keyword-only\n",
      "  price = price.drop(['Volume', 'Adj Close'], 1)\n"
     ]
    },
    {
     "name": "stdout",
     "output_type": "stream",
     "text": [
      "Testing in date range : 2020-03-21 2022-03-21for MRK\n"
     ]
    },
    {
     "name": "stderr",
     "output_type": "stream",
     "text": [
      "/var/folders/5_/q4stfhx95cb0n8m8bxlc_5280000gn/T/ipykernel_1071/4292821951.py:13: FutureWarning: In a future version of pandas all arguments of DataFrame.drop except for the argument 'labels' will be keyword-only\n",
      "  price = price.drop(['Volume', 'Adj Close'], 1)\n"
     ]
    },
    {
     "name": "stdout",
     "output_type": "stream",
     "text": [
      "strategy maximum drawdown -0.09852551319727086\n",
      "benchmarck maximum drawdwon -20.17\n",
      "strategy maximum drawdown -0.1508488909700684\n"
     ]
    },
    {
     "name": "stderr",
     "output_type": "stream",
     "text": [
      "/var/folders/5_/q4stfhx95cb0n8m8bxlc_5280000gn/T/ipykernel_1071/3614453843.py:14: FutureWarning: In a future version of pandas all arguments of DataFrame.drop except for the argument 'labels' will be keyword-only\n",
      "  price = price.drop(['Volume', 'Adj Close'], 1)\n",
      "/var/folders/5_/q4stfhx95cb0n8m8bxlc_5280000gn/T/ipykernel_1071/954202551.py:15: FutureWarning: In a future version of pandas all arguments of DataFrame.drop except for the argument 'labels' will be keyword-only\n",
      "  price = price.drop(['Volume', 'Adj Close'], 1)\n"
     ]
    },
    {
     "name": "stdout",
     "output_type": "stream",
     "text": [
      "Testing in date range : 2017-12-18 2019-12-18for VRTX\n"
     ]
    },
    {
     "name": "stderr",
     "output_type": "stream",
     "text": [
      "/var/folders/5_/q4stfhx95cb0n8m8bxlc_5280000gn/T/ipykernel_1071/4292821951.py:13: FutureWarning: In a future version of pandas all arguments of DataFrame.drop except for the argument 'labels' will be keyword-only\n",
      "  price = price.drop(['Volume', 'Adj Close'], 1)\n"
     ]
    },
    {
     "name": "stdout",
     "output_type": "stream",
     "text": [
      "strategy maximum drawdown -0.28257934115300665\n",
      "benchmarck maximum drawdwon -21.18\n",
      "strategy maximum drawdown -0.1074828658400302\n"
     ]
    },
    {
     "name": "stderr",
     "output_type": "stream",
     "text": [
      "/var/folders/5_/q4stfhx95cb0n8m8bxlc_5280000gn/T/ipykernel_1071/3614453843.py:14: FutureWarning: In a future version of pandas all arguments of DataFrame.drop except for the argument 'labels' will be keyword-only\n",
      "  price = price.drop(['Volume', 'Adj Close'], 1)\n",
      "/var/folders/5_/q4stfhx95cb0n8m8bxlc_5280000gn/T/ipykernel_1071/954202551.py:15: FutureWarning: In a future version of pandas all arguments of DataFrame.drop except for the argument 'labels' will be keyword-only\n",
      "  price = price.drop(['Volume', 'Adj Close'], 1)\n"
     ]
    },
    {
     "name": "stdout",
     "output_type": "stream",
     "text": [
      "Testing in date range : 2015-08-09 2017-08-09for MMC\n"
     ]
    },
    {
     "name": "stderr",
     "output_type": "stream",
     "text": [
      "/var/folders/5_/q4stfhx95cb0n8m8bxlc_5280000gn/T/ipykernel_1071/4292821951.py:13: FutureWarning: In a future version of pandas all arguments of DataFrame.drop except for the argument 'labels' will be keyword-only\n",
      "  price = price.drop(['Volume', 'Adj Close'], 1)\n"
     ]
    },
    {
     "name": "stdout",
     "output_type": "stream",
     "text": [
      "strategy maximum drawdown -0.13376960551726957\n",
      "benchmarck maximum drawdwon -12.44\n",
      "strategy maximum drawdown -0.10488657602286258\n"
     ]
    },
    {
     "name": "stderr",
     "output_type": "stream",
     "text": [
      "/var/folders/5_/q4stfhx95cb0n8m8bxlc_5280000gn/T/ipykernel_1071/3614453843.py:14: FutureWarning: In a future version of pandas all arguments of DataFrame.drop except for the argument 'labels' will be keyword-only\n",
      "  price = price.drop(['Volume', 'Adj Close'], 1)\n",
      "/var/folders/5_/q4stfhx95cb0n8m8bxlc_5280000gn/T/ipykernel_1071/954202551.py:15: FutureWarning: In a future version of pandas all arguments of DataFrame.drop except for the argument 'labels' will be keyword-only\n",
      "  price = price.drop(['Volume', 'Adj Close'], 1)\n"
     ]
    },
    {
     "name": "stdout",
     "output_type": "stream",
     "text": [
      "Testing in date range : 2013-07-21 2015-07-21for NUE\n"
     ]
    },
    {
     "name": "stderr",
     "output_type": "stream",
     "text": [
      "/var/folders/5_/q4stfhx95cb0n8m8bxlc_5280000gn/T/ipykernel_1071/4292821951.py:13: FutureWarning: In a future version of pandas all arguments of DataFrame.drop except for the argument 'labels' will be keyword-only\n",
      "  price = price.drop(['Volume', 'Adj Close'], 1)\n"
     ]
    },
    {
     "name": "stdout",
     "output_type": "stream",
     "text": [
      "strategy maximum drawdown -0.22249636022815328\n",
      "benchmarck maximum drawdwon -27.39\n",
      "strategy maximum drawdown -0.2346528619258567\n"
     ]
    },
    {
     "name": "stderr",
     "output_type": "stream",
     "text": [
      "/var/folders/5_/q4stfhx95cb0n8m8bxlc_5280000gn/T/ipykernel_1071/3614453843.py:14: FutureWarning: In a future version of pandas all arguments of DataFrame.drop except for the argument 'labels' will be keyword-only\n",
      "  price = price.drop(['Volume', 'Adj Close'], 1)\n",
      "/var/folders/5_/q4stfhx95cb0n8m8bxlc_5280000gn/T/ipykernel_1071/954202551.py:15: FutureWarning: In a future version of pandas all arguments of DataFrame.drop except for the argument 'labels' will be keyword-only\n",
      "  price = price.drop(['Volume', 'Adj Close'], 1)\n"
     ]
    },
    {
     "name": "stdout",
     "output_type": "stream",
     "text": [
      "Testing in date range : 2018-10-08 2020-10-08for BBY\n"
     ]
    },
    {
     "name": "stderr",
     "output_type": "stream",
     "text": [
      "/var/folders/5_/q4stfhx95cb0n8m8bxlc_5280000gn/T/ipykernel_1071/4292821951.py:13: FutureWarning: In a future version of pandas all arguments of DataFrame.drop except for the argument 'labels' will be keyword-only\n",
      "  price = price.drop(['Volume', 'Adj Close'], 1)\n"
     ]
    },
    {
     "name": "stdout",
     "output_type": "stream",
     "text": [
      "strategy maximum drawdown -0.2710062562414411\n",
      "benchmarck maximum drawdwon -44.86\n",
      "strategy maximum drawdown -0.36895088005456284\n"
     ]
    },
    {
     "name": "stderr",
     "output_type": "stream",
     "text": [
      "/var/folders/5_/q4stfhx95cb0n8m8bxlc_5280000gn/T/ipykernel_1071/3614453843.py:14: FutureWarning: In a future version of pandas all arguments of DataFrame.drop except for the argument 'labels' will be keyword-only\n",
      "  price = price.drop(['Volume', 'Adj Close'], 1)\n",
      "/var/folders/5_/q4stfhx95cb0n8m8bxlc_5280000gn/T/ipykernel_1071/954202551.py:15: FutureWarning: In a future version of pandas all arguments of DataFrame.drop except for the argument 'labels' will be keyword-only\n",
      "  price = price.drop(['Volume', 'Adj Close'], 1)\n"
     ]
    },
    {
     "name": "stdout",
     "output_type": "stream",
     "text": [
      "Testing in date range : 2015-02-05 2017-02-05for CCL\n"
     ]
    },
    {
     "name": "stderr",
     "output_type": "stream",
     "text": [
      "/var/folders/5_/q4stfhx95cb0n8m8bxlc_5280000gn/T/ipykernel_1071/4292821951.py:13: FutureWarning: In a future version of pandas all arguments of DataFrame.drop except for the argument 'labels' will be keyword-only\n",
      "  price = price.drop(['Volume', 'Adj Close'], 1)\n"
     ]
    },
    {
     "name": "stdout",
     "output_type": "stream",
     "text": [
      "strategy maximum drawdown -0.20589579573462172\n",
      "benchmarck maximum drawdwon -23.98\n",
      "strategy maximum drawdown -0.23961593592191024\n"
     ]
    },
    {
     "name": "stderr",
     "output_type": "stream",
     "text": [
      "/var/folders/5_/q4stfhx95cb0n8m8bxlc_5280000gn/T/ipykernel_1071/3614453843.py:14: FutureWarning: In a future version of pandas all arguments of DataFrame.drop except for the argument 'labels' will be keyword-only\n",
      "  price = price.drop(['Volume', 'Adj Close'], 1)\n",
      "/var/folders/5_/q4stfhx95cb0n8m8bxlc_5280000gn/T/ipykernel_1071/954202551.py:15: FutureWarning: In a future version of pandas all arguments of DataFrame.drop except for the argument 'labels' will be keyword-only\n",
      "  price = price.drop(['Volume', 'Adj Close'], 1)\n"
     ]
    },
    {
     "name": "stdout",
     "output_type": "stream",
     "text": [
      "Testing in date range : 2017-02-04 2019-02-04for ABT\n"
     ]
    },
    {
     "name": "stderr",
     "output_type": "stream",
     "text": [
      "/var/folders/5_/q4stfhx95cb0n8m8bxlc_5280000gn/T/ipykernel_1071/4292821951.py:13: FutureWarning: In a future version of pandas all arguments of DataFrame.drop except for the argument 'labels' will be keyword-only\n",
      "  price = price.drop(['Volume', 'Adj Close'], 1)\n"
     ]
    },
    {
     "name": "stdout",
     "output_type": "stream",
     "text": [
      "strategy maximum drawdown -0.20505725860368915\n",
      "benchmarck maximum drawdwon -11.73\n",
      "strategy maximum drawdown -0.0379930508021654\n"
     ]
    },
    {
     "name": "stderr",
     "output_type": "stream",
     "text": [
      "/var/folders/5_/q4stfhx95cb0n8m8bxlc_5280000gn/T/ipykernel_1071/3614453843.py:14: FutureWarning: In a future version of pandas all arguments of DataFrame.drop except for the argument 'labels' will be keyword-only\n",
      "  price = price.drop(['Volume', 'Adj Close'], 1)\n",
      "/var/folders/5_/q4stfhx95cb0n8m8bxlc_5280000gn/T/ipykernel_1071/954202551.py:15: FutureWarning: In a future version of pandas all arguments of DataFrame.drop except for the argument 'labels' will be keyword-only\n",
      "  price = price.drop(['Volume', 'Adj Close'], 1)\n"
     ]
    },
    {
     "name": "stdout",
     "output_type": "stream",
     "text": [
      "Testing in date range : 2017-10-07 2019-10-07for ADSK\n"
     ]
    },
    {
     "name": "stderr",
     "output_type": "stream",
     "text": [
      "/var/folders/5_/q4stfhx95cb0n8m8bxlc_5280000gn/T/ipykernel_1071/4292821951.py:13: FutureWarning: In a future version of pandas all arguments of DataFrame.drop except for the argument 'labels' will be keyword-only\n",
      "  price = price.drop(['Volume', 'Adj Close'], 1)\n"
     ]
    },
    {
     "name": "stdout",
     "output_type": "stream",
     "text": [
      "strategy maximum drawdown -0.1864168084042326\n",
      "benchmarck maximum drawdwon -24.73\n",
      "strategy maximum drawdown -0.20019162539543436\n"
     ]
    },
    {
     "name": "stderr",
     "output_type": "stream",
     "text": [
      "/var/folders/5_/q4stfhx95cb0n8m8bxlc_5280000gn/T/ipykernel_1071/3614453843.py:14: FutureWarning: In a future version of pandas all arguments of DataFrame.drop except for the argument 'labels' will be keyword-only\n",
      "  price = price.drop(['Volume', 'Adj Close'], 1)\n",
      "/var/folders/5_/q4stfhx95cb0n8m8bxlc_5280000gn/T/ipykernel_1071/954202551.py:15: FutureWarning: In a future version of pandas all arguments of DataFrame.drop except for the argument 'labels' will be keyword-only\n",
      "  price = price.drop(['Volume', 'Adj Close'], 1)\n"
     ]
    },
    {
     "name": "stdout",
     "output_type": "stream",
     "text": [
      "Testing in date range : 2020-10-23 2022-10-23for GE\n"
     ]
    },
    {
     "name": "stderr",
     "output_type": "stream",
     "text": [
      "/var/folders/5_/q4stfhx95cb0n8m8bxlc_5280000gn/T/ipykernel_1071/4292821951.py:13: FutureWarning: In a future version of pandas all arguments of DataFrame.drop except for the argument 'labels' will be keyword-only\n",
      "  price = price.drop(['Volume', 'Adj Close'], 1)\n"
     ]
    },
    {
     "name": "stdout",
     "output_type": "stream",
     "text": [
      "strategy maximum drawdown -0.4698751569859178\n",
      "benchmarck maximum drawdwon -46.79\n",
      "strategy maximum drawdown -0.4504510754343404\n"
     ]
    },
    {
     "name": "stderr",
     "output_type": "stream",
     "text": [
      "/var/folders/5_/q4stfhx95cb0n8m8bxlc_5280000gn/T/ipykernel_1071/3614453843.py:14: FutureWarning: In a future version of pandas all arguments of DataFrame.drop except for the argument 'labels' will be keyword-only\n",
      "  price = price.drop(['Volume', 'Adj Close'], 1)\n",
      "/var/folders/5_/q4stfhx95cb0n8m8bxlc_5280000gn/T/ipykernel_1071/954202551.py:15: FutureWarning: In a future version of pandas all arguments of DataFrame.drop except for the argument 'labels' will be keyword-only\n",
      "  price = price.drop(['Volume', 'Adj Close'], 1)\n"
     ]
    },
    {
     "name": "stdout",
     "output_type": "stream",
     "text": [
      "Testing in date range : 2017-03-17 2019-03-17for VFC\n"
     ]
    },
    {
     "name": "stderr",
     "output_type": "stream",
     "text": [
      "/var/folders/5_/q4stfhx95cb0n8m8bxlc_5280000gn/T/ipykernel_1071/4292821951.py:13: FutureWarning: In a future version of pandas all arguments of DataFrame.drop except for the argument 'labels' will be keyword-only\n",
      "  price = price.drop(['Volume', 'Adj Close'], 1)\n"
     ]
    },
    {
     "name": "stdout",
     "output_type": "stream",
     "text": [
      "strategy maximum drawdown -0.19362424295170177\n",
      "benchmarck maximum drawdwon -30.09\n",
      "strategy maximum drawdown -0.2485940521515152\n"
     ]
    },
    {
     "name": "stderr",
     "output_type": "stream",
     "text": [
      "/var/folders/5_/q4stfhx95cb0n8m8bxlc_5280000gn/T/ipykernel_1071/3614453843.py:14: FutureWarning: In a future version of pandas all arguments of DataFrame.drop except for the argument 'labels' will be keyword-only\n",
      "  price = price.drop(['Volume', 'Adj Close'], 1)\n",
      "/var/folders/5_/q4stfhx95cb0n8m8bxlc_5280000gn/T/ipykernel_1071/954202551.py:15: FutureWarning: In a future version of pandas all arguments of DataFrame.drop except for the argument 'labels' will be keyword-only\n",
      "  price = price.drop(['Volume', 'Adj Close'], 1)\n"
     ]
    },
    {
     "name": "stdout",
     "output_type": "stream",
     "text": [
      "Testing in date range : 2019-09-16 2021-09-16for ACN\n"
     ]
    },
    {
     "name": "stderr",
     "output_type": "stream",
     "text": [
      "/var/folders/5_/q4stfhx95cb0n8m8bxlc_5280000gn/T/ipykernel_1071/4292821951.py:13: FutureWarning: In a future version of pandas all arguments of DataFrame.drop except for the argument 'labels' will be keyword-only\n",
      "  price = price.drop(['Volume', 'Adj Close'], 1)\n"
     ]
    },
    {
     "name": "stdout",
     "output_type": "stream",
     "text": [
      "strategy maximum drawdown -0.15862881476891064\n",
      "benchmarck maximum drawdwon -33.45\n",
      "strategy maximum drawdown -0.26807515346431093\n"
     ]
    },
    {
     "name": "stderr",
     "output_type": "stream",
     "text": [
      "/var/folders/5_/q4stfhx95cb0n8m8bxlc_5280000gn/T/ipykernel_1071/3614453843.py:14: FutureWarning: In a future version of pandas all arguments of DataFrame.drop except for the argument 'labels' will be keyword-only\n",
      "  price = price.drop(['Volume', 'Adj Close'], 1)\n",
      "/var/folders/5_/q4stfhx95cb0n8m8bxlc_5280000gn/T/ipykernel_1071/954202551.py:15: FutureWarning: In a future version of pandas all arguments of DataFrame.drop except for the argument 'labels' will be keyword-only\n",
      "  price = price.drop(['Volume', 'Adj Close'], 1)\n"
     ]
    },
    {
     "name": "stdout",
     "output_type": "stream",
     "text": [
      "Testing in date range : 2012-05-11 2014-05-11for KEY\n"
     ]
    },
    {
     "name": "stderr",
     "output_type": "stream",
     "text": [
      "/var/folders/5_/q4stfhx95cb0n8m8bxlc_5280000gn/T/ipykernel_1071/4292821951.py:13: FutureWarning: In a future version of pandas all arguments of DataFrame.drop except for the argument 'labels' will be keyword-only\n",
      "  price = price.drop(['Volume', 'Adj Close'], 1)\n"
     ]
    },
    {
     "name": "stdout",
     "output_type": "stream",
     "text": [
      "strategy maximum drawdown -0.1327315917848511\n",
      "benchmarck maximum drawdwon -12.94\n",
      "strategy maximum drawdown -0.035\n"
     ]
    },
    {
     "name": "stderr",
     "output_type": "stream",
     "text": [
      "/var/folders/5_/q4stfhx95cb0n8m8bxlc_5280000gn/T/ipykernel_1071/3614453843.py:14: FutureWarning: In a future version of pandas all arguments of DataFrame.drop except for the argument 'labels' will be keyword-only\n",
      "  price = price.drop(['Volume', 'Adj Close'], 1)\n",
      "/var/folders/5_/q4stfhx95cb0n8m8bxlc_5280000gn/T/ipykernel_1071/954202551.py:15: FutureWarning: In a future version of pandas all arguments of DataFrame.drop except for the argument 'labels' will be keyword-only\n",
      "  price = price.drop(['Volume', 'Adj Close'], 1)\n"
     ]
    },
    {
     "name": "stdout",
     "output_type": "stream",
     "text": [
      "Testing in date range : 2018-10-11 2020-10-11for D\n"
     ]
    },
    {
     "name": "stderr",
     "output_type": "stream",
     "text": [
      "/var/folders/5_/q4stfhx95cb0n8m8bxlc_5280000gn/T/ipykernel_1071/4292821951.py:13: FutureWarning: In a future version of pandas all arguments of DataFrame.drop except for the argument 'labels' will be keyword-only\n",
      "  price = price.drop(['Volume', 'Adj Close'], 1)\n"
     ]
    },
    {
     "name": "stdout",
     "output_type": "stream",
     "text": [
      "strategy maximum drawdown -0.18085879000398822\n",
      "benchmarck maximum drawdwon -33.86\n",
      "strategy maximum drawdown -0.33083991286635117\n"
     ]
    },
    {
     "name": "stderr",
     "output_type": "stream",
     "text": [
      "/var/folders/5_/q4stfhx95cb0n8m8bxlc_5280000gn/T/ipykernel_1071/3614453843.py:14: FutureWarning: In a future version of pandas all arguments of DataFrame.drop except for the argument 'labels' will be keyword-only\n",
      "  price = price.drop(['Volume', 'Adj Close'], 1)\n",
      "/var/folders/5_/q4stfhx95cb0n8m8bxlc_5280000gn/T/ipykernel_1071/954202551.py:15: FutureWarning: In a future version of pandas all arguments of DataFrame.drop except for the argument 'labels' will be keyword-only\n",
      "  price = price.drop(['Volume', 'Adj Close'], 1)\n"
     ]
    },
    {
     "name": "stdout",
     "output_type": "stream",
     "text": [
      "Testing in date range : 2015-05-10 2017-05-10for IVZ\n"
     ]
    },
    {
     "name": "stderr",
     "output_type": "stream",
     "text": [
      "/var/folders/5_/q4stfhx95cb0n8m8bxlc_5280000gn/T/ipykernel_1071/4292821951.py:13: FutureWarning: In a future version of pandas all arguments of DataFrame.drop except for the argument 'labels' will be keyword-only\n",
      "  price = price.drop(['Volume', 'Adj Close'], 1)\n"
     ]
    },
    {
     "name": "stdout",
     "output_type": "stream",
     "text": [
      "strategy maximum drawdown -0.23629999146393707\n",
      "benchmarck maximum drawdwon -43.9\n",
      "strategy maximum drawdown -0.4138905059505353\n"
     ]
    },
    {
     "name": "stderr",
     "output_type": "stream",
     "text": [
      "/var/folders/5_/q4stfhx95cb0n8m8bxlc_5280000gn/T/ipykernel_1071/3614453843.py:14: FutureWarning: In a future version of pandas all arguments of DataFrame.drop except for the argument 'labels' will be keyword-only\n",
      "  price = price.drop(['Volume', 'Adj Close'], 1)\n",
      "/var/folders/5_/q4stfhx95cb0n8m8bxlc_5280000gn/T/ipykernel_1071/954202551.py:15: FutureWarning: In a future version of pandas all arguments of DataFrame.drop except for the argument 'labels' will be keyword-only\n",
      "  price = price.drop(['Volume', 'Adj Close'], 1)\n"
     ]
    },
    {
     "name": "stdout",
     "output_type": "stream",
     "text": [
      "Testing in date range : 2017-09-18 2019-09-18for LYB\n"
     ]
    },
    {
     "name": "stderr",
     "output_type": "stream",
     "text": [
      "/var/folders/5_/q4stfhx95cb0n8m8bxlc_5280000gn/T/ipykernel_1071/4292821951.py:13: FutureWarning: In a future version of pandas all arguments of DataFrame.drop except for the argument 'labels' will be keyword-only\n",
      "  price = price.drop(['Volume', 'Adj Close'], 1)\n"
     ]
    },
    {
     "name": "stdout",
     "output_type": "stream",
     "text": [
      "strategy maximum drawdown -0.18007604082771783\n",
      "benchmarck maximum drawdwon -43.18\n",
      "strategy maximum drawdown -0.346426339817173\n"
     ]
    },
    {
     "name": "stderr",
     "output_type": "stream",
     "text": [
      "/var/folders/5_/q4stfhx95cb0n8m8bxlc_5280000gn/T/ipykernel_1071/3614453843.py:14: FutureWarning: In a future version of pandas all arguments of DataFrame.drop except for the argument 'labels' will be keyword-only\n",
      "  price = price.drop(['Volume', 'Adj Close'], 1)\n",
      "/var/folders/5_/q4stfhx95cb0n8m8bxlc_5280000gn/T/ipykernel_1071/954202551.py:15: FutureWarning: In a future version of pandas all arguments of DataFrame.drop except for the argument 'labels' will be keyword-only\n",
      "  price = price.drop(['Volume', 'Adj Close'], 1)\n"
     ]
    },
    {
     "name": "stdout",
     "output_type": "stream",
     "text": [
      "Testing in date range : 2018-12-31 2020-12-31for AEE\n"
     ]
    },
    {
     "name": "stderr",
     "output_type": "stream",
     "text": [
      "/var/folders/5_/q4stfhx95cb0n8m8bxlc_5280000gn/T/ipykernel_1071/4292821951.py:13: FutureWarning: In a future version of pandas all arguments of DataFrame.drop except for the argument 'labels' will be keyword-only\n",
      "  price = price.drop(['Volume', 'Adj Close'], 1)\n"
     ]
    },
    {
     "name": "stdout",
     "output_type": "stream",
     "text": [
      "strategy maximum drawdown -0.1847848754864612\n",
      "benchmarck maximum drawdwon -29.52\n",
      "strategy maximum drawdown -0.20932428273367096\n"
     ]
    },
    {
     "name": "stderr",
     "output_type": "stream",
     "text": [
      "/var/folders/5_/q4stfhx95cb0n8m8bxlc_5280000gn/T/ipykernel_1071/3614453843.py:14: FutureWarning: In a future version of pandas all arguments of DataFrame.drop except for the argument 'labels' will be keyword-only\n",
      "  price = price.drop(['Volume', 'Adj Close'], 1)\n",
      "/var/folders/5_/q4stfhx95cb0n8m8bxlc_5280000gn/T/ipykernel_1071/954202551.py:15: FutureWarning: In a future version of pandas all arguments of DataFrame.drop except for the argument 'labels' will be keyword-only\n",
      "  price = price.drop(['Volume', 'Adj Close'], 1)\n"
     ]
    },
    {
     "name": "stdout",
     "output_type": "stream",
     "text": [
      "Testing in date range : 2018-03-23 2020-03-23for DUK\n"
     ]
    },
    {
     "name": "stderr",
     "output_type": "stream",
     "text": [
      "/var/folders/5_/q4stfhx95cb0n8m8bxlc_5280000gn/T/ipykernel_1071/4292821951.py:13: FutureWarning: In a future version of pandas all arguments of DataFrame.drop except for the argument 'labels' will be keyword-only\n",
      "  price = price.drop(['Volume', 'Adj Close'], 1)\n"
     ]
    },
    {
     "name": "stdout",
     "output_type": "stream",
     "text": [
      "strategy maximum drawdown -0.14153619656101218\n",
      "benchmarck maximum drawdwon -37.37\n",
      "strategy maximum drawdown -0.25266376454721795\n"
     ]
    },
    {
     "name": "stderr",
     "output_type": "stream",
     "text": [
      "/var/folders/5_/q4stfhx95cb0n8m8bxlc_5280000gn/T/ipykernel_1071/3614453843.py:14: FutureWarning: In a future version of pandas all arguments of DataFrame.drop except for the argument 'labels' will be keyword-only\n",
      "  price = price.drop(['Volume', 'Adj Close'], 1)\n",
      "/var/folders/5_/q4stfhx95cb0n8m8bxlc_5280000gn/T/ipykernel_1071/954202551.py:15: FutureWarning: In a future version of pandas all arguments of DataFrame.drop except for the argument 'labels' will be keyword-only\n",
      "  price = price.drop(['Volume', 'Adj Close'], 1)\n"
     ]
    },
    {
     "name": "stdout",
     "output_type": "stream",
     "text": [
      "Testing in date range : 2020-11-28 2022-11-28for STI\n",
      "data not existing\n",
      "Testing in date range : 2015-08-15 2017-08-15for O\n"
     ]
    },
    {
     "name": "stderr",
     "output_type": "stream",
     "text": [
      "/var/folders/5_/q4stfhx95cb0n8m8bxlc_5280000gn/T/ipykernel_1071/4292821951.py:13: FutureWarning: In a future version of pandas all arguments of DataFrame.drop except for the argument 'labels' will be keyword-only\n",
      "  price = price.drop(['Volume', 'Adj Close'], 1)\n"
     ]
    },
    {
     "name": "stdout",
     "output_type": "stream",
     "text": [
      "strategy maximum drawdown -0.17643915814773864\n",
      "benchmarck maximum drawdwon -26.24\n",
      "strategy maximum drawdown -0.09690686561036599\n"
     ]
    },
    {
     "name": "stderr",
     "output_type": "stream",
     "text": [
      "/var/folders/5_/q4stfhx95cb0n8m8bxlc_5280000gn/T/ipykernel_1071/3614453843.py:14: FutureWarning: In a future version of pandas all arguments of DataFrame.drop except for the argument 'labels' will be keyword-only\n",
      "  price = price.drop(['Volume', 'Adj Close'], 1)\n",
      "/var/folders/5_/q4stfhx95cb0n8m8bxlc_5280000gn/T/ipykernel_1071/954202551.py:15: FutureWarning: In a future version of pandas all arguments of DataFrame.drop except for the argument 'labels' will be keyword-only\n",
      "  price = price.drop(['Volume', 'Adj Close'], 1)\n"
     ]
    },
    {
     "name": "stdout",
     "output_type": "stream",
     "text": [
      "Testing in date range : 2016-10-17 2018-10-17for GT\n"
     ]
    },
    {
     "name": "stderr",
     "output_type": "stream",
     "text": [
      "/var/folders/5_/q4stfhx95cb0n8m8bxlc_5280000gn/T/ipykernel_1071/4292821951.py:13: FutureWarning: In a future version of pandas all arguments of DataFrame.drop except for the argument 'labels' will be keyword-only\n",
      "  price = price.drop(['Volume', 'Adj Close'], 1)\n"
     ]
    },
    {
     "name": "stdout",
     "output_type": "stream",
     "text": [
      "strategy maximum drawdown -0.2440796253493013\n",
      "benchmarck maximum drawdwon -44.41\n",
      "strategy maximum drawdown -0.31856883287797483\n"
     ]
    },
    {
     "name": "stderr",
     "output_type": "stream",
     "text": [
      "/var/folders/5_/q4stfhx95cb0n8m8bxlc_5280000gn/T/ipykernel_1071/3614453843.py:14: FutureWarning: In a future version of pandas all arguments of DataFrame.drop except for the argument 'labels' will be keyword-only\n",
      "  price = price.drop(['Volume', 'Adj Close'], 1)\n",
      "/var/folders/5_/q4stfhx95cb0n8m8bxlc_5280000gn/T/ipykernel_1071/954202551.py:15: FutureWarning: In a future version of pandas all arguments of DataFrame.drop except for the argument 'labels' will be keyword-only\n",
      "  price = price.drop(['Volume', 'Adj Close'], 1)\n"
     ]
    },
    {
     "name": "stdout",
     "output_type": "stream",
     "text": [
      "Testing in date range : 2020-09-14 2022-09-14for DOV\n"
     ]
    },
    {
     "name": "stderr",
     "output_type": "stream",
     "text": [
      "/var/folders/5_/q4stfhx95cb0n8m8bxlc_5280000gn/T/ipykernel_1071/4292821951.py:13: FutureWarning: In a future version of pandas all arguments of DataFrame.drop except for the argument 'labels' will be keyword-only\n",
      "  price = price.drop(['Volume', 'Adj Close'], 1)\n"
     ]
    },
    {
     "name": "stdout",
     "output_type": "stream",
     "text": [
      "strategy maximum drawdown -0.14330869325640186\n",
      "benchmarck maximum drawdwon -35.88\n",
      "strategy maximum drawdown -0.3580075729585161\n"
     ]
    },
    {
     "name": "stderr",
     "output_type": "stream",
     "text": [
      "/var/folders/5_/q4stfhx95cb0n8m8bxlc_5280000gn/T/ipykernel_1071/3614453843.py:14: FutureWarning: In a future version of pandas all arguments of DataFrame.drop except for the argument 'labels' will be keyword-only\n",
      "  price = price.drop(['Volume', 'Adj Close'], 1)\n",
      "/var/folders/5_/q4stfhx95cb0n8m8bxlc_5280000gn/T/ipykernel_1071/954202551.py:15: FutureWarning: In a future version of pandas all arguments of DataFrame.drop except for the argument 'labels' will be keyword-only\n",
      "  price = price.drop(['Volume', 'Adj Close'], 1)\n"
     ]
    },
    {
     "name": "stdout",
     "output_type": "stream",
     "text": [
      "Testing in date range : 2012-08-01 2014-08-01for LUK\n",
      "data not existing\n",
      "Testing in date range : 2014-04-22 2016-04-22for SNA\n"
     ]
    },
    {
     "name": "stderr",
     "output_type": "stream",
     "text": [
      "/var/folders/5_/q4stfhx95cb0n8m8bxlc_5280000gn/T/ipykernel_1071/4292821951.py:13: FutureWarning: In a future version of pandas all arguments of DataFrame.drop except for the argument 'labels' will be keyword-only\n",
      "  price = price.drop(['Volume', 'Adj Close'], 1)\n"
     ]
    },
    {
     "name": "stdout",
     "output_type": "stream",
     "text": [
      "strategy maximum drawdown -0.14906603767973026\n",
      "benchmarck maximum drawdwon -22.22\n",
      "strategy maximum drawdown -0.22155212798644577\n"
     ]
    },
    {
     "name": "stderr",
     "output_type": "stream",
     "text": [
      "/var/folders/5_/q4stfhx95cb0n8m8bxlc_5280000gn/T/ipykernel_1071/3614453843.py:14: FutureWarning: In a future version of pandas all arguments of DataFrame.drop except for the argument 'labels' will be keyword-only\n",
      "  price = price.drop(['Volume', 'Adj Close'], 1)\n",
      "/var/folders/5_/q4stfhx95cb0n8m8bxlc_5280000gn/T/ipykernel_1071/954202551.py:15: FutureWarning: In a future version of pandas all arguments of DataFrame.drop except for the argument 'labels' will be keyword-only\n",
      "  price = price.drop(['Volume', 'Adj Close'], 1)\n"
     ]
    },
    {
     "name": "stdout",
     "output_type": "stream",
     "text": [
      "Testing in date range : 2018-11-21 2020-11-21for BEN\n"
     ]
    },
    {
     "name": "stderr",
     "output_type": "stream",
     "text": [
      "/var/folders/5_/q4stfhx95cb0n8m8bxlc_5280000gn/T/ipykernel_1071/4292821951.py:13: FutureWarning: In a future version of pandas all arguments of DataFrame.drop except for the argument 'labels' will be keyword-only\n",
      "  price = price.drop(['Volume', 'Adj Close'], 1)\n"
     ]
    },
    {
     "name": "stdout",
     "output_type": "stream",
     "text": [
      "strategy maximum drawdown -0.30161110494677806\n",
      "benchmarck maximum drawdwon -57.11\n",
      "strategy maximum drawdown -0.5133777275112547\n"
     ]
    },
    {
     "name": "stderr",
     "output_type": "stream",
     "text": [
      "/var/folders/5_/q4stfhx95cb0n8m8bxlc_5280000gn/T/ipykernel_1071/3614453843.py:14: FutureWarning: In a future version of pandas all arguments of DataFrame.drop except for the argument 'labels' will be keyword-only\n",
      "  price = price.drop(['Volume', 'Adj Close'], 1)\n",
      "/var/folders/5_/q4stfhx95cb0n8m8bxlc_5280000gn/T/ipykernel_1071/954202551.py:15: FutureWarning: In a future version of pandas all arguments of DataFrame.drop except for the argument 'labels' will be keyword-only\n",
      "  price = price.drop(['Volume', 'Adj Close'], 1)\n"
     ]
    },
    {
     "name": "stdout",
     "output_type": "stream",
     "text": [
      "Testing in date range : 2012-05-18 2014-05-18for UNP\n"
     ]
    },
    {
     "name": "stderr",
     "output_type": "stream",
     "text": [
      "/var/folders/5_/q4stfhx95cb0n8m8bxlc_5280000gn/T/ipykernel_1071/4292821951.py:13: FutureWarning: In a future version of pandas all arguments of DataFrame.drop except for the argument 'labels' will be keyword-only\n",
      "  price = price.drop(['Volume', 'Adj Close'], 1)\n"
     ]
    },
    {
     "name": "stdout",
     "output_type": "stream",
     "text": [
      "strategy maximum drawdown -0.1517689990422137\n",
      "benchmarck maximum drawdwon -8.54\n",
      "strategy maximum drawdown 0.0\n"
     ]
    },
    {
     "name": "stderr",
     "output_type": "stream",
     "text": [
      "/var/folders/5_/q4stfhx95cb0n8m8bxlc_5280000gn/T/ipykernel_1071/3614453843.py:14: FutureWarning: In a future version of pandas all arguments of DataFrame.drop except for the argument 'labels' will be keyword-only\n",
      "  price = price.drop(['Volume', 'Adj Close'], 1)\n",
      "/var/folders/5_/q4stfhx95cb0n8m8bxlc_5280000gn/T/ipykernel_1071/954202551.py:15: FutureWarning: In a future version of pandas all arguments of DataFrame.drop except for the argument 'labels' will be keyword-only\n",
      "  price = price.drop(['Volume', 'Adj Close'], 1)\n"
     ]
    },
    {
     "name": "stdout",
     "output_type": "stream",
     "text": [
      "Testing in date range : 2019-06-30 2021-06-30for GPC\n"
     ]
    },
    {
     "name": "stderr",
     "output_type": "stream",
     "text": [
      "/var/folders/5_/q4stfhx95cb0n8m8bxlc_5280000gn/T/ipykernel_1071/4292821951.py:13: FutureWarning: In a future version of pandas all arguments of DataFrame.drop except for the argument 'labels' will be keyword-only\n",
      "  price = price.drop(['Volume', 'Adj Close'], 1)\n"
     ]
    },
    {
     "name": "stdout",
     "output_type": "stream",
     "text": [
      "strategy maximum drawdown -0.18446926353600804\n",
      "benchmarck maximum drawdwon -53.32\n",
      "strategy maximum drawdown -0.5063842621997361\n"
     ]
    },
    {
     "name": "stderr",
     "output_type": "stream",
     "text": [
      "/var/folders/5_/q4stfhx95cb0n8m8bxlc_5280000gn/T/ipykernel_1071/3614453843.py:14: FutureWarning: In a future version of pandas all arguments of DataFrame.drop except for the argument 'labels' will be keyword-only\n",
      "  price = price.drop(['Volume', 'Adj Close'], 1)\n",
      "/var/folders/5_/q4stfhx95cb0n8m8bxlc_5280000gn/T/ipykernel_1071/954202551.py:15: FutureWarning: In a future version of pandas all arguments of DataFrame.drop except for the argument 'labels' will be keyword-only\n",
      "  price = price.drop(['Volume', 'Adj Close'], 1)\n"
     ]
    },
    {
     "name": "stdout",
     "output_type": "stream",
     "text": [
      "Testing in date range : 2015-06-20 2017-06-20for RSG\n"
     ]
    },
    {
     "name": "stderr",
     "output_type": "stream",
     "text": [
      "/var/folders/5_/q4stfhx95cb0n8m8bxlc_5280000gn/T/ipykernel_1071/4292821951.py:13: FutureWarning: In a future version of pandas all arguments of DataFrame.drop except for the argument 'labels' will be keyword-only\n",
      "  price = price.drop(['Volume', 'Adj Close'], 1)\n"
     ]
    },
    {
     "name": "stdout",
     "output_type": "stream",
     "text": [
      "strategy maximum drawdown -0.07355889208887209\n",
      "benchmarck maximum drawdwon -8.85\n",
      "strategy maximum drawdown -0.06736973998295566\n"
     ]
    },
    {
     "name": "stderr",
     "output_type": "stream",
     "text": [
      "/var/folders/5_/q4stfhx95cb0n8m8bxlc_5280000gn/T/ipykernel_1071/3614453843.py:14: FutureWarning: In a future version of pandas all arguments of DataFrame.drop except for the argument 'labels' will be keyword-only\n",
      "  price = price.drop(['Volume', 'Adj Close'], 1)\n",
      "/var/folders/5_/q4stfhx95cb0n8m8bxlc_5280000gn/T/ipykernel_1071/954202551.py:15: FutureWarning: In a future version of pandas all arguments of DataFrame.drop except for the argument 'labels' will be keyword-only\n",
      "  price = price.drop(['Volume', 'Adj Close'], 1)\n"
     ]
    },
    {
     "name": "stdout",
     "output_type": "stream",
     "text": [
      "Testing in date range : 2020-10-01 2022-10-01for OXY\n"
     ]
    },
    {
     "name": "stderr",
     "output_type": "stream",
     "text": [
      "/var/folders/5_/q4stfhx95cb0n8m8bxlc_5280000gn/T/ipykernel_1071/4292821951.py:13: FutureWarning: In a future version of pandas all arguments of DataFrame.drop except for the argument 'labels' will be keyword-only\n",
      "  price = price.drop(['Volume', 'Adj Close'], 1)\n"
     ]
    },
    {
     "name": "stdout",
     "output_type": "stream",
     "text": [
      "strategy maximum drawdown -0.18860602724523806\n",
      "benchmarck maximum drawdwon -33.3\n",
      "strategy maximum drawdown -0.0877698740179636\n"
     ]
    },
    {
     "name": "stderr",
     "output_type": "stream",
     "text": [
      "/var/folders/5_/q4stfhx95cb0n8m8bxlc_5280000gn/T/ipykernel_1071/3614453843.py:14: FutureWarning: In a future version of pandas all arguments of DataFrame.drop except for the argument 'labels' will be keyword-only\n",
      "  price = price.drop(['Volume', 'Adj Close'], 1)\n",
      "/var/folders/5_/q4stfhx95cb0n8m8bxlc_5280000gn/T/ipykernel_1071/954202551.py:15: FutureWarning: In a future version of pandas all arguments of DataFrame.drop except for the argument 'labels' will be keyword-only\n",
      "  price = price.drop(['Volume', 'Adj Close'], 1)\n"
     ]
    },
    {
     "name": "stdout",
     "output_type": "stream",
     "text": [
      "Testing in date range : 2019-08-07 2021-08-07for SLG\n"
     ]
    },
    {
     "name": "stderr",
     "output_type": "stream",
     "text": [
      "/var/folders/5_/q4stfhx95cb0n8m8bxlc_5280000gn/T/ipykernel_1071/4292821951.py:13: FutureWarning: In a future version of pandas all arguments of DataFrame.drop except for the argument 'labels' will be keyword-only\n",
      "  price = price.drop(['Volume', 'Adj Close'], 1)\n"
     ]
    },
    {
     "name": "stdout",
     "output_type": "stream",
     "text": [
      "strategy maximum drawdown -0.4573058709462004\n",
      "benchmarck maximum drawdwon -61.54\n",
      "strategy maximum drawdown -0.5678734760284424\n"
     ]
    },
    {
     "name": "stderr",
     "output_type": "stream",
     "text": [
      "/var/folders/5_/q4stfhx95cb0n8m8bxlc_5280000gn/T/ipykernel_1071/3614453843.py:14: FutureWarning: In a future version of pandas all arguments of DataFrame.drop except for the argument 'labels' will be keyword-only\n",
      "  price = price.drop(['Volume', 'Adj Close'], 1)\n",
      "/var/folders/5_/q4stfhx95cb0n8m8bxlc_5280000gn/T/ipykernel_1071/954202551.py:15: FutureWarning: In a future version of pandas all arguments of DataFrame.drop except for the argument 'labels' will be keyword-only\n",
      "  price = price.drop(['Volume', 'Adj Close'], 1)\n"
     ]
    },
    {
     "name": "stdout",
     "output_type": "stream",
     "text": [
      "Testing in date range : 2018-10-09 2020-10-09for GOOGL\n"
     ]
    },
    {
     "name": "stderr",
     "output_type": "stream",
     "text": [
      "/var/folders/5_/q4stfhx95cb0n8m8bxlc_5280000gn/T/ipykernel_1071/4292821951.py:13: FutureWarning: In a future version of pandas all arguments of DataFrame.drop except for the argument 'labels' will be keyword-only\n",
      "  price = price.drop(['Volume', 'Adj Close'], 1)\n"
     ]
    },
    {
     "name": "stdout",
     "output_type": "stream",
     "text": [
      "strategy maximum drawdown -0.13346168212890624\n",
      "benchmarck maximum drawdwon -30.87\n",
      "strategy maximum drawdown -0.23931338575687253\n"
     ]
    },
    {
     "name": "stderr",
     "output_type": "stream",
     "text": [
      "/var/folders/5_/q4stfhx95cb0n8m8bxlc_5280000gn/T/ipykernel_1071/3614453843.py:14: FutureWarning: In a future version of pandas all arguments of DataFrame.drop except for the argument 'labels' will be keyword-only\n",
      "  price = price.drop(['Volume', 'Adj Close'], 1)\n",
      "/var/folders/5_/q4stfhx95cb0n8m8bxlc_5280000gn/T/ipykernel_1071/954202551.py:15: FutureWarning: In a future version of pandas all arguments of DataFrame.drop except for the argument 'labels' will be keyword-only\n",
      "  price = price.drop(['Volume', 'Adj Close'], 1)\n"
     ]
    },
    {
     "name": "stdout",
     "output_type": "stream",
     "text": [
      "Testing in date range : 2020-09-08 2022-09-08for IBM\n"
     ]
    },
    {
     "name": "stderr",
     "output_type": "stream",
     "text": [
      "/var/folders/5_/q4stfhx95cb0n8m8bxlc_5280000gn/T/ipykernel_1071/4292821951.py:13: FutureWarning: In a future version of pandas all arguments of DataFrame.drop except for the argument 'labels' will be keyword-only\n",
      "  price = price.drop(['Volume', 'Adj Close'], 1)\n"
     ]
    },
    {
     "name": "stdout",
     "output_type": "stream",
     "text": [
      "strategy maximum drawdown -0.17389494039973888\n",
      "benchmarck maximum drawdwon -19.93\n",
      "strategy maximum drawdown -0.09874089842124713\n"
     ]
    },
    {
     "name": "stderr",
     "output_type": "stream",
     "text": [
      "/var/folders/5_/q4stfhx95cb0n8m8bxlc_5280000gn/T/ipykernel_1071/3614453843.py:14: FutureWarning: In a future version of pandas all arguments of DataFrame.drop except for the argument 'labels' will be keyword-only\n",
      "  price = price.drop(['Volume', 'Adj Close'], 1)\n",
      "/var/folders/5_/q4stfhx95cb0n8m8bxlc_5280000gn/T/ipykernel_1071/954202551.py:15: FutureWarning: In a future version of pandas all arguments of DataFrame.drop except for the argument 'labels' will be keyword-only\n",
      "  price = price.drop(['Volume', 'Adj Close'], 1)\n"
     ]
    },
    {
     "name": "stdout",
     "output_type": "stream",
     "text": [
      "Testing in date range : 2018-04-11 2020-04-11for CLX\n"
     ]
    },
    {
     "name": "stderr",
     "output_type": "stream",
     "text": [
      "/var/folders/5_/q4stfhx95cb0n8m8bxlc_5280000gn/T/ipykernel_1071/4292821951.py:13: FutureWarning: In a future version of pandas all arguments of DataFrame.drop except for the argument 'labels' will be keyword-only\n",
      "  price = price.drop(['Volume', 'Adj Close'], 1)\n"
     ]
    },
    {
     "name": "stdout",
     "output_type": "stream",
     "text": [
      "strategy maximum drawdown -0.3834758319526066\n",
      "benchmarck maximum drawdwon -16.28\n",
      "strategy maximum drawdown -0.08992946971829284\n"
     ]
    },
    {
     "name": "stderr",
     "output_type": "stream",
     "text": [
      "/var/folders/5_/q4stfhx95cb0n8m8bxlc_5280000gn/T/ipykernel_1071/3614453843.py:14: FutureWarning: In a future version of pandas all arguments of DataFrame.drop except for the argument 'labels' will be keyword-only\n",
      "  price = price.drop(['Volume', 'Adj Close'], 1)\n"
     ]
    },
    {
     "name": "stdout",
     "output_type": "stream",
     "text": [
      "(149.59805397079057, 125.35549118492334, 120.67931469864314, 121.47010288582906, 109.07109214180048, 123.09083050462937)\n"
     ]
    },
    {
     "name": "stderr",
     "output_type": "stream",
     "text": [
      "/var/folders/5_/q4stfhx95cb0n8m8bxlc_5280000gn/T/ipykernel_1071/954202551.py:15: FutureWarning: In a future version of pandas all arguments of DataFrame.drop except for the argument 'labels' will be keyword-only\n",
      "  price = price.drop(['Volume', 'Adj Close'], 1)\n"
     ]
    }
   ],
   "source": [
    "import random\n",
    "from datetime import date, timedelta\n",
    "df = pd.read_csv('constituents_csv.csv')\n",
    "test_date1, test_date2 = date(2012, 1, 1), date(2021, 1, 1)\n",
    "\n",
    "\n",
    "# records cumulative profit results of the strategies and benchmark\n",
    "cum_benchmark = []\n",
    "cum_macd = []\n",
    "cum_rsi = []\n",
    "cum_bollinger = []\n",
    "cum_breakout = []\n",
    "cum_macd_breakout =[]\n",
    "\n",
    "# records cumulative profit when the price went down from the beginning.\n",
    "cum_benchmark_L = []\n",
    "cum_macd_L = []\n",
    "cum_rsi_L = []\n",
    "cum_bollinger_L = []\n",
    "cum_breakout_L = []\n",
    "cum_macd_breakout_L =[]\n",
    "\n",
    "# records cumulative profit when the price went up from the beginning.\n",
    "cum_benchmark_W = []\n",
    "cum_macd_W = []\n",
    "cum_rsi_W = []\n",
    "cum_bollinger_W = []\n",
    "cum_breakout_W = []\n",
    "cum_macd_breakout_W =[]\n",
    "\n",
    "\n",
    "for i in range(50):\n",
    "    #randmly select symbol from s&p500\n",
    "    random_number = random.randint(1,500)\n",
    "    symbol = df['Symbol'][random_number]\n",
    "    \n",
    "    # getting days between dates\n",
    "    dates_bet = test_date2 - test_date1\n",
    "    total_days = dates_bet.days\n",
    "    random.seed(a=None)\n",
    "    randay = random.randrange(total_days)\n",
    "    start = test_date1 + timedelta(days=randay)\n",
    "    end = start.replace(start.year + 2)\n",
    "    try:\n",
    "        print(\"Testing in date range : \" + str(start) + \" \" + str(end) +\"for \" + str(symbol))\n",
    "        price = pdr.get_data_yahoo(symbol, start, end)\n",
    "        result_macd= macd_strategy(symbol, start, end)\n",
    "        result_rsi = rsi_strategy(symbol, start, end)\n",
    "        result_bollinger = bollinger_band_strategy(symbol, start,end)\n",
    "        result_breakout = breakout_strategy(symbol, start, end,0.5)\n",
    "        result = MACD_BREAKOUT_STRATEGY(symbol, start, end, 0.5)\n",
    "        cum_benchmark.append(((result_rsi['Close'][-1]/result_rsi['Close'][0]))*100)\n",
    "        cum_macd.append((result_macd['MACD'][-1]/10000)*100)\n",
    "        cum_rsi.append((result_rsi['RSI_strategy'][-1]/10000)*100)\n",
    "        cum_bollinger.append((result_bollinger['Bollinger'][-1]/10000)*100)\n",
    "        cum_breakout.append((result_breakout['breakout'][-1]/10000)*100)\n",
    "        cum_macd_breakout.append((result['MACD'][-1]/10000)*100)\n",
    "\n",
    "        if (result_rsi['Close'][-1]/result_rsi['Close'][0])>1:\n",
    "            cum_benchmark_W.append(((result_rsi['Close'][-1]/result_rsi['Close'][0]))*100)\n",
    "            cum_macd_W.append((result_macd['MACD'][-1]/10000)*100)\n",
    "            cum_rsi_W.append((result_rsi['RSI_strategy'][-1]/10000)*100)\n",
    "            cum_bollinger_W.append((result_bollinger['Bollinger'][-1]/10000)*100)\n",
    "            cum_breakout_W.append((result_breakout['breakout'][-1]/10000)*100)\n",
    "            cum_macd_breakout_W.append((result['MACD'][-1]/10000)*100)\n",
    "        else: \n",
    "            cum_benchmark_L.append(((result_rsi['Close'][-1]/result_rsi['Close'][0]))*100)\n",
    "            cum_macd_L.append((result_macd['MACD'][-1]/10000)*100)\n",
    "            cum_rsi_L.append((result_rsi['RSI_strategy'][-1]/10000)*100)\n",
    "            cum_bollinger_L.append((result_bollinger['Bollinger'][-1]/10000)*100)\n",
    "            cum_breakout_L.append((result_breakout['breakout'][-1]/10000)*100)\n",
    "            cum_macd_breakout_L.append((result['MACD'][-1]/10000)*100)\n",
    "    except:\n",
    "        print(\"data not existing\")\n",
    "cumulative = (sum(cum_benchmark)/len(cum_benchmark),sum(cum_macd)/len(cum_macd),sum(cum_rsi)/len(cum_rsi),sum(cum_bollinger)/len(cum_bollinger),sum(cum_breakout)/len(cum_breakout),sum(cum_macd_breakout)/len(cum_macd_breakout))\n",
    "cumulative_W = (sum(cum_benchmark_W)/len(cum_benchmark_W),sum(cum_macd_W)/len(cum_macd_W),sum(cum_rsi_W)/len(cum_rsi_W),sum(cum_bollinger_W)/len(cum_bollinger_W),sum(cum_breakout_W)/len(cum_breakout_W),sum(cum_macd_breakout_W)/len(cum_macd_breakout_W))\n",
    "cumulative_L = (sum(cum_benchmark_L)/len(cum_benchmark_L),sum(cum_macd_L)/len(cum_macd_L),sum(cum_rsi_L)/len(cum_rsi_L),sum(cum_bollinger_L)/len(cum_bollinger_L),sum(cum_breakout_L)/len(cum_breakout_L),sum(cum_macd_breakout_L)/len(cum_macd_breakout_L))\n",
    "print(cumulative_W)"
   ]
  },
  {
   "cell_type": "code",
   "execution_count": 47,
   "metadata": {},
   "outputs": [
    {
     "data": {
      "text/plain": [
       "<BarContainer object of 6 artists>"
      ]
     },
     "execution_count": 47,
     "metadata": {},
     "output_type": "execute_result"
    },
    {
     "data": {
      "image/png": "[encoded data removed]",
      "text/plain": [
       "<Figure size 432x288 with 1 Axes>"
      ]
     },
     "metadata": {
      "needs_background": "light"
     },
     "output_type": "display_data"
    }
   ],
   "source": [
    "plt.bar(['benchmark','macd','rsi','bollinger','breakout','macd breakout'],cumulative)"
   ]
  },
  {
   "cell_type": "code",
   "execution_count": 48,
   "metadata": {},
   "outputs": [
    {
     "name": "stdout",
     "output_type": "stream",
     "text": [
      "The testing range : 2020-06-25 2022-06-25\n"
     ]
    },
    {
     "ename": "RemoteDataError",
     "evalue": "No data fetched for symbol FLIR using YahooDailyReader",
     "output_type": "error",
     "traceback": [
      "\u001b[0;31m---------------------------------------------------------------------------\u001b[0m",
      "\u001b[0;31mKeyError\u001b[0m                                  Traceback (most recent call last)",
      "\u001b[0;32m/Library/Frameworks/Python.framework/Versions/3.8/lib/python3.8/site-packages/pandas_datareader/yahoo/daily.py\u001b[0m in \u001b[0;36m_read_one_data\u001b[0;34m(self, url, params)\u001b[0m\n\u001b[1;32m    152\u001b[0m             \u001b[0mj\u001b[0m \u001b[0;34m=\u001b[0m \u001b[0mjson\u001b[0m\u001b[0;34m.\u001b[0m\u001b[0mloads\u001b[0m\u001b[0;34m(\u001b[0m\u001b[0mre\u001b[0m\u001b[0;34m.\u001b[0m\u001b[0msearch\u001b[0m\u001b[0;34m(\u001b[0m\u001b[0mptrn\u001b[0m\u001b[0;34m,\u001b[0m \u001b[0mresp\u001b[0m\u001b[0;34m.\u001b[0m\u001b[0mtext\u001b[0m\u001b[0;34m,\u001b[0m \u001b[0mre\u001b[0m\u001b[0;34m.\u001b[0m\u001b[0mDOTALL\u001b[0m\u001b[0;34m)\u001b[0m\u001b[0;34m.\u001b[0m\u001b[0mgroup\u001b[0m\u001b[0;34m(\u001b[0m\u001b[0;36m1\u001b[0m\u001b[0;34m)\u001b[0m\u001b[0;34m)\u001b[0m\u001b[0;34m\u001b[0m\u001b[0;34m\u001b[0m\u001b[0m\n\u001b[0;32m--> 153\u001b[0;31m             \u001b[0mdata\u001b[0m \u001b[0;34m=\u001b[0m \u001b[0mj\u001b[0m\u001b[0;34m[\u001b[0m\u001b[0;34m\"context\"\u001b[0m\u001b[0;34m]\u001b[0m\u001b[0;34m[\u001b[0m\u001b[0;34m\"dispatcher\"\u001b[0m\u001b[0;34m]\u001b[0m\u001b[0;34m[\u001b[0m\u001b[0;34m\"stores\"\u001b[0m\u001b[0;34m]\u001b[0m\u001b[0;34m[\u001b[0m\u001b[0;34m\"HistoricalPriceStore\"\u001b[0m\u001b[0;34m]\u001b[0m\u001b[0;34m\u001b[0m\u001b[0;34m\u001b[0m\u001b[0m\n\u001b[0m\u001b[1;32m    154\u001b[0m         \u001b[0;32mexcept\u001b[0m \u001b[0mKeyError\u001b[0m\u001b[0;34m:\u001b[0m\u001b[0;34m\u001b[0m\u001b[0;34m\u001b[0m\u001b[0m\n",
      "\u001b[0;31mKeyError\u001b[0m: 'HistoricalPriceStore'",
      "\nDuring handling of the above exception, another exception occurred:\n",
      "\u001b[0;31mRemoteDataError\u001b[0m                           Traceback (most recent call last)",
      "\u001b[0;32m/var/folders/5_/q4stfhx95cb0n8m8bxlc_5280000gn/T/ipykernel_1071/4034010761.py\u001b[0m in \u001b[0;36m<module>\u001b[0;34m\u001b[0m\n\u001b[1;32m     71\u001b[0m \u001b[0;34m\u001b[0m\u001b[0m\n\u001b[1;32m     72\u001b[0m \u001b[0;34m\u001b[0m\u001b[0m\n\u001b[0;32m---> 73\u001b[0;31m \u001b[0mprice\u001b[0m \u001b[0;34m=\u001b[0m \u001b[0mpdr\u001b[0m\u001b[0;34m.\u001b[0m\u001b[0mget_data_yahoo\u001b[0m\u001b[0;34m(\u001b[0m\u001b[0msymbol\u001b[0m\u001b[0;34m,\u001b[0m \u001b[0mstart\u001b[0m\u001b[0;34m,\u001b[0m \u001b[0mend\u001b[0m\u001b[0;34m)\u001b[0m\u001b[0;34m\u001b[0m\u001b[0;34m\u001b[0m\u001b[0m\n\u001b[0m\u001b[1;32m     74\u001b[0m \u001b[0mprice_change\u001b[0m \u001b[0;34m=\u001b[0m \u001b[0;34m[\u001b[0m\u001b[0;34m]\u001b[0m\u001b[0;34m\u001b[0m\u001b[0;34m\u001b[0m\u001b[0m\n\u001b[1;32m     75\u001b[0m \u001b[0;32mfor\u001b[0m \u001b[0mi\u001b[0m \u001b[0;32min\u001b[0m \u001b[0mrange\u001b[0m\u001b[0;34m(\u001b[0m\u001b[0;36m1\u001b[0m\u001b[0;34m,\u001b[0m \u001b[0mlen\u001b[0m\u001b[0;34m(\u001b[0m\u001b[0mprice\u001b[0m\u001b[0;34m)\u001b[0m\u001b[0;34m)\u001b[0m\u001b[0;34m:\u001b[0m\u001b[0;34m\u001b[0m\u001b[0;34m\u001b[0m\u001b[0m\n",
      "\u001b[0;32m/Library/Frameworks/Python.framework/Versions/3.8/lib/python3.8/site-packages/pandas_datareader/data.py\u001b[0m in \u001b[0;36mget_data_yahoo\u001b[0;34m(*args, **kwargs)\u001b[0m\n\u001b[1;32m     78\u001b[0m \u001b[0;34m\u001b[0m\u001b[0m\n\u001b[1;32m     79\u001b[0m \u001b[0;32mdef\u001b[0m \u001b[0mget_data_yahoo\u001b[0m\u001b[0;34m(\u001b[0m\u001b[0;34m*\u001b[0m\u001b[0margs\u001b[0m\u001b[0;34m,\u001b[0m \u001b[0;34m**\u001b[0m\u001b[0mkwargs\u001b[0m\u001b[0;34m)\u001b[0m\u001b[0;34m:\u001b[0m\u001b[0;34m\u001b[0m\u001b[0;34m\u001b[0m\u001b[0m\n\u001b[0;32m---> 80\u001b[0;31m     \u001b[0;32mreturn\u001b[0m \u001b[0mYahooDailyReader\u001b[0m\u001b[0;34m(\u001b[0m\u001b[0;34m*\u001b[0m\u001b[0margs\u001b[0m\u001b[0;34m,\u001b[0m \u001b[0;34m**\u001b[0m\u001b[0mkwargs\u001b[0m\u001b[0;34m)\u001b[0m\u001b[0;34m.\u001b[0m\u001b[0mread\u001b[0m\u001b[0;34m(\u001b[0m\u001b[0;34m)\u001b[0m\u001b[0;34m\u001b[0m\u001b[0;34m\u001b[0m\u001b[0m\n\u001b[0m\u001b[1;32m     81\u001b[0m \u001b[0;34m\u001b[0m\u001b[0m\n\u001b[1;32m     82\u001b[0m \u001b[0;34m\u001b[0m\u001b[0m\n",
      "\u001b[0;32m/Library/Frameworks/Python.framework/Versions/3.8/lib/python3.8/site-packages/pandas_datareader/base.py\u001b[0m in \u001b[0;36mread\u001b[0;34m(self)\u001b[0m\n\u001b[1;32m    251\u001b[0m         \u001b[0;31m# If a single symbol, (e.g., 'GOOG')\u001b[0m\u001b[0;34m\u001b[0m\u001b[0;34m\u001b[0m\u001b[0;34m\u001b[0m\u001b[0m\n\u001b[1;32m    252\u001b[0m         \u001b[0;32mif\u001b[0m \u001b[0misinstance\u001b[0m\u001b[0;34m(\u001b[0m\u001b[0mself\u001b[0m\u001b[0;34m.\u001b[0m\u001b[0msymbols\u001b[0m\u001b[0;34m,\u001b[0m \u001b[0;34m(\u001b[0m\u001b[0mstring_types\u001b[0m\u001b[0;34m,\u001b[0m \u001b[0mint\u001b[0m\u001b[0;34m)\u001b[0m\u001b[0;34m)\u001b[0m\u001b[0;34m:\u001b[0m\u001b[0;34m\u001b[0m\u001b[0;34m\u001b[0m\u001b[0m\n\u001b[0;32m--> 253\u001b[0;31m             \u001b[0mdf\u001b[0m \u001b[0;34m=\u001b[0m \u001b[0mself\u001b[0m\u001b[0;34m.\u001b[0m\u001b[0m_read_one_data\u001b[0m\u001b[0;34m(\u001b[0m\u001b[0mself\u001b[0m\u001b[0;34m.\u001b[0m\u001b[0murl\u001b[0m\u001b[0;34m,\u001b[0m \u001b[0mparams\u001b[0m\u001b[0;34m=\u001b[0m\u001b[0mself\u001b[0m\u001b[0;34m.\u001b[0m\u001b[0m_get_params\u001b[0m\u001b[0;34m(\u001b[0m\u001b[0mself\u001b[0m\u001b[0;34m.\u001b[0m\u001b[0msymbols\u001b[0m\u001b[0;34m)\u001b[0m\u001b[0;34m)\u001b[0m\u001b[0;34m\u001b[0m\u001b[0;34m\u001b[0m\u001b[0m\n\u001b[0m\u001b[1;32m    254\u001b[0m         \u001b[0;31m# Or multiple symbols, (e.g., ['GOOG', 'AAPL', 'MSFT'])\u001b[0m\u001b[0;34m\u001b[0m\u001b[0;34m\u001b[0m\u001b[0;34m\u001b[0m\u001b[0m\n\u001b[1;32m    255\u001b[0m         \u001b[0;32melif\u001b[0m \u001b[0misinstance\u001b[0m\u001b[0;34m(\u001b[0m\u001b[0mself\u001b[0m\u001b[0;34m.\u001b[0m\u001b[0msymbols\u001b[0m\u001b[0;34m,\u001b[0m \u001b[0mDataFrame\u001b[0m\u001b[0;34m)\u001b[0m\u001b[0;34m:\u001b[0m\u001b[0;34m\u001b[0m\u001b[0;34m\u001b[0m\u001b[0m\n",
      "\u001b[0;32m/Library/Frameworks/Python.framework/Versions/3.8/lib/python3.8/site-packages/pandas_datareader/yahoo/daily.py\u001b[0m in \u001b[0;36m_read_one_data\u001b[0;34m(self, url, params)\u001b[0m\n\u001b[1;32m    154\u001b[0m         \u001b[0;32mexcept\u001b[0m \u001b[0mKeyError\u001b[0m\u001b[0;34m:\u001b[0m\u001b[0;34m\u001b[0m\u001b[0;34m\u001b[0m\u001b[0m\n\u001b[1;32m    155\u001b[0m             \u001b[0mmsg\u001b[0m \u001b[0;34m=\u001b[0m \u001b[0;34m\"No data fetched for symbol {} using {}\"\u001b[0m\u001b[0;34m\u001b[0m\u001b[0;34m\u001b[0m\u001b[0m\n\u001b[0;32m--> 156\u001b[0;31m             \u001b[0;32mraise\u001b[0m \u001b[0mRemoteDataError\u001b[0m\u001b[0;34m(\u001b[0m\u001b[0mmsg\u001b[0m\u001b[0;34m.\u001b[0m\u001b[0mformat\u001b[0m\u001b[0;34m(\u001b[0m\u001b[0msymbol\u001b[0m\u001b[0;34m,\u001b[0m \u001b[0mself\u001b[0m\u001b[0;34m.\u001b[0m\u001b[0m__class__\u001b[0m\u001b[0;34m.\u001b[0m\u001b[0m__name__\u001b[0m\u001b[0;34m)\u001b[0m\u001b[0;34m)\u001b[0m\u001b[0;34m\u001b[0m\u001b[0;34m\u001b[0m\u001b[0m\n\u001b[0m\u001b[1;32m    157\u001b[0m \u001b[0;34m\u001b[0m\u001b[0m\n\u001b[1;32m    158\u001b[0m         \u001b[0;31m# price data\u001b[0m\u001b[0;34m\u001b[0m\u001b[0;34m\u001b[0m\u001b[0;34m\u001b[0m\u001b[0m\n",
      "\u001b[0;31mRemoteDataError\u001b[0m: No data fetched for symbol FLIR using YahooDailyReader"
     ]
    }
   ],
   "source": [
    "import random\n",
    "df = pd.read_csv('constituents_csv.csv')\n",
    "random_number = random.randint(1,500)\n",
    "symbol = df['Symbol'][random_number]\n",
    "\n",
    "from datetime import date, timedelta\n",
    "\n",
    "# initializing dates ranges \n",
    "test_date1, test_date2 = date(2011, 1, 1), date(2020, 10, 1)\n",
    "  \n",
    "\n",
    "# getting days between dates\n",
    "dates_bet = test_date2 - test_date1\n",
    "total_days = dates_bet.days\n",
    "  \n",
    "random.seed(a=None)\n",
    "randay = random.randrange(total_days)\n",
    "start = test_date1 + timedelta(days=randay)\n",
    "end = start.replace(start.year + 2)\n",
    "# printing dates \n",
    "print(\"The testing range : \" + str(start) + \" \" + str(end))\n",
    "\n",
    "\n",
    "\n",
    "\n",
    "\n",
    "def bullish_bearish(arr, price, k):\n",
    "\n",
    "\t\"\"\" Finds bullish and bearish periods with O(n) complexity\n",
    "\tParameters:\n",
    "\tarr (arr): An array of daily price changes in percentage. (today's closing price - yesterday's closing price)\n",
    "\tprice (dataframe): pandas dataframe that include closing price of a stock\n",
    "\tk (int): length of a period in days. If k=30, then we find bullish period that's a month long\n",
    "\n",
    "\tReturns:\n",
    "\tbullsih (arr): A list of index where the next 30 days price change meets the bullish market conditions\n",
    "\tbearish (arr): A list of index where the next 30 days price change meets the bearish market conditions\n",
    "\t\"\"\"\n",
    "\t# length of the array\n",
    "\tn = len(arr)\n",
    "\n",
    "\t# n must be greater than k\n",
    "\tif n < k:\n",
    "\t\tprint(\"Invalid\")\n",
    "\t\treturn -1\n",
    "\n",
    "\t# Compute sum of first window of size k\n",
    "\twindow_sum = sum(arr[:k])\n",
    "\n",
    "\t# first sum available \n",
    "\tmax_sum = window_sum\n",
    "\tbullish = []\n",
    "\tbearish = []\n",
    "\t# Compute the sums of remaining windows by\n",
    "\t# removing first element of previous\n",
    "\t# window and adding last element of\n",
    "\t# the current window.\n",
    "\tfor i in range(n - k):\n",
    "\t\twindow_sum = window_sum - arr[i] + arr[i + k]\n",
    "\t\tcount = sum(map(lambda x : x>0, arr[i:i+k]))\n",
    "\n",
    "\t\t# if more than 2/3 of the days in the period were positive and the end of the period incrased by more than 10% of the start of the period\n",
    "\t\tif count>2*k/3 and (price[i+k]-price[i])/price[i]>0.1:\n",
    "\t\t\tbullish.append(i)\n",
    "\n",
    "\t\t# if more than 2/3 of the days in the period were negative and the end of the period decreased by more than 10% of the start of the period\n",
    "\t\tif count <k/3 and price[i+k]/price[i]<0.9:\n",
    "\t\t\tbearish.append(i)\n",
    "\t\tmax_sum = max(window_sum, max_sum)\n",
    "\treturn bullish, bearish\n",
    "\n",
    "\n",
    "price = pdr.get_data_yahoo(symbol, start, end)\n",
    "price_change = []\n",
    "for i in range(1, len(price)):\n",
    "\tprice_change.append(((price['Close'][i]-price['Close'][i-1])/price['Close'][i-1])*100)\n",
    "k=30\n",
    "bullish_periods = (bullish_bearish(price_change,price['Close'][1:], k))[0]\n",
    "bearish_periods = (bullish_bearish(price_change,price['Close'][1:], k))[1]\n",
    "print(bearish_periods)\n",
    "\n",
    "start_index = [bullish_periods[0]]\n",
    "end_index = []\n",
    "for i in range(1,len(bullish_periods)-1):\n",
    "    if start_index[-1]+k<bullish_periods[i]:\n",
    "        end_index.append(start_index[-1]+k)\n",
    "        start_index.append(bullish_periods[i])\n",
    "\n",
    "end_index.append(start_index[-1]+k)\n",
    "print(start_index, end_index) \n"
   ]
  },
  {
   "cell_type": "code",
   "execution_count": null,
   "metadata": {},
   "outputs": [
    {
     "name": "stderr",
     "output_type": "stream",
     "text": [
      "/var/folders/5_/q4stfhx95cb0n8m8bxlc_5280000gn/T/ipykernel_32249/2901325613.py:4: FutureWarning: In a future version of pandas all arguments of DataFrame.drop except for the argument 'labels' will be keyword-only\n",
      "  price = price.drop(['Volume', 'Adj Close'], 1)\n"
     ]
    },
    {
     "name": "stdout",
     "output_type": "stream",
     "text": [
      "strategy maximum drawdown -0.025163808661231513\n",
      "benchmarck maximum drawdwon -2.52\n",
      "strategy maximum drawdown 0.0\n"
     ]
    },
    {
     "name": "stderr",
     "output_type": "stream",
     "text": [
      "/var/folders/5_/q4stfhx95cb0n8m8bxlc_5280000gn/T/ipykernel_32249/2752916642.py:4: FutureWarning: In a future version of pandas all arguments of DataFrame.drop except for the argument 'labels' will be keyword-only\n",
      "  price = price.drop(['Volume', 'Adj Close'], 1)\n"
     ]
    },
    {
     "data": {
      "image/png": "[encoded data removed]",
      "text/plain": [
       "<Figure size 432x288 with 1 Axes>"
      ]
     },
     "metadata": {
      "needs_background": "light"
     },
     "output_type": "display_data"
    },
    {
     "name": "stdout",
     "output_type": "stream",
     "text": [
      "strategy maximum drawdown -0.04241775203202645\n",
      "benchmarck maximum drawdwon -4.25\n",
      "strategy maximum drawdown 0.0\n"
     ]
    },
    {
     "name": "stderr",
     "output_type": "stream",
     "text": [
      "/var/folders/5_/q4stfhx95cb0n8m8bxlc_5280000gn/T/ipykernel_32249/2752916642.py:4: FutureWarning: In a future version of pandas all arguments of DataFrame.drop except for the argument 'labels' will be keyword-only\n",
      "  price = price.drop(['Volume', 'Adj Close'], 1)\n"
     ]
    },
    {
     "data": {
      "image/png": "[encoded data removed]",
      "text/plain": [
       "<Figure size 432x288 with 1 Axes>"
      ]
     },
     "metadata": {
      "needs_background": "light"
     },
     "output_type": "display_data"
    },
    {
     "name": "stdout",
     "output_type": "stream",
     "text": [
      "strategy maximum drawdown -0.02498452207338042\n",
      "benchmarck maximum drawdwon -2.51\n",
      "strategy maximum drawdown 0.0\n"
     ]
    },
    {
     "name": "stderr",
     "output_type": "stream",
     "text": [
      "/var/folders/5_/q4stfhx95cb0n8m8bxlc_5280000gn/T/ipykernel_32249/2752916642.py:4: FutureWarning: In a future version of pandas all arguments of DataFrame.drop except for the argument 'labels' will be keyword-only\n",
      "  price = price.drop(['Volume', 'Adj Close'], 1)\n"
     ]
    },
    {
     "data": {
      "image/png": "[encoded data removed]",
      "text/plain": [
       "<Figure size 432x288 with 1 Axes>"
      ]
     },
     "metadata": {
      "needs_background": "light"
     },
     "output_type": "display_data"
    },
    {
     "name": "stdout",
     "output_type": "stream",
     "text": [
      "strategy maximum drawdown -0.02744664306640625\n",
      "benchmarck maximum drawdwon -3.13\n",
      "strategy maximum drawdown 0.0\n"
     ]
    },
    {
     "name": "stderr",
     "output_type": "stream",
     "text": [
      "/var/folders/5_/q4stfhx95cb0n8m8bxlc_5280000gn/T/ipykernel_32249/2752916642.py:4: FutureWarning: In a future version of pandas all arguments of DataFrame.drop except for the argument 'labels' will be keyword-only\n",
      "  price = price.drop(['Volume', 'Adj Close'], 1)\n"
     ]
    },
    {
     "data": {
      "image/png": "[encoded data removed]",
      "text/plain": [
       "<Figure size 432x288 with 1 Axes>"
      ]
     },
     "metadata": {
      "needs_background": "light"
     },
     "output_type": "display_data"
    },
    {
     "name": "stdout",
     "output_type": "stream",
     "text": [
      "[11322.612724092229, 11121.19400200955, 11798.17151284208, 11624.057159538299] [10558.127456665039, 10669.840454101562, 11577.969619750977, 11273.77075958252] [10000.0, 10000.0, 10000.0, 10000.0] [10000.0, 10000.0, 10000.0, 10000.0] [10555.306267547607, 10177.066638183594, 9993.85359191895, 10908.005282592769] [11361.530002593996, 10795.965207290648, 11130.898647689823, 11212.289100646973]\n"
     ]
    },
    {
     "data": {
      "text/plain": [
       "<BarContainer object of 6 artists>"
      ]
     },
     "execution_count": 195,
     "metadata": {},
     "output_type": "execute_result"
    },
    {
     "data": {
      "image/png": "[encoded data removed]",
      "text/plain": [
       "<Figure size 432x288 with 1 Axes>"
      ]
     },
     "metadata": {
      "needs_background": "light"
     },
     "output_type": "display_data"
    }
   ],
   "source": [
    "# records the profit of the strategies in a bullish market\n",
    "bullish_macd = []\n",
    "bullish_benchmark = []\n",
    "bullish_rsi = []\n",
    "bullish_bollinger = []\n",
    "bullish_breakout = []\n",
    "bullish_macd_breakout = []\n",
    "\n",
    "for i in range(len(start_index)):\n",
    "    new_start = price[start_index[i]:end_index[i]].index[0]\n",
    "    new_end = price[start_index[i]:end_index[i]].index[-1]\n",
    "\n",
    "    result_macd= macd_strategy(symbol, new_start, new_end)\n",
    "    result_rsi = rsi_strategy(symbol, new_start, new_end)\n",
    "    result_bollinger = bollinger_band_strategy(symbol, new_start,new_end)\n",
    "    result_breakout = breakout_strategy(symbol, new_start, new_end,0.5)\n",
    "    result = MACD_BREAKOUT_STRATEGY(symbol, new_start, new_end, 0.3)\n",
    "    bullish_macd.append(result_macd['MACD'][-1])\n",
    "    bullish_benchmark.append(result_rsi['Close'][-1]*10000/result_rsi['Close'][0])\n",
    "    bullish_rsi.append(result_rsi['RSI_strategy'][-1])\n",
    "    bullish_bollinger.append(result_bollinger['Bollinger'][-1])\n",
    "    bullish_breakout.append(result_breakout['breakout'][-1])\n",
    "    bullish_macd_breakout.append(result['MACD'][-1])\n",
    "\n",
    "    plt.plot(result_rsi['RSI_strategy'],c='r', label=\"RSI\")\n",
    "    plt.plot(result_breakout['breakout'],c='y', label = \"breakout\")\n",
    "    plt.plot(result_bollinger['Bollinger'], c = 'purple', label = \"bollinger\")\n",
    "    plt.plot(result_macd['MACD'],c='g', label = 'MACD')\n",
    "    plt.plot(result['MACD'], c='pink', label = 'MACD_breakout')\n",
    "    plt.plot(result_rsi['Close']*(10000/result_rsi['Close'][0]), label = \"benchmark\")\n",
    "    # plt.xlim(new_start,new_end)\n",
    "    plt.legend()\n",
    "    plt.xticks(fontsize=8)\n",
    "    plt.show()\n",
    "print(bullish_benchmark, bullish_macd,bullish_rsi, bullish_bollinger,bullish_breakout,bullish_macd_breakout)\n",
    "cumulative_profit = (sum(bullish_benchmark)/len(bullish_benchmark)/100, sum(bullish_macd)/len(bullish_macd)/100,sum(bullish_rsi)/len(bullish_rsi)/100, sum(bullish_bollinger)/len(bullish_bollinger)/100,sum(bullish_breakout)/(len(bullish_breakout))/100,sum(bullish_macd_breakout)/len(bullish_breakout)/100)\n",
    "plt.bar(['benchmark','macd','rsi','bollinger','breakout','macd breakout'],cumulative_profit)"
   ]
  },
  {
   "cell_type": "code",
   "execution_count": 49,
   "metadata": {},
   "outputs": [
    {
     "ename": "NameError",
     "evalue": "name 'bearish_periods' is not defined",
     "output_type": "error",
     "traceback": [
      "\u001b[0;31m---------------------------------------------------------------------------\u001b[0m",
      "\u001b[0;31mNameError\u001b[0m                                 Traceback (most recent call last)",
      "\u001b[0;32m/var/folders/5_/q4stfhx95cb0n8m8bxlc_5280000gn/T/ipykernel_1071/2929422550.py\u001b[0m in \u001b[0;36m<module>\u001b[0;34m\u001b[0m\n\u001b[0;32m----> 1\u001b[0;31m \u001b[0mstart_index\u001b[0m \u001b[0;34m=\u001b[0m \u001b[0;34m[\u001b[0m\u001b[0mbearish_periods\u001b[0m\u001b[0;34m[\u001b[0m\u001b[0;36m0\u001b[0m\u001b[0;34m]\u001b[0m\u001b[0;34m]\u001b[0m\u001b[0;34m\u001b[0m\u001b[0;34m\u001b[0m\u001b[0m\n\u001b[0m\u001b[1;32m      2\u001b[0m \u001b[0mend_index\u001b[0m \u001b[0;34m=\u001b[0m \u001b[0;34m[\u001b[0m\u001b[0;34m]\u001b[0m\u001b[0;34m\u001b[0m\u001b[0;34m\u001b[0m\u001b[0m\n\u001b[1;32m      3\u001b[0m \u001b[0;32mfor\u001b[0m \u001b[0mi\u001b[0m \u001b[0;32min\u001b[0m \u001b[0mrange\u001b[0m\u001b[0;34m(\u001b[0m\u001b[0;36m1\u001b[0m\u001b[0;34m,\u001b[0m\u001b[0mlen\u001b[0m\u001b[0;34m(\u001b[0m\u001b[0mbearish_periods\u001b[0m\u001b[0;34m)\u001b[0m\u001b[0;34m)\u001b[0m\u001b[0;34m:\u001b[0m\u001b[0;34m\u001b[0m\u001b[0;34m\u001b[0m\u001b[0m\n\u001b[1;32m      4\u001b[0m     \u001b[0;32mif\u001b[0m \u001b[0mstart_index\u001b[0m\u001b[0;34m[\u001b[0m\u001b[0;34m-\u001b[0m\u001b[0;36m1\u001b[0m\u001b[0;34m]\u001b[0m\u001b[0;34m+\u001b[0m\u001b[0mk\u001b[0m\u001b[0;34m<\u001b[0m\u001b[0mbearish_periods\u001b[0m\u001b[0;34m[\u001b[0m\u001b[0mi\u001b[0m\u001b[0;34m]\u001b[0m\u001b[0;34m:\u001b[0m\u001b[0;34m\u001b[0m\u001b[0;34m\u001b[0m\u001b[0m\n\u001b[1;32m      5\u001b[0m         \u001b[0mend_index\u001b[0m\u001b[0;34m.\u001b[0m\u001b[0mappend\u001b[0m\u001b[0;34m(\u001b[0m\u001b[0mstart_index\u001b[0m\u001b[0;34m[\u001b[0m\u001b[0;34m-\u001b[0m\u001b[0;36m1\u001b[0m\u001b[0;34m]\u001b[0m\u001b[0;34m+\u001b[0m\u001b[0mk\u001b[0m\u001b[0;34m)\u001b[0m\u001b[0;34m\u001b[0m\u001b[0;34m\u001b[0m\u001b[0m\n",
      "\u001b[0;31mNameError\u001b[0m: name 'bearish_periods' is not defined"
     ]
    }
   ],
   "source": [
    "start_index = [bearish_periods[0]]\n",
    "end_index = []\n",
    "for i in range(1,len(bearish_periods)):\n",
    "    if start_index[-1]+k<bearish_periods[i]:\n",
    "        end_index.append(start_index[-1]+k)\n",
    "        start_index.append(bearish_periods[i])\n",
    "\n",
    "end_index.append(start_index[-1]+k)\n",
    "print(start_index, end_index) "
   ]
  },
  {
   "cell_type": "code",
   "execution_count": 50,
   "metadata": {},
   "outputs": [
    {
     "ename": "NameError",
     "evalue": "name 'start_index' is not defined",
     "output_type": "error",
     "traceback": [
      "\u001b[0;31m---------------------------------------------------------------------------\u001b[0m",
      "\u001b[0;31mNameError\u001b[0m                                 Traceback (most recent call last)",
      "\u001b[0;32m/var/folders/5_/q4stfhx95cb0n8m8bxlc_5280000gn/T/ipykernel_1071/150181686.py\u001b[0m in \u001b[0;36m<module>\u001b[0;34m\u001b[0m\n\u001b[1;32m      7\u001b[0m \u001b[0mbearish_macd_breakout\u001b[0m \u001b[0;34m=\u001b[0m \u001b[0;34m[\u001b[0m\u001b[0;34m]\u001b[0m\u001b[0;34m\u001b[0m\u001b[0;34m\u001b[0m\u001b[0m\n\u001b[1;32m      8\u001b[0m \u001b[0;34m\u001b[0m\u001b[0m\n\u001b[0;32m----> 9\u001b[0;31m \u001b[0;32mfor\u001b[0m \u001b[0mi\u001b[0m \u001b[0;32min\u001b[0m \u001b[0mrange\u001b[0m\u001b[0;34m(\u001b[0m\u001b[0mlen\u001b[0m\u001b[0;34m(\u001b[0m\u001b[0mstart_index\u001b[0m\u001b[0;34m)\u001b[0m\u001b[0;34m)\u001b[0m\u001b[0;34m:\u001b[0m\u001b[0;34m\u001b[0m\u001b[0;34m\u001b[0m\u001b[0m\n\u001b[0m\u001b[1;32m     10\u001b[0m     \u001b[0mnew_start\u001b[0m \u001b[0;34m=\u001b[0m \u001b[0mprice\u001b[0m\u001b[0;34m[\u001b[0m\u001b[0mstart_index\u001b[0m\u001b[0;34m[\u001b[0m\u001b[0mi\u001b[0m\u001b[0;34m]\u001b[0m\u001b[0;34m:\u001b[0m\u001b[0mend_index\u001b[0m\u001b[0;34m[\u001b[0m\u001b[0mi\u001b[0m\u001b[0;34m]\u001b[0m\u001b[0;34m]\u001b[0m\u001b[0;34m.\u001b[0m\u001b[0mindex\u001b[0m\u001b[0;34m[\u001b[0m\u001b[0;36m0\u001b[0m\u001b[0;34m]\u001b[0m\u001b[0;34m\u001b[0m\u001b[0;34m\u001b[0m\u001b[0m\n\u001b[1;32m     11\u001b[0m     \u001b[0mnew_end\u001b[0m \u001b[0;34m=\u001b[0m \u001b[0mprice\u001b[0m\u001b[0;34m[\u001b[0m\u001b[0mstart_index\u001b[0m\u001b[0;34m[\u001b[0m\u001b[0mi\u001b[0m\u001b[0;34m]\u001b[0m\u001b[0;34m:\u001b[0m\u001b[0mend_index\u001b[0m\u001b[0;34m[\u001b[0m\u001b[0mi\u001b[0m\u001b[0;34m]\u001b[0m\u001b[0;34m]\u001b[0m\u001b[0;34m.\u001b[0m\u001b[0mindex\u001b[0m\u001b[0;34m[\u001b[0m\u001b[0;34m-\u001b[0m\u001b[0;36m1\u001b[0m\u001b[0;34m]\u001b[0m\u001b[0;34m\u001b[0m\u001b[0;34m\u001b[0m\u001b[0m\n",
      "\u001b[0;31mNameError\u001b[0m: name 'start_index' is not defined"
     ]
    }
   ],
   "source": [
    "# compares the profits of the strategies in a bearish market\n",
    "bearish_macd = []\n",
    "bearish_benchmark = []\n",
    "bearish_rsi = []\n",
    "bearish_bollinger = []\n",
    "bearish_breakout = []\n",
    "bearish_macd_breakout = []\n",
    "\n",
    "for i in range(len(start_index)):\n",
    "    new_start = price[start_index[i]:end_index[i]].index[0]\n",
    "    new_end = price[start_index[i]:end_index[i]].index[-1]\n",
    "\n",
    "    result_macd= macd_strategy(symbol, new_start, new_end)\n",
    "    result_rsi = rsi_strategy(symbol, new_start, new_end)\n",
    "    result_bollinger = bollinger_band_strategy(symbol, new_start,new_end)\n",
    "    result_breakout = breakout_strategy(symbol, new_start, new_end,0.5)\n",
    "    result = MACD_BREAKOUT_STRATEGY(symbol, new_start, new_end, 0.3)\n",
    "    bearish_macd.append(result_macd['MACD'][-1])\n",
    "    bearish_benchmark.append(result_rsi['Close'][-1]*10000/result_rsi['Close'][0])\n",
    "    bearish_rsi.append(result_rsi['RSI_strategy'][-1])\n",
    "    bearish_bollinger.append(result_bollinger['Bollinger'][-1])\n",
    "    bearish_breakout.append(result_breakout['breakout'][-1])\n",
    "    bearish_macd_breakout.append(result['MACD'][-1])\n",
    "    \n",
    "    \n",
    "\n",
    "    plt.plot(result_rsi['RSI_strategy'],c='r', label=\"RSI\")\n",
    "    plt.plot(result_breakout['breakout'],c='y', label = \"breakout\")\n",
    "    plt.plot(result_bollinger['Bollinger'], c = 'purple', label = \"bollinger\")\n",
    "    plt.plot(result_macd['MACD'],c='g', label = 'MACD')\n",
    "    plt.plot(result['MACD'], c='pink', label = 'MACD_breakout')\n",
    "    plt.plot(result_rsi['Close']*(10000/result_rsi['Close'][0]), label = \"benchmark\")\n",
    "    # plt.xlim(new_start,new_end)\n",
    "    plt.legend()\n",
    "    plt.xticks(fontsize=8)\n",
    "    plt.show()\n",
    "print(bearish_benchmark, bearish_macd,bearish_rsi, bearish_bollinger,bearish_breakout,bearish_macd_breakout)\n",
    "cumulative_profit = (sum(bearish_benchmark)/len(bearish_benchmark)/100, sum(bearish_macd)/len(bearish_macd)/100,sum(bearish_rsi)/len(bearish_rsi)/100, sum(bearish_bollinger)/len(bearish_bollinger)/100,sum(bearish_breakout)/(len(bearish_breakout))/100,sum(bearish_macd_breakout)/len(bearish_breakout)/100)\n",
    "plt.bar(['benchmark','macd','rsi','bollinger','breakout','macd breakout'],cumulative_profit)"
   ]
  },
  {
   "cell_type": "code",
   "execution_count": 321,
   "metadata": {},
   "outputs": [
    {
     "name": "stdout",
     "output_type": "stream",
     "text": [
      "p value:0.01360149\n",
      "since the hypothesis is one sided >> use p_value/2 >> p_value_one_sided:0.0068\n",
      "Reject null hypothesis\n"
     ]
    }
   ],
   "source": [
    "# calculates the p-value\n",
    "from scipy import stats\n",
    "ttest,p_value = stats.ttest_ind(bearish_benchmark,bearish_bollinger)\n",
    "print(\"p value:%.8f\" % p_value)\n",
    "print(\"since the hypothesis is one sided >> use p_value/2 >> p_value_one_sided:%.4f\" %(p_value/2))\n",
    "if p_value/2 <0.05:\n",
    "    print(\"Reject null hypothesis\")\n",
    "else:\n",
    "    print(\"Fail to reject null hypothesis\")"
   ]
  },
  {
   "cell_type": "code",
   "execution_count": 184,
   "metadata": {},
   "outputs": [
    {
     "data": {
      "image/png": "[encoded data removed]",
      "text/plain": [
       "<Figure size 432x288 with 1 Axes>"
      ]
     },
     "metadata": {
      "needs_background": "light"
     },
     "output_type": "display_data"
    }
   ],
   "source": [
    "#visualize\n",
    "plt.plot(result_rsi['RSI_strategy'],c='r', label=\"RSI\")\n",
    "plt.plot(result_breakout['breakout'],c='y', label = \"breakout\")\n",
    "plt.plot(result_bollinger['Bollinger'], c = 'purple', label = \"bollinger\")\n",
    "plt.plot(result_macd['MACD'],c='g', label = 'MACD')\n",
    "plt.plot(result['MACD'], c='pink', label = 'MACD_breakout')\n",
    "plt.plot(result_rsi['Close']*(10000/result_rsi['Close'][0]), label = \"benchmark\")\n",
    "# plt.xlim(new_start,new_end)\n",
    "plt.legend()\n",
    "plt.xticks(fontsize=8)\n",
    "plt.show()"
   ]
  },
  {
   "cell_type": "code",
   "execution_count": 117,
   "metadata": {},
   "outputs": [
    {
     "data": {
      "text/plain": [
       "[<matplotlib.lines.Line2D at 0x7f787211ea00>]"
      ]
     },
     "execution_count": 117,
     "metadata": {},
     "output_type": "execute_result"
    },
    {
     "data": {
      "image/png": "[encoded data removed]",
      "text/plain": [
       "<Figure size 432x288 with 1 Axes>"
      ]
     },
     "metadata": {
      "needs_background": "light"
     },
     "output_type": "display_data"
    }
   ],
   "source": [
    "plt.plot(price_change)"
   ]
  },
  {
   "cell_type": "code",
   "execution_count": 68,
   "metadata": {},
   "outputs": [
    {
     "data": {
      "text/plain": [
       "[<matplotlib.lines.Line2D at 0x7f7872e5a490>]"
      ]
     },
     "execution_count": 68,
     "metadata": {},
     "output_type": "execute_result"
    },
    {
     "data": {
      "image/png": "[encoded data removed]",
      "text/plain": [
       "<Figure size 432x288 with 1 Axes>"
      ]
     },
     "metadata": {
      "needs_background": "light"
     },
     "output_type": "display_data"
    }
   ],
   "source": [
    "plt.plot(price['Close'][33:81])"
   ]
  },
  {
   "cell_type": "code",
   "execution_count": 16,
   "metadata": {},
   "outputs": [],
   "source": [
    "import feedparser\n",
    "from bs4 import BeautifulSoup\n",
    "import urllib\n",
    "from dateparser import parse as parse_date\n",
    "import requests\n",
    "\n",
    "\n",
    "\n",
    "class GoogleNews:\n",
    "    def __init__(self, lang = 'en', country = 'US'):\n",
    "        self.lang = lang.lower()\n",
    "        self.country = country.upper()\n",
    "        self.BASE_URL = 'https://news.google.com/rss'\n",
    "\n",
    "    def __top_news_parser(self, text):\n",
    "        \"\"\"Return subarticles from the main and topic feeds\"\"\"\n",
    "        try:\n",
    "            bs4_html = BeautifulSoup(text, \"html.parser\")\n",
    "            # find all li tags\n",
    "            lis = bs4_html.find_all('li')\n",
    "            sub_articles = []\n",
    "            for li in lis:\n",
    "                try:\n",
    "                    sub_articles.append({\"url\": li.a['href'],\n",
    "                                         \"title\": li.a.text,\n",
    "                                         \"publisher\": li.font.text})\n",
    "                except:\n",
    "                    pass\n",
    "            return sub_articles\n",
    "        except:\n",
    "            return text\n",
    "\n",
    "    def __ceid(self):\n",
    "        \"\"\"Compile correct country-lang parameters for Google News RSS URL\"\"\"\n",
    "        return '?ceid={}:{}&hl={}&gl={}'.format(self.country,self.lang,self.lang,self.country)\n",
    "\n",
    "    def __add_sub_articles(self, entries):\n",
    "        for i, val in enumerate(entries):\n",
    "            if 'summary' in entries[i].keys():\n",
    "                entries[i]['sub_articles'] = self.__top_news_parser(entries[i]['summary'])\n",
    "            else:\n",
    "                entries[i]['sub_articles'] = None\n",
    "        return entries\n",
    "\n",
    "    def __scaping_bee_request(self, api_key, url):\n",
    "        response = requests.get(\n",
    "            url=\"https://app.scrapingbee.com/api/v1/\",\n",
    "            params={\n",
    "                \"api_key\": api_key,\n",
    "                \"url\": url,\n",
    "                \"render_js\": \"false\"\n",
    "            }\n",
    "        )\n",
    "        if response.status_code == 200:\n",
    "            return response\n",
    "        if response.status_code != 200:\n",
    "            raise Exception(\"ScrapingBee status_code: \"  + str(response.status_code) + \" \" + response.text)\n",
    "\n",
    "    def __parse_feed(self, feed_url, proxies=None, scraping_bee = None):\n",
    "\n",
    "        if scraping_bee and proxies:\n",
    "            raise Exception(\"Pick either ScrapingBee or proxies. Not both!\")\n",
    "\n",
    "        if proxies:\n",
    "            r = requests.get(feed_url, proxies = proxies)\n",
    "        else:\n",
    "            r = requests.get(feed_url)\n",
    "\n",
    "        if scraping_bee:\n",
    "            r = self.__scaping_bee_request(url = feed_url, api_key = scraping_bee)\n",
    "        else:\n",
    "            r = requests.get(feed_url)\n",
    "\n",
    "\n",
    "        if 'https://news.google.com/rss/unsupported' in r.url:\n",
    "            raise Exception('This feed is not available')\n",
    "\n",
    "        d = feedparser.parse(r.text)\n",
    "\n",
    "        if not scraping_bee and not proxies and len(d['entries']) == 0:\n",
    "            d = feedparser.parse(feed_url)\n",
    "\n",
    "        return dict((k, d[k]) for k in ('feed', 'entries'))\n",
    "\n",
    "    def __search_helper(self, query):\n",
    "        return urllib.parse.quote_plus(query)\n",
    "\n",
    "    def __from_to_helper(self, validate=None):\n",
    "        try:\n",
    "            validate = parse_date(validate).strftime('%Y-%m-%d')\n",
    "            return str(validate)\n",
    "        except:\n",
    "            raise Exception('Couldnt parse your date')\n",
    "\n",
    "\n",
    "\n",
    "    def top_news(self, proxies=None, scraping_bee = None):\n",
    "        \"\"\"Return a list of all articles from the main page of Google News\n",
    "        given a country and a language\"\"\"\n",
    "        d = self.__parse_feed(self.BASE_URL + self.__ceid(), proxies=proxies, scraping_bee=scraping_bee)\n",
    "        d['entries'] = self.__add_sub_articles(d['entries'])\n",
    "        return d\n",
    "\n",
    "    def topic_headlines(self, topic: str, proxies=None, scraping_bee=None):\n",
    "        \"\"\"Return a list of all articles from the topic page of Google News\n",
    "        given a country and a language\"\"\"\n",
    "        #topic = topic.upper()\n",
    "        if topic.upper() in ['WORLD', 'NATION', 'BUSINESS', 'TECHNOLOGY', 'ENTERTAINMENT', 'SCIENCE', 'SPORTS', 'HEALTH']:\n",
    "            d = self.__parse_feed(self.BASE_URL + '/headlines/section/topic/{}'.format(topic.upper()) + self.__ceid(), proxies = proxies, scraping_bee=scraping_bee)\n",
    "\n",
    "        else:\n",
    "            d = self.__parse_feed(self.BASE_URL + '/topics/{}'.format(topic) + self.__ceid(), proxies = proxies, scraping_bee=scraping_bee)\n",
    "\n",
    "        d['entries'] = self.__add_sub_articles(d['entries'])\n",
    "        if len(d['entries']) > 0:\n",
    "            return d\n",
    "        else:\n",
    "            raise Exception('unsupported topic')\n",
    "\n",
    "    def geo_headlines(self, geo: str, proxies=None, scraping_bee=None):\n",
    "        \"\"\"Return a list of all articles about a specific geolocation\n",
    "        given a country and a language\"\"\"\n",
    "        d = self.__parse_feed(self.BASE_URL + '/headlines/section/geo/{}'.format(geo) + self.__ceid(), proxies = proxies, scraping_bee=scraping_bee)\n",
    "\n",
    "        d['entries'] = self.__add_sub_articles(d['entries'])\n",
    "        return d\n",
    "\n",
    "    def search(self, query: str, helper = True, when = None, from_ = None, to_ = None, proxies=None, scraping_bee=None):\n",
    "        \"\"\"\n",
    "        Return a list of all articles given a full-text search parameter,\n",
    "        a country and a language\n",
    "\n",
    "        :param bool helper: When True helps with URL quoting\n",
    "        :param str when: Sets a time range for the artiles that can be found\n",
    "        \"\"\"\n",
    "\n",
    "        if when:\n",
    "            query += ' when:' + when\n",
    "\n",
    "        if from_ and not when:\n",
    "            #from_ = self.__from_to_helper(validate=from_)\n",
    "            query += ' after:' + from_\n",
    "\n",
    "        if to_ and not when:\n",
    "            #to_ = self.__from_to_helper(validate=to_)\n",
    "            query += ' before:' + to_\n",
    "\n",
    "        if helper == True:\n",
    "            query = self.__search_helper(query)\n",
    "\n",
    "        search_ceid = self.__ceid()\n",
    "        search_ceid = search_ceid.replace('?', '&')\n",
    "\n",
    "        d = self.__parse_feed(self.BASE_URL + '/search?q={}'.format(query) + search_ceid, proxies = proxies, scraping_bee=scraping_bee)\n",
    "\n",
    "        d['entries'] = self.__add_sub_articles(d['entries'])\n",
    "        return d"
   ]
  },
  {
   "cell_type": "code",
   "execution_count": 17,
   "metadata": {},
   "outputs": [],
   "source": [
    "import pandas as pd\n",
    "import datetime\n",
    "gn = GoogleNews()\n",
    "def get_news(search):\n",
    "    stories = []\n",
    "    start_date = datetime.date(2022,9,8)\n",
    "    end_date = datetime.date(2022,9,24)\n",
    "    delta = datetime.timedelta(days=1)\n",
    "    date_list = pd.date_range(start_date, end_date).tolist()\n",
    "    for date in date_list[:-1]:\n",
    "        result = gn.search(search, from_=date.strftime('%Y-%m-%d'), to_=(date+delta).strftime('%Y-%m-%d'))\n",
    "        newsitem = result['entries']\n",
    "        for item in newsitem:\n",
    "            story = {\n",
    "                'title':item.title,\n",
    "            }\n",
    "            stories.append(story)\n",
    "    return stories\n",
    "\n",
    "df = pd.DataFrame(get_news('AAPL'))"
   ]
  },
  {
   "cell_type": "code",
   "execution_count": 65,
   "metadata": {},
   "outputs": [
    {
     "data": {
      "text/html": [
       "<div>\n",
       "<style scoped>\n",
       "    .dataframe tbody tr th:only-of-type {\n",
       "        vertical-align: middle;\n",
       "    }\n",
       "\n",
       "    .dataframe tbody tr th {\n",
       "        vertical-align: top;\n",
       "    }\n",
       "\n",
       "    .dataframe thead th {\n",
       "        text-align: right;\n",
       "    }\n",
       "</style>\n",
       "<table border=\"1\" class=\"dataframe\">\n",
       "  <thead>\n",
       "    <tr style=\"text-align: right;\">\n",
       "      <th></th>\n",
       "      <th>title</th>\n",
       "    </tr>\n",
       "  </thead>\n",
       "  <tbody>\n",
       "    <tr>\n",
       "      <th>0</th>\n",
       "      <td>aapl stock will rise as consumers search to pr...</td>\n",
       "    </tr>\n",
       "    <tr>\n",
       "      <th>1</th>\n",
       "      <td>aapl stock alert: 13 takeaways from the latest...</td>\n",
       "    </tr>\n",
       "    <tr>\n",
       "      <th>2</th>\n",
       "      <td>why apple fell today - the motley fool</td>\n",
       "    </tr>\n",
       "  </tbody>\n",
       "</table>\n",
       "</div>"
      ],
      "text/plain": [
       "                                               title\n",
       "0  aapl stock will rise as consumers search to pr...\n",
       "1  aapl stock alert: 13 takeaways from the latest...\n",
       "2             why apple fell today - the motley fool"
      ]
     },
     "execution_count": 65,
     "metadata": {},
     "output_type": "execute_result"
    }
   ],
   "source": [
    "df['title'] = df['title'].astype(str).str.lower()\n",
    "df.head(3)"
   ]
  },
  {
   "cell_type": "code",
   "execution_count": 20,
   "metadata": {},
   "outputs": [
    {
     "data": {
      "text/html": [
       "<div>\n",
       "<style scoped>\n",
       "    .dataframe tbody tr th:only-of-type {\n",
       "        vertical-align: middle;\n",
       "    }\n",
       "\n",
       "    .dataframe tbody tr th {\n",
       "        vertical-align: top;\n",
       "    }\n",
       "\n",
       "    .dataframe thead th {\n",
       "        text-align: right;\n",
       "    }\n",
       "</style>\n",
       "<table border=\"1\" class=\"dataframe\">\n",
       "  <thead>\n",
       "    <tr style=\"text-align: right;\">\n",
       "      <th></th>\n",
       "      <th>title</th>\n",
       "      <th>text_token</th>\n",
       "    </tr>\n",
       "  </thead>\n",
       "  <tbody>\n",
       "    <tr>\n",
       "      <th>0</th>\n",
       "      <td>southern tire mart, pilot flying j form strate...</td>\n",
       "      <td>[southern, tire, mart, pilot, flying, j, form,...</td>\n",
       "    </tr>\n",
       "    <tr>\n",
       "      <th>1</th>\n",
       "      <td>purcell tire joins michelin's commercial, retr...</td>\n",
       "      <td>[purcell, tire, joins, michelin, s, commercial...</td>\n",
       "    </tr>\n",
       "  </tbody>\n",
       "</table>\n",
       "</div>"
      ],
      "text/plain": [
       "                                               title  \\\n",
       "0  southern tire mart, pilot flying j form strate...   \n",
       "1  purcell tire joins michelin's commercial, retr...   \n",
       "\n",
       "                                          text_token  \n",
       "0  [southern, tire, mart, pilot, flying, j, form,...  \n",
       "1  [purcell, tire, joins, michelin, s, commercial...  "
      ]
     },
     "execution_count": 20,
     "metadata": {},
     "output_type": "execute_result"
    }
   ],
   "source": [
    "from nltk.tokenize import RegexpTokenizer\n",
    "\n",
    "regexp = RegexpTokenizer('\\w+')\n",
    "\n",
    "df['text_token']=df['title'].apply(regexp.tokenize)\n",
    "df.head(3)"
   ]
  },
  {
   "cell_type": "code",
   "execution_count": 21,
   "metadata": {},
   "outputs": [
    {
     "name": "stdout",
     "output_type": "stream",
     "text": [
      "[nltk_data] Downloading package stopwords to\n",
      "[nltk_data]     /Users/haechan/nltk_data...\n",
      "[nltk_data]   Package stopwords is already up-to-date!\n"
     ]
    },
    {
     "data": {
      "text/plain": [
       "True"
      ]
     },
     "execution_count": 21,
     "metadata": {},
     "output_type": "execute_result"
    }
   ],
   "source": [
    "import nltk\n",
    "import ssl\n",
    "\n",
    "try:\n",
    "    _create_unverified_https_context = ssl._create_unverified_context\n",
    "except AttributeError:\n",
    "    pass\n",
    "else:\n",
    "    ssl._create_default_https_context = _create_unverified_https_context\n",
    "nltk.download('stopwords')"
   ]
  },
  {
   "cell_type": "code",
   "execution_count": 22,
   "metadata": {},
   "outputs": [],
   "source": [
    "from nltk.corpus import stopwords\n",
    "\n",
    "# Make a list of english stopwords\n",
    "stopwords = nltk.corpus.stopwords.words(\"english\")\n",
    "\n",
    "# Extend the list with your own custom stopwords\n",
    "my_stopwords = ['https']\n",
    "stopwords.extend(my_stopwords)"
   ]
  },
  {
   "cell_type": "code",
   "execution_count": 23,
   "metadata": {},
   "outputs": [
    {
     "data": {
      "text/html": [
       "<div>\n",
       "<style scoped>\n",
       "    .dataframe tbody tr th:only-of-type {\n",
       "        vertical-align: middle;\n",
       "    }\n",
       "\n",
       "    .dataframe tbody tr th {\n",
       "        vertical-align: top;\n",
       "    }\n",
       "\n",
       "    .dataframe thead th {\n",
       "        text-align: right;\n",
       "    }\n",
       "</style>\n",
       "<table border=\"1\" class=\"dataframe\">\n",
       "  <thead>\n",
       "    <tr style=\"text-align: right;\">\n",
       "      <th></th>\n",
       "      <th>title</th>\n",
       "      <th>text_token</th>\n",
       "    </tr>\n",
       "  </thead>\n",
       "  <tbody>\n",
       "    <tr>\n",
       "      <th>0</th>\n",
       "      <td>southern tire mart, pilot flying j form strate...</td>\n",
       "      <td>[southern, tire, mart, pilot, flying, j, form,...</td>\n",
       "    </tr>\n",
       "    <tr>\n",
       "      <th>1</th>\n",
       "      <td>purcell tire joins michelin's commercial, retr...</td>\n",
       "      <td>[purcell, tire, joins, michelin, commercial, r...</td>\n",
       "    </tr>\n",
       "  </tbody>\n",
       "</table>\n",
       "</div>"
      ],
      "text/plain": [
       "                                               title  \\\n",
       "0  southern tire mart, pilot flying j form strate...   \n",
       "1  purcell tire joins michelin's commercial, retr...   \n",
       "\n",
       "                                          text_token  \n",
       "0  [southern, tire, mart, pilot, flying, j, form,...  \n",
       "1  [purcell, tire, joins, michelin, commercial, r...  "
      ]
     },
     "execution_count": 23,
     "metadata": {},
     "output_type": "execute_result"
    }
   ],
   "source": [
    "# Remove stopwords\n",
    "df['text_token'] = df['text_token'].apply(lambda x: [item for item in x if item not in stopwords])\n",
    "df.head(3)"
   ]
  },
  {
   "cell_type": "code",
   "execution_count": 24,
   "metadata": {},
   "outputs": [],
   "source": [
    "\n",
    "df['text_string'] = df['text_token'].apply(lambda x: ' '.join([item for item in x if len(item)>2]))"
   ]
  },
  {
   "cell_type": "code",
   "execution_count": 25,
   "metadata": {},
   "outputs": [
    {
     "data": {
      "text/html": [
       "<div>\n",
       "<style scoped>\n",
       "    .dataframe tbody tr th:only-of-type {\n",
       "        vertical-align: middle;\n",
       "    }\n",
       "\n",
       "    .dataframe tbody tr th {\n",
       "        vertical-align: top;\n",
       "    }\n",
       "\n",
       "    .dataframe thead th {\n",
       "        text-align: right;\n",
       "    }\n",
       "</style>\n",
       "<table border=\"1\" class=\"dataframe\">\n",
       "  <thead>\n",
       "    <tr style=\"text-align: right;\">\n",
       "      <th></th>\n",
       "      <th>title</th>\n",
       "      <th>text_token</th>\n",
       "      <th>text_string</th>\n",
       "    </tr>\n",
       "  </thead>\n",
       "  <tbody>\n",
       "    <tr>\n",
       "      <th>0</th>\n",
       "      <td>southern tire mart, pilot flying j form strate...</td>\n",
       "      <td>[southern, tire, mart, pilot, flying, j, form,...</td>\n",
       "      <td>southern tire mart pilot flying form strategic...</td>\n",
       "    </tr>\n",
       "    <tr>\n",
       "      <th>1</th>\n",
       "      <td>purcell tire joins michelin's commercial, retr...</td>\n",
       "      <td>[purcell, tire, joins, michelin, commercial, r...</td>\n",
       "      <td>purcell tire joins michelin commercial retread...</td>\n",
       "    </tr>\n",
       "  </tbody>\n",
       "</table>\n",
       "</div>"
      ],
      "text/plain": [
       "                                               title  \\\n",
       "0  southern tire mart, pilot flying j form strate...   \n",
       "1  purcell tire joins michelin's commercial, retr...   \n",
       "\n",
       "                                          text_token  \\\n",
       "0  [southern, tire, mart, pilot, flying, j, form,...   \n",
       "1  [purcell, tire, joins, michelin, commercial, r...   \n",
       "\n",
       "                                         text_string  \n",
       "0  southern tire mart pilot flying form strategic...  \n",
       "1  purcell tire joins michelin commercial retread...  "
      ]
     },
     "execution_count": 25,
     "metadata": {},
     "output_type": "execute_result"
    }
   ],
   "source": [
    "df[['title', 'text_token', 'text_string']].head()"
   ]
  },
  {
   "cell_type": "code",
   "execution_count": 26,
   "metadata": {},
   "outputs": [
    {
     "data": {
      "text/plain": [
       "FreqDist({'tire': 4, 'modern': 2, 'dealer': 2, 'southern': 1, 'mart': 1, 'pilot': 1, 'flying': 1, 'form': 1, 'strategic': 1, 'alliance': 1, ...})"
      ]
     },
     "execution_count": 26,
     "metadata": {},
     "output_type": "execute_result"
    }
   ],
   "source": [
    "all_words = ' '.join([word for word in df['text_string']])\n",
    "tokenized_words = nltk.tokenize.word_tokenize(all_words)\n",
    "from nltk.probability import FreqDist\n",
    "\n",
    "fdist = FreqDist(tokenized_words)\n",
    "fdist"
   ]
  },
  {
   "cell_type": "code",
   "execution_count": 27,
   "metadata": {},
   "outputs": [],
   "source": [
    "df['text_string_fdist'] = df['text_token'].apply(lambda x: ' '.join([item for item in x if fdist[item] >= 1 ]))"
   ]
  },
  {
   "cell_type": "code",
   "execution_count": 28,
   "metadata": {},
   "outputs": [
    {
     "data": {
      "text/html": [
       "<div>\n",
       "<style scoped>\n",
       "    .dataframe tbody tr th:only-of-type {\n",
       "        vertical-align: middle;\n",
       "    }\n",
       "\n",
       "    .dataframe tbody tr th {\n",
       "        vertical-align: top;\n",
       "    }\n",
       "\n",
       "    .dataframe thead th {\n",
       "        text-align: right;\n",
       "    }\n",
       "</style>\n",
       "<table border=\"1\" class=\"dataframe\">\n",
       "  <thead>\n",
       "    <tr style=\"text-align: right;\">\n",
       "      <th></th>\n",
       "      <th>title</th>\n",
       "      <th>text_token</th>\n",
       "      <th>text_string</th>\n",
       "      <th>text_string_fdist</th>\n",
       "    </tr>\n",
       "  </thead>\n",
       "  <tbody>\n",
       "    <tr>\n",
       "      <th>0</th>\n",
       "      <td>southern tire mart, pilot flying j form strate...</td>\n",
       "      <td>[southern, tire, mart, pilot, flying, j, form,...</td>\n",
       "      <td>southern tire mart pilot flying form strategic...</td>\n",
       "      <td>southern tire mart pilot flying form strategic...</td>\n",
       "    </tr>\n",
       "    <tr>\n",
       "      <th>1</th>\n",
       "      <td>purcell tire joins michelin's commercial, retr...</td>\n",
       "      <td>[purcell, tire, joins, michelin, commercial, r...</td>\n",
       "      <td>purcell tire joins michelin commercial retread...</td>\n",
       "      <td>purcell tire joins michelin commercial retread...</td>\n",
       "    </tr>\n",
       "  </tbody>\n",
       "</table>\n",
       "</div>"
      ],
      "text/plain": [
       "                                               title  \\\n",
       "0  southern tire mart, pilot flying j form strate...   \n",
       "1  purcell tire joins michelin's commercial, retr...   \n",
       "\n",
       "                                          text_token  \\\n",
       "0  [southern, tire, mart, pilot, flying, j, form,...   \n",
       "1  [purcell, tire, joins, michelin, commercial, r...   \n",
       "\n",
       "                                         text_string  \\\n",
       "0  southern tire mart pilot flying form strategic...   \n",
       "1  purcell tire joins michelin commercial retread...   \n",
       "\n",
       "                                   text_string_fdist  \n",
       "0  southern tire mart pilot flying form strategic...  \n",
       "1  purcell tire joins michelin commercial retread...  "
      ]
     },
     "execution_count": 28,
     "metadata": {},
     "output_type": "execute_result"
    }
   ],
   "source": [
    "df[['title', 'text_token', 'text_string', 'text_string_fdist']].head()"
   ]
  },
  {
   "cell_type": "code",
   "execution_count": 29,
   "metadata": {},
   "outputs": [
    {
     "name": "stdout",
     "output_type": "stream",
     "text": [
      "[nltk_data] Downloading package wordnet to /Users/haechan/nltk_data...\n",
      "[nltk_data]   Package wordnet is already up-to-date!\n",
      "[nltk_data] Downloading package omw-1.4 to /Users/haechan/nltk_data...\n",
      "[nltk_data]   Package omw-1.4 is already up-to-date!\n"
     ]
    },
    {
     "data": {
      "text/plain": [
       "True"
      ]
     },
     "execution_count": 29,
     "metadata": {},
     "output_type": "execute_result"
    }
   ],
   "source": [
    "nltk.download('wordnet')\n",
    "nltk.download('omw-1.4')"
   ]
  },
  {
   "cell_type": "code",
   "execution_count": 30,
   "metadata": {},
   "outputs": [],
   "source": [
    "from nltk.stem import WordNetLemmatizer\n",
    "wordnet_lem = WordNetLemmatizer()\n",
    "\n",
    "df['text_string_lem'] = df['text_string'].apply(wordnet_lem.lemmatize)"
   ]
  },
  {
   "cell_type": "code",
   "execution_count": 222,
   "metadata": {},
   "outputs": [],
   "source": [
    "all_words_lem = ' '.join([word for word in df['text_string_lem']])"
   ]
  },
  {
   "cell_type": "code",
   "execution_count": 223,
   "metadata": {},
   "outputs": [
    {
     "name": "stdout",
     "output_type": "stream",
     "text": [
      "[nltk_data] Downloading package punkt to /Users/haechan/nltk_data...\n",
      "[nltk_data]   Package punkt is already up-to-date!\n"
     ]
    },
    {
     "data": {
      "text/plain": [
       "True"
      ]
     },
     "execution_count": 223,
     "metadata": {},
     "output_type": "execute_result"
    }
   ],
   "source": [
    "nltk.download('punkt')"
   ]
  },
  {
   "cell_type": "code",
   "execution_count": 224,
   "metadata": {},
   "outputs": [],
   "source": [
    "from nltk.tokenize import word_tokenize\n",
    "from nltk.probability import FreqDist\n",
    "\n",
    "words = nltk.word_tokenize(all_words_lem)"
   ]
  },
  {
   "cell_type": "code",
   "execution_count": 225,
   "metadata": {},
   "outputs": [
    {
     "name": "stdout",
     "output_type": "stream",
     "text": [
      "[nltk_data] Downloading package vader_lexicon to\n",
      "[nltk_data]     /Users/haechan/nltk_data...\n",
      "[nltk_data]   Package vader_lexicon is already up-to-date!\n"
     ]
    },
    {
     "data": {
      "text/plain": [
       "True"
      ]
     },
     "execution_count": 225,
     "metadata": {},
     "output_type": "execute_result"
    }
   ],
   "source": [
    "# sentiment analysis\n",
    "nltk.download('vader_lexicon')"
   ]
  },
  {
   "cell_type": "code",
   "execution_count": 32,
   "metadata": {},
   "outputs": [
    {
     "name": "stderr",
     "output_type": "stream",
     "text": [
      "/Library/Frameworks/Python.framework/Versions/3.8/lib/python3.8/site-packages/nltk/twitter/__init__.py:20: UserWarning: The twython library has not been installed. Some functionality from the twitter package will not be available.\n",
      "  warnings.warn(\"The twython library has not been installed. \"\n"
     ]
    }
   ],
   "source": [
    "from nltk.sentiment import SentimentIntensityAnalyzer\n",
    "\n",
    "analyzer = SentimentIntensityAnalyzer()"
   ]
  },
  {
   "cell_type": "code",
   "execution_count": 227,
   "metadata": {},
   "outputs": [
    {
     "data": {
      "text/html": [
       "<div>\n",
       "<style scoped>\n",
       "    .dataframe tbody tr th:only-of-type {\n",
       "        vertical-align: middle;\n",
       "    }\n",
       "\n",
       "    .dataframe tbody tr th {\n",
       "        vertical-align: top;\n",
       "    }\n",
       "\n",
       "    .dataframe thead th {\n",
       "        text-align: right;\n",
       "    }\n",
       "</style>\n",
       "<table border=\"1\" class=\"dataframe\">\n",
       "  <thead>\n",
       "    <tr style=\"text-align: right;\">\n",
       "      <th></th>\n",
       "      <th>title</th>\n",
       "      <th>text_token</th>\n",
       "      <th>text_string</th>\n",
       "      <th>text_string_fdist</th>\n",
       "      <th>text_string_lem</th>\n",
       "      <th>polarity</th>\n",
       "    </tr>\n",
       "  </thead>\n",
       "  <tbody>\n",
       "    <tr>\n",
       "      <th>1150</th>\n",
       "      <td>Why Nio Stock Is Sliding Today - Nasdaq</td>\n",
       "      <td>[Why, Nio, Stock, Is, Sliding, Today, Nasdaq]</td>\n",
       "      <td>Why Nio Stock Sliding Today Nasdaq</td>\n",
       "      <td>Why Nio Stock Sliding Today Nasdaq</td>\n",
       "      <td>Why Nio Stock Sliding Today Nasdaq</td>\n",
       "      <td>{'neg': 0.0, 'neu': 1.0, 'pos': 0.0, 'compound...</td>\n",
       "    </tr>\n",
       "    <tr>\n",
       "      <th>1151</th>\n",
       "      <td>Daseke Accepts Resignation Of CFO Jason Bates ...</td>\n",
       "      <td>[Daseke, Accepts, Resignation, Of, CFO, Jason,...</td>\n",
       "      <td>Daseke Accepts Resignation CFO Jason Bates Nasdaq</td>\n",
       "      <td>Daseke Accepts Resignation CFO Jason Bates Nasdaq</td>\n",
       "      <td>Daseke Accepts Resignation CFO Jason Bates Nasdaq</td>\n",
       "      <td>{'neg': 0.232, 'neu': 0.526, 'pos': 0.242, 'co...</td>\n",
       "    </tr>\n",
       "    <tr>\n",
       "      <th>1152</th>\n",
       "      <td>Why Algonquin Power &amp; Utilities is a Top 10 SA...</td>\n",
       "      <td>[Why, Algonquin, Power, Utilities, Top, 10, SA...</td>\n",
       "      <td>Why Algonquin Power Utilities Top SAFE Interna...</td>\n",
       "      <td>Why Algonquin Power Utilities Top SAFE Interna...</td>\n",
       "      <td>Why Algonquin Power Utilities Top SAFE Interna...</td>\n",
       "      <td>{'neg': 0.0, 'neu': 0.624, 'pos': 0.376, 'comp...</td>\n",
       "    </tr>\n",
       "  </tbody>\n",
       "</table>\n",
       "</div>"
      ],
      "text/plain": [
       "                                                  title  \\\n",
       "1150            Why Nio Stock Is Sliding Today - Nasdaq   \n",
       "1151  Daseke Accepts Resignation Of CFO Jason Bates ...   \n",
       "1152  Why Algonquin Power & Utilities is a Top 10 SA...   \n",
       "\n",
       "                                             text_token  \\\n",
       "1150      [Why, Nio, Stock, Is, Sliding, Today, Nasdaq]   \n",
       "1151  [Daseke, Accepts, Resignation, Of, CFO, Jason,...   \n",
       "1152  [Why, Algonquin, Power, Utilities, Top, 10, SA...   \n",
       "\n",
       "                                            text_string  \\\n",
       "1150                 Why Nio Stock Sliding Today Nasdaq   \n",
       "1151  Daseke Accepts Resignation CFO Jason Bates Nasdaq   \n",
       "1152  Why Algonquin Power Utilities Top SAFE Interna...   \n",
       "\n",
       "                                      text_string_fdist  \\\n",
       "1150                 Why Nio Stock Sliding Today Nasdaq   \n",
       "1151  Daseke Accepts Resignation CFO Jason Bates Nasdaq   \n",
       "1152  Why Algonquin Power Utilities Top SAFE Interna...   \n",
       "\n",
       "                                        text_string_lem  \\\n",
       "1150                 Why Nio Stock Sliding Today Nasdaq   \n",
       "1151  Daseke Accepts Resignation CFO Jason Bates Nasdaq   \n",
       "1152  Why Algonquin Power Utilities Top SAFE Interna...   \n",
       "\n",
       "                                               polarity  \n",
       "1150  {'neg': 0.0, 'neu': 1.0, 'pos': 0.0, 'compound...  \n",
       "1151  {'neg': 0.232, 'neu': 0.526, 'pos': 0.242, 'co...  \n",
       "1152  {'neg': 0.0, 'neu': 0.624, 'pos': 0.376, 'comp...  "
      ]
     },
     "execution_count": 227,
     "metadata": {},
     "output_type": "execute_result"
    }
   ],
   "source": [
    "# polarity scores\n",
    "df['polarity'] = df['text_string_lem'].apply(lambda x: analyzer.polarity_scores(x))\n",
    "df.tail(3)"
   ]
  },
  {
   "cell_type": "code",
   "execution_count": 228,
   "metadata": {},
   "outputs": [],
   "source": [
    "df = pd.concat(\n",
    "    [df.drop(['polarity'], axis=1), \n",
    "     df['polarity'].apply(pd.Series)], axis=1)"
   ]
  },
  {
   "cell_type": "code",
   "execution_count": 229,
   "metadata": {},
   "outputs": [
    {
     "data": {
      "text/plain": [
       "True"
      ]
     },
     "execution_count": 229,
     "metadata": {},
     "output_type": "execute_result"
    }
   ],
   "source": [
    "df['sentiment'] = df['compound'].apply(lambda x: 'positive' if x >0 else 'neutral' if x==0 else 'negative')\n",
    "df['compound'].mean()<0\n",
    "df['sentiment'].value_counts()['positive']>df['sentiment'].value_counts()['negative']"
   ]
  },
  {
   "cell_type": "code",
   "execution_count": 270,
   "metadata": {},
   "outputs": [
    {
     "data": {
      "text/plain": [
       "2016"
      ]
     },
     "execution_count": 270,
     "metadata": {},
     "output_type": "execute_result"
    }
   ],
   "source": [
    "random_number = random.randint(1,500)\n",
    "df = pd.read_csv('constituents_csv.csv')\n",
    "symbol = df['Symbol'][random_number]\n",
    "    # getting days between dates\n",
    "dates_bet = test_date2 - test_date1\n",
    "total_days = dates_bet.days\n",
    "random.seed(a=None)\n",
    "randay = random.randrange(total_days)\n",
    "start = test_date1 + timedelta(days=randay)\n",
    "start.year"
   ]
  },
  {
   "cell_type": "code",
   "execution_count": 274,
   "metadata": {},
   "outputs": [
    {
     "data": {
      "text/plain": [
       "0       MMM\n",
       "1       AOS\n",
       "2       ABT\n",
       "3      ABBV\n",
       "4       ACN\n",
       "       ... \n",
       "500     XYL\n",
       "501     YUM\n",
       "502     ZBH\n",
       "503    ZION\n",
       "504     ZTS\n",
       "Name: Symbol, Length: 505, dtype: object"
      ]
     },
     "execution_count": 274,
     "metadata": {},
     "output_type": "execute_result"
    }
   ],
   "source": [
    "df = pd.read_csv('constituents_csv.csv')\n",
    "df['Symbol']"
   ]
  },
  {
   "cell_type": "code",
   "execution_count": 280,
   "metadata": {},
   "outputs": [
    {
     "name": "stdout",
     "output_type": "stream",
     "text": [
      "Testing in date range : 2013-01-01 00:00:00 2013-02-01 00:00:00for AMP\n"
     ]
    },
    {
     "name": "stderr",
     "output_type": "stream",
     "text": [
      "/var/folders/5_/q4stfhx95cb0n8m8bxlc_5280000gn/T/ipykernel_32249/2901325613.py:4: FutureWarning: In a future version of pandas all arguments of DataFrame.drop except for the argument 'labels' will be keyword-only\n",
      "  price = price.drop(['Volume', 'Adj Close'], 1)\n"
     ]
    },
    {
     "name": "stdout",
     "output_type": "stream",
     "text": [
      "strategy maximum drawdown -0.029835121319082735\n",
      "benchmarck maximum drawdwon -2.99\n",
      "strategy maximum drawdown 0.0\n"
     ]
    },
    {
     "name": "stderr",
     "output_type": "stream",
     "text": [
      "/var/folders/5_/q4stfhx95cb0n8m8bxlc_5280000gn/T/ipykernel_32249/2752916642.py:4: FutureWarning: In a future version of pandas all arguments of DataFrame.drop except for the argument 'labels' will be keyword-only\n",
      "  price = price.drop(['Volume', 'Adj Close'], 1)\n"
     ]
    },
    {
     "name": "stdout",
     "output_type": "stream",
     "text": [
      "Testing in date range : 2013-02-01 00:00:00 2013-03-01 00:00:00for AMP\n",
      "strategy maximum drawdown -0.04802360766962952\n",
      "benchmarck maximum drawdwon -4.04\n",
      "strategy maximum drawdown 0.0\n"
     ]
    },
    {
     "name": "stderr",
     "output_type": "stream",
     "text": [
      "/var/folders/5_/q4stfhx95cb0n8m8bxlc_5280000gn/T/ipykernel_32249/2752916642.py:4: FutureWarning: In a future version of pandas all arguments of DataFrame.drop except for the argument 'labels' will be keyword-only\n",
      "  price = price.drop(['Volume', 'Adj Close'], 1)\n"
     ]
    },
    {
     "name": "stdout",
     "output_type": "stream",
     "text": [
      "Testing in date range : 2013-03-01 00:00:00 2013-04-01 00:00:00for AMP\n",
      "strategy maximum drawdown -0.024389342324918184\n",
      "benchmarck maximum drawdwon -2.68\n",
      "strategy maximum drawdown 0.0\n"
     ]
    },
    {
     "name": "stderr",
     "output_type": "stream",
     "text": [
      "/var/folders/5_/q4stfhx95cb0n8m8bxlc_5280000gn/T/ipykernel_32249/2752916642.py:4: FutureWarning: In a future version of pandas all arguments of DataFrame.drop except for the argument 'labels' will be keyword-only\n",
      "  price = price.drop(['Volume', 'Adj Close'], 1)\n"
     ]
    },
    {
     "name": "stdout",
     "output_type": "stream",
     "text": [
      "Testing in date range : 2013-04-01 00:00:00 2013-05-01 00:00:00for AMP\n",
      "strategy maximum drawdown -0.07641106719970703\n",
      "benchmarck maximum drawdwon -7.55\n",
      "strategy maximum drawdown 0.0\n"
     ]
    },
    {
     "name": "stderr",
     "output_type": "stream",
     "text": [
      "/var/folders/5_/q4stfhx95cb0n8m8bxlc_5280000gn/T/ipykernel_32249/2752916642.py:4: FutureWarning: In a future version of pandas all arguments of DataFrame.drop except for the argument 'labels' will be keyword-only\n",
      "  price = price.drop(['Volume', 'Adj Close'], 1)\n"
     ]
    },
    {
     "ename": "ZeroDivisionError",
     "evalue": "division by zero",
     "output_type": "error",
     "traceback": [
      "\u001b[0;31m---------------------------------------------------------------------------\u001b[0m",
      "\u001b[0;31mZeroDivisionError\u001b[0m                         Traceback (most recent call last)",
      "\u001b[0;32m/var/folders/5_/q4stfhx95cb0n8m8bxlc_5280000gn/T/ipykernel_32249/2943408552.py\u001b[0m in \u001b[0;36m<module>\u001b[0;34m\u001b[0m\n\u001b[1;32m    158\u001b[0m         \u001b[0;32mexcept\u001b[0m\u001b[0;34m:\u001b[0m\u001b[0;34m\u001b[0m\u001b[0;34m\u001b[0m\u001b[0m\n\u001b[1;32m    159\u001b[0m             \u001b[0mprint\u001b[0m\u001b[0;34m(\u001b[0m\u001b[0;34m\"data not existing\"\u001b[0m\u001b[0;34m)\u001b[0m\u001b[0;34m\u001b[0m\u001b[0;34m\u001b[0m\u001b[0m\n\u001b[0;32m--> 160\u001b[0;31m \u001b[0mcumulative_P\u001b[0m \u001b[0;34m=\u001b[0m \u001b[0;34m(\u001b[0m\u001b[0msum\u001b[0m\u001b[0;34m(\u001b[0m\u001b[0mcum_benchmark_P\u001b[0m\u001b[0;34m)\u001b[0m\u001b[0;34m/\u001b[0m\u001b[0mlen\u001b[0m\u001b[0;34m(\u001b[0m\u001b[0mcum_benchmark_P\u001b[0m\u001b[0;34m)\u001b[0m\u001b[0;34m,\u001b[0m\u001b[0msum\u001b[0m\u001b[0;34m(\u001b[0m\u001b[0mcum_macd_P\u001b[0m\u001b[0;34m)\u001b[0m\u001b[0;34m/\u001b[0m\u001b[0mlen\u001b[0m\u001b[0;34m(\u001b[0m\u001b[0mcum_macd_P\u001b[0m\u001b[0;34m)\u001b[0m\u001b[0;34m,\u001b[0m\u001b[0msum\u001b[0m\u001b[0;34m(\u001b[0m\u001b[0mcum_rsi_P\u001b[0m\u001b[0;34m)\u001b[0m\u001b[0;34m/\u001b[0m\u001b[0mlen\u001b[0m\u001b[0;34m(\u001b[0m\u001b[0mcum_rsi_P\u001b[0m\u001b[0;34m)\u001b[0m\u001b[0;34m,\u001b[0m\u001b[0msum\u001b[0m\u001b[0;34m(\u001b[0m\u001b[0mcum_bollinger_P\u001b[0m\u001b[0;34m)\u001b[0m\u001b[0;34m/\u001b[0m\u001b[0mlen\u001b[0m\u001b[0;34m(\u001b[0m\u001b[0mcum_bollinger_P\u001b[0m\u001b[0;34m)\u001b[0m\u001b[0;34m,\u001b[0m\u001b[0msum\u001b[0m\u001b[0;34m(\u001b[0m\u001b[0mcum_breakout_P\u001b[0m\u001b[0;34m)\u001b[0m\u001b[0;34m/\u001b[0m\u001b[0mlen\u001b[0m\u001b[0;34m(\u001b[0m\u001b[0mcum_breakout_P\u001b[0m\u001b[0;34m)\u001b[0m\u001b[0;34m,\u001b[0m\u001b[0msum\u001b[0m\u001b[0;34m(\u001b[0m\u001b[0mcum_macd_breakout_P\u001b[0m\u001b[0;34m)\u001b[0m\u001b[0;34m/\u001b[0m\u001b[0mlen\u001b[0m\u001b[0;34m(\u001b[0m\u001b[0mcum_macd_breakout_P\u001b[0m\u001b[0;34m)\u001b[0m\u001b[0;34m)\u001b[0m\u001b[0;34m\u001b[0m\u001b[0;34m\u001b[0m\u001b[0m\n\u001b[0m\u001b[1;32m    161\u001b[0m \u001b[0;34m\u001b[0m\u001b[0m\n\u001b[1;32m    162\u001b[0m \u001b[0mprint\u001b[0m\u001b[0;34m(\u001b[0m\u001b[0mcumulative_P\u001b[0m\u001b[0;34m)\u001b[0m\u001b[0;34m\u001b[0m\u001b[0;34m\u001b[0m\u001b[0m\n",
      "\u001b[0;31mZeroDivisionError\u001b[0m: division by zero"
     ]
    }
   ],
   "source": [
    "\n",
    "from datetime import date, timedelta\n",
    "symbols = pd.read_csv('constituents_csv.csv')\n",
    "test_date1, test_date2 = date(2012, 1, 1), date(2021, 1, 1)\n",
    "\n",
    "cum_benchmark = []\n",
    "cum_macd = []\n",
    "cum_rsi = []\n",
    "cum_bollinger = []\n",
    "cum_breakout = []\n",
    "cum_macd_breakout =[]\n",
    "\n",
    "cum_benchmark_EN = []\n",
    "cum_macd_EN = []\n",
    "cum_rsi_EN = []\n",
    "cum_bollinger_EN = []\n",
    "cum_breakout_EN = []\n",
    "cum_macd_breakout_EN =[]\n",
    "\n",
    "cum_benchmark_N = []\n",
    "cum_macd_N = []\n",
    "cum_rsi_N = []\n",
    "cum_bollinger_N = []\n",
    "cum_breakout_N = []\n",
    "cum_macd_breakout_N =[]\n",
    "\n",
    "cum_benchmark_P = []\n",
    "cum_macd_P = []\n",
    "cum_rsi_P = []\n",
    "cum_bollinger_P = []\n",
    "cum_breakout_P = []\n",
    "cum_macd_breakout_P =[]\n",
    "\n",
    "cum_benchmark_EP = []\n",
    "cum_macd_EP = []\n",
    "cum_rsi_EP = []\n",
    "cum_bollinger_EP = []\n",
    "cum_breakout_EP = []\n",
    "cum_macd_breakout_EP=[]\n",
    "\n",
    "\n",
    "monthly_sentiments=[]\n",
    "\n",
    "for i in range(1):\n",
    "\n",
    "    #randmly select symbol from s&p500\n",
    "    random_number = random.randint(1,500)\n",
    "    symbol = symbols['Symbol'][random_number]\n",
    "    # getting days between dates\n",
    "    dates_bet = test_date2 - test_date1\n",
    "    total_days = dates_bet.days\n",
    "    random.seed(a=None)\n",
    "    randay = random.randrange(total_days)\n",
    "    start = test_date1 + timedelta(days=randay)\n",
    "    end = start.replace(start.year + 1)\n",
    "\n",
    "    for month in range(1,5):\n",
    "        start = datetime.datetime(start.year, month, 1)\n",
    "        end= datetime.datetime(start.year,month+1, 1)\n",
    "        price = pdr.get_data_yahoo('AAPL', start, end)\n",
    "        gn = GoogleNews()\n",
    "        \n",
    "        delta = datetime.timedelta(days=1)\n",
    "        #date_list = pd.date_range(start, end).tolist()\n",
    "        date_list = price.index\n",
    "        daily_sentiments = []\n",
    "        \n",
    "        for j in range(len(price)):\n",
    "            #scraping google news titles\n",
    "            stories = []\n",
    "            result = gn.search('AAPL', from_=date_list[j].strftime('%Y-%m-%d'), to_=(date_list[j]+delta).strftime('%Y-%m-%d'))\n",
    "            newsitem = result['entries']\n",
    "            for item in newsitem:\n",
    "                story = {\n",
    "                    'title':item.title,\n",
    "                        \n",
    "                }\n",
    "                stories.append(story)\n",
    "\n",
    "\n",
    "            df = pd.DataFrame(stories)\n",
    "            if df.empty:\n",
    "                \n",
    "                daily_sentiments.append(0)\n",
    "            else:\n",
    "                #NLP\n",
    "                df['title'] = df['title'].astype(str).str.lower()\n",
    "                regexp = RegexpTokenizer('\\w+')\n",
    "                df['text_token']=df['title'].apply(regexp.tokenize)\n",
    "\n",
    "                #remove stop words\n",
    "                stopwords = nltk.corpus.stopwords.words(\"english\")\n",
    "                df['text_token'] = df['text_token'].apply(lambda x: [item for item in x if item not in stopwords])\n",
    "                #remove words shorter than 2 letters\n",
    "                df['text_string'] = df['text_token'].apply(lambda x: ' '.join([item for item in x if len(item)>2]))\n",
    "                \n",
    "                wordnet_lem = WordNetLemmatizer()\n",
    "\n",
    "                df['text_string_lem'] = df['text_string'].apply(wordnet_lem.lemmatize)\n",
    "                all_words_lem = ' '.join([word for word in df['text_string_lem']])\n",
    "                words = nltk.word_tokenize(all_words_lem)\n",
    "                analyzer = SentimentIntensityAnalyzer()\n",
    "                df['polarity'] = df['text_string_lem'].apply(lambda x: analyzer.polarity_scores(x))\n",
    "                df = pd.concat(\n",
    "                [df.drop(['polarity'], axis=1), df['polarity'].apply(pd.Series)], axis=1)\n",
    "                df['sentiment'] = df['compound'].apply(lambda x: 'positive' if x >0 else 'neutral' if x==0 else 'negative')\n",
    "                sentiment_compound = df['compound'].mean()\n",
    "                print(df)\n",
    "                daily_sentiments.append(sentiment_compound)\n",
    "        monthly_sentiments.append(sum(daily_sentiments)/len(daily_sentiments))\n",
    "\n",
    "        try:\n",
    "            print(\"Testing in date range : \" + str(start) + \" \" + str(end) +\"for \" + str(symbol))\n",
    "            price = pdr.get_data_yahoo(symbol, start, end)\n",
    "            result_macd= macd_strategy(symbol, start, end)\n",
    "            result_rsi = rsi_strategy(symbol, start, end)\n",
    "            result_bollinger = bollinger_band_strategy(symbol, start,end)\n",
    "            result_breakout = breakout_strategy(symbol, start, end,0.5)\n",
    "            result = MACD_BREAKOUT_STRATEGY(symbol, start, end, 0.5)\n",
    "\n",
    "            # when the sentiment is extremely negative\n",
    "            if monthly_sentiments[-1] < 0.01:\n",
    "                cum_benchmark_EN.append(((result_rsi['Close'][-1]/result_rsi['Close'][0]))*100)\n",
    "                cum_macd_EN.append((result_macd['MACD'][-1]/10000)*100)\n",
    "                cum_rsi_EN.append((result_rsi['RSI_strategy'][-1]/10000)*100)\n",
    "                cum_bollinger_EN.append((result_bollinger['Bollinger'][-1]/10000)*100)\n",
    "                cum_breakout_EN.append((result_breakout['breakout'][-1]/10000)*100)\n",
    "                cum_macd_breakout_EN.append((result['MACD'][-1]/10000)*100)\n",
    "            # when the sentiment is negative\n",
    "            elif 0.01<=monthly_sentiments[-1] < 0.05:\n",
    "                cum_benchmark_N.append(((result_rsi['Close'][-1]/result_rsi['Close'][0]))*100)\n",
    "                cum_macd_N.append((result_macd['MACD'][-1]/10000)*100)\n",
    "                cum_rsi_N.append((result_rsi['RSI_strategy'][-1]/10000)*100)\n",
    "                cum_bollinger_N.append((result_bollinger['Bollinger'][-1]/10000)*100)\n",
    "                cum_breakout_N.append((result_breakout['breakout'][-1]/10000)*100)\n",
    "                cum_macd_breakout_N.append((result['MACD'][-1]/10000)*100)\n",
    "\n",
    "            # when the sentiment is neutral\n",
    "            elif 0.05<=monthly_sentiments[-1] < 0.09:\n",
    "                cum_benchmark.append(((result_rsi['Close'][-1]/result_rsi['Close'][0]))*100)\n",
    "                cum_macd.append((result_macd['MACD'][-1]/10000)*100)\n",
    "                cum_rsi.append((result_rsi['RSI_strategy'][-1]/10000)*100)\n",
    "                cum_bollinger.append((result_bollinger['Bollinger'][-1]/10000)*100)\n",
    "                cum_breakout.append((result_breakout['breakout'][-1]/10000)*100)\n",
    "                cum_macd_breakout.append((result['MACD'][-1]/10000)*100)\n",
    "            # when the sentiment is positive\n",
    "            elif 0.09<=monthly_sentiments[-1] < 0.13:\n",
    "                cum_benchmark_P.append(((result_rsi['Close'][-1]/result_rsi['Close'][0]))*100)\n",
    "                cum_macd_P.append((result_macd['MACD'][-1]/10000)*100)\n",
    "                cum_rsi_P.append((result_rsi['RSI_strategy'][-1]/10000)*100)\n",
    "                cum_bollinger_P.append((result_bollinger['Bollinger'][-1]/10000)*100)\n",
    "                cum_breakout_P.append((result_breakout['breakout'][-1]/10000)*100)\n",
    "                cum_macd_breakout_P.append((result['MACD'][-1]/10000)*100)\n",
    "            # when the sentiment is extremely positive\n",
    "            else: \n",
    "                cum_benchmark_EP.append(((result_rsi['Close'][-1]/result_rsi['Close'][0]))*100)\n",
    "                cum_macd_EP.append((result_macd['MACD'][-1]/10000)*100)\n",
    "                cum_rsi_EP.append((result_rsi['RSI_strategy'][-1]/10000)*100)\n",
    "                cum_bollinger_EP.append((result_bollinger['Bollinger'][-1]/10000)*100)\n",
    "                cum_breakout_EP.append((result_breakout['breakout'][-1]/10000)*100)\n",
    "                cum_macd_breakout_EP.append((result['MACD'][-1]/10000)*100)\n",
    "        except:\n",
    "            print(\"data not existing\")\n",
    "#cumulative_P = (sum(cum_benchmark_P)/len(cum_benchmark_P),sum(cum_macd_P)/len(cum_macd_P),sum(cum_rsi_P)/len(cum_rsi_P),sum(cum_bollinger_P)/len(cum_bollinger_P),sum(cum_breakout_P)/len(cum_breakout_P),sum(cum_macd_breakout_P)/len(cum_macd_breakout_P))\n",
    "\n",
    "#print(cumulative_P)"
   ]
  },
  {
   "cell_type": "code",
   "execution_count": null,
   "metadata": {},
   "outputs": [],
   "source": [
    "# RUN1 get the thresholds for the sentiments\n",
    "import random\n",
    "stocks = []\n",
    "df = pd.read_csv('constituents_csv.csv')\n",
    "for i in range(10):\n",
    "    #randomly selects 10 stock symbols\n",
    "    random_number = random.randint(1,500)\n",
    "    symbol = df['Symbol'][random_number]\n",
    "    stocks.append(symbol)\n",
    "\n",
    "monthly_sentiments=[]\n",
    "for i in range(len(stocks)):\n",
    "    for month in range(1,12):\n",
    "        start = datetime.datetime(2021, month, 1)\n",
    "        end= datetime.datetime(2021,month+1, 1)\n",
    "        price = pdr.get_data_yahoo(stocks[i], start, end)\n",
    "        gn = GoogleNews()\n",
    "        \n",
    "        delta = datetime.timedelta(days=1)\n",
    "        #date_list = pd.date_range(start, end).tolist()\n",
    "        date_list = price.index\n",
    "        daily_sentiments = []\n",
    "        \n",
    "        for j in range(len(price)):\n",
    "            #scraping google news titles\n",
    "            stories = []\n",
    "            result = gn.search(symbol, from_=date_list[j].strftime('%Y-%m-%d'), to_=(date_list[j]+delta).strftime('%Y-%m-%d'))\n",
    "            newsitem = result['entries']\n",
    "            for item in newsitem:\n",
    "                story = {\n",
    "                    'title':item.title,\n",
    "                        \n",
    "                }\n",
    "                stories.append(story)\n",
    "\n",
    "\n",
    "            df = pd.DataFrame(stories)\n",
    "            if df.empty:\n",
    "                \n",
    "                daily_sentiments.append(0)\n",
    "            else:\n",
    "                #NLP\n",
    "                df['title'] = df['title'].astype(str).str.lower()\n",
    "                regexp = RegexpTokenizer('\\w+')\n",
    "                df['text_token']=df['title'].apply(regexp.tokenize)\n",
    "\n",
    "                #remove stop words\n",
    "                stopwords = nltk.corpus.stopwords.words(\"english\")\n",
    "                df['text_token'] = df['text_token'].apply(lambda x: [item for item in x if item not in stopwords])\n",
    "                #remove words shorter than 2 letters\n",
    "                df['text_string'] = df['text_token'].apply(lambda x: ' '.join([item for item in x if len(item)>2]))\n",
    "                \n",
    "                wordnet_lem = WordNetLemmatizer()\n",
    "\n",
    "                df['text_string_lem'] = df['text_string'].apply(wordnet_lem.lemmatize)\n",
    "                all_words_lem = ' '.join([word for word in df['text_string_lem']])\n",
    "                words = nltk.word_tokenize(all_words_lem)\n",
    "                analyzer = SentimentIntensityAnalyzer()\n",
    "                df['polarity'] = df['text_string_lem'].apply(lambda x: analyzer.polarity_scores(x))\n",
    "                df = pd.concat(\n",
    "                [df.drop(['polarity'], axis=1), df['polarity'].apply(pd.Series)], axis=1)\n",
    "                df['sentiment'] = df['compound'].apply(lambda x: 'positive' if x >0 else 'neutral' if x==0 else 'negative')\n",
    "                sentiment_compound = df['compound'].mean()\n",
    "                print(df)\n",
    "                daily_sentiments.append(sentiment_compound)\n",
    "        monthly_sentiments.append(sum(daily_sentiments)/len(daily_sentiments))"
   ]
  },
  {
   "cell_type": "code",
   "execution_count": 35,
   "metadata": {},
   "outputs": [
    {
     "name": "stdout",
     "output_type": "stream",
     "text": [
      "                                               title  \\\n",
      "0  armed offenders squads tactics 'flipped' to co...   \n",
      "\n",
      "                                          text_token  \\\n",
      "0  [armed, offenders, squads, tactics, flipped, c...   \n",
      "\n",
      "                                         text_string  \\\n",
      "0  armed offenders squads tactics flipped counter...   \n",
      "\n",
      "                                     text_string_lem    neg    neu  pos  \\\n",
      "0  armed offenders squads tactics flipped counter...  0.591  0.409  0.0   \n",
      "\n",
      "   compound sentiment  \n",
      "0   -0.8779  negative  \n",
      "                                               title  \\\n",
      "0  aos in western bay following tauranga assault ...   \n",
      "\n",
      "                                          text_token  \\\n",
      "0  [aos, western, bay, following, tauranga, assau...   \n",
      "\n",
      "                                         text_string  \\\n",
      "0  aos western bay following tauranga assault bay...   \n",
      "\n",
      "                                     text_string_lem    neg    neu  pos  \\\n",
      "0  aos western bay following tauranga assault bay...  0.297  0.703  0.0   \n",
      "\n",
      "   compound sentiment  \n",
      "0   -0.5859  negative  \n",
      "                                               title  \\\n",
      "0  new hibiki-class surtass / ocean surveillance ...   \n",
      "1  my internship at john hopkins university appli...   \n",
      "2  national technical honor society / about - lou...   \n",
      "\n",
      "                                          text_token  \\\n",
      "0  [new, hibiki, class, surtass, ocean, surveilla...   \n",
      "1  [internship, john, hopkins, university, applie...   \n",
      "2  [national, technical, honor, society, loudoun,...   \n",
      "\n",
      "                                         text_string  \\\n",
      "0  new hibiki class surtass ocean surveillance sh...   \n",
      "1  internship john hopkins university applied phy...   \n",
      "2  national technical honor society loudoun count...   \n",
      "\n",
      "                                     text_string_lem  neg    neu    pos  \\\n",
      "0  new hibiki class surtass ocean surveillance sh...  0.0  0.870  0.130   \n",
      "1  internship john hopkins university applied phy...  0.0  1.000  0.000   \n",
      "2  national technical honor society loudoun count...  0.0  0.686  0.314   \n",
      "\n",
      "   compound sentiment  \n",
      "0    0.1280  positive  \n",
      "1    0.0000   neutral  \n",
      "2    0.4939  positive  \n",
      "Testing in date range : 2020-01-01 00:00:00 2020-02-01 00:00:00for AOS\n"
     ]
    },
    {
     "name": "stderr",
     "output_type": "stream",
     "text": [
      "/var/folders/5_/q4stfhx95cb0n8m8bxlc_5280000gn/T/ipykernel_1071/4292821951.py:13: FutureWarning: In a future version of pandas all arguments of DataFrame.drop except for the argument 'labels' will be keyword-only\n",
      "  price = price.drop(['Volume', 'Adj Close'], 1)\n"
     ]
    },
    {
     "name": "stdout",
     "output_type": "stream",
     "text": [
      "strategy maximum drawdown -0.04815004768371582\n",
      "benchmarck maximum drawdwon -12.05\n",
      "data not existing\n",
      "                                               title  \\\n",
      "0  new hibiki-class surtass / ocean surveillance ...   \n",
      "1  my internship at john hopkins university appli...   \n",
      "2  national technical honor society / about - lou...   \n",
      "\n",
      "                                          text_token  \\\n",
      "0  [new, hibiki, class, surtass, ocean, surveilla...   \n",
      "1  [internship, john, hopkins, university, applie...   \n",
      "2  [national, technical, honor, society, loudoun,...   \n",
      "\n",
      "                                         text_string  \\\n",
      "0  new hibiki class surtass ocean surveillance sh...   \n",
      "1  internship john hopkins university applied phy...   \n",
      "2  national technical honor society loudoun count...   \n",
      "\n",
      "                                     text_string_lem  neg    neu    pos  \\\n",
      "0  new hibiki class surtass ocean surveillance sh...  0.0  0.870  0.130   \n",
      "1  internship john hopkins university applied phy...  0.0  1.000  0.000   \n",
      "2  national technical honor society loudoun count...  0.0  0.686  0.314   \n",
      "\n",
      "   compound sentiment  \n",
      "0    0.1280  positive  \n",
      "1    0.0000   neutral  \n",
      "2    0.4939  positive  \n",
      "                                               title  \\\n",
      "0  alpha and omega semiconductor unveils a new se...   \n",
      "\n",
      "                                          text_token  \\\n",
      "0  [alpha, omega, semiconductor, unveils, new, se...   \n",
      "\n",
      "                                         text_string  \\\n",
      "0  alpha omega semiconductor unveils new series i...   \n",
      "\n",
      "                                     text_string_lem  neg    neu    pos  \\\n",
      "0  alpha omega semiconductor unveils new series i...  0.0  0.786  0.214   \n",
      "\n",
      "   compound sentiment  \n",
      "0    0.4588  positive  \n",
      "Testing in date range : 2020-02-01 00:00:00 2020-03-01 00:00:00for AOS\n"
     ]
    },
    {
     "name": "stderr",
     "output_type": "stream",
     "text": [
      "/var/folders/5_/q4stfhx95cb0n8m8bxlc_5280000gn/T/ipykernel_1071/4292821951.py:13: FutureWarning: In a future version of pandas all arguments of DataFrame.drop except for the argument 'labels' will be keyword-only\n",
      "  price = price.drop(['Volume', 'Adj Close'], 1)\n"
     ]
    },
    {
     "name": "stdout",
     "output_type": "stream",
     "text": [
      "strategy maximum drawdown -0.08677792739868163\n",
      "benchmarck maximum drawdwon -11.16\n",
      "data not existing\n"
     ]
    },
    {
     "ename": "KeyboardInterrupt",
     "evalue": "",
     "output_type": "error",
     "traceback": [
      "\u001b[0;31m---------------------------------------------------------------------------\u001b[0m",
      "\u001b[0;31mKeyboardInterrupt\u001b[0m                         Traceback (most recent call last)",
      "\u001b[0;32m/var/folders/5_/q4stfhx95cb0n8m8bxlc_5280000gn/T/ipykernel_1071/3019776709.py\u001b[0m in \u001b[0;36m<module>\u001b[0;34m\u001b[0m\n\u001b[1;32m     76\u001b[0m             \u001b[0;31m#scraping google news titles\u001b[0m\u001b[0;34m\u001b[0m\u001b[0;34m\u001b[0m\u001b[0;34m\u001b[0m\u001b[0m\n\u001b[1;32m     77\u001b[0m             \u001b[0mstories\u001b[0m \u001b[0;34m=\u001b[0m \u001b[0;34m[\u001b[0m\u001b[0;34m]\u001b[0m\u001b[0;34m\u001b[0m\u001b[0;34m\u001b[0m\u001b[0m\n\u001b[0;32m---> 78\u001b[0;31m             \u001b[0mresult\u001b[0m \u001b[0;34m=\u001b[0m \u001b[0mgn\u001b[0m\u001b[0;34m.\u001b[0m\u001b[0msearch\u001b[0m\u001b[0;34m(\u001b[0m\u001b[0msymbol\u001b[0m\u001b[0;34m,\u001b[0m \u001b[0mfrom_\u001b[0m\u001b[0;34m=\u001b[0m\u001b[0mdate_list\u001b[0m\u001b[0;34m[\u001b[0m\u001b[0mj\u001b[0m\u001b[0;34m]\u001b[0m\u001b[0;34m.\u001b[0m\u001b[0mstrftime\u001b[0m\u001b[0;34m(\u001b[0m\u001b[0;34m'%Y-%m-%d'\u001b[0m\u001b[0;34m)\u001b[0m\u001b[0;34m,\u001b[0m \u001b[0mto_\u001b[0m\u001b[0;34m=\u001b[0m\u001b[0;34m(\u001b[0m\u001b[0mdate_list\u001b[0m\u001b[0;34m[\u001b[0m\u001b[0mj\u001b[0m\u001b[0;34m]\u001b[0m\u001b[0;34m+\u001b[0m\u001b[0mdelta\u001b[0m\u001b[0;34m)\u001b[0m\u001b[0;34m.\u001b[0m\u001b[0mstrftime\u001b[0m\u001b[0;34m(\u001b[0m\u001b[0;34m'%Y-%m-%d'\u001b[0m\u001b[0;34m)\u001b[0m\u001b[0;34m)\u001b[0m\u001b[0;34m\u001b[0m\u001b[0;34m\u001b[0m\u001b[0m\n\u001b[0m\u001b[1;32m     79\u001b[0m \u001b[0;34m\u001b[0m\u001b[0m\n\u001b[1;32m     80\u001b[0m             \u001b[0mnewsitem\u001b[0m \u001b[0;34m=\u001b[0m \u001b[0mresult\u001b[0m\u001b[0;34m[\u001b[0m\u001b[0;34m'entries'\u001b[0m\u001b[0;34m]\u001b[0m\u001b[0;34m\u001b[0m\u001b[0;34m\u001b[0m\u001b[0m\n",
      "\u001b[0;32m/var/folders/5_/q4stfhx95cb0n8m8bxlc_5280000gn/T/ipykernel_1071/476082829.py\u001b[0m in \u001b[0;36msearch\u001b[0;34m(self, query, helper, when, from_, to_, proxies, scraping_bee)\u001b[0m\n\u001b[1;32m    152\u001b[0m         \u001b[0msearch_ceid\u001b[0m \u001b[0;34m=\u001b[0m \u001b[0msearch_ceid\u001b[0m\u001b[0;34m.\u001b[0m\u001b[0mreplace\u001b[0m\u001b[0;34m(\u001b[0m\u001b[0;34m'?'\u001b[0m\u001b[0;34m,\u001b[0m \u001b[0;34m'&'\u001b[0m\u001b[0;34m)\u001b[0m\u001b[0;34m\u001b[0m\u001b[0;34m\u001b[0m\u001b[0m\n\u001b[1;32m    153\u001b[0m \u001b[0;34m\u001b[0m\u001b[0m\n\u001b[0;32m--> 154\u001b[0;31m         \u001b[0md\u001b[0m \u001b[0;34m=\u001b[0m \u001b[0mself\u001b[0m\u001b[0;34m.\u001b[0m\u001b[0m__parse_feed\u001b[0m\u001b[0;34m(\u001b[0m\u001b[0mself\u001b[0m\u001b[0;34m.\u001b[0m\u001b[0mBASE_URL\u001b[0m \u001b[0;34m+\u001b[0m \u001b[0;34m'/search?q={}'\u001b[0m\u001b[0;34m.\u001b[0m\u001b[0mformat\u001b[0m\u001b[0;34m(\u001b[0m\u001b[0mquery\u001b[0m\u001b[0;34m)\u001b[0m \u001b[0;34m+\u001b[0m \u001b[0msearch_ceid\u001b[0m\u001b[0;34m,\u001b[0m \u001b[0mproxies\u001b[0m \u001b[0;34m=\u001b[0m \u001b[0mproxies\u001b[0m\u001b[0;34m,\u001b[0m \u001b[0mscraping_bee\u001b[0m\u001b[0;34m=\u001b[0m\u001b[0mscraping_bee\u001b[0m\u001b[0;34m)\u001b[0m\u001b[0;34m\u001b[0m\u001b[0;34m\u001b[0m\u001b[0m\n\u001b[0m\u001b[1;32m    155\u001b[0m \u001b[0;34m\u001b[0m\u001b[0m\n\u001b[1;32m    156\u001b[0m         \u001b[0md\u001b[0m\u001b[0;34m[\u001b[0m\u001b[0;34m'entries'\u001b[0m\u001b[0;34m]\u001b[0m \u001b[0;34m=\u001b[0m \u001b[0mself\u001b[0m\u001b[0;34m.\u001b[0m\u001b[0m__add_sub_articles\u001b[0m\u001b[0;34m(\u001b[0m\u001b[0md\u001b[0m\u001b[0;34m[\u001b[0m\u001b[0;34m'entries'\u001b[0m\u001b[0;34m]\u001b[0m\u001b[0;34m)\u001b[0m\u001b[0;34m\u001b[0m\u001b[0;34m\u001b[0m\u001b[0m\n",
      "\u001b[0;32m/var/folders/5_/q4stfhx95cb0n8m8bxlc_5280000gn/T/ipykernel_1071/476082829.py\u001b[0m in \u001b[0;36m__parse_feed\u001b[0;34m(self, feed_url, proxies, scraping_bee)\u001b[0m\n\u001b[1;32m     70\u001b[0m             \u001b[0mr\u001b[0m \u001b[0;34m=\u001b[0m \u001b[0mself\u001b[0m\u001b[0;34m.\u001b[0m\u001b[0m__scaping_bee_request\u001b[0m\u001b[0;34m(\u001b[0m\u001b[0murl\u001b[0m \u001b[0;34m=\u001b[0m \u001b[0mfeed_url\u001b[0m\u001b[0;34m,\u001b[0m \u001b[0mapi_key\u001b[0m \u001b[0;34m=\u001b[0m \u001b[0mscraping_bee\u001b[0m\u001b[0;34m)\u001b[0m\u001b[0;34m\u001b[0m\u001b[0;34m\u001b[0m\u001b[0m\n\u001b[1;32m     71\u001b[0m         \u001b[0;32melse\u001b[0m\u001b[0;34m:\u001b[0m\u001b[0;34m\u001b[0m\u001b[0;34m\u001b[0m\u001b[0m\n\u001b[0;32m---> 72\u001b[0;31m             \u001b[0mr\u001b[0m \u001b[0;34m=\u001b[0m \u001b[0mrequests\u001b[0m\u001b[0;34m.\u001b[0m\u001b[0mget\u001b[0m\u001b[0;34m(\u001b[0m\u001b[0mfeed_url\u001b[0m\u001b[0;34m)\u001b[0m\u001b[0;34m\u001b[0m\u001b[0;34m\u001b[0m\u001b[0m\n\u001b[0m\u001b[1;32m     73\u001b[0m \u001b[0;34m\u001b[0m\u001b[0m\n\u001b[1;32m     74\u001b[0m \u001b[0;34m\u001b[0m\u001b[0m\n",
      "\u001b[0;32m/Library/Frameworks/Python.framework/Versions/3.8/lib/python3.8/site-packages/requests/api.py\u001b[0m in \u001b[0;36mget\u001b[0;34m(url, params, **kwargs)\u001b[0m\n\u001b[1;32m     71\u001b[0m     \"\"\"\n\u001b[1;32m     72\u001b[0m \u001b[0;34m\u001b[0m\u001b[0m\n\u001b[0;32m---> 73\u001b[0;31m     \u001b[0;32mreturn\u001b[0m \u001b[0mrequest\u001b[0m\u001b[0;34m(\u001b[0m\u001b[0;34m\"get\"\u001b[0m\u001b[0;34m,\u001b[0m \u001b[0murl\u001b[0m\u001b[0;34m,\u001b[0m \u001b[0mparams\u001b[0m\u001b[0;34m=\u001b[0m\u001b[0mparams\u001b[0m\u001b[0;34m,\u001b[0m \u001b[0;34m**\u001b[0m\u001b[0mkwargs\u001b[0m\u001b[0;34m)\u001b[0m\u001b[0;34m\u001b[0m\u001b[0;34m\u001b[0m\u001b[0m\n\u001b[0m\u001b[1;32m     74\u001b[0m \u001b[0;34m\u001b[0m\u001b[0m\n\u001b[1;32m     75\u001b[0m \u001b[0;34m\u001b[0m\u001b[0m\n",
      "\u001b[0;32m/Library/Frameworks/Python.framework/Versions/3.8/lib/python3.8/site-packages/requests/api.py\u001b[0m in \u001b[0;36mrequest\u001b[0;34m(method, url, **kwargs)\u001b[0m\n\u001b[1;32m     57\u001b[0m     \u001b[0;31m# cases, and look like a memory leak in others.\u001b[0m\u001b[0;34m\u001b[0m\u001b[0;34m\u001b[0m\u001b[0;34m\u001b[0m\u001b[0m\n\u001b[1;32m     58\u001b[0m     \u001b[0;32mwith\u001b[0m \u001b[0msessions\u001b[0m\u001b[0;34m.\u001b[0m\u001b[0mSession\u001b[0m\u001b[0;34m(\u001b[0m\u001b[0;34m)\u001b[0m \u001b[0;32mas\u001b[0m \u001b[0msession\u001b[0m\u001b[0;34m:\u001b[0m\u001b[0;34m\u001b[0m\u001b[0;34m\u001b[0m\u001b[0m\n\u001b[0;32m---> 59\u001b[0;31m         \u001b[0;32mreturn\u001b[0m \u001b[0msession\u001b[0m\u001b[0;34m.\u001b[0m\u001b[0mrequest\u001b[0m\u001b[0;34m(\u001b[0m\u001b[0mmethod\u001b[0m\u001b[0;34m=\u001b[0m\u001b[0mmethod\u001b[0m\u001b[0;34m,\u001b[0m \u001b[0murl\u001b[0m\u001b[0;34m=\u001b[0m\u001b[0murl\u001b[0m\u001b[0;34m,\u001b[0m \u001b[0;34m**\u001b[0m\u001b[0mkwargs\u001b[0m\u001b[0;34m)\u001b[0m\u001b[0;34m\u001b[0m\u001b[0;34m\u001b[0m\u001b[0m\n\u001b[0m\u001b[1;32m     60\u001b[0m \u001b[0;34m\u001b[0m\u001b[0m\n\u001b[1;32m     61\u001b[0m \u001b[0;34m\u001b[0m\u001b[0m\n",
      "\u001b[0;32m/Library/Frameworks/Python.framework/Versions/3.8/lib/python3.8/site-packages/requests/sessions.py\u001b[0m in \u001b[0;36mrequest\u001b[0;34m(self, method, url, params, data, headers, cookies, files, auth, timeout, allow_redirects, proxies, hooks, stream, verify, cert, json)\u001b[0m\n\u001b[1;32m    585\u001b[0m         }\n\u001b[1;32m    586\u001b[0m         \u001b[0msend_kwargs\u001b[0m\u001b[0;34m.\u001b[0m\u001b[0mupdate\u001b[0m\u001b[0;34m(\u001b[0m\u001b[0msettings\u001b[0m\u001b[0;34m)\u001b[0m\u001b[0;34m\u001b[0m\u001b[0;34m\u001b[0m\u001b[0m\n\u001b[0;32m--> 587\u001b[0;31m         \u001b[0mresp\u001b[0m \u001b[0;34m=\u001b[0m \u001b[0mself\u001b[0m\u001b[0;34m.\u001b[0m\u001b[0msend\u001b[0m\u001b[0;34m(\u001b[0m\u001b[0mprep\u001b[0m\u001b[0;34m,\u001b[0m \u001b[0;34m**\u001b[0m\u001b[0msend_kwargs\u001b[0m\u001b[0;34m)\u001b[0m\u001b[0;34m\u001b[0m\u001b[0;34m\u001b[0m\u001b[0m\n\u001b[0m\u001b[1;32m    588\u001b[0m \u001b[0;34m\u001b[0m\u001b[0m\n\u001b[1;32m    589\u001b[0m         \u001b[0;32mreturn\u001b[0m \u001b[0mresp\u001b[0m\u001b[0;34m\u001b[0m\u001b[0;34m\u001b[0m\u001b[0m\n",
      "\u001b[0;32m/Library/Frameworks/Python.framework/Versions/3.8/lib/python3.8/site-packages/requests/sessions.py\u001b[0m in \u001b[0;36msend\u001b[0;34m(self, request, **kwargs)\u001b[0m\n\u001b[1;32m    699\u001b[0m \u001b[0;34m\u001b[0m\u001b[0m\n\u001b[1;32m    700\u001b[0m         \u001b[0;31m# Send the request\u001b[0m\u001b[0;34m\u001b[0m\u001b[0;34m\u001b[0m\u001b[0;34m\u001b[0m\u001b[0m\n\u001b[0;32m--> 701\u001b[0;31m         \u001b[0mr\u001b[0m \u001b[0;34m=\u001b[0m \u001b[0madapter\u001b[0m\u001b[0;34m.\u001b[0m\u001b[0msend\u001b[0m\u001b[0;34m(\u001b[0m\u001b[0mrequest\u001b[0m\u001b[0;34m,\u001b[0m \u001b[0;34m**\u001b[0m\u001b[0mkwargs\u001b[0m\u001b[0;34m)\u001b[0m\u001b[0;34m\u001b[0m\u001b[0;34m\u001b[0m\u001b[0m\n\u001b[0m\u001b[1;32m    702\u001b[0m \u001b[0;34m\u001b[0m\u001b[0m\n\u001b[1;32m    703\u001b[0m         \u001b[0;31m# Total elapsed time of the request (approximately)\u001b[0m\u001b[0;34m\u001b[0m\u001b[0;34m\u001b[0m\u001b[0;34m\u001b[0m\u001b[0m\n",
      "\u001b[0;32m/Library/Frameworks/Python.framework/Versions/3.8/lib/python3.8/site-packages/requests/adapters.py\u001b[0m in \u001b[0;36msend\u001b[0;34m(self, request, stream, timeout, verify, cert, proxies)\u001b[0m\n\u001b[1;32m    487\u001b[0m         \u001b[0;32mtry\u001b[0m\u001b[0;34m:\u001b[0m\u001b[0;34m\u001b[0m\u001b[0;34m\u001b[0m\u001b[0m\n\u001b[1;32m    488\u001b[0m             \u001b[0;32mif\u001b[0m \u001b[0;32mnot\u001b[0m \u001b[0mchunked\u001b[0m\u001b[0;34m:\u001b[0m\u001b[0;34m\u001b[0m\u001b[0;34m\u001b[0m\u001b[0m\n\u001b[0;32m--> 489\u001b[0;31m                 resp = conn.urlopen(\n\u001b[0m\u001b[1;32m    490\u001b[0m                     \u001b[0mmethod\u001b[0m\u001b[0;34m=\u001b[0m\u001b[0mrequest\u001b[0m\u001b[0;34m.\u001b[0m\u001b[0mmethod\u001b[0m\u001b[0;34m,\u001b[0m\u001b[0;34m\u001b[0m\u001b[0;34m\u001b[0m\u001b[0m\n\u001b[1;32m    491\u001b[0m                     \u001b[0murl\u001b[0m\u001b[0;34m=\u001b[0m\u001b[0murl\u001b[0m\u001b[0;34m,\u001b[0m\u001b[0;34m\u001b[0m\u001b[0;34m\u001b[0m\u001b[0m\n",
      "\u001b[0;32m/Library/Frameworks/Python.framework/Versions/3.8/lib/python3.8/site-packages/urllib3/connectionpool.py\u001b[0m in \u001b[0;36murlopen\u001b[0;34m(self, method, url, body, headers, retries, redirect, assert_same_host, timeout, pool_timeout, release_conn, chunked, body_pos, **response_kw)\u001b[0m\n\u001b[1;32m    697\u001b[0m \u001b[0;34m\u001b[0m\u001b[0m\n\u001b[1;32m    698\u001b[0m             \u001b[0;31m# Make the request on the httplib connection object.\u001b[0m\u001b[0;34m\u001b[0m\u001b[0;34m\u001b[0m\u001b[0;34m\u001b[0m\u001b[0m\n\u001b[0;32m--> 699\u001b[0;31m             httplib_response = self._make_request(\n\u001b[0m\u001b[1;32m    700\u001b[0m                 \u001b[0mconn\u001b[0m\u001b[0;34m,\u001b[0m\u001b[0;34m\u001b[0m\u001b[0;34m\u001b[0m\u001b[0m\n\u001b[1;32m    701\u001b[0m                 \u001b[0mmethod\u001b[0m\u001b[0;34m,\u001b[0m\u001b[0;34m\u001b[0m\u001b[0;34m\u001b[0m\u001b[0m\n",
      "\u001b[0;32m/Library/Frameworks/Python.framework/Versions/3.8/lib/python3.8/site-packages/urllib3/connectionpool.py\u001b[0m in \u001b[0;36m_make_request\u001b[0;34m(self, conn, method, url, timeout, chunked, **httplib_request_kw)\u001b[0m\n\u001b[1;32m    443\u001b[0m                     \u001b[0;31m# Python 3 (including for exceptions like SystemExit).\u001b[0m\u001b[0;34m\u001b[0m\u001b[0;34m\u001b[0m\u001b[0;34m\u001b[0m\u001b[0m\n\u001b[1;32m    444\u001b[0m                     \u001b[0;31m# Otherwise it looks like a bug in the code.\u001b[0m\u001b[0;34m\u001b[0m\u001b[0;34m\u001b[0m\u001b[0;34m\u001b[0m\u001b[0m\n\u001b[0;32m--> 445\u001b[0;31m                     \u001b[0msix\u001b[0m\u001b[0;34m.\u001b[0m\u001b[0mraise_from\u001b[0m\u001b[0;34m(\u001b[0m\u001b[0me\u001b[0m\u001b[0;34m,\u001b[0m \u001b[0;32mNone\u001b[0m\u001b[0;34m)\u001b[0m\u001b[0;34m\u001b[0m\u001b[0;34m\u001b[0m\u001b[0m\n\u001b[0m\u001b[1;32m    446\u001b[0m         \u001b[0;32mexcept\u001b[0m \u001b[0;34m(\u001b[0m\u001b[0mSocketTimeout\u001b[0m\u001b[0;34m,\u001b[0m \u001b[0mBaseSSLError\u001b[0m\u001b[0;34m,\u001b[0m \u001b[0mSocketError\u001b[0m\u001b[0;34m)\u001b[0m \u001b[0;32mas\u001b[0m \u001b[0me\u001b[0m\u001b[0;34m:\u001b[0m\u001b[0;34m\u001b[0m\u001b[0;34m\u001b[0m\u001b[0m\n\u001b[1;32m    447\u001b[0m             \u001b[0mself\u001b[0m\u001b[0;34m.\u001b[0m\u001b[0m_raise_timeout\u001b[0m\u001b[0;34m(\u001b[0m\u001b[0merr\u001b[0m\u001b[0;34m=\u001b[0m\u001b[0me\u001b[0m\u001b[0;34m,\u001b[0m \u001b[0murl\u001b[0m\u001b[0;34m=\u001b[0m\u001b[0murl\u001b[0m\u001b[0;34m,\u001b[0m \u001b[0mtimeout_value\u001b[0m\u001b[0;34m=\u001b[0m\u001b[0mread_timeout\u001b[0m\u001b[0;34m)\u001b[0m\u001b[0;34m\u001b[0m\u001b[0;34m\u001b[0m\u001b[0m\n",
      "\u001b[0;32m/Library/Frameworks/Python.framework/Versions/3.8/lib/python3.8/site-packages/urllib3/packages/six.py\u001b[0m in \u001b[0;36mraise_from\u001b[0;34m(value, from_value)\u001b[0m\n",
      "\u001b[0;32m/Library/Frameworks/Python.framework/Versions/3.8/lib/python3.8/site-packages/urllib3/connectionpool.py\u001b[0m in \u001b[0;36m_make_request\u001b[0;34m(self, conn, method, url, timeout, chunked, **httplib_request_kw)\u001b[0m\n\u001b[1;32m    438\u001b[0m                 \u001b[0;31m# Python 3\u001b[0m\u001b[0;34m\u001b[0m\u001b[0;34m\u001b[0m\u001b[0;34m\u001b[0m\u001b[0m\n\u001b[1;32m    439\u001b[0m                 \u001b[0;32mtry\u001b[0m\u001b[0;34m:\u001b[0m\u001b[0;34m\u001b[0m\u001b[0;34m\u001b[0m\u001b[0m\n\u001b[0;32m--> 440\u001b[0;31m                     \u001b[0mhttplib_response\u001b[0m \u001b[0;34m=\u001b[0m \u001b[0mconn\u001b[0m\u001b[0;34m.\u001b[0m\u001b[0mgetresponse\u001b[0m\u001b[0;34m(\u001b[0m\u001b[0;34m)\u001b[0m\u001b[0;34m\u001b[0m\u001b[0;34m\u001b[0m\u001b[0m\n\u001b[0m\u001b[1;32m    441\u001b[0m                 \u001b[0;32mexcept\u001b[0m \u001b[0mBaseException\u001b[0m \u001b[0;32mas\u001b[0m \u001b[0me\u001b[0m\u001b[0;34m:\u001b[0m\u001b[0;34m\u001b[0m\u001b[0;34m\u001b[0m\u001b[0m\n\u001b[1;32m    442\u001b[0m                     \u001b[0;31m# Remove the TypeError from the exception chain in\u001b[0m\u001b[0;34m\u001b[0m\u001b[0;34m\u001b[0m\u001b[0;34m\u001b[0m\u001b[0m\n",
      "\u001b[0;32m/Library/Frameworks/Python.framework/Versions/3.8/lib/python3.8/http/client.py\u001b[0m in \u001b[0;36mgetresponse\u001b[0;34m(self)\u001b[0m\n\u001b[1;32m   1342\u001b[0m         \u001b[0;32mtry\u001b[0m\u001b[0;34m:\u001b[0m\u001b[0;34m\u001b[0m\u001b[0;34m\u001b[0m\u001b[0m\n\u001b[1;32m   1343\u001b[0m             \u001b[0;32mtry\u001b[0m\u001b[0;34m:\u001b[0m\u001b[0;34m\u001b[0m\u001b[0;34m\u001b[0m\u001b[0m\n\u001b[0;32m-> 1344\u001b[0;31m                 \u001b[0mresponse\u001b[0m\u001b[0;34m.\u001b[0m\u001b[0mbegin\u001b[0m\u001b[0;34m(\u001b[0m\u001b[0;34m)\u001b[0m\u001b[0;34m\u001b[0m\u001b[0;34m\u001b[0m\u001b[0m\n\u001b[0m\u001b[1;32m   1345\u001b[0m             \u001b[0;32mexcept\u001b[0m \u001b[0mConnectionError\u001b[0m\u001b[0;34m:\u001b[0m\u001b[0;34m\u001b[0m\u001b[0;34m\u001b[0m\u001b[0m\n\u001b[1;32m   1346\u001b[0m                 \u001b[0mself\u001b[0m\u001b[0;34m.\u001b[0m\u001b[0mclose\u001b[0m\u001b[0;34m(\u001b[0m\u001b[0;34m)\u001b[0m\u001b[0;34m\u001b[0m\u001b[0;34m\u001b[0m\u001b[0m\n",
      "\u001b[0;32m/Library/Frameworks/Python.framework/Versions/3.8/lib/python3.8/http/client.py\u001b[0m in \u001b[0;36mbegin\u001b[0;34m(self)\u001b[0m\n\u001b[1;32m    305\u001b[0m         \u001b[0;31m# read until we get a non-100 response\u001b[0m\u001b[0;34m\u001b[0m\u001b[0;34m\u001b[0m\u001b[0;34m\u001b[0m\u001b[0m\n\u001b[1;32m    306\u001b[0m         \u001b[0;32mwhile\u001b[0m \u001b[0;32mTrue\u001b[0m\u001b[0;34m:\u001b[0m\u001b[0;34m\u001b[0m\u001b[0;34m\u001b[0m\u001b[0m\n\u001b[0;32m--> 307\u001b[0;31m             \u001b[0mversion\u001b[0m\u001b[0;34m,\u001b[0m \u001b[0mstatus\u001b[0m\u001b[0;34m,\u001b[0m \u001b[0mreason\u001b[0m \u001b[0;34m=\u001b[0m \u001b[0mself\u001b[0m\u001b[0;34m.\u001b[0m\u001b[0m_read_status\u001b[0m\u001b[0;34m(\u001b[0m\u001b[0;34m)\u001b[0m\u001b[0;34m\u001b[0m\u001b[0;34m\u001b[0m\u001b[0m\n\u001b[0m\u001b[1;32m    308\u001b[0m             \u001b[0;32mif\u001b[0m \u001b[0mstatus\u001b[0m \u001b[0;34m!=\u001b[0m \u001b[0mCONTINUE\u001b[0m\u001b[0;34m:\u001b[0m\u001b[0;34m\u001b[0m\u001b[0;34m\u001b[0m\u001b[0m\n\u001b[1;32m    309\u001b[0m                 \u001b[0;32mbreak\u001b[0m\u001b[0;34m\u001b[0m\u001b[0;34m\u001b[0m\u001b[0m\n",
      "\u001b[0;32m/Library/Frameworks/Python.framework/Versions/3.8/lib/python3.8/http/client.py\u001b[0m in \u001b[0;36m_read_status\u001b[0;34m(self)\u001b[0m\n\u001b[1;32m    266\u001b[0m \u001b[0;34m\u001b[0m\u001b[0m\n\u001b[1;32m    267\u001b[0m     \u001b[0;32mdef\u001b[0m \u001b[0m_read_status\u001b[0m\u001b[0;34m(\u001b[0m\u001b[0mself\u001b[0m\u001b[0;34m)\u001b[0m\u001b[0;34m:\u001b[0m\u001b[0;34m\u001b[0m\u001b[0;34m\u001b[0m\u001b[0m\n\u001b[0;32m--> 268\u001b[0;31m         \u001b[0mline\u001b[0m \u001b[0;34m=\u001b[0m \u001b[0mstr\u001b[0m\u001b[0;34m(\u001b[0m\u001b[0mself\u001b[0m\u001b[0;34m.\u001b[0m\u001b[0mfp\u001b[0m\u001b[0;34m.\u001b[0m\u001b[0mreadline\u001b[0m\u001b[0;34m(\u001b[0m\u001b[0m_MAXLINE\u001b[0m \u001b[0;34m+\u001b[0m \u001b[0;36m1\u001b[0m\u001b[0;34m)\u001b[0m\u001b[0;34m,\u001b[0m \u001b[0;34m\"iso-8859-1\"\u001b[0m\u001b[0;34m)\u001b[0m\u001b[0;34m\u001b[0m\u001b[0;34m\u001b[0m\u001b[0m\n\u001b[0m\u001b[1;32m    269\u001b[0m         \u001b[0;32mif\u001b[0m \u001b[0mlen\u001b[0m\u001b[0;34m(\u001b[0m\u001b[0mline\u001b[0m\u001b[0;34m)\u001b[0m \u001b[0;34m>\u001b[0m \u001b[0m_MAXLINE\u001b[0m\u001b[0;34m:\u001b[0m\u001b[0;34m\u001b[0m\u001b[0;34m\u001b[0m\u001b[0m\n\u001b[1;32m    270\u001b[0m             \u001b[0;32mraise\u001b[0m \u001b[0mLineTooLong\u001b[0m\u001b[0;34m(\u001b[0m\u001b[0;34m\"status line\"\u001b[0m\u001b[0;34m)\u001b[0m\u001b[0;34m\u001b[0m\u001b[0;34m\u001b[0m\u001b[0m\n",
      "\u001b[0;32m/Library/Frameworks/Python.framework/Versions/3.8/lib/python3.8/socket.py\u001b[0m in \u001b[0;36mreadinto\u001b[0;34m(self, b)\u001b[0m\n\u001b[1;32m    667\u001b[0m         \u001b[0;32mwhile\u001b[0m \u001b[0;32mTrue\u001b[0m\u001b[0;34m:\u001b[0m\u001b[0;34m\u001b[0m\u001b[0;34m\u001b[0m\u001b[0m\n\u001b[1;32m    668\u001b[0m             \u001b[0;32mtry\u001b[0m\u001b[0;34m:\u001b[0m\u001b[0;34m\u001b[0m\u001b[0;34m\u001b[0m\u001b[0m\n\u001b[0;32m--> 669\u001b[0;31m                 \u001b[0;32mreturn\u001b[0m \u001b[0mself\u001b[0m\u001b[0;34m.\u001b[0m\u001b[0m_sock\u001b[0m\u001b[0;34m.\u001b[0m\u001b[0mrecv_into\u001b[0m\u001b[0;34m(\u001b[0m\u001b[0mb\u001b[0m\u001b[0;34m)\u001b[0m\u001b[0;34m\u001b[0m\u001b[0;34m\u001b[0m\u001b[0m\n\u001b[0m\u001b[1;32m    670\u001b[0m             \u001b[0;32mexcept\u001b[0m \u001b[0mtimeout\u001b[0m\u001b[0;34m:\u001b[0m\u001b[0;34m\u001b[0m\u001b[0;34m\u001b[0m\u001b[0m\n\u001b[1;32m    671\u001b[0m                 \u001b[0mself\u001b[0m\u001b[0;34m.\u001b[0m\u001b[0m_timeout_occurred\u001b[0m \u001b[0;34m=\u001b[0m \u001b[0;32mTrue\u001b[0m\u001b[0;34m\u001b[0m\u001b[0;34m\u001b[0m\u001b[0m\n",
      "\u001b[0;32m/Library/Frameworks/Python.framework/Versions/3.8/lib/python3.8/ssl.py\u001b[0m in \u001b[0;36mrecv_into\u001b[0;34m(self, buffer, nbytes, flags)\u001b[0m\n\u001b[1;32m   1239\u001b[0m                   \u001b[0;34m\"non-zero flags not allowed in calls to recv_into() on %s\"\u001b[0m \u001b[0;34m%\u001b[0m\u001b[0;34m\u001b[0m\u001b[0;34m\u001b[0m\u001b[0m\n\u001b[1;32m   1240\u001b[0m                   self.__class__)\n\u001b[0;32m-> 1241\u001b[0;31m             \u001b[0;32mreturn\u001b[0m \u001b[0mself\u001b[0m\u001b[0;34m.\u001b[0m\u001b[0mread\u001b[0m\u001b[0;34m(\u001b[0m\u001b[0mnbytes\u001b[0m\u001b[0;34m,\u001b[0m \u001b[0mbuffer\u001b[0m\u001b[0;34m)\u001b[0m\u001b[0;34m\u001b[0m\u001b[0;34m\u001b[0m\u001b[0m\n\u001b[0m\u001b[1;32m   1242\u001b[0m         \u001b[0;32melse\u001b[0m\u001b[0;34m:\u001b[0m\u001b[0;34m\u001b[0m\u001b[0;34m\u001b[0m\u001b[0m\n\u001b[1;32m   1243\u001b[0m             \u001b[0;32mreturn\u001b[0m \u001b[0msuper\u001b[0m\u001b[0;34m(\u001b[0m\u001b[0;34m)\u001b[0m\u001b[0;34m.\u001b[0m\u001b[0mrecv_into\u001b[0m\u001b[0;34m(\u001b[0m\u001b[0mbuffer\u001b[0m\u001b[0;34m,\u001b[0m \u001b[0mnbytes\u001b[0m\u001b[0;34m,\u001b[0m \u001b[0mflags\u001b[0m\u001b[0;34m)\u001b[0m\u001b[0;34m\u001b[0m\u001b[0;34m\u001b[0m\u001b[0m\n",
      "\u001b[0;32m/Library/Frameworks/Python.framework/Versions/3.8/lib/python3.8/ssl.py\u001b[0m in \u001b[0;36mread\u001b[0;34m(self, len, buffer)\u001b[0m\n\u001b[1;32m   1097\u001b[0m         \u001b[0;32mtry\u001b[0m\u001b[0;34m:\u001b[0m\u001b[0;34m\u001b[0m\u001b[0;34m\u001b[0m\u001b[0m\n\u001b[1;32m   1098\u001b[0m             \u001b[0;32mif\u001b[0m \u001b[0mbuffer\u001b[0m \u001b[0;32mis\u001b[0m \u001b[0;32mnot\u001b[0m \u001b[0;32mNone\u001b[0m\u001b[0;34m:\u001b[0m\u001b[0;34m\u001b[0m\u001b[0;34m\u001b[0m\u001b[0m\n\u001b[0;32m-> 1099\u001b[0;31m                 \u001b[0;32mreturn\u001b[0m \u001b[0mself\u001b[0m\u001b[0;34m.\u001b[0m\u001b[0m_sslobj\u001b[0m\u001b[0;34m.\u001b[0m\u001b[0mread\u001b[0m\u001b[0;34m(\u001b[0m\u001b[0mlen\u001b[0m\u001b[0;34m,\u001b[0m \u001b[0mbuffer\u001b[0m\u001b[0;34m)\u001b[0m\u001b[0;34m\u001b[0m\u001b[0;34m\u001b[0m\u001b[0m\n\u001b[0m\u001b[1;32m   1100\u001b[0m             \u001b[0;32melse\u001b[0m\u001b[0;34m:\u001b[0m\u001b[0;34m\u001b[0m\u001b[0;34m\u001b[0m\u001b[0m\n\u001b[1;32m   1101\u001b[0m                 \u001b[0;32mreturn\u001b[0m \u001b[0mself\u001b[0m\u001b[0;34m.\u001b[0m\u001b[0m_sslobj\u001b[0m\u001b[0;34m.\u001b[0m\u001b[0mread\u001b[0m\u001b[0;34m(\u001b[0m\u001b[0mlen\u001b[0m\u001b[0;34m)\u001b[0m\u001b[0;34m\u001b[0m\u001b[0;34m\u001b[0m\u001b[0m\n",
      "\u001b[0;31mKeyboardInterrupt\u001b[0m: "
     ]
    }
   ],
   "source": [
    "# RUN2\n",
    "import random\n",
    "from datetime import date, timedelta\n",
    "symbols = pd.read_csv('constituents_csv.csv')\n",
    "test_date1, test_date2 = date(2019, 1, 1), date(2021, 1, 1)\n",
    "\n",
    "#neutral\n",
    "cum_benchmark = []\n",
    "cum_macd = []\n",
    "cum_rsi = []\n",
    "cum_bollinger = []\n",
    "cum_breakout = []\n",
    "cum_macd_breakout =[]\n",
    "\n",
    "#extremely negative\n",
    "cum_benchmark_EN = []\n",
    "cum_macd_EN = []\n",
    "cum_rsi_EN = []\n",
    "cum_bollinger_EN = []\n",
    "cum_breakout_EN = []\n",
    "cum_macd_breakout_EN =[]\n",
    "\n",
    "#negative\n",
    "cum_benchmark_N = []\n",
    "cum_macd_N = []\n",
    "cum_rsi_N = []\n",
    "cum_bollinger_N = []\n",
    "cum_breakout_N = []\n",
    "cum_macd_breakout_N =[]\n",
    "\n",
    "#positive\n",
    "cum_benchmark_P = []\n",
    "cum_macd_P = []\n",
    "cum_rsi_P = []\n",
    "cum_bollinger_P = []\n",
    "cum_breakout_P = []\n",
    "cum_macd_breakout_P =[]\n",
    "\n",
    "#extemely positive\n",
    "cum_benchmark_EP = []\n",
    "cum_macd_EP = []\n",
    "cum_rsi_EP = []\n",
    "cum_bollinger_EP = []\n",
    "cum_breakout_EP = []\n",
    "cum_macd_breakout_EP=[]\n",
    "\n",
    "\n",
    "monthly_sentiments=[]\n",
    "\n",
    "for i in range(25):\n",
    "\n",
    "    #randmly select symbol from s&p500\n",
    "    random_number = random.randint(1,500)\n",
    "    symbol = symbols['Symbol'][random_number]\n",
    "    #symbol = 'AAPL'\n",
    "    # getting days between dates\n",
    "    dates_bet = test_date2 - test_date1\n",
    "    total_days = dates_bet.days\n",
    "    random.seed(a=None)\n",
    "    randay = random.randrange(total_days)\n",
    "    start = test_date1 + timedelta(days=randay)\n",
    "    end = start.replace(start.year + 1)\n",
    "    #data = pdr.get_data_yahoo(symbol, start, end)\n",
    "    for month in range(1,11):\n",
    "        start = datetime.datetime(start.year, month, 1)\n",
    "        end= datetime.datetime(start.year,month+1, 1)\n",
    "        price = pdr.get_data_yahoo(symbol, start, end)\n",
    "        gn = GoogleNews()\n",
    "        \n",
    "        delta = datetime.timedelta(days=7)\n",
    "        #date_list = pd.date_range(start, end).tolist()\n",
    "        date_list = price.index\n",
    "        daily_sentiments = []\n",
    "        \n",
    "        for j in range(0,len(price),7):\n",
    "            #scraping google news titles\n",
    "            stories = []\n",
    "            result = gn.search(symbol, from_=date_list[j].strftime('%Y-%m-%d'), to_=(date_list[j]+delta).strftime('%Y-%m-%d'))\n",
    "            \n",
    "            newsitem = result['entries']\n",
    "            for item in newsitem:\n",
    "                story = {\n",
    "                    'title':item.title,\n",
    "                }\n",
    "                stories.append(story)      \n",
    "\n",
    "\n",
    "            df = pd.DataFrame(stories)\n",
    "            if df.empty:\n",
    "                \n",
    "                daily_sentiments.append(0)\n",
    "            else:\n",
    "                #NLP\n",
    "                df['title'] = df['title'].astype(str).str.lower()\n",
    "                regexp = RegexpTokenizer('\\w+')\n",
    "                df['text_token']=df['title'].apply(regexp.tokenize)\n",
    "\n",
    "                #remove stop words\n",
    "                stopwords = nltk.corpus.stopwords.words(\"english\")\n",
    "                df['text_token'] = df['text_token'].apply(lambda x: [item for item in x if item not in stopwords])\n",
    "                #remove words shorter than 2 letters\n",
    "                df['text_string'] = df['text_token'].apply(lambda x: ' '.join([item for item in x if len(item)>2]))\n",
    "                \n",
    "                wordnet_lem = WordNetLemmatizer()\n",
    "\n",
    "                df['text_string_lem'] = df['text_string'].apply(wordnet_lem.lemmatize)\n",
    "                all_words_lem = ' '.join([word for word in df['text_string_lem']])\n",
    "                words = nltk.word_tokenize(all_words_lem)\n",
    "                analyzer = SentimentIntensityAnalyzer()\n",
    "                df['polarity'] = df['text_string_lem'].apply(lambda x: analyzer.polarity_scores(x))\n",
    "                df = pd.concat(\n",
    "                [df.drop(['polarity'], axis=1), df['polarity'].apply(pd.Series)], axis=1)\n",
    "                df['sentiment'] = df['compound'].apply(lambda x: 'positive' if x >0 else 'neutral' if x==0 else 'negative')\n",
    "                sentiment_compound = df['compound'].mean()\n",
    "                print(df)\n",
    "                daily_sentiments.append(sentiment_compound)\n",
    "        monthly_sentiments.append(sum(daily_sentiments)/len(daily_sentiments))\n",
    "\n",
    "        try:\n",
    "            print(\"Testing in date range : \" + str(start) + \" \" + str(end) +\"for \" + str(symbol))\n",
    "            price = pdr.get_data_yahoo(symbol, start, end)\n",
    "            result_macd= macd_strategy(symbol, start, end)\n",
    "            result_rsi = rsi_strategy(symbol, start, end)\n",
    "            result_bollinger = bollinger_band_strategy(symbol, start,end)\n",
    "            result_breakout = breakout_strategy(symbol, start, end,0.5)\n",
    "            result = MACD_BREAKOUT_STRATEGY(symbol, start, end, 0.5)\n",
    "\n",
    "            # REVISE!\n",
    "            if monthly_sentiments[-1] < 0.01:\n",
    "                #extremley negative\n",
    "                cum_benchmark_EN.append(((result_rsi['Close'][-1]/result_rsi['Close'][0]))*100)\n",
    "                cum_macd_EN.append((result_macd['MACD'][-1]/10000)*100)\n",
    "                cum_rsi_EN.append((result_rsi['RSI_strategy'][-1]/10000)*100)\n",
    "                cum_bollinger_EN.append((result_bollinger['Bollinger'][-1]/10000)*100)\n",
    "                cum_breakout_EN.append((result_breakout['breakout'][-1]/10000)*100)\n",
    "                cum_macd_breakout_EN.append((result['MACD'][-1]/10000)*100)\n",
    "\n",
    "            elif 0.01<=monthly_sentiments[-1] < 0.05:\n",
    "                cum_benchmark_N.append(((result_rsi['Close'][-1]/result_rsi['Close'][0]))*100)\n",
    "                cum_macd_N.append((result_macd['MACD'][-1]/10000)*100)\n",
    "                cum_rsi_N.append((result_rsi['RSI_strategy'][-1]/10000)*100)\n",
    "                cum_bollinger_N.append((result_bollinger['Bollinger'][-1]/10000)*100)\n",
    "                cum_breakout_N.append((result_breakout['breakout'][-1]/10000)*100)\n",
    "                cum_macd_breakout_N.append((result['MACD'][-1]/10000)*100)\n",
    "            elif 0.05<=monthly_sentiments[-1] < 0.09:\n",
    "                cum_benchmark.append(((result_rsi['Close'][-1]/result_rsi['Close'][0]))*100)\n",
    "                cum_macd.append((result_macd['MACD'][-1]/10000)*100)\n",
    "                cum_rsi.append((result_rsi['RSI_strategy'][-1]/10000)*100)\n",
    "                cum_bollinger.append((result_bollinger['Bollinger'][-1]/10000)*100)\n",
    "                cum_breakout.append((result_breakout['breakout'][-1]/10000)*100)\n",
    "                cum_macd_breakout.append((result['MACD'][-1]/10000)*100)\n",
    "            elif 0.09<=monthly_sentiments[-1] < 0.13:\n",
    "                cum_benchmark_P.append(((result_rsi['Close'][-1]/result_rsi['Close'][0]))*100)\n",
    "                cum_macd_P.append((result_macd['MACD'][-1]/10000)*100)\n",
    "                cum_rsi_P.append((result_rsi['RSI_strategy'][-1]/10000)*100)\n",
    "                cum_bollinger_P.append((result_bollinger['Bollinger'][-1]/10000)*100)\n",
    "                cum_breakout_P.append((result_breakout['breakout'][-1]/10000)*100)\n",
    "                cum_macd_breakout_P.append((result['MACD'][-1]/10000)*100)\n",
    "            else: \n",
    "                cum_benchmark_EP.append(((result_rsi['Close'][-1]/result_rsi['Close'][0]))*100)\n",
    "                cum_macd_EP.append((result_macd['MACD'][-1]/10000)*100)\n",
    "                cum_rsi_EP.append((result_rsi['RSI_strategy'][-1]/10000)*100)\n",
    "                cum_bollinger_EP.append((result_bollinger['Bollinger'][-1]/10000)*100)\n",
    "                cum_breakout_EP.append((result_breakout['breakout'][-1]/10000)*100)\n",
    "                cum_macd_breakout_EP.append((result['MACD'][-1]/10000)*100)\n",
    "        except:\n",
    "            print(\"data not existing\")\n",
    "#cumulative_P = (sum(cum_benchmark_P)/len(cum_benchmark_P),sum(cum_macd_P)/len(cum_macd_P),sum(cum_rsi_P)/len(cum_rsi_P),sum(cum_bollinger_P)/len(cum_bollinger_P),sum(cum_breakout_P)/len(cum_breakout_P),sum(cum_macd_breakout_P)/len(cum_macd_breakout_P))\n",
    "\n",
    "#print(cumulative_P)"
   ]
  },
  {
   "cell_type": "code",
   "execution_count": 300,
   "metadata": {},
   "outputs": [
    {
     "ename": "ZeroDivisionError",
     "evalue": "division by zero",
     "output_type": "error",
     "traceback": [
      "\u001b[0;31m---------------------------------------------------------------------------\u001b[0m",
      "\u001b[0;31mZeroDivisionError\u001b[0m                         Traceback (most recent call last)",
      "\u001b[0;32m/var/folders/5_/q4stfhx95cb0n8m8bxlc_5280000gn/T/ipykernel_32249/1059585706.py\u001b[0m in \u001b[0;36m<module>\u001b[0;34m\u001b[0m\n\u001b[0;32m----> 1\u001b[0;31m \u001b[0mcumulative_EN\u001b[0m \u001b[0;34m=\u001b[0m \u001b[0;34m(\u001b[0m\u001b[0msum\u001b[0m\u001b[0;34m(\u001b[0m\u001b[0mcum_benchmark_EN\u001b[0m\u001b[0;34m)\u001b[0m\u001b[0;34m/\u001b[0m\u001b[0mlen\u001b[0m\u001b[0;34m(\u001b[0m\u001b[0mcum_benchmark_EN\u001b[0m\u001b[0;34m)\u001b[0m\u001b[0;34m,\u001b[0m\u001b[0msum\u001b[0m\u001b[0;34m(\u001b[0m\u001b[0mcum_macd_EN\u001b[0m\u001b[0;34m)\u001b[0m\u001b[0;34m/\u001b[0m\u001b[0mlen\u001b[0m\u001b[0;34m(\u001b[0m\u001b[0mcum_macd_EN\u001b[0m\u001b[0;34m)\u001b[0m\u001b[0;34m,\u001b[0m\u001b[0msum\u001b[0m\u001b[0;34m(\u001b[0m\u001b[0mcum_rsi_EN\u001b[0m\u001b[0;34m)\u001b[0m\u001b[0;34m/\u001b[0m\u001b[0mlen\u001b[0m\u001b[0;34m(\u001b[0m\u001b[0mcum_rsi_EN\u001b[0m\u001b[0;34m)\u001b[0m\u001b[0;34m,\u001b[0m\u001b[0msum\u001b[0m\u001b[0;34m(\u001b[0m\u001b[0mcum_bollinger_EN\u001b[0m\u001b[0;34m)\u001b[0m\u001b[0;34m/\u001b[0m\u001b[0mlen\u001b[0m\u001b[0;34m(\u001b[0m\u001b[0mcum_bollinger_EN\u001b[0m\u001b[0;34m)\u001b[0m\u001b[0;34m,\u001b[0m\u001b[0msum\u001b[0m\u001b[0;34m(\u001b[0m\u001b[0mcum_breakout_EN\u001b[0m\u001b[0;34m)\u001b[0m\u001b[0;34m/\u001b[0m\u001b[0mlen\u001b[0m\u001b[0;34m(\u001b[0m\u001b[0mcum_breakout_EN\u001b[0m\u001b[0;34m)\u001b[0m\u001b[0;34m,\u001b[0m\u001b[0msum\u001b[0m\u001b[0;34m(\u001b[0m\u001b[0mcum_macd_breakout_EN\u001b[0m\u001b[0;34m)\u001b[0m\u001b[0;34m/\u001b[0m\u001b[0mlen\u001b[0m\u001b[0;34m(\u001b[0m\u001b[0mcum_macd_breakout_EN\u001b[0m\u001b[0;34m)\u001b[0m\u001b[0;34m)\u001b[0m\u001b[0;34m\u001b[0m\u001b[0;34m\u001b[0m\u001b[0m\n\u001b[0m\u001b[1;32m      2\u001b[0m \u001b[0mcumulative_EN\u001b[0m\u001b[0;34m\u001b[0m\u001b[0;34m\u001b[0m\u001b[0m\n",
      "\u001b[0;31mZeroDivisionError\u001b[0m: division by zero"
     ]
    }
   ],
   "source": [
    "cumulative_EN = (sum(cum_benchmark_EN)/len(cum_benchmark_EN),sum(cum_macd_EN)/len(cum_macd_EN),sum(cum_rsi_EN)/len(cum_rsi_EN),sum(cum_bollinger_EN)/len(cum_bollinger_EN),sum(cum_breakout_EN)/len(cum_breakout_EN),sum(cum_macd_breakout_EN)/len(cum_macd_breakout_EN))\n",
    "cumulative_EN"
   ]
  },
  {
   "cell_type": "code",
   "execution_count": 307,
   "metadata": {},
   "outputs": [
    {
     "name": "stdout",
     "output_type": "stream",
     "text": [
      "p value:0.00753598\n",
      "since the hypothesis is one sided >> use p_value/2 >> p_value_one_sided:0.0038\n",
      "Reject null hypothesis\n"
     ]
    }
   ],
   "source": [
    "#hypothesis testing example\n",
    "from scipy import stats\n",
    "sync = np.array([94. , 84.9, 82.6, 69.5, 80.1, 79.6, 81.4, 77.8, 81.7, 78.8, 73.2,\n",
    "       87.9, 87.9, 93.5, 82.3, 79.3, 78.3, 71.6, 88.6, 74.6, 74.1, 80.6])\n",
    "asyncr = np.array([77.1, 71.7, 91. , 72.2, 74.8, 85.1, 67.6, 69.9, 75.3, 71.7, 65.7, 72.6, 71.5, 78.2])\n",
    "ttest,p_value = stats.ttest_ind(sync,asyncr)\n",
    "print(\"p value:%.8f\" % p_value)\n",
    "print(\"since the hypothesis is one sided >> use p_value/2 >> p_value_one_sided:%.4f\" %(p_value/2))\n",
    "if p_value/2 <0.05:\n",
    "    print(\"Reject null hypothesis\")\n",
    "else:\n",
    "    print(\"Fail to reject null hypothesis\")"
   ]
  },
  {
   "cell_type": "code",
   "execution_count": 267,
   "metadata": {},
   "outputs": [
    {
     "data": {
      "text/plain": [
       "[0.012621321601104211,\n",
       " 0.014979848484848492,\n",
       " 0.014979848484848492,\n",
       " 0.022677709750566884,\n",
       " 0.022677709750566884,\n",
       " 0.04319994694918609,\n",
       " 0.04935780867683043,\n",
       " 0.05525553571428572,\n",
       " 0.05525553571428572,\n",
       " 0.05684538175208631,\n",
       " 0.05764650621118013,\n",
       " 0.06710377016922474,\n",
       " 0.06870502070393375,\n",
       " 0.07265060041407868,\n",
       " 0.09656661796536797,\n",
       " 0.10295559523809526,\n",
       " 0.10340195652173914,\n",
       " 0.10586021739130436,\n",
       " 0.10677750000000003,\n",
       " 0.10732365079365082,\n",
       " 0.10926954545454547,\n",
       " 0.12007798160173162]"
      ]
     },
     "execution_count": 267,
     "metadata": {},
     "output_type": "execute_result"
    }
   ],
   "source": [
    "monthly_sentiments.sort()\n",
    "monthly_sentiments"
   ]
  },
  {
   "cell_type": "code",
   "execution_count": 233,
   "metadata": {},
   "outputs": [],
   "source": [
    "def sentiment_strategy(symbol, start, end):\n",
    "    \"\"\"\n",
    "    the function conducts backtesting for a trading strategy based on sentiment analysis. \n",
    "    input: \n",
    "        symbol: str. Stock name\n",
    "        start: datetime. \n",
    "        end: datetime \n",
    "    output:\n",
    "        a dataframe with backtest result of the strategy and sentiments of each day\n",
    "    \"\"\"\n",
    "    #get data\n",
    "    price = pdr.get_data_yahoo(symbol, start, end)\n",
    "    price = price.drop(['Volume', 'Adj Close'], 1)\n",
    "\n",
    "    #macd calculations\n",
    "    exp1 = price.Close.ewm(span = 12, adjust=False).mean()\n",
    "    exp2 = price.Close.ewm(span = 26, adjust=False).mean()\n",
    "    macd = exp1 - exp2\n",
    "    signal = macd.ewm(span = 9, adjust=False).mean()\n",
    "\n",
    "    #add column for entries\n",
    "    price['Long'] = macd > signal\n",
    "    # profit calculation for MACD\n",
    "    money = 10000\n",
    "    exchange = 0\n",
    "    wins= 0\n",
    "    asset = [10000]\n",
    "    numb=0\n",
    "    drawdowns = [0]\n",
    "    difference = []\n",
    "    sentiment = False\n",
    "    sentiments = [sentiment]\n",
    "    \n",
    "    #scrape\n",
    "    gn = GoogleNews()\n",
    "    \n",
    "    delta = datetime.timedelta(days=1)\n",
    "    #date_list = pd.date_range(start, end).tolist()\n",
    "    date_list = price.index\n",
    "        \n",
    "    for i in range(len(price)-1):\n",
    "\n",
    "        #scraping google news titles\n",
    "        stories = []\n",
    "        result = gn.search(symbol, from_=date_list[i].strftime('%Y-%m-%d'), to_=(date_list[i]+delta).strftime('%Y-%m-%d'))\n",
    "        newsitem = result['entries']\n",
    "\n",
    "        for item in newsitem:\n",
    "            story = {\n",
    "                'title':item.title,\n",
    "                    \n",
    "            }\n",
    "            stories.append(story)\n",
    "\n",
    "\n",
    "        df = pd.DataFrame(stories)\n",
    "\n",
    "\n",
    "        if df.empty:\n",
    "            asset.append(money + (price['Close'][i]*numb))\n",
    "            sentiments.append(sentiment)\n",
    "        else:\n",
    "            #NLP\n",
    "            df['title'] = df['title'].astype(str).str.lower()\n",
    "            regexp = RegexpTokenizer('\\w+')\n",
    "            df['text_token']=df['title'].apply(regexp.tokenize)\n",
    "\n",
    "            #remove stop words\n",
    "            stopwords = nltk.corpus.stopwords.words(\"english\")\n",
    "            df['text_token'] = df['text_token'].apply(lambda x: [item for item in x if item not in stopwords])\n",
    "            #remove words shorter than 2 letters\n",
    "            df['text_string'] = df['text_token'].apply(lambda x: ' '.join([item for item in x if len(item)>2]))\n",
    "            wordnet_lem = WordNetLemmatizer()\n",
    "\n",
    "            df['text_string_lem'] = df['text_string'].apply(wordnet_lem.lemmatize)\n",
    "            all_words_lem = ' '.join([word for word in df['text_string_lem']])\n",
    "            words = nltk.word_tokenize(all_words_lem)\n",
    "            analyzer = SentimentIntensityAnalyzer()\n",
    "            df['polarity'] = df['text_string_lem'].apply(lambda x: analyzer.polarity_scores(x))\n",
    "            df = pd.concat(\n",
    "            [df.drop(['polarity'], axis=1), df['polarity'].apply(pd.Series)], axis=1)\n",
    "            df['sentiment'] = df['compound'].apply(lambda x: 'positive' if x >0 else 'neutral' if x==0 else 'negative')\n",
    "            sentiment_compound = df['compound'].mean()\n",
    "            # sentiment_numbers= df['sentiment'].value_counts()['positive']>df['sentiment'].value_counts()['negative']\n",
    "            if sentiment_compound > 0:\n",
    "                if numb==0:\n",
    "                    buy = price['Close'][i]\n",
    "                    numb = money//buy\n",
    "                    money-=numb*buy\n",
    "                    sentiment = True\n",
    "                    sentiments.append(sentiment)\n",
    "                else:\n",
    "                    asset.append(money + (price['Close'][i]*numb))\n",
    "                    drawdowns.append(((money + (price['Close'][i]*numb))-max(asset))/max(asset))\n",
    "                    sentiments.append(sentiment)\n",
    "                    continue\n",
    "            else:\n",
    "                if numb!=0 : \n",
    "                    sell = price['Close'][i]\n",
    "                    money += (sell)*numb\n",
    "                    exchange +=1\n",
    "                    if sell>buy:\n",
    "                        wins +=1\n",
    "                    difference.append(sell-buy)\n",
    "                    numb=0\n",
    "                    sentiment = False\n",
    "                    sentiments.append(sentiment)\n",
    "                else: \n",
    "                    asset.append(money + (price['Close'][i]*numb))\n",
    "                    drawdowns.append(((money + (price['Close'][i]*numb))-max(asset))/max(asset))\n",
    "                    continue\n",
    "            \n",
    "            asset.append(money + (price['Close'][i]*numb))\n",
    "            sentiments.append(sentiment)\n",
    "            drawdowns.append(((money + (price['Close'][i]*numb))-max(asset))/max(asset))\n",
    "    price['sentiment_analysis']= sentiments\n",
    "    price['sentiment']=asset\n",
    "    # price['DD']=drawdowns\n",
    "\n",
    "    # STARTING_BALANCE = 10000\n",
    "    # #daily return\n",
    "    # price['Return'] = price.Close / price.Close.shift(1)\n",
    "    # price.Return.iat[0] = 1\n",
    "    # price['Bench_Bal'] = STARTING_BALANCE * price.Return.cumprod()\n",
    "    # #calculate drawdown\n",
    "    # price['Bench_Peak'] = price.Bench_Bal.cummax()\n",
    "    # price['Bench_DD'] = price.Bench_Bal - price.Bench_Peak\n",
    "\n",
    "    # bench_dd = round((price.Bench_DD / price.Bench_Peak).min() * 100, 2)\n",
    "    # print(\"win rate:\", wins/exchange)\n",
    "    # print(\"strategy maximum drawdown\", min(price['DD']))\n",
    "    # print(\"benchmarck maximum drawdwon\", bench_dd)\n",
    "    return price\n",
    "    \n",
    "    "
   ]
  },
  {
   "cell_type": "code",
   "execution_count": 234,
   "metadata": {},
   "outputs": [
    {
     "name": "stderr",
     "output_type": "stream",
     "text": [
      "/var/folders/5_/q4stfhx95cb0n8m8bxlc_5280000gn/T/ipykernel_32249/1406036681.py:13: FutureWarning: In a future version of pandas all arguments of DataFrame.drop except for the argument 'labels' will be keyword-only\n",
      "  price = price.drop(['Volume', 'Adj Close'], 1)\n"
     ]
    },
    {
     "name": "stdout",
     "output_type": "stream",
     "text": [
      "                                                title  \\\n",
      "0   why aapl stock could still go lower - investor...   \n",
      "1   faang can fight the fed, fundstrat says (nasda...   \n",
      "2   jpmorgan sees big jump in apple gaming, music ...   \n",
      "3   apple is starting to walk and talk like a bank...   \n",
      "4   developers conferences exhibit aapl & msft str...   \n",
      "5   mario gabelli’s 2022 portfolio: 10 tech stock ...   \n",
      "6   7 stocks to buy before the s&p 500 hits 5000 -...   \n",
      "7   original apple-1 computer signed by steve wozn...   \n",
      "8   here's how much $1000 invested in halliburton ...   \n",
      "9   as electric vehicle cos. get run off the road,...   \n",
      "10  4 reasons to keep investing through this stock...   \n",
      "11  bwxt medical, triumf agree to manufacture high...   \n",
      "12  ipg health launches humancare, new full-servic...   \n",
      "13  crypto hacks on social media platforms have in...   \n",
      "14  dow jones dives 600 points as treasury yields ...   \n",
      "15  new york abortion laws shield patients and pro...   \n",
      "16  lightning versus usb-c: pros and cons for the ...   \n",
      "\n",
      "                                           text_token  \\\n",
      "0   [aapl, stock, could, still, go, lower, investo...   \n",
      "1   [faang, fight, fed, fundstrat, says, nasdaq, a...   \n",
      "2   [jpmorgan, sees, big, jump, apple, gaming, mus...   \n",
      "3   [apple, starting, walk, talk, like, bank, coul...   \n",
      "4   [developers, conferences, exhibit, aapl, msft,...   \n",
      "5   [mario, gabelli, 2022, portfolio, 10, tech, st...   \n",
      "6   [7, stocks, buy, p, 500, hits, 5000, investorp...   \n",
      "7   [original, apple, 1, computer, signed, steve, ...   \n",
      "8   [much, 1000, invested, halliburton, 20, years,...   \n",
      "9   [electric, vehicle, cos, get, run, road, accel...   \n",
      "10  [4, reasons, keep, investing, stock, market, d...   \n",
      "11  [bwxt, medical, triumf, agree, manufacture, hi...   \n",
      "12  [ipg, health, launches, humancare, new, full, ...   \n",
      "13  [crypto, hacks, social, media, platforms, inve...   \n",
      "14  [dow, jones, dives, 600, points, treasury, yie...   \n",
      "15  [new, york, abortion, laws, shield, patients, ...   \n",
      "16  [lightning, versus, usb, c, pros, cons, iphone...   \n",
      "\n",
      "                                          text_string  \n",
      "0          aapl stock could still lower investorplace  \n",
      "1   faang fight fed fundstrat says nasdaq aapl see...  \n",
      "2   jpmorgan sees big jump apple gaming music reve...  \n",
      "3   apple starting walk talk like bank could ever ...  \n",
      "4   developers conferences exhibit aapl msft stren...  \n",
      "5   mario gabelli 2022 portfolio tech stock picks ...  \n",
      "6              stocks buy 500 hits 5000 investorplace  \n",
      "7   original apple computer signed steve wozniak s...  \n",
      "8   much 1000 invested halliburton years ago would...  \n",
      "9   electric vehicle cos get run road accelerating...  \n",
      "10  reasons keep investing stock market dip motley...  \n",
      "11  bwxt medical triumf agree manufacture high pur...  \n",
      "12  ipg health launches humancare new full service...  \n",
      "13  crypto hacks social media platforms investors ...  \n",
      "14  dow jones dives 600 points treasury yields sur...  \n",
      "15  new york abortion laws shield patients provide...  \n",
      "16  lightning versus usb pros cons iphone appleins...  \n",
      "                                                title  \\\n",
      "0   is it time to drop apple stock amid supply cha...   \n",
      "1   fintech: apple's here, should incumbent banks ...   \n",
      "2   apple (aapl) to stream all major league soccer...   \n",
      "3   jim cramer recommends selling these 10 stocks ...   \n",
      "4   3 top warren buffett stocks to buy in a bear m...   \n",
      "5   dow jones falls as fed meeting starts; elon mu...   \n",
      "6   nasdaq bulls see glimmer of hope in aggressive...   \n",
      "7   german cartel office examining apple's trackin...   \n",
      "8   what's going on with snap stock? - snap (nyse:...   \n",
      "9   apple has turned into mobile web's 'most signi...   \n",
      "10  oracle, twitter, continental resources rise pr...   \n",
      "11  google stock split is approved: what's the sto...   \n",
      "12  nfl says pizza! pizza!, inks deal with little ...   \n",
      "13  here's why this rare bored ape nft just sold f...   \n",
      "14  aap daily rundown: preparing for the fed, char...   \n",
      "15  bitcoin miners are flocking to texas despite i...   \n",
      "16  how to control your mac's windows without wait...   \n",
      "17  4 safe dividend etfs you'll want to own in the...   \n",
      "18  hands on with pentips 2: replaceable tips for ...   \n",
      "19  adobe lightroom adds video support, compare vi...   \n",
      "\n",
      "                                           text_token  \\\n",
      "0   [time, drop, apple, stock, amid, supply, chain...   \n",
      "1   [fintech, apple, incumbent, banks, fear, nasda...   \n",
      "2   [apple, aapl, stream, major, league, soccer, g...   \n",
      "3   [jim, cramer, recommends, selling, 10, stocks,...   \n",
      "4   [3, top, warren, buffett, stocks, buy, bear, m...   \n",
      "5   [dow, jones, falls, fed, meeting, starts, elon...   \n",
      "6   [nasdaq, bulls, see, glimmer, hope, aggressive...   \n",
      "7   [german, cartel, office, examining, apple, tra...   \n",
      "8    [going, snap, stock, snap, nyse, snap, benzinga]   \n",
      "9   [apple, turned, mobile, web, significant, road...   \n",
      "10  [oracle, twitter, continental, resources, rise...   \n",
      "11  [google, stock, split, approved, stock, outloo...   \n",
      "12  [nfl, says, pizza, pizza, inks, deal, little, ...   \n",
      "13  [rare, bored, ape, nft, sold, 120, 659, eth, e...   \n",
      "14  [aap, daily, rundown, preparing, fed, charting...   \n",
      "15  [bitcoin, miners, flocking, texas, despite, fr...   \n",
      "16  [control, mac, windows, without, waiting, stag...   \n",
      "17  [4, safe, dividend, etfs, want, recession, see...   \n",
      "18  [hands, pentips, 2, replaceable, tips, apple, ...   \n",
      "19  [adobe, lightroom, adds, video, support, compa...   \n",
      "\n",
      "                                          text_string  \n",
      "0   time drop apple stock amid supply chain chaos ...  \n",
      "1   fintech apple incumbent banks fear nasdaq aapl...  \n",
      "2   apple aapl stream major league soccer games bl...  \n",
      "3   jim cramer recommends selling stocks yahoo fin...  \n",
      "4   top warren buffett stocks buy bear market motl...  \n",
      "5   dow jones falls fed meeting starts elon musk m...  \n",
      "6   nasdaq bulls see glimmer hope aggressive fed b...  \n",
      "7   german cartel office examining apple tracking ...  \n",
      "8            going snap stock snap nyse snap benzinga  \n",
      "9   apple turned mobile web significant roadblock ...  \n",
      "10  oracle twitter continental resources rise prem...  \n",
      "11  google stock split approved stock outlook nasd...  \n",
      "12  nfl says pizza pizza inks deal little caesars ...  \n",
      "13  rare bored ape nft sold 120 659 eth ethereum e...  \n",
      "14  aap daily rundown preparing fed charting stock...  \n",
      "15  bitcoin miners flocking texas despite fragile ...  \n",
      "16  control mac windows without waiting stage mana...  \n",
      "17    safe dividend etfs want recession seeking alpha  \n",
      "18  hands pentips replaceable tips apple pencil ap...  \n",
      "19  adobe lightroom adds video support compare vie...  \n",
      "                                                title  \\\n",
      "0   apple's stock faces steeper losses (nasdaq:aap...   \n",
      "1   apple's $2 trillion market valuation on shaky ...   \n",
      "2   crushing week for stocks: amzn -16.8%, nvda -1...   \n",
      "3   apple stock: m2 chip unlocks new growth cycle ...   \n",
      "4   apple's wwdc privacy changes seen as 'slight p...   \n",
      "5   apple 'doubling down on live sports content' w...   \n",
      "6   apple is the safest play in consumer hardware ...   \n",
      "7   nike (nyse: nke), apple (nasdaq: aapl) create ...   \n",
      "8   3 oversold blue-chip stocks to buy before they...   \n",
      "9   a peek into the markets: us stock futures high...   \n",
      "10  apple named world's most valuable brand in new...   \n",
      "11  baidu, netflix, apple rise premarket; robinhoo...   \n",
      "12  $100 invested in northrop grumman 20 years ago...   \n",
      "13  vgt: more downside is ahead (nysearca:vgt) - s...   \n",
      "14  under pressure from apple pay later, paypal im...   \n",
      "15  qualcomm wins bid to topple $1 billion eu anti...   \n",
      "16  why netflix might make a tempting acquisition ...   \n",
      "17  what happens to your bitcoin when you die? est...   \n",
      "18  iphone battery uk lawsuit could cost apple mil...   \n",
      "19  why binging has become a bad bet for netflix -...   \n",
      "20  tsla stock: is tesla just another car company?...   \n",
      "21  ipados 16 makes significant changes to how an ...   \n",
      "\n",
      "                                           text_token  \\\n",
      "0   [apple, stock, faces, steeper, losses, nasdaq,...   \n",
      "1   [apple, 2, trillion, market, valuation, shaky,...   \n",
      "2   [crushing, week, stocks, amzn, 16, 8, nvda, 16...   \n",
      "3   [apple, stock, m2, chip, unlocks, new, growth,...   \n",
      "4   [apple, wwdc, privacy, changes, seen, slight, ...   \n",
      "5   [apple, doubling, live, sports, content, mls, ...   \n",
      "6   [apple, safest, play, consumer, hardware, immu...   \n",
      "7   [nike, nyse, nke, apple, nasdaq, aapl, create,...   \n",
      "8   [3, oversold, blue, chip, stocks, buy, rebound...   \n",
      "9   [peek, markets, us, stock, futures, higher, ey...   \n",
      "10  [apple, named, world, valuable, brand, new, su...   \n",
      "11  [baidu, netflix, apple, rise, premarket, robin...   \n",
      "12  [100, invested, northrop, grumman, 20, years, ...   \n",
      "13  [vgt, downside, ahead, nysearca, vgt, seeking,...   \n",
      "14  [pressure, apple, pay, later, paypal, improves...   \n",
      "15  [qualcomm, wins, bid, topple, 1, billion, eu, ...   \n",
      "16  [netflix, might, make, tempting, acquisition, ...   \n",
      "17  [happens, bitcoin, die, estate, planners, idea...   \n",
      "18  [iphone, battery, uk, lawsuit, could, cost, ap...   \n",
      "19  [binging, become, bad, bet, netflix, motley, f...   \n",
      "20  [tsla, stock, tesla, another, car, company, in...   \n",
      "21  [ipados, 16, makes, significant, changes, ipad...   \n",
      "\n",
      "                                          text_string  \n",
      "0   apple stock faces steeper losses nasdaq aapl s...  \n",
      "1   apple trillion market valuation shaky ground b...  \n",
      "2   crushing week stocks amzn nvda aapl meta next ...  \n",
      "3   apple stock chip unlocks new growth cycle amid...  \n",
      "4   apple wwdc privacy changes seen slight positiv...  \n",
      "5   apple doubling live sports content mls deal be...  \n",
      "6   apple safest play consumer hardware immune one...  \n",
      "7   nike nyse nke apple nasdaq aapl create streami...  \n",
      "8   oversold blue chip stocks buy rebound investor...  \n",
      "9   peek markets stock futures higher eyes fed rat...  \n",
      "10  apple named world valuable brand new survey bl...  \n",
      "11  baidu netflix apple rise premarket robinhood m...  \n",
      "12  100 invested northrop grumman years ago would ...  \n",
      "13      vgt downside ahead nysearca vgt seeking alpha  \n",
      "14  pressure apple pay later paypal improves buy p...  \n",
      "15  qualcomm wins bid topple billion antitrust fin...  \n",
      "16  netflix might make tempting acquisition target...  \n",
      "17  happens bitcoin die estate planners ideas bloo...  \n",
      "18  iphone battery lawsuit could cost apple millio...  \n",
      "19         binging become bad bet netflix motley fool  \n",
      "20  tsla stock tesla another car company investorp...  \n",
      "21  ipados makes significant changes ipad operates...  \n",
      "                                                title  \\\n",
      "0   apple stock is still a good long-term growth i...   \n",
      "1   apple enters bnpl sector, unveils apple pay la...   \n",
      "2   does apple's future lie in advertising? j.p. m...   \n",
      "3   pre-market most active for jun 16, 2022 : tqqq...   \n",
      "4   7 no-brainer blue-chip stocks to buy if you ha...   \n",
      "5   why meta, amazon, and apple shares were fallin...   \n",
      "6   apple sued for £750mln in uk for secretly 'thr...   \n",
      "7   stocks dive after fed-fueled rebound; tesla hi...   \n",
      "8   what's going on with palantir stock today? - p...   \n",
      "9   $100 invested in franco-nevada 10 years ago wo...   \n",
      "10  amazon's 2022 prime day is back: here's the sc...   \n",
      "11  apple hosts premiere event for own comedy seri...   \n",
      "12  petco eyes small towns & rural communities - c...   \n",
      "13  kroger earnings give clues to what's in store ...   \n",
      "14  jim chanos on why some of the worst hit parts ...   \n",
      "15  tech oversight project attacks apple, amazon, ...   \n",
      "16  wto reaches deals on covid vaccine ip waiver, ...   \n",
      "17  how to use apple's contacts app hidden power t...   \n",
      "18  'ted lasso' cast say show creators always had ...   \n",
      "19  best deals june 17: 20% off eero router 2-pack...   \n",
      "\n",
      "                                           text_token  \\\n",
      "0   [apple, stock, still, good, long, term, growth...   \n",
      "1   [apple, enters, bnpl, sector, unveils, apple, ...   \n",
      "2   [apple, future, lie, advertising, j, p, morgan...   \n",
      "3   [pre, market, active, jun, 16, 2022, tqqq, sqq...   \n",
      "4   [7, brainer, blue, chip, stocks, buy, money, i...   \n",
      "5   [meta, amazon, apple, shares, falling, today, ...   \n",
      "6   [apple, sued, 750mln, uk, secretly, throttling...   \n",
      "7   [stocks, dive, fed, fueled, rebound, tesla, hi...   \n",
      "8   [going, palantir, stock, today, palantir, tech...   \n",
      "9   [100, invested, franco, nevada, 10, years, ago...   \n",
      "10  [amazon, 2022, prime, day, back, schedule, nee...   \n",
      "11  [apple, hosts, premiere, event, comedy, series...   \n",
      "12  [petco, eyes, small, towns, rural, communities...   \n",
      "13  [kroger, earnings, give, clues, store, holding...   \n",
      "14  [jim, chanos, worst, hit, parts, market, still...   \n",
      "15  [tech, oversight, project, attacks, apple, ama...   \n",
      "16  [wto, reaches, deals, covid, vaccine, ip, waiv...   \n",
      "17  [use, apple, contacts, app, hidden, power, imp...   \n",
      "18  [ted, lasso, cast, say, show, creators, always...   \n",
      "19  [best, deals, june, 17, 20, eero, router, 2, p...   \n",
      "\n",
      "                                          text_string  \n",
      "0   apple stock still good long term growth invest...  \n",
      "1   apple enters bnpl sector unveils apple pay lat...  \n",
      "2   apple future lie advertising morgan thinks tip...  \n",
      "3   pre market active jun 2022 tqqq sqqq qqq nio b...  \n",
      "4   brainer blue chip stocks buy money invest inve...  \n",
      "5   meta amazon apple shares falling today motley ...  \n",
      "6   apple sued 750mln secretly throttling iphones ...  \n",
      "7   stocks dive fed fueled rebound tesla hikes pri...  \n",
      "8   going palantir stock today palantir technologi...  \n",
      "9   100 invested franco nevada years ago would wor...  \n",
      "10  amazon 2022 prime day back schedule need know ...  \n",
      "11  apple hosts premiere event comedy series loot ...  \n",
      "12  petco eyes small towns rural communities check...  \n",
      "13  kroger earnings give clues store holdings thes...  \n",
      "14  jim chanos worst hit parts market still pain a...  \n",
      "15  tech oversight project attacks apple amazon go...  \n",
      "16  wto reaches deals covid vaccine waiver fishery...  \n",
      "17  use apple contacts app hidden power improve ip...  \n",
      "18  ted lasso cast say show creators always ending...  \n",
      "19  best deals june eero router pack roku ultra ai...  \n",
      "                                                title  \\\n",
      "0   here's why needham sees apple's brand value wo...   \n",
      "1   apple continues to expand into area few initia...   \n",
      "2   pre-market most active for jun 17, 2022 : rev,...   \n",
      "3   want $1,000 in passive income? buy 1,084 share...   \n",
      "4   sofi stock: buy, sell, or hold after apple's a...   \n",
      "5        apple stock: bull vs. bear - the motley fool   \n",
      "6   5 stocks to watch for june 17, 2022 - adobe (n...   \n",
      "7   you can still get a m2 13-inch macbook pro soo...   \n",
      "8   taiwan semiconductor to start 2nm chip product...   \n",
      "9   flower one launches veteran created and inspir...   \n",
      "10  podcast: hedge fund revenge arrives with bear ...   \n",
      "11  iphone battery lawsuit: can you get compensati...   \n",
      "12  crypto and us politics: is bipartisan regulati...   \n",
      "13  six features that users won't see in ios 16.0 ...   \n",
      "14  monolith by monoprice m1000anc headphones revi...   \n",
      "15  warren buffett charity lunch fetches winning b...   \n",
      "\n",
      "                                           text_token  \\\n",
      "0   [needham, sees, apple, brand, value, worth, 1t...   \n",
      "1   [apple, continues, expand, area, initially, ex...   \n",
      "2   [pre, market, active, jun, 17, 2022, rev, tqqq...   \n",
      "3   [want, 1, 000, passive, income, buy, 1, 084, s...   \n",
      "4   [sofi, stock, buy, sell, hold, apple, announce...   \n",
      "5        [apple, stock, bull, vs, bear, motley, fool]   \n",
      "6   [5, stocks, watch, june, 17, 2022, adobe, nasd...   \n",
      "7   [still, get, m2, 13, inch, macbook, pro, soon,...   \n",
      "8   [taiwan, semiconductor, start, 2nm, chip, prod...   \n",
      "9   [flower, one, launches, veteran, created, insp...   \n",
      "10  [podcast, hedge, fund, revenge, arrives, bear,...   \n",
      "11  [iphone, battery, lawsuit, get, compensation, ...   \n",
      "12  [crypto, us, politics, bipartisan, regulation,...   \n",
      "13  [six, features, users, see, ios, 16, 0, fall, ...   \n",
      "14  [monolith, monoprice, m1000anc, headphones, re...   \n",
      "15  [warren, buffett, charity, lunch, fetches, win...   \n",
      "\n",
      "                                          text_string  \n",
      "0   needham sees apple brand value worth yahoo fin...  \n",
      "1   apple continues expand area initially expected...  \n",
      "2   pre market active jun 2022 rev tqqq baba sqqq ...  \n",
      "3   want 000 passive income buy 084 shares warren ...  \n",
      "4   sofi stock buy sell hold apple announcement in...  \n",
      "5                   apple stock bull bear motley fool  \n",
      "6   stocks watch june 2022 adobe nasdaq adbe alith...  \n",
      "7   still get inch macbook pro soon long want stoc...  \n",
      "8   taiwan semiconductor start 2nm chip production...  \n",
      "9   flower one launches veteran created inspired c...  \n",
      "10  podcast hedge fund revenge arrives bear market...  \n",
      "11  iphone battery lawsuit get compensation apple ...  \n",
      "12  crypto politics bipartisan regulation possible...  \n",
      "13       six features users see ios fall appleinsider  \n",
      "14  monolith monoprice m1000anc headphones review ...  \n",
      "15  warren buffett charity lunch fetches winning b...  \n",
      "                                                title  \\\n",
      "0   wall street notes on apple, qualcomm highlight...   \n",
      "1   10 blue chip stocks to buy according to billio...   \n",
      "2   apple iphone sales in china strongly rebound i...   \n",
      "3   tech stocks: expect more volatility in 2022 - ...   \n",
      "4   apple job post indicates plan to bring new car...   \n",
      "5   compared: airpods max vs master & dynamic mw75...   \n",
      "6   everything you need to start making videos on ...   \n",
      "7   apple tv+ announces 'project unabom' podcast d...   \n",
      "8   tony hawk's pro skater 3 + 4 was canceled by a...   \n",
      "9   apple getting serious about macbook pro with i...   \n",
      "10  hands on with apple's new dual-output usb-c ch...   \n",
      "11  'brutal battle' expected as regulators close i...   \n",
      "\n",
      "                                           text_token  \\\n",
      "0   [wall, street, notes, apple, qualcomm, highlig...   \n",
      "1   [10, blue, chip, stocks, buy, according, billi...   \n",
      "2   [apple, iphone, sales, china, strongly, reboun...   \n",
      "3   [tech, stocks, expect, volatility, 2022, thest...   \n",
      "4   [apple, job, post, indicates, plan, bring, new...   \n",
      "5   [compared, airpods, max, vs, master, dynamic, ...   \n",
      "6   [everything, need, start, making, videos, mac,...   \n",
      "7   [apple, tv, announces, project, unabom, podcas...   \n",
      "8   [tony, hawk, pro, skater, 3, 4, canceled, acti...   \n",
      "9   [apple, getting, serious, macbook, pro, integr...   \n",
      "10  [hands, apple, new, dual, output, usb, c, char...   \n",
      "11  [brutal, battle, expected, regulators, close, ...   \n",
      "\n",
      "                                          text_string  \n",
      "0   wall street notes apple qualcomm highlight lon...  \n",
      "1   blue chip stocks buy according billionaire ric...  \n",
      "2   apple iphone sales china strongly rebound may ...  \n",
      "3        tech stocks expect volatility 2022 thestreet  \n",
      "4   apple job post indicates plan bring new carpla...  \n",
      "5   compared airpods max master dynamic mw75 apple...  \n",
      "6   everything need start making videos mac 2022 a...  \n",
      "7   apple announces project unabom podcast debutin...  \n",
      "8   tony hawk pro skater canceled activision says ...  \n",
      "9   apple getting serious macbook pro integrated g...  \n",
      "10  hands apple new dual output usb chargers apple...  \n",
      "11  brutal battle expected regulators close apple ...  \n",
      "                                                title  \\\n",
      "0   if you'd invested $10,000 in apple in 2012, th...   \n",
      "1   3 mega-cap stocks to buy for recession-proof d...   \n",
      "2   tim cook gives clearest hint yet that apple's ...   \n",
      "3   which way wednesday – powell has some splainin...   \n",
      "4   7 blue-chip stocks to buy and hold for the lon...   \n",
      "5   5 stocks to watch for june 22, 2022 - kb home ...   \n",
      "6   apple tv+ grows to 1.57 million uk households ...   \n",
      "7   microsoft stock: when to buy if the selloff co...   \n",
      "8   airtag helps man discover lost luggage graveya...   \n",
      "9   meta platforms stock prediction: is it a buy a...   \n",
      "10  metaverse standards forum established, without...   \n",
      "11  what's the difference between buy now pay late...   \n",
      "12  man recovers iphone lost at the bottom of a ri...   \n",
      "13  uk's three network now supports cellular apple...   \n",
      "14  apple releases second developer beta of macos ...   \n",
      "15  swimmer stuck in frigid columbia river uses ap...   \n",
      "16  hands on with new airpods features in ios 16, ...   \n",
      "\n",
      "                                           text_token  \\\n",
      "0   [invested, 10, 000, apple, 2012, much, would, ...   \n",
      "1   [3, mega, cap, stocks, buy, recession, proof, ...   \n",
      "2   [tim, cook, gives, clearest, hint, yet, apple,...   \n",
      "3   [way, wednesday, powell, splainin, congress, t...   \n",
      "4   [7, blue, chip, stocks, buy, hold, long, haul,...   \n",
      "5   [5, stocks, watch, june, 22, 2022, kb, home, n...   \n",
      "6   [apple, tv, grows, 1, 57, million, uk, househo...   \n",
      "7   [microsoft, stock, buy, selloff, continues, th...   \n",
      "8   [airtag, helps, man, discover, lost, luggage, ...   \n",
      "9   [meta, platforms, stock, prediction, buy, amid...   \n",
      "10  [metaverse, standards, forum, established, wit...   \n",
      "11  [difference, buy, pay, later, credit, cards, m...   \n",
      "12  [man, recovers, iphone, lost, bottom, river, 1...   \n",
      "13  [uk, three, network, supports, cellular, apple...   \n",
      "14  [apple, releases, second, developer, beta, mac...   \n",
      "15  [swimmer, stuck, frigid, columbia, river, uses...   \n",
      "16  [hands, new, airpods, features, ios, 16, inclu...   \n",
      "\n",
      "                                          text_string  \n",
      "0   invested 000 apple 2012 much would today motle...  \n",
      "1   mega cap stocks buy recession proof dividends ...  \n",
      "2   tim cook gives clearest hint yet apple buildin...  \n",
      "3    way wednesday powell splainin congress thestreet  \n",
      "4   blue chip stocks buy hold long haul investorplace  \n",
      "5   stocks watch june 2022 home nyse kbh korn ferr...  \n",
      "6         apple grows million households appleinsider  \n",
      "7     microsoft stock buy selloff continues thestreet  \n",
      "8   airtag helps man discover lost luggage graveya...  \n",
      "9   meta platforms stock prediction buy amid tech ...  \n",
      "10  metaverse standards forum established without ...  \n",
      "11  difference buy pay later credit cards much exp...  \n",
      "12  man recovers iphone lost bottom river months a...  \n",
      "13  three network supports cellular apple watch ap...  \n",
      "14  apple releases second developer beta macos ven...  \n",
      "15  swimmer stuck frigid columbia river uses apple...  \n",
      "16  hands new airpods features ios including perso...  \n",
      "                                               title  \\\n",
      "0  how to buy apple stock (aapl) – forbes advisor...   \n",
      "1  apple (aapl) defends app store security from n...   \n",
      "2  what a recession would mean for apple stock - ...   \n",
      "3          7 stocks to buy right now - investorplace   \n",
      "4  apple and android phones hacked by italian spy...   \n",
      "5  googl stock is the safest buy as faang crashes...   \n",
      "\n",
      "                                          text_token  \\\n",
      "0  [buy, apple, stock, aapl, forbes, advisor, can...   \n",
      "1  [apple, aapl, defends, app, store, security, n...   \n",
      "2     [recession, would, mean, apple, stock, forbes]   \n",
      "3             [7, stocks, buy, right, investorplace]   \n",
      "4  [apple, android, phones, hacked, italian, spyw...   \n",
      "5  [googl, stock, safest, buy, faang, crashes, in...   \n",
      "\n",
      "                                         text_string  \n",
      "0  buy apple stock aapl forbes advisor canada forbes  \n",
      "1  apple aapl defends app store security new anti...  \n",
      "2            recession would mean apple stock forbes  \n",
      "3                     stocks buy right investorplace  \n",
      "4  apple android phones hacked italian spyware go...  \n",
      "5  googl stock safest buy faang crashes investorp...  \n",
      "                                               title  \\\n",
      "0  should you buy apple stock right now? - the mo...   \n",
      "1  apple's incomplete divorce from intel (nasdaq:...   \n",
      "2  apple responds to roe v. wade rollback, compan...   \n",
      "3  here's when the tesla shareholder meeting is h...   \n",
      "4  apple's 2022 back to school promo is here, but...   \n",
      "5  lessons from the great depression - the motley...   \n",
      "6  podcast: why ukraine turned to crypto to fund ...   \n",
      "7  how to reuse an ipad as a remote on air light ...   \n",
      "8  new ios 16 beta features, iwork updates, apple...   \n",
      "\n",
      "                                          text_token  \\\n",
      "0           [buy, apple, stock, right, motley, fool]   \n",
      "1  [apple, incomplete, divorce, intel, nasdaq, aa...   \n",
      "2  [apple, responds, roe, v, wade, rollback, comp...   \n",
      "3  [tesla, shareholder, meeting, happening, get, ...   \n",
      "4  [apple, 2022, back, school, promo, better, dea...   \n",
      "5         [lessons, great, depression, motley, fool]   \n",
      "6  [podcast, ukraine, turned, crypto, fund, war, ...   \n",
      "7    [reuse, ipad, remote, air, light, appleinsider]   \n",
      "8  [new, ios, 16, beta, features, iwork, updates,...   \n",
      "\n",
      "                                         text_string  \n",
      "0                  buy apple stock right motley fool  \n",
      "1  apple incomplete divorce intel nasdaq aapl see...  \n",
      "2  apple responds roe wade rollback company benef...  \n",
      "3  tesla shareholder meeting happening get invite...  \n",
      "4  apple 2022 back school promo better deals appl...  \n",
      "5               lessons great depression motley fool  \n",
      "6  podcast ukraine turned crypto fund war russia ...  \n",
      "7           reuse ipad remote air light appleinsider  \n",
      "8  new ios beta features iwork updates apple usb ...  \n",
      "                                                title  \\\n",
      "0   notable monday option activity: tsla, aapl, cr...   \n",
      "1   what's the outlook like for apple suppliers? -...   \n",
      "2   u.s. supreme court won't hear apple's bid to r...   \n",
      "3   10 things we know so far about the apple iphon...   \n",
      "4   dow jones dips; donald trump spac dives on thi...   \n",
      "5   google stock split: what investors should know...   \n",
      "6   vladimir putin's old horseriding photos crack ...   \n",
      "7   southwest airlines stock: is the post-pandemic...   \n",
      "8   how apple watch mirroring works on ios 16 - th...   \n",
      "9   still think tesla is expensive? this stat will...   \n",
      "10  epic's 'support a creator' program pays out on...   \n",
      "\n",
      "                                           text_token  \\\n",
      "0   [notable, monday, option, activity, tsla, aapl...   \n",
      "1           [outlook, like, apple, suppliers, trefis]   \n",
      "2   [u, supreme, court, hear, apple, bid, revive, ...   \n",
      "3   [10, things, know, far, apple, iphone, 14, pro...   \n",
      "4   [dow, jones, dips, donald, trump, spac, dives,...   \n",
      "5   [google, stock, split, investors, know, going,...   \n",
      "6   [vladimir, putin, old, horseriding, photos, cr...   \n",
      "7   [southwest, airlines, stock, post, pandemic, s...   \n",
      "8   [apple, watch, mirroring, works, ios, 16, mac,...   \n",
      "9   [still, think, tesla, expensive, stat, change,...   \n",
      "10  [epic, support, creator, program, pays, 5, gam...   \n",
      "\n",
      "                                          text_string  \n",
      "0   notable monday option activity tsla aapl crm n...  \n",
      "1                 outlook like apple suppliers trefis  \n",
      "2   supreme court hear apple bid revive qualcomm p...  \n",
      "3   things know far apple iphone pro max investorp...  \n",
      "4   dow jones dips donald trump spac dives move ap...  \n",
      "5   google stock split investors know going forwar...  \n",
      "6   vladimir putin old horseriding photos crack le...  \n",
      "7   southwest airlines stock post pandemic surge w...  \n",
      "8        apple watch mirroring works ios mac observer  \n",
      "9   still think tesla expensive stat change mind m...  \n",
      "10  epic support creator program pays game content...  \n"
     ]
    },
    {
     "ename": "ValueError",
     "evalue": "Length of values (12) does not match length of index (11)",
     "output_type": "error",
     "traceback": [
      "\u001b[0;31m---------------------------------------------------------------------------\u001b[0m",
      "\u001b[0;31mValueError\u001b[0m                                Traceback (most recent call last)",
      "\u001b[0;32m/var/folders/5_/q4stfhx95cb0n8m8bxlc_5280000gn/T/ipykernel_32249/2853886569.py\u001b[0m in \u001b[0;36m<module>\u001b[0;34m\u001b[0m\n\u001b[1;32m      2\u001b[0m \u001b[0mend\u001b[0m\u001b[0;34m=\u001b[0m \u001b[0mdatetime\u001b[0m\u001b[0;34m.\u001b[0m\u001b[0mdatetime\u001b[0m\u001b[0;34m(\u001b[0m\u001b[0;36m2022\u001b[0m\u001b[0;34m,\u001b[0m\u001b[0;36m6\u001b[0m\u001b[0;34m,\u001b[0m \u001b[0;36m28\u001b[0m\u001b[0;34m)\u001b[0m\u001b[0;34m\u001b[0m\u001b[0;34m\u001b[0m\u001b[0m\n\u001b[1;32m      3\u001b[0m \u001b[0msymbol\u001b[0m \u001b[0;34m=\u001b[0m \u001b[0;34m'AAPL'\u001b[0m\u001b[0;34m\u001b[0m\u001b[0;34m\u001b[0m\u001b[0m\n\u001b[0;32m----> 4\u001b[0;31m \u001b[0msentiment_result\u001b[0m \u001b[0;34m=\u001b[0m \u001b[0msentiment_strategy\u001b[0m\u001b[0;34m(\u001b[0m\u001b[0msymbol\u001b[0m\u001b[0;34m,\u001b[0m \u001b[0mstart\u001b[0m\u001b[0;34m,\u001b[0m \u001b[0mend\u001b[0m\u001b[0;34m)\u001b[0m\u001b[0;34m\u001b[0m\u001b[0;34m\u001b[0m\u001b[0m\n\u001b[0m\u001b[1;32m      5\u001b[0m \u001b[0;31m# date_list = pd.date_range(start, end).tolist()\u001b[0m\u001b[0;34m\u001b[0m\u001b[0;34m\u001b[0m\u001b[0;34m\u001b[0m\u001b[0m\n\u001b[1;32m      6\u001b[0m \u001b[0;31m# (date_list)\u001b[0m\u001b[0;34m\u001b[0m\u001b[0;34m\u001b[0m\u001b[0;34m\u001b[0m\u001b[0m\n",
      "\u001b[0;32m/var/folders/5_/q4stfhx95cb0n8m8bxlc_5280000gn/T/ipykernel_32249/1406036681.py\u001b[0m in \u001b[0;36msentiment_strategy\u001b[0;34m(symbol, start, end)\u001b[0m\n\u001b[1;32m    115\u001b[0m             \u001b[0msentiments\u001b[0m\u001b[0;34m.\u001b[0m\u001b[0mappend\u001b[0m\u001b[0;34m(\u001b[0m\u001b[0msentiment\u001b[0m\u001b[0;34m)\u001b[0m\u001b[0;34m\u001b[0m\u001b[0;34m\u001b[0m\u001b[0m\n\u001b[1;32m    116\u001b[0m             \u001b[0mdrawdowns\u001b[0m\u001b[0;34m.\u001b[0m\u001b[0mappend\u001b[0m\u001b[0;34m(\u001b[0m\u001b[0;34m(\u001b[0m\u001b[0;34m(\u001b[0m\u001b[0mmoney\u001b[0m \u001b[0;34m+\u001b[0m \u001b[0;34m(\u001b[0m\u001b[0mprice\u001b[0m\u001b[0;34m[\u001b[0m\u001b[0;34m'Close'\u001b[0m\u001b[0;34m]\u001b[0m\u001b[0;34m[\u001b[0m\u001b[0mi\u001b[0m\u001b[0;34m]\u001b[0m\u001b[0;34m*\u001b[0m\u001b[0mnumb\u001b[0m\u001b[0;34m)\u001b[0m\u001b[0;34m)\u001b[0m\u001b[0;34m-\u001b[0m\u001b[0mmax\u001b[0m\u001b[0;34m(\u001b[0m\u001b[0masset\u001b[0m\u001b[0;34m)\u001b[0m\u001b[0;34m)\u001b[0m\u001b[0;34m/\u001b[0m\u001b[0mmax\u001b[0m\u001b[0;34m(\u001b[0m\u001b[0masset\u001b[0m\u001b[0;34m)\u001b[0m\u001b[0;34m)\u001b[0m\u001b[0;34m\u001b[0m\u001b[0;34m\u001b[0m\u001b[0m\n\u001b[0;32m--> 117\u001b[0;31m     \u001b[0mprice\u001b[0m\u001b[0;34m[\u001b[0m\u001b[0;34m'sentiment_analysis'\u001b[0m\u001b[0;34m]\u001b[0m\u001b[0;34m=\u001b[0m \u001b[0msentiments\u001b[0m\u001b[0;34m\u001b[0m\u001b[0;34m\u001b[0m\u001b[0m\n\u001b[0m\u001b[1;32m    118\u001b[0m     \u001b[0mprice\u001b[0m\u001b[0;34m[\u001b[0m\u001b[0;34m'sentiment'\u001b[0m\u001b[0;34m]\u001b[0m\u001b[0;34m=\u001b[0m\u001b[0masset\u001b[0m\u001b[0;34m\u001b[0m\u001b[0;34m\u001b[0m\u001b[0m\n\u001b[1;32m    119\u001b[0m     \u001b[0;31m# price['DD']=drawdowns\u001b[0m\u001b[0;34m\u001b[0m\u001b[0;34m\u001b[0m\u001b[0;34m\u001b[0m\u001b[0m\n",
      "\u001b[0;32m/Library/Frameworks/Python.framework/Versions/3.8/lib/python3.8/site-packages/pandas/core/frame.py\u001b[0m in \u001b[0;36m__setitem__\u001b[0;34m(self, key, value)\u001b[0m\n\u001b[1;32m   3605\u001b[0m         \u001b[0;32melse\u001b[0m\u001b[0;34m:\u001b[0m\u001b[0;34m\u001b[0m\u001b[0;34m\u001b[0m\u001b[0m\n\u001b[1;32m   3606\u001b[0m             \u001b[0;31m# set column\u001b[0m\u001b[0;34m\u001b[0m\u001b[0;34m\u001b[0m\u001b[0;34m\u001b[0m\u001b[0m\n\u001b[0;32m-> 3607\u001b[0;31m             \u001b[0mself\u001b[0m\u001b[0;34m.\u001b[0m\u001b[0m_set_item\u001b[0m\u001b[0;34m(\u001b[0m\u001b[0mkey\u001b[0m\u001b[0;34m,\u001b[0m \u001b[0mvalue\u001b[0m\u001b[0;34m)\u001b[0m\u001b[0;34m\u001b[0m\u001b[0;34m\u001b[0m\u001b[0m\n\u001b[0m\u001b[1;32m   3608\u001b[0m \u001b[0;34m\u001b[0m\u001b[0m\n\u001b[1;32m   3609\u001b[0m     \u001b[0;32mdef\u001b[0m \u001b[0m_setitem_slice\u001b[0m\u001b[0;34m(\u001b[0m\u001b[0mself\u001b[0m\u001b[0;34m,\u001b[0m \u001b[0mkey\u001b[0m\u001b[0;34m:\u001b[0m \u001b[0mslice\u001b[0m\u001b[0;34m,\u001b[0m \u001b[0mvalue\u001b[0m\u001b[0;34m)\u001b[0m\u001b[0;34m:\u001b[0m\u001b[0;34m\u001b[0m\u001b[0;34m\u001b[0m\u001b[0m\n",
      "\u001b[0;32m/Library/Frameworks/Python.framework/Versions/3.8/lib/python3.8/site-packages/pandas/core/frame.py\u001b[0m in \u001b[0;36m_set_item\u001b[0;34m(self, key, value)\u001b[0m\n\u001b[1;32m   3777\u001b[0m         \u001b[0mensure\u001b[0m \u001b[0mhomogeneity\u001b[0m\u001b[0;34m.\u001b[0m\u001b[0;34m\u001b[0m\u001b[0;34m\u001b[0m\u001b[0m\n\u001b[1;32m   3778\u001b[0m         \"\"\"\n\u001b[0;32m-> 3779\u001b[0;31m         \u001b[0mvalue\u001b[0m \u001b[0;34m=\u001b[0m \u001b[0mself\u001b[0m\u001b[0;34m.\u001b[0m\u001b[0m_sanitize_column\u001b[0m\u001b[0;34m(\u001b[0m\u001b[0mvalue\u001b[0m\u001b[0;34m)\u001b[0m\u001b[0;34m\u001b[0m\u001b[0;34m\u001b[0m\u001b[0m\n\u001b[0m\u001b[1;32m   3780\u001b[0m \u001b[0;34m\u001b[0m\u001b[0m\n\u001b[1;32m   3781\u001b[0m         if (\n",
      "\u001b[0;32m/Library/Frameworks/Python.framework/Versions/3.8/lib/python3.8/site-packages/pandas/core/frame.py\u001b[0m in \u001b[0;36m_sanitize_column\u001b[0;34m(self, value)\u001b[0m\n\u001b[1;32m   4502\u001b[0m \u001b[0;34m\u001b[0m\u001b[0m\n\u001b[1;32m   4503\u001b[0m         \u001b[0;32mif\u001b[0m \u001b[0mis_list_like\u001b[0m\u001b[0;34m(\u001b[0m\u001b[0mvalue\u001b[0m\u001b[0;34m)\u001b[0m\u001b[0;34m:\u001b[0m\u001b[0;34m\u001b[0m\u001b[0;34m\u001b[0m\u001b[0m\n\u001b[0;32m-> 4504\u001b[0;31m             \u001b[0mcom\u001b[0m\u001b[0;34m.\u001b[0m\u001b[0mrequire_length_match\u001b[0m\u001b[0;34m(\u001b[0m\u001b[0mvalue\u001b[0m\u001b[0;34m,\u001b[0m \u001b[0mself\u001b[0m\u001b[0;34m.\u001b[0m\u001b[0mindex\u001b[0m\u001b[0;34m)\u001b[0m\u001b[0;34m\u001b[0m\u001b[0;34m\u001b[0m\u001b[0m\n\u001b[0m\u001b[1;32m   4505\u001b[0m         \u001b[0;32mreturn\u001b[0m \u001b[0msanitize_array\u001b[0m\u001b[0;34m(\u001b[0m\u001b[0mvalue\u001b[0m\u001b[0;34m,\u001b[0m \u001b[0mself\u001b[0m\u001b[0;34m.\u001b[0m\u001b[0mindex\u001b[0m\u001b[0;34m,\u001b[0m \u001b[0mcopy\u001b[0m\u001b[0;34m=\u001b[0m\u001b[0;32mTrue\u001b[0m\u001b[0;34m,\u001b[0m \u001b[0mallow_2d\u001b[0m\u001b[0;34m=\u001b[0m\u001b[0;32mTrue\u001b[0m\u001b[0;34m)\u001b[0m\u001b[0;34m\u001b[0m\u001b[0;34m\u001b[0m\u001b[0m\n\u001b[1;32m   4506\u001b[0m \u001b[0;34m\u001b[0m\u001b[0m\n",
      "\u001b[0;32m/Library/Frameworks/Python.framework/Versions/3.8/lib/python3.8/site-packages/pandas/core/common.py\u001b[0m in \u001b[0;36mrequire_length_match\u001b[0;34m(data, index)\u001b[0m\n\u001b[1;32m    525\u001b[0m     \"\"\"\n\u001b[1;32m    526\u001b[0m     \u001b[0;32mif\u001b[0m \u001b[0mlen\u001b[0m\u001b[0;34m(\u001b[0m\u001b[0mdata\u001b[0m\u001b[0;34m)\u001b[0m \u001b[0;34m!=\u001b[0m \u001b[0mlen\u001b[0m\u001b[0;34m(\u001b[0m\u001b[0mindex\u001b[0m\u001b[0;34m)\u001b[0m\u001b[0;34m:\u001b[0m\u001b[0;34m\u001b[0m\u001b[0;34m\u001b[0m\u001b[0m\n\u001b[0;32m--> 527\u001b[0;31m         raise ValueError(\n\u001b[0m\u001b[1;32m    528\u001b[0m             \u001b[0;34m\"Length of values \"\u001b[0m\u001b[0;34m\u001b[0m\u001b[0;34m\u001b[0m\u001b[0m\n\u001b[1;32m    529\u001b[0m             \u001b[0;34mf\"({len(data)}) \"\u001b[0m\u001b[0;34m\u001b[0m\u001b[0;34m\u001b[0m\u001b[0m\n",
      "\u001b[0;31mValueError\u001b[0m: Length of values (12) does not match length of index (11)"
     ]
    }
   ],
   "source": [
    "start = datetime.datetime(2022, 6, 14)\n",
    "end= datetime.datetime(2022,6, 28)\n",
    "symbol = 'AAPL'\n",
    "sentiment_result = sentiment_strategy(symbol, start, end)\n",
    "# date_list = pd.date_range(start, end).tolist()\n",
    "# (date_list)\n",
    "sentiment_result"
   ]
  },
  {
   "cell_type": "code",
   "execution_count": null,
   "metadata": {},
   "outputs": [
    {
     "data": {
      "text/plain": [
       "False"
      ]
     },
     "execution_count": 178,
     "metadata": {},
     "output_type": "execute_result"
    }
   ],
   "source": [
    "sentiment_result['sentiment_analysis'][0]"
   ]
  },
  {
   "cell_type": "code",
   "execution_count": 4,
   "metadata": {},
   "outputs": [],
   "source": [
    "def macd_strategy(symbol, start, end):\n",
    "    #get data\n",
    "    price = pdr.get_data_yahoo(symbol, start, end)\n",
    "    price = price.drop(['Volume', 'Adj Close'], 1)\n",
    "\n",
    "    #macd calculations\n",
    "    exp1 = price.Close.ewm(span = 12, adjust=False).mean()\n",
    "    exp2 = price.Close.ewm(span = 26, adjust=False).mean()\n",
    "    macd = exp1 - exp2\n",
    "    signal = macd.ewm(span = 9, adjust=False).mean()\n",
    "\n",
    "\n",
    "    #sentiment analysis\n",
    "    sentiment = sentiment_strategy(symbol, start, end)\n",
    "\n",
    "    #add column for entries\n",
    "    price['Long'] = macd > signal\n",
    "    # profit calculation for MACD\n",
    "    money = 10000\n",
    "    exchange = 0\n",
    "    wins= 0\n",
    "    asset = [10000]\n",
    "    numb=0\n",
    "    drawdowns = [0]\n",
    "    difference = []\n",
    "    \n",
    "    for i in range(len(price)-1):\n",
    "        if price['Long'][i] == True and sentiment[i]==True:\n",
    "            if numb==0:\n",
    "                buy = price['Close'][i]\n",
    "                numb = money//buy\n",
    "                money-=numb*buy\n",
    "            else:\n",
    "                asset.append(money + (price['Close'][i]*numb))\n",
    "                drawdowns.append(((money + (price['Close'][i]*numb))-max(asset))/max(asset))\n",
    "                continue\n",
    "        else:\n",
    "           \n",
    "            if numb!=0: \n",
    "                sell = price['Close'][i]\n",
    "                money += (sell)*numb\n",
    "                exchange +=1\n",
    "                if sell>buy:\n",
    "                    wins +=1\n",
    "                difference.append(sell-buy)\n",
    "                numb=0\n",
    "            else: \n",
    "                \n",
    "                asset.append(money + (price['Close'][i]*numb))\n",
    "                drawdowns.append(((money + (price['Close'][i]*numb))-max(asset))/max(asset))\n",
    "                continue\n",
    "        \n",
    "        asset.append(money + (price['Close'][i]*numb))\n",
    "        drawdowns.append(((money + (price['Close'][i]*numb))-max(asset))/max(asset))\n",
    "    price['MACD']=asset\n",
    "    price['DD']=drawdowns\n",
    "\n",
    "    STARTING_BALANCE = 10000\n",
    "    #daily return\n",
    "    price['Return'] = price.Close / price.Close.shift(1)\n",
    "    price.Return.iat[0] = 1\n",
    "    price['Bench_Bal'] = STARTING_BALANCE * price.Return.cumprod()\n",
    "    #calculate drawdown\n",
    "    price['Bench_Peak'] = price.Bench_Bal.cummax()\n",
    "    price['Bench_DD'] = price.Bench_Bal - price.Bench_Peak\n",
    "\n",
    "    bench_dd = round((price.Bench_DD / price.Bench_Peak).min() * 100, 2)\n",
    "    print(\"win rate:\", wins/exchange)\n",
    "    print(\"strategy maximum drawdown\", min(price['DD']))\n",
    "    print(\"benchmarck maximum drawdwon\", bench_dd)\n",
    "    return price\n",
    "    \n",
    "    "
   ]
  }
 ],
 "metadata": {
  "kernelspec": {
   "display_name": "Python 3.8.9 64-bit",
   "language": "python",
   "name": "python3"
  },
  "language_info": {
   "codemirror_mode": {
    "name": "ipython",
    "version": 3
   },
   "file_extension": ".py",
   "mimetype": "text/x-python",
   "name": "python",
   "nbconvert_exporter": "python",
   "pygments_lexer": "ipython3",
   "version": "3.8.9"
  },
  "orig_nbformat": 4,
  "vscode": {
   "interpreter": {
    "hash": "0adcc2737ebf6a4a119f135174df96668767fca1ef1112612db5ecadf2b6d608"
   }
  }
 },
 "nbformat": 4,
 "nbformat_minor": 2
}
